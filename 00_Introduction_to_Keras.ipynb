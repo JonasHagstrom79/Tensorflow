{
  "nbformat": 4,
  "nbformat_minor": 0,
  "metadata": {
    "colab": {
      "name": "00_Introduction_to_Keras.ipynb",
      "provenance": [],
      "collapsed_sections": [],
      "authorship_tag": "ABX9TyNRU9nv3TuBdzI7ZcmTbWLt",
      "include_colab_link": true
    },
    "kernelspec": {
      "name": "python3",
      "display_name": "Python 3"
    },
    "language_info": {
      "name": "python"
    }
  },
  "cells": [
    {
      "cell_type": "markdown",
      "metadata": {
        "id": "view-in-github",
        "colab_type": "text"
      },
      "source": [
        "<a href=\"https://colab.research.google.com/github/JonasHagstrom79/Tensorflow/blob/main/00_Introduction_to_Keras.ipynb\" target=\"_parent\"><img src=\"https://colab.research.google.com/assets/colab-badge.svg\" alt=\"Open In Colab\"/></a>"
      ]
    },
    {
      "cell_type": "code",
      "execution_count": 1,
      "metadata": {
        "colab": {
          "base_uri": "https://localhost:8080/"
        },
        "id": "BzXIFDdUlyFA",
        "outputId": "5562c5cb-91c4-457a-c0ab-2cc099c9fbdd"
      },
      "outputs": [
        {
          "output_type": "stream",
          "name": "stdout",
          "text": [
            "TensorFlow version: 2.8.0\n"
          ]
        }
      ],
      "source": [
        "import tensorflow as tf\n",
        "print(\"TensorFlow version:\", tf.__version__)"
      ]
    },
    {
      "cell_type": "markdown",
      "source": [
        "### Load a dataset"
      ],
      "metadata": {
        "id": "rtM3L_MNmYEU"
      }
    },
    {
      "cell_type": "code",
      "source": [
        "mnist = tf.keras.datasets.mnist\n",
        "\n",
        "(x_train, y_train), (x_test, y_test) = mnist.load_data()\n",
        "x_train, x_test = x_train / 255.0, x_test / 255.0"
      ],
      "metadata": {
        "colab": {
          "base_uri": "https://localhost:8080/"
        },
        "id": "J55Z78symgmO",
        "outputId": "d37ada24-a876-49a4-c3c7-df96ba9c45c0"
      },
      "execution_count": 2,
      "outputs": [
        {
          "output_type": "stream",
          "name": "stdout",
          "text": [
            "Downloading data from https://storage.googleapis.com/tensorflow/tf-keras-datasets/mnist.npz\n",
            "11493376/11490434 [==============================] - 0s 0us/step\n",
            "11501568/11490434 [==============================] - 0s 0us/step\n"
          ]
        }
      ]
    },
    {
      "cell_type": "markdown",
      "source": [
        "### Build machine learning model\n",
        "Build a tf.keras.Sequential model by stacking layers."
      ],
      "metadata": {
        "id": "RrK8uH3Nm4y0"
      }
    },
    {
      "cell_type": "code",
      "source": [
        "model = tf.keras.models.Sequential([\n",
        "  tf.keras.layers.Flatten(input_shape=(28, 28)),\n",
        "  tf.keras.layers.Dense(128, activation=\"relu\"),\n",
        "  tf.keras.layers.Dropout(0.2),\n",
        "  tf.keras.layers.Dense(10)\n",
        "])"
      ],
      "metadata": {
        "id": "JoLIpB_lnBSW"
      },
      "execution_count": 3,
      "outputs": []
    },
    {
      "cell_type": "code",
      "source": [
        "#For each example, the model returns a vector of logits or log-odds scores, one for each class.\n",
        "predictions = model(x_train[:1]).numpy()\n",
        "predictions"
      ],
      "metadata": {
        "colab": {
          "base_uri": "https://localhost:8080/"
        },
        "id": "GRvTthCVnpXp",
        "outputId": "fd4ecd76-99b8-4114-df4a-ae7e66bef1b8"
      },
      "execution_count": 4,
      "outputs": [
        {
          "output_type": "execute_result",
          "data": {
            "text/plain": [
              "array([[ 0.09146693,  0.40485698, -0.4776778 ,  0.24456692, -0.13669503,\n",
              "        -0.02615167, -0.19972104,  0.5054159 , -0.47619057,  0.03156859]],\n",
              "      dtype=float32)"
            ]
          },
          "metadata": {},
          "execution_count": 4
        }
      ]
    },
    {
      "cell_type": "code",
      "source": [
        "#For each example, the model returns a vector of logits or log-odds scores, one for each class.\n",
        "tf.nn.softmax(predictions).numpy()"
      ],
      "metadata": {
        "colab": {
          "base_uri": "https://localhost:8080/"
        },
        "id": "2bUIwvVhn2Fn",
        "outputId": "cca8d3de-86e0-44a7-b96a-f43a6de6cd09"
      },
      "execution_count": 5,
      "outputs": [
        {
          "output_type": "execute_result",
          "data": {
            "text/plain": [
              "array([[0.10467474, 0.14320081, 0.05924688, 0.12199229, 0.08332061,\n",
              "        0.09305952, 0.0782313 , 0.15834986, 0.05933506, 0.09858898]],\n",
              "      dtype=float32)"
            ]
          },
          "metadata": {},
          "execution_count": 5
        }
      ]
    },
    {
      "cell_type": "code",
      "source": [
        "#Define a loss function for training using losses.SparseCategoricalCrossentropy, \n",
        "#which takes a vector of logits and a True index and returns a scalar loss for each example.\n",
        "\n",
        "loss_fn = tf.keras.losses.SparseCategoricalCrossentropy(from_logits=True)"
      ],
      "metadata": {
        "id": "rAHb1mP6n-6R"
      },
      "execution_count": 6,
      "outputs": []
    },
    {
      "cell_type": "code",
      "source": [
        "#This loss is equal to the negative log probability of the true class: The loss\n",
        "#is zero if the model is sure of the correct class. This untrained model gives \n",
        "#probabilities close to random (1/10 for each class), so the initial loss should\n",
        "# be close to -tf.math.log(1/10) ~= 2.3.\n",
        "\n",
        "loss_fn(y_train[:1], predictions).numpy()"
      ],
      "metadata": {
        "colab": {
          "base_uri": "https://localhost:8080/"
        },
        "id": "Cgit9L9xoFk9",
        "outputId": "f0913fb9-833c-479b-e4ac-242e8afe711a"
      },
      "execution_count": 7,
      "outputs": [
        {
          "output_type": "execute_result",
          "data": {
            "text/plain": [
              "2.374516"
            ]
          },
          "metadata": {},
          "execution_count": 7
        }
      ]
    },
    {
      "cell_type": "code",
      "source": [
        "#Before you start training, configure and compile the model using Keras Model.compile. \n",
        "#Set the optimizer class to adam, set the loss to the loss_fn function you defined \n",
        "#earlier, and specify a metric to be evaluated for the model by setting the metrics \n",
        "#parameter to accuracy.\n",
        "\n",
        "model.compile(optimizer='adam',\n",
        "              loss=loss_fn,\n",
        "              metrics=['accuracy'])\n"
      ],
      "metadata": {
        "id": "bf-MR7XBoI8Z"
      },
      "execution_count": 8,
      "outputs": []
    },
    {
      "cell_type": "markdown",
      "source": [
        "###Train and evaluate your model"
      ],
      "metadata": {
        "id": "R5vs7_tSoPrm"
      }
    },
    {
      "cell_type": "code",
      "source": [
        "#Use the Model.fit method to adjust your model parameters and minimize the loss:\n",
        "model.fit(x_train, y_train, epochs=5)"
      ],
      "metadata": {
        "colab": {
          "base_uri": "https://localhost:8080/"
        },
        "id": "eXNaLDYQoUC2",
        "outputId": "c7e5b9ab-54f3-4d76-9c1b-c7c381218b50"
      },
      "execution_count": 9,
      "outputs": [
        {
          "output_type": "stream",
          "name": "stdout",
          "text": [
            "Epoch 1/5\n",
            "1875/1875 [==============================] - 6s 3ms/step - loss: 0.2933 - accuracy: 0.9148\n",
            "Epoch 2/5\n",
            "1875/1875 [==============================] - 5s 3ms/step - loss: 0.1436 - accuracy: 0.9578\n",
            "Epoch 3/5\n",
            "1875/1875 [==============================] - 5s 2ms/step - loss: 0.1086 - accuracy: 0.9666\n",
            "Epoch 4/5\n",
            "1875/1875 [==============================] - 5s 3ms/step - loss: 0.0914 - accuracy: 0.9712\n",
            "Epoch 5/5\n",
            "1875/1875 [==============================] - 5s 3ms/step - loss: 0.0760 - accuracy: 0.9764\n"
          ]
        },
        {
          "output_type": "execute_result",
          "data": {
            "text/plain": [
              "<keras.callbacks.History at 0x7f2f8bc02790>"
            ]
          },
          "metadata": {},
          "execution_count": 9
        }
      ]
    },
    {
      "cell_type": "code",
      "source": [
        "#The Model.evaluate method checks the models performance, usually on a \"Validation-set\" or \"Test-set\".\n",
        "\n",
        "model.evaluate(x_test,  y_test, verbose=2)"
      ],
      "metadata": {
        "colab": {
          "base_uri": "https://localhost:8080/"
        },
        "id": "CdHYx-E7ocHi",
        "outputId": "1b4fedd6-9b4f-4a19-c362-a299fb3ab1d3"
      },
      "execution_count": 10,
      "outputs": [
        {
          "output_type": "stream",
          "name": "stdout",
          "text": [
            "313/313 - 1s - loss: 0.0740 - accuracy: 0.9768 - 543ms/epoch - 2ms/step\n"
          ]
        },
        {
          "output_type": "execute_result",
          "data": {
            "text/plain": [
              "[0.07396453619003296, 0.9768000245094299]"
            ]
          },
          "metadata": {},
          "execution_count": 10
        }
      ]
    },
    {
      "cell_type": "code",
      "source": [
        "#The image classifier is now trained to ~98% accuracy on this dataset. To learn more, \n",
        "#read the TensorFlow tutorials. If you want your model to return a probability, \n",
        "#you can wrap the trained model, and attach the softmax to it:\n",
        "\n",
        "probability_model = tf.keras.Sequential([\n",
        "  model,\n",
        "  tf.keras.layers.Softmax()\n",
        "])"
      ],
      "metadata": {
        "id": "90Hhwhkyooeq"
      },
      "execution_count": 12,
      "outputs": []
    },
    {
      "cell_type": "code",
      "source": [
        "probability_model(x_test[:5])\n"
      ],
      "metadata": {
        "colab": {
          "base_uri": "https://localhost:8080/"
        },
        "id": "0MC0A2pNj_c-",
        "outputId": "8dadca20-49a3-41ab-864a-f09adbaf33c7"
      },
      "execution_count": 13,
      "outputs": [
        {
          "output_type": "execute_result",
          "data": {
            "text/plain": [
              "<tf.Tensor: shape=(5, 10), dtype=float32, numpy=\n",
              "array([[3.56315581e-08, 8.97627785e-08, 1.34627815e-04, 1.45397280e-04,\n",
              "        4.46852888e-10, 3.68354989e-07, 1.78219527e-12, 9.99715626e-01,\n",
              "        1.82660233e-06, 1.94049562e-06],\n",
              "       [6.12708746e-08, 4.00152581e-04, 9.99596179e-01, 3.22874234e-06,\n",
              "        1.45229635e-16, 5.15991871e-08, 1.00588494e-07, 5.19636959e-13,\n",
              "        8.46668584e-08, 9.99073879e-16],\n",
              "       [3.45782269e-07, 9.98516262e-01, 5.42096386e-04, 4.03714876e-05,\n",
              "        6.40410217e-05, 1.61219668e-05, 1.81916148e-05, 6.36558281e-04,\n",
              "        1.63684424e-04, 2.36594224e-06],\n",
              "       [9.99897718e-01, 6.95624625e-09, 1.67599665e-05, 1.01776365e-07,\n",
              "        1.58448501e-07, 2.84057342e-06, 3.88368471e-06, 5.48922217e-05,\n",
              "        7.68314266e-08, 2.36840351e-05],\n",
              "       [2.56335261e-06, 2.51153237e-10, 8.82391134e-07, 3.61841273e-07,\n",
              "        9.98928249e-01, 5.23063513e-08, 1.74852312e-06, 4.35270085e-05,\n",
              "        6.34460685e-06, 1.01618713e-03]], dtype=float32)>"
            ]
          },
          "metadata": {},
          "execution_count": 13
        }
      ]
    }
  ]
}