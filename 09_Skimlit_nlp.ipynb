{
  "cells": [
    {
      "cell_type": "markdown",
      "metadata": {
        "id": "PojvyabyqClx"
      },
      "source": [
        "# Milestone Project 2: SkimLit 🔥📄\n",
        "\n",
        "The purpose of this notebook is to build an NLP model to make reading medical abstracts easier.\n",
        "\n",
        "The paper we're replicating (the source of the dataset we'll be using) is avalible [here](https://arxiv.org/abs/1710.06071).\n",
        "\n",
        "And reading through the paper above, we see that the model architecture that they use to achieve their best results is avilable [here](https://arxiv.org/abs/1612.05251).\n",
        "\n"
      ]
    },
    {
      "cell_type": "markdown",
      "metadata": {
        "id": "PyoflALSsQ1B"
      },
      "source": [
        "# Confirm access to a GPU"
      ]
    },
    {
      "cell_type": "code",
      "execution_count": 1,
      "metadata": {
        "colab": {
          "base_uri": "https://localhost:8080/"
        },
        "id": "S69ICyrQsUzT",
        "outputId": "d89c73e6-29f2-48f7-82bc-4412a20aebd7"
      },
      "outputs": [
        {
          "output_type": "stream",
          "name": "stdout",
          "text": [
            "Fri May 10 19:35:22 2024       \n",
            "+---------------------------------------------------------------------------------------+\n",
            "| NVIDIA-SMI 535.104.05             Driver Version: 535.104.05   CUDA Version: 12.2     |\n",
            "|-----------------------------------------+----------------------+----------------------+\n",
            "| GPU  Name                 Persistence-M | Bus-Id        Disp.A | Volatile Uncorr. ECC |\n",
            "| Fan  Temp   Perf          Pwr:Usage/Cap |         Memory-Usage | GPU-Util  Compute M. |\n",
            "|                                         |                      |               MIG M. |\n",
            "|=========================================+======================+======================|\n",
            "|   0  Tesla T4                       Off | 00000000:00:04.0 Off |                    0 |\n",
            "| N/A   38C    P8               9W /  70W |      0MiB / 15360MiB |      0%      Default |\n",
            "|                                         |                      |                  N/A |\n",
            "+-----------------------------------------+----------------------+----------------------+\n",
            "                                                                                         \n",
            "+---------------------------------------------------------------------------------------+\n",
            "| Processes:                                                                            |\n",
            "|  GPU   GI   CI        PID   Type   Process name                            GPU Memory |\n",
            "|        ID   ID                                                             Usage      |\n",
            "|=======================================================================================|\n",
            "|  No running processes found                                                           |\n",
            "+---------------------------------------------------------------------------------------+\n"
          ]
        }
      ],
      "source": [
        "!nvidia-smi"
      ]
    },
    {
      "cell_type": "markdown",
      "metadata": {
        "id": "a9Pkmx79sXK1"
      },
      "source": [
        "## Get data\n",
        "\n",
        "Since we'll be replicating the paper above (PubMed 200k RCT), let's download the dataset they used\n",
        "\n",
        "WE can do so from the authors GitHub: [link](https://github.com/Franck-Dernoncourt/pubmed-rct)"
      ]
    },
    {
      "cell_type": "code",
      "execution_count": 2,
      "metadata": {
        "colab": {
          "base_uri": "https://localhost:8080/"
        },
        "id": "SRKo-55I3IZo",
        "outputId": "565d26c1-7990-4528-a4bc-805438c0e6d7"
      },
      "outputs": [
        {
          "output_type": "stream",
          "name": "stdout",
          "text": [
            "Cloning into 'pubmed-rct'...\n",
            "remote: Enumerating objects: 39, done.\u001b[K\n",
            "remote: Counting objects: 100% (14/14), done.\u001b[K\n",
            "remote: Compressing objects: 100% (9/9), done.\u001b[K\n",
            "remote: Total 39 (delta 8), reused 5 (delta 5), pack-reused 25\u001b[K\n",
            "Receiving objects: 100% (39/39), 177.08 MiB | 25.98 MiB/s, done.\n",
            "Resolving deltas: 100% (15/15), done.\n",
            "PubMed_200k_RCT\t\t\t\t       PubMed_20k_RCT_numbers_replaced_with_at_sign\n",
            "PubMed_200k_RCT_numbers_replaced_with_at_sign  README.md\n",
            "PubMed_20k_RCT\n"
          ]
        }
      ],
      "source": [
        "!git clone https://github.com/Franck-Dernoncourt/pubmed-rct.git\n",
        "!ls pubmed-rct"
      ]
    },
    {
      "cell_type": "code",
      "execution_count": 3,
      "metadata": {
        "colab": {
          "base_uri": "https://localhost:8080/"
        },
        "id": "4MxmSL-u3kMl",
        "outputId": "8e07a787-2ce8-4049-a9e4-b3efd0fae57c"
      },
      "outputs": [
        {
          "output_type": "stream",
          "name": "stdout",
          "text": [
            "dev.txt  test.txt  train.txt\n"
          ]
        }
      ],
      "source": [
        "# Check what files are in the PubMed_20K dataset\n",
        "!ls pubmed-rct/PubMed_20k_RCT_numbers_replaced_with_at_sign"
      ]
    },
    {
      "cell_type": "code",
      "execution_count": 4,
      "metadata": {
        "id": "LKOYgyEs4DQz"
      },
      "outputs": [],
      "source": [
        "# Start our experimnets using the 20k dataset with numbers replaced by \"@\" sign\"\n",
        "data_dir = \"/content/pubmed-rct/PubMed_20k_RCT_numbers_replaced_with_at_sign/\""
      ]
    },
    {
      "cell_type": "code",
      "execution_count": 5,
      "metadata": {
        "colab": {
          "base_uri": "https://localhost:8080/"
        },
        "id": "AE-SbxP96V60",
        "outputId": "a27a842e-cc76-49f4-d6d7-9e6fca86bec8"
      },
      "outputs": [
        {
          "output_type": "execute_result",
          "data": {
            "text/plain": [
              "['/content/pubmed-rct/PubMed_20k_RCT_numbers_replaced_with_at_sign/train.txt',\n",
              " '/content/pubmed-rct/PubMed_20k_RCT_numbers_replaced_with_at_sign/test.txt',\n",
              " '/content/pubmed-rct/PubMed_20k_RCT_numbers_replaced_with_at_sign/dev.txt']"
            ]
          },
          "metadata": {},
          "execution_count": 5
        }
      ],
      "source": [
        "# Check all of the filenames in the target directory\n",
        "import os\n",
        "filenames = [data_dir + filename for filename in os.listdir(data_dir)]\n",
        "filenames"
      ]
    },
    {
      "cell_type": "markdown",
      "metadata": {
        "id": "MwHzF0td6tw1"
      },
      "source": [
        "## Preprocess data\n",
        "\n",
        "Now we've got some text data, it's time to become one with it.\n",
        "And one of the best way is to visualize\n",
        "\n",
        "Let's create a function to read in all of the lines of a target text file"
      ]
    },
    {
      "cell_type": "code",
      "execution_count": 6,
      "metadata": {
        "id": "t93wLgpWk0Tt"
      },
      "outputs": [],
      "source": [
        "# Create a function to read the lines of a document\n",
        "def get_lines(filename):\n",
        "  \"\"\"\n",
        "  Reads filename (a text file) and returns the lines of a text as a list.\n",
        "\n",
        "  Args:\n",
        "    filename: a string containing the target filepath\n",
        "\n",
        "  Returns:\n",
        "    A list of strings with one string per line from the target filename.\n",
        "  \"\"\"\n",
        "  with open(filename, \"r\") as f:\n",
        "    return f.readlines()"
      ]
    },
    {
      "cell_type": "code",
      "execution_count": 7,
      "metadata": {
        "id": "XrceBDKvlv6I"
      },
      "outputs": [],
      "source": [
        "# Let's read in the training lines\n",
        "train_lines = get_lines(data_dir+\"train.txt\")"
      ]
    },
    {
      "cell_type": "code",
      "execution_count": 8,
      "metadata": {
        "colab": {
          "base_uri": "https://localhost:8080/"
        },
        "id": "xHFdpibRmIG-",
        "outputId": "562ccbfa-f38f-4c6d-d74f-0c2b0d8fc0bf"
      },
      "outputs": [
        {
          "output_type": "execute_result",
          "data": {
            "text/plain": [
              "['###24293578\\n',\n",
              " 'OBJECTIVE\\tTo investigate the efficacy of @ weeks of daily low-dose oral prednisolone in improving pain , mobility , and systemic low-grade inflammation in the short term and whether the effect would be sustained at @ weeks in older adults with moderate to severe knee osteoarthritis ( OA ) .\\n',\n",
              " 'METHODS\\tA total of @ patients with primary knee OA were randomized @:@ ; @ received @ mg/day of prednisolone and @ received placebo for @ weeks .\\n',\n",
              " 'METHODS\\tOutcome measures included pain reduction and improvement in function scores and systemic inflammation markers .\\n',\n",
              " 'METHODS\\tPain was assessed using the visual analog pain scale ( @-@ mm ) .\\n',\n",
              " 'METHODS\\tSecondary outcome measures included the Western Ontario and McMaster Universities Osteoarthritis Index scores , patient global assessment ( PGA ) of the severity of knee OA , and @-min walk distance ( @MWD ) .\\n',\n",
              " 'METHODS\\tSerum levels of interleukin @ ( IL-@ ) , IL-@ , tumor necrosis factor ( TNF ) - , and high-sensitivity C-reactive protein ( hsCRP ) were measured .\\n',\n",
              " 'RESULTS\\tThere was a clinically relevant reduction in the intervention group compared to the placebo group for knee pain , physical function , PGA , and @MWD at @ weeks .\\n',\n",
              " 'RESULTS\\tThe mean difference between treatment arms ( @ % CI ) was @ ( @-@ @ ) , p < @ ; @ ( @-@ @ ) , p < @ ; @ ( @-@ @ ) , p < @ ; and @ ( @-@ @ ) , p < @ , respectively .\\n',\n",
              " 'RESULTS\\tFurther , there was a clinically relevant reduction in the serum levels of IL-@ , IL-@ , TNF - , and hsCRP at @ weeks in the intervention group when compared to the placebo group .\\n',\n",
              " 'RESULTS\\tThese differences remained significant at @ weeks .\\n',\n",
              " 'RESULTS\\tThe Outcome Measures in Rheumatology Clinical Trials-Osteoarthritis Research Society International responder rate was @ % in the intervention group and @ % in the placebo group ( p < @ ) .\\n',\n",
              " 'CONCLUSIONS\\tLow-dose oral prednisolone had both a short-term and a longer sustained effect resulting in less knee pain , better physical function , and attenuation of systemic inflammation in older patients with knee OA ( ClinicalTrials.gov identifier NCT@ ) .\\n',\n",
              " '\\n',\n",
              " '###24854809\\n',\n",
              " 'BACKGROUND\\tEmotional eating is associated with overeating and the development of obesity .\\n',\n",
              " 'BACKGROUND\\tYet , empirical evidence for individual ( trait ) differences in emotional eating and cognitive mechanisms that contribute to eating during sad mood remain equivocal .\\n',\n",
              " 'OBJECTIVE\\tThe aim of this study was to test if attention bias for food moderates the effect of self-reported emotional eating during sad mood ( vs neutral mood ) on actual food intake .\\n',\n",
              " 'OBJECTIVE\\tIt was expected that emotional eating is predictive of elevated attention for food and higher food intake after an experimentally induced sad mood and that attentional maintenance on food predicts food intake during a sad versus a neutral mood .\\n',\n",
              " 'METHODS\\tParticipants ( N = @ ) were randomly assigned to one of the two experimental mood induction conditions ( sad/neutral ) .\\n']"
            ]
          },
          "metadata": {},
          "execution_count": 8
        }
      ],
      "source": [
        "train_lines[:20]"
      ]
    },
    {
      "cell_type": "markdown",
      "metadata": {
        "id": "xInJowFFmzYH"
      },
      "source": [
        "Let's think about how we want our data to look\n",
        "\n",
        "How i think our data would be best represented\n",
        "\n"
      ]
    },
    {
      "cell_type": "code",
      "source": [
        "def preprocess_text_with_line_numbers(filename):\n",
        "  \"\"\"Returns a list of dictionaries of abstract line data.\n",
        "\n",
        "  Takes in filename, reads its contents and sorts through each line,\n",
        "  extracting things like the target label, the text of the sentence,\n",
        "  how many sentences are in the current abstract and what sentence number\n",
        "  the target line is.\n",
        "\n",
        "  Args:\n",
        "      filename: a string of the target text file to read and extract line data\n",
        "      from.\n",
        "\n",
        "  Returns:\n",
        "      A list of dictionaries each containing a line from an abstract,\n",
        "      the lines label, the lines position in the abstract and the total number\n",
        "      of lines in the abstract where the line is from. For example:\n",
        "\n",
        "      [{\"target\": 'CONCLUSION',\n",
        "        \"text\": The study couldn't have gone better, turns out people are kinder than you think\",\n",
        "        \"line_number\": 8,\n",
        "        \"total_lines\": 8}]\n",
        "  \"\"\"\n",
        "  input_lines = get_lines(filename) # get all lines from filename\n",
        "  abstract_lines = \"\" # create an empty abstract\n",
        "  abstract_samples = [] # create an empty list of abstracts\n",
        "\n",
        "  # Loop through each line in target file\n",
        "  for line in input_lines:\n",
        "    if line.startswith(\"###\"): # check to see if line is an ID line\n",
        "      abstract_id = line\n",
        "      abstract_lines = \"\" # reset abstract string\n",
        "    elif line.isspace(): # check to see if line is a new line\n",
        "      abstract_line_split = abstract_lines.splitlines() # split abstract into separate lines\n",
        "\n",
        "      # Iterate through each line in abstract and count them at the same time\n",
        "      for abstract_line_number, abstract_line in enumerate(abstract_line_split):\n",
        "        line_data = {} # create empty dict to store data from line\n",
        "        target_text_split = abstract_line.split(\"\\t\") # split target label from text\n",
        "        line_data[\"target\"] = target_text_split[0] # get target label\n",
        "        line_data[\"text\"] = target_text_split[1].lower() # get target text and lower it\n",
        "        line_data[\"line_number\"] = abstract_line_number # what number line does the line appear in the abstract?\n",
        "        line_data[\"total_lines\"] = len(abstract_line_split) - 1 # how many total lines are in the abstract? (start from 0)\n",
        "        abstract_samples.append(line_data) # add line data to abstract samples list\n",
        "\n",
        "    else: # if the above conditions aren't fulfilled, the line contains a labelled sentence\n",
        "      abstract_lines += line\n",
        "\n",
        "  return abstract_samples"
      ],
      "metadata": {
        "id": "8bQC7k7phzOH"
      },
      "execution_count": 9,
      "outputs": []
    },
    {
      "cell_type": "code",
      "source": [
        "# Get data from file and preprocess it\n",
        "%%time\n",
        "train_samples = preprocess_text_with_line_numbers(data_dir + \"train.txt\")\n",
        "val_samples = preprocess_text_with_line_numbers(data_dir + \"dev.txt\") # dev is another name for validation set\n",
        "test_samples = preprocess_text_with_line_numbers(data_dir + \"test.txt\")\n",
        "len(train_samples), len(val_samples), len(test_samples)"
      ],
      "metadata": {
        "colab": {
          "base_uri": "https://localhost:8080/"
        },
        "id": "6XxxT1qLjLwN",
        "outputId": "2842b91f-e7c6-4029-fce9-bebce70e1227"
      },
      "execution_count": 10,
      "outputs": [
        {
          "output_type": "stream",
          "name": "stdout",
          "text": [
            "CPU times: user 439 ms, sys: 103 ms, total: 543 ms\n",
            "Wall time: 540 ms\n"
          ]
        },
        {
          "output_type": "execute_result",
          "data": {
            "text/plain": [
              "(180040, 30212, 30135)"
            ]
          },
          "metadata": {},
          "execution_count": 10
        }
      ]
    },
    {
      "cell_type": "code",
      "source": [
        "# Check teh first abstract of our training data\n",
        "train_samples[:10]"
      ],
      "metadata": {
        "colab": {
          "base_uri": "https://localhost:8080/"
        },
        "id": "cVSpxpxkjk0L",
        "outputId": "bfbe7607-b82e-4092-91ac-de4305003940"
      },
      "execution_count": 11,
      "outputs": [
        {
          "output_type": "execute_result",
          "data": {
            "text/plain": [
              "[{'target': 'OBJECTIVE',\n",
              "  'text': 'to investigate the efficacy of @ weeks of daily low-dose oral prednisolone in improving pain , mobility , and systemic low-grade inflammation in the short term and whether the effect would be sustained at @ weeks in older adults with moderate to severe knee osteoarthritis ( oa ) .',\n",
              "  'line_number': 0,\n",
              "  'total_lines': 11},\n",
              " {'target': 'METHODS',\n",
              "  'text': 'a total of @ patients with primary knee oa were randomized @:@ ; @ received @ mg/day of prednisolone and @ received placebo for @ weeks .',\n",
              "  'line_number': 1,\n",
              "  'total_lines': 11},\n",
              " {'target': 'METHODS',\n",
              "  'text': 'outcome measures included pain reduction and improvement in function scores and systemic inflammation markers .',\n",
              "  'line_number': 2,\n",
              "  'total_lines': 11},\n",
              " {'target': 'METHODS',\n",
              "  'text': 'pain was assessed using the visual analog pain scale ( @-@ mm ) .',\n",
              "  'line_number': 3,\n",
              "  'total_lines': 11},\n",
              " {'target': 'METHODS',\n",
              "  'text': 'secondary outcome measures included the western ontario and mcmaster universities osteoarthritis index scores , patient global assessment ( pga ) of the severity of knee oa , and @-min walk distance ( @mwd ) .',\n",
              "  'line_number': 4,\n",
              "  'total_lines': 11},\n",
              " {'target': 'METHODS',\n",
              "  'text': 'serum levels of interleukin @ ( il-@ ) , il-@ , tumor necrosis factor ( tnf ) - , and high-sensitivity c-reactive protein ( hscrp ) were measured .',\n",
              "  'line_number': 5,\n",
              "  'total_lines': 11},\n",
              " {'target': 'RESULTS',\n",
              "  'text': 'there was a clinically relevant reduction in the intervention group compared to the placebo group for knee pain , physical function , pga , and @mwd at @ weeks .',\n",
              "  'line_number': 6,\n",
              "  'total_lines': 11},\n",
              " {'target': 'RESULTS',\n",
              "  'text': 'the mean difference between treatment arms ( @ % ci ) was @ ( @-@ @ ) , p < @ ; @ ( @-@ @ ) , p < @ ; @ ( @-@ @ ) , p < @ ; and @ ( @-@ @ ) , p < @ , respectively .',\n",
              "  'line_number': 7,\n",
              "  'total_lines': 11},\n",
              " {'target': 'RESULTS',\n",
              "  'text': 'further , there was a clinically relevant reduction in the serum levels of il-@ , il-@ , tnf - , and hscrp at @ weeks in the intervention group when compared to the placebo group .',\n",
              "  'line_number': 8,\n",
              "  'total_lines': 11},\n",
              " {'target': 'RESULTS',\n",
              "  'text': 'these differences remained significant at @ weeks .',\n",
              "  'line_number': 9,\n",
              "  'total_lines': 11}]"
            ]
          },
          "metadata": {},
          "execution_count": 11
        }
      ]
    },
    {
      "cell_type": "markdown",
      "source": [
        "Now that our data is in the format of a list of dictionaries, how about we turn it into a DataFrame to further visualize it."
      ],
      "metadata": {
        "id": "arS1iZbVn6oB"
      }
    },
    {
      "cell_type": "code",
      "source": [
        "import pandas as pd\n",
        "train_df = pd.DataFrame(train_samples)\n",
        "val_df = pd.DataFrame(val_samples)\n",
        "test_df = pd.DataFrame(test_samples)"
      ],
      "metadata": {
        "id": "NHVLtgmikKMV"
      },
      "execution_count": 12,
      "outputs": []
    },
    {
      "cell_type": "code",
      "source": [
        "train_df.head(14)"
      ],
      "metadata": {
        "colab": {
          "base_uri": "https://localhost:8080/",
          "height": 489
        },
        "id": "42LV3a7GoiJZ",
        "outputId": "3b30b3b5-9cbc-483b-9243-8f8bf37a4fa3"
      },
      "execution_count": 13,
      "outputs": [
        {
          "output_type": "execute_result",
          "data": {
            "text/plain": [
              "         target                                               text  \\\n",
              "0     OBJECTIVE  to investigate the efficacy of @ weeks of dail...   \n",
              "1       METHODS  a total of @ patients with primary knee oa wer...   \n",
              "2       METHODS  outcome measures included pain reduction and i...   \n",
              "3       METHODS  pain was assessed using the visual analog pain...   \n",
              "4       METHODS  secondary outcome measures included the wester...   \n",
              "5       METHODS  serum levels of interleukin @ ( il-@ ) , il-@ ...   \n",
              "6       RESULTS  there was a clinically relevant reduction in t...   \n",
              "7       RESULTS  the mean difference between treatment arms ( @...   \n",
              "8       RESULTS  further , there was a clinically relevant redu...   \n",
              "9       RESULTS  these differences remained significant at @ we...   \n",
              "10      RESULTS  the outcome measures in rheumatology clinical ...   \n",
              "11  CONCLUSIONS  low-dose oral prednisolone had both a short-te...   \n",
              "12   BACKGROUND  emotional eating is associated with overeating...   \n",
              "13   BACKGROUND  yet , empirical evidence for individual ( trai...   \n",
              "\n",
              "    line_number  total_lines  \n",
              "0             0           11  \n",
              "1             1           11  \n",
              "2             2           11  \n",
              "3             3           11  \n",
              "4             4           11  \n",
              "5             5           11  \n",
              "6             6           11  \n",
              "7             7           11  \n",
              "8             8           11  \n",
              "9             9           11  \n",
              "10           10           11  \n",
              "11           11           11  \n",
              "12            0           10  \n",
              "13            1           10  "
            ],
            "text/html": [
              "\n",
              "  <div id=\"df-f67b9de9-5d52-46fa-8692-6b11f3b0c005\" class=\"colab-df-container\">\n",
              "    <div>\n",
              "<style scoped>\n",
              "    .dataframe tbody tr th:only-of-type {\n",
              "        vertical-align: middle;\n",
              "    }\n",
              "\n",
              "    .dataframe tbody tr th {\n",
              "        vertical-align: top;\n",
              "    }\n",
              "\n",
              "    .dataframe thead th {\n",
              "        text-align: right;\n",
              "    }\n",
              "</style>\n",
              "<table border=\"1\" class=\"dataframe\">\n",
              "  <thead>\n",
              "    <tr style=\"text-align: right;\">\n",
              "      <th></th>\n",
              "      <th>target</th>\n",
              "      <th>text</th>\n",
              "      <th>line_number</th>\n",
              "      <th>total_lines</th>\n",
              "    </tr>\n",
              "  </thead>\n",
              "  <tbody>\n",
              "    <tr>\n",
              "      <th>0</th>\n",
              "      <td>OBJECTIVE</td>\n",
              "      <td>to investigate the efficacy of @ weeks of dail...</td>\n",
              "      <td>0</td>\n",
              "      <td>11</td>\n",
              "    </tr>\n",
              "    <tr>\n",
              "      <th>1</th>\n",
              "      <td>METHODS</td>\n",
              "      <td>a total of @ patients with primary knee oa wer...</td>\n",
              "      <td>1</td>\n",
              "      <td>11</td>\n",
              "    </tr>\n",
              "    <tr>\n",
              "      <th>2</th>\n",
              "      <td>METHODS</td>\n",
              "      <td>outcome measures included pain reduction and i...</td>\n",
              "      <td>2</td>\n",
              "      <td>11</td>\n",
              "    </tr>\n",
              "    <tr>\n",
              "      <th>3</th>\n",
              "      <td>METHODS</td>\n",
              "      <td>pain was assessed using the visual analog pain...</td>\n",
              "      <td>3</td>\n",
              "      <td>11</td>\n",
              "    </tr>\n",
              "    <tr>\n",
              "      <th>4</th>\n",
              "      <td>METHODS</td>\n",
              "      <td>secondary outcome measures included the wester...</td>\n",
              "      <td>4</td>\n",
              "      <td>11</td>\n",
              "    </tr>\n",
              "    <tr>\n",
              "      <th>5</th>\n",
              "      <td>METHODS</td>\n",
              "      <td>serum levels of interleukin @ ( il-@ ) , il-@ ...</td>\n",
              "      <td>5</td>\n",
              "      <td>11</td>\n",
              "    </tr>\n",
              "    <tr>\n",
              "      <th>6</th>\n",
              "      <td>RESULTS</td>\n",
              "      <td>there was a clinically relevant reduction in t...</td>\n",
              "      <td>6</td>\n",
              "      <td>11</td>\n",
              "    </tr>\n",
              "    <tr>\n",
              "      <th>7</th>\n",
              "      <td>RESULTS</td>\n",
              "      <td>the mean difference between treatment arms ( @...</td>\n",
              "      <td>7</td>\n",
              "      <td>11</td>\n",
              "    </tr>\n",
              "    <tr>\n",
              "      <th>8</th>\n",
              "      <td>RESULTS</td>\n",
              "      <td>further , there was a clinically relevant redu...</td>\n",
              "      <td>8</td>\n",
              "      <td>11</td>\n",
              "    </tr>\n",
              "    <tr>\n",
              "      <th>9</th>\n",
              "      <td>RESULTS</td>\n",
              "      <td>these differences remained significant at @ we...</td>\n",
              "      <td>9</td>\n",
              "      <td>11</td>\n",
              "    </tr>\n",
              "    <tr>\n",
              "      <th>10</th>\n",
              "      <td>RESULTS</td>\n",
              "      <td>the outcome measures in rheumatology clinical ...</td>\n",
              "      <td>10</td>\n",
              "      <td>11</td>\n",
              "    </tr>\n",
              "    <tr>\n",
              "      <th>11</th>\n",
              "      <td>CONCLUSIONS</td>\n",
              "      <td>low-dose oral prednisolone had both a short-te...</td>\n",
              "      <td>11</td>\n",
              "      <td>11</td>\n",
              "    </tr>\n",
              "    <tr>\n",
              "      <th>12</th>\n",
              "      <td>BACKGROUND</td>\n",
              "      <td>emotional eating is associated with overeating...</td>\n",
              "      <td>0</td>\n",
              "      <td>10</td>\n",
              "    </tr>\n",
              "    <tr>\n",
              "      <th>13</th>\n",
              "      <td>BACKGROUND</td>\n",
              "      <td>yet , empirical evidence for individual ( trai...</td>\n",
              "      <td>1</td>\n",
              "      <td>10</td>\n",
              "    </tr>\n",
              "  </tbody>\n",
              "</table>\n",
              "</div>\n",
              "    <div class=\"colab-df-buttons\">\n",
              "\n",
              "  <div class=\"colab-df-container\">\n",
              "    <button class=\"colab-df-convert\" onclick=\"convertToInteractive('df-f67b9de9-5d52-46fa-8692-6b11f3b0c005')\"\n",
              "            title=\"Convert this dataframe to an interactive table.\"\n",
              "            style=\"display:none;\">\n",
              "\n",
              "  <svg xmlns=\"http://www.w3.org/2000/svg\" height=\"24px\" viewBox=\"0 -960 960 960\">\n",
              "    <path d=\"M120-120v-720h720v720H120Zm60-500h600v-160H180v160Zm220 220h160v-160H400v160Zm0 220h160v-160H400v160ZM180-400h160v-160H180v160Zm440 0h160v-160H620v160ZM180-180h160v-160H180v160Zm440 0h160v-160H620v160Z\"/>\n",
              "  </svg>\n",
              "    </button>\n",
              "\n",
              "  <style>\n",
              "    .colab-df-container {\n",
              "      display:flex;\n",
              "      gap: 12px;\n",
              "    }\n",
              "\n",
              "    .colab-df-convert {\n",
              "      background-color: #E8F0FE;\n",
              "      border: none;\n",
              "      border-radius: 50%;\n",
              "      cursor: pointer;\n",
              "      display: none;\n",
              "      fill: #1967D2;\n",
              "      height: 32px;\n",
              "      padding: 0 0 0 0;\n",
              "      width: 32px;\n",
              "    }\n",
              "\n",
              "    .colab-df-convert:hover {\n",
              "      background-color: #E2EBFA;\n",
              "      box-shadow: 0px 1px 2px rgba(60, 64, 67, 0.3), 0px 1px 3px 1px rgba(60, 64, 67, 0.15);\n",
              "      fill: #174EA6;\n",
              "    }\n",
              "\n",
              "    .colab-df-buttons div {\n",
              "      margin-bottom: 4px;\n",
              "    }\n",
              "\n",
              "    [theme=dark] .colab-df-convert {\n",
              "      background-color: #3B4455;\n",
              "      fill: #D2E3FC;\n",
              "    }\n",
              "\n",
              "    [theme=dark] .colab-df-convert:hover {\n",
              "      background-color: #434B5C;\n",
              "      box-shadow: 0px 1px 3px 1px rgba(0, 0, 0, 0.15);\n",
              "      filter: drop-shadow(0px 1px 2px rgba(0, 0, 0, 0.3));\n",
              "      fill: #FFFFFF;\n",
              "    }\n",
              "  </style>\n",
              "\n",
              "    <script>\n",
              "      const buttonEl =\n",
              "        document.querySelector('#df-f67b9de9-5d52-46fa-8692-6b11f3b0c005 button.colab-df-convert');\n",
              "      buttonEl.style.display =\n",
              "        google.colab.kernel.accessAllowed ? 'block' : 'none';\n",
              "\n",
              "      async function convertToInteractive(key) {\n",
              "        const element = document.querySelector('#df-f67b9de9-5d52-46fa-8692-6b11f3b0c005');\n",
              "        const dataTable =\n",
              "          await google.colab.kernel.invokeFunction('convertToInteractive',\n",
              "                                                    [key], {});\n",
              "        if (!dataTable) return;\n",
              "\n",
              "        const docLinkHtml = 'Like what you see? Visit the ' +\n",
              "          '<a target=\"_blank\" href=https://colab.research.google.com/notebooks/data_table.ipynb>data table notebook</a>'\n",
              "          + ' to learn more about interactive tables.';\n",
              "        element.innerHTML = '';\n",
              "        dataTable['output_type'] = 'display_data';\n",
              "        await google.colab.output.renderOutput(dataTable, element);\n",
              "        const docLink = document.createElement('div');\n",
              "        docLink.innerHTML = docLinkHtml;\n",
              "        element.appendChild(docLink);\n",
              "      }\n",
              "    </script>\n",
              "  </div>\n",
              "\n",
              "\n",
              "<div id=\"df-472f792e-e654-49db-bdba-27c0d3d35719\">\n",
              "  <button class=\"colab-df-quickchart\" onclick=\"quickchart('df-472f792e-e654-49db-bdba-27c0d3d35719')\"\n",
              "            title=\"Suggest charts\"\n",
              "            style=\"display:none;\">\n",
              "\n",
              "<svg xmlns=\"http://www.w3.org/2000/svg\" height=\"24px\"viewBox=\"0 0 24 24\"\n",
              "     width=\"24px\">\n",
              "    <g>\n",
              "        <path d=\"M19 3H5c-1.1 0-2 .9-2 2v14c0 1.1.9 2 2 2h14c1.1 0 2-.9 2-2V5c0-1.1-.9-2-2-2zM9 17H7v-7h2v7zm4 0h-2V7h2v10zm4 0h-2v-4h2v4z\"/>\n",
              "    </g>\n",
              "</svg>\n",
              "  </button>\n",
              "\n",
              "<style>\n",
              "  .colab-df-quickchart {\n",
              "      --bg-color: #E8F0FE;\n",
              "      --fill-color: #1967D2;\n",
              "      --hover-bg-color: #E2EBFA;\n",
              "      --hover-fill-color: #174EA6;\n",
              "      --disabled-fill-color: #AAA;\n",
              "      --disabled-bg-color: #DDD;\n",
              "  }\n",
              "\n",
              "  [theme=dark] .colab-df-quickchart {\n",
              "      --bg-color: #3B4455;\n",
              "      --fill-color: #D2E3FC;\n",
              "      --hover-bg-color: #434B5C;\n",
              "      --hover-fill-color: #FFFFFF;\n",
              "      --disabled-bg-color: #3B4455;\n",
              "      --disabled-fill-color: #666;\n",
              "  }\n",
              "\n",
              "  .colab-df-quickchart {\n",
              "    background-color: var(--bg-color);\n",
              "    border: none;\n",
              "    border-radius: 50%;\n",
              "    cursor: pointer;\n",
              "    display: none;\n",
              "    fill: var(--fill-color);\n",
              "    height: 32px;\n",
              "    padding: 0;\n",
              "    width: 32px;\n",
              "  }\n",
              "\n",
              "  .colab-df-quickchart:hover {\n",
              "    background-color: var(--hover-bg-color);\n",
              "    box-shadow: 0 1px 2px rgba(60, 64, 67, 0.3), 0 1px 3px 1px rgba(60, 64, 67, 0.15);\n",
              "    fill: var(--button-hover-fill-color);\n",
              "  }\n",
              "\n",
              "  .colab-df-quickchart-complete:disabled,\n",
              "  .colab-df-quickchart-complete:disabled:hover {\n",
              "    background-color: var(--disabled-bg-color);\n",
              "    fill: var(--disabled-fill-color);\n",
              "    box-shadow: none;\n",
              "  }\n",
              "\n",
              "  .colab-df-spinner {\n",
              "    border: 2px solid var(--fill-color);\n",
              "    border-color: transparent;\n",
              "    border-bottom-color: var(--fill-color);\n",
              "    animation:\n",
              "      spin 1s steps(1) infinite;\n",
              "  }\n",
              "\n",
              "  @keyframes spin {\n",
              "    0% {\n",
              "      border-color: transparent;\n",
              "      border-bottom-color: var(--fill-color);\n",
              "      border-left-color: var(--fill-color);\n",
              "    }\n",
              "    20% {\n",
              "      border-color: transparent;\n",
              "      border-left-color: var(--fill-color);\n",
              "      border-top-color: var(--fill-color);\n",
              "    }\n",
              "    30% {\n",
              "      border-color: transparent;\n",
              "      border-left-color: var(--fill-color);\n",
              "      border-top-color: var(--fill-color);\n",
              "      border-right-color: var(--fill-color);\n",
              "    }\n",
              "    40% {\n",
              "      border-color: transparent;\n",
              "      border-right-color: var(--fill-color);\n",
              "      border-top-color: var(--fill-color);\n",
              "    }\n",
              "    60% {\n",
              "      border-color: transparent;\n",
              "      border-right-color: var(--fill-color);\n",
              "    }\n",
              "    80% {\n",
              "      border-color: transparent;\n",
              "      border-right-color: var(--fill-color);\n",
              "      border-bottom-color: var(--fill-color);\n",
              "    }\n",
              "    90% {\n",
              "      border-color: transparent;\n",
              "      border-bottom-color: var(--fill-color);\n",
              "    }\n",
              "  }\n",
              "</style>\n",
              "\n",
              "  <script>\n",
              "    async function quickchart(key) {\n",
              "      const quickchartButtonEl =\n",
              "        document.querySelector('#' + key + ' button');\n",
              "      quickchartButtonEl.disabled = true;  // To prevent multiple clicks.\n",
              "      quickchartButtonEl.classList.add('colab-df-spinner');\n",
              "      try {\n",
              "        const charts = await google.colab.kernel.invokeFunction(\n",
              "            'suggestCharts', [key], {});\n",
              "      } catch (error) {\n",
              "        console.error('Error during call to suggestCharts:', error);\n",
              "      }\n",
              "      quickchartButtonEl.classList.remove('colab-df-spinner');\n",
              "      quickchartButtonEl.classList.add('colab-df-quickchart-complete');\n",
              "    }\n",
              "    (() => {\n",
              "      let quickchartButtonEl =\n",
              "        document.querySelector('#df-472f792e-e654-49db-bdba-27c0d3d35719 button');\n",
              "      quickchartButtonEl.style.display =\n",
              "        google.colab.kernel.accessAllowed ? 'block' : 'none';\n",
              "    })();\n",
              "  </script>\n",
              "</div>\n",
              "    </div>\n",
              "  </div>\n"
            ],
            "application/vnd.google.colaboratory.intrinsic+json": {
              "type": "dataframe",
              "variable_name": "train_df"
            }
          },
          "metadata": {},
          "execution_count": 13
        }
      ]
    },
    {
      "cell_type": "code",
      "source": [
        "# Distrubution of labels in training data\n",
        "train_df.target.value_counts()"
      ],
      "metadata": {
        "colab": {
          "base_uri": "https://localhost:8080/"
        },
        "id": "yBbJMfZLo13s",
        "outputId": "30f311e3-b77e-43b5-e0f5-95787e185b6d"
      },
      "execution_count": 14,
      "outputs": [
        {
          "output_type": "execute_result",
          "data": {
            "text/plain": [
              "target\n",
              "METHODS        59353\n",
              "RESULTS        57953\n",
              "CONCLUSIONS    27168\n",
              "BACKGROUND     21727\n",
              "OBJECTIVE      13839\n",
              "Name: count, dtype: int64"
            ]
          },
          "metadata": {},
          "execution_count": 14
        }
      ]
    },
    {
      "cell_type": "code",
      "source": [
        "# Check the lenght of differnet lines\n",
        "train_df.total_lines.plot.hist()"
      ],
      "metadata": {
        "colab": {
          "base_uri": "https://localhost:8080/",
          "height": 448
        },
        "id": "gtnXtX2ApQ1Z",
        "outputId": "383e8838-eb14-4378-8bb3-74c6f5480d75"
      },
      "execution_count": 15,
      "outputs": [
        {
          "output_type": "execute_result",
          "data": {
            "text/plain": [
              "<Axes: ylabel='Frequency'>"
            ]
          },
          "metadata": {},
          "execution_count": 15
        },
        {
          "output_type": "display_data",
          "data": {
            "text/plain": [
              "<Figure size 640x480 with 1 Axes>"
            ],
            "image/png": "[encoded data removed]"
          },
          "metadata": {}
        }
      ]
    },
    {
      "cell_type": "markdown",
      "source": [
        "### Get list of centences"
      ],
      "metadata": {
        "id": "oWx5DIzNphTt"
      }
    },
    {
      "cell_type": "code",
      "source": [
        "# Convert abstract text lines into lists\n",
        "train_sentences = train_df[\"text\"].tolist()\n",
        "val_sentences = val_df[\"text\"].tolist()\n",
        "test_sentences = test_df[\"text\"].tolist()\n",
        "len(train_sentences), len(val_sentences), len(test_sentences),"
      ],
      "metadata": {
        "colab": {
          "base_uri": "https://localhost:8080/"
        },
        "id": "3P8rwpWRp2ba",
        "outputId": "74e64922-2ff4-42a7-ad16-cd985184b90d"
      },
      "execution_count": 16,
      "outputs": [
        {
          "output_type": "execute_result",
          "data": {
            "text/plain": [
              "(180040, 30212, 30135)"
            ]
          },
          "metadata": {},
          "execution_count": 16
        }
      ]
    },
    {
      "cell_type": "code",
      "source": [
        "# View the 10 first lines of train sentences\n",
        "train_sentences[:10]"
      ],
      "metadata": {
        "colab": {
          "base_uri": "https://localhost:8080/"
        },
        "id": "JCDbD-itqgLy",
        "outputId": "873582ad-33b2-492a-8002-45c037e0da7a"
      },
      "execution_count": 17,
      "outputs": [
        {
          "output_type": "execute_result",
          "data": {
            "text/plain": [
              "['to investigate the efficacy of @ weeks of daily low-dose oral prednisolone in improving pain , mobility , and systemic low-grade inflammation in the short term and whether the effect would be sustained at @ weeks in older adults with moderate to severe knee osteoarthritis ( oa ) .',\n",
              " 'a total of @ patients with primary knee oa were randomized @:@ ; @ received @ mg/day of prednisolone and @ received placebo for @ weeks .',\n",
              " 'outcome measures included pain reduction and improvement in function scores and systemic inflammation markers .',\n",
              " 'pain was assessed using the visual analog pain scale ( @-@ mm ) .',\n",
              " 'secondary outcome measures included the western ontario and mcmaster universities osteoarthritis index scores , patient global assessment ( pga ) of the severity of knee oa , and @-min walk distance ( @mwd ) .',\n",
              " 'serum levels of interleukin @ ( il-@ ) , il-@ , tumor necrosis factor ( tnf ) - , and high-sensitivity c-reactive protein ( hscrp ) were measured .',\n",
              " 'there was a clinically relevant reduction in the intervention group compared to the placebo group for knee pain , physical function , pga , and @mwd at @ weeks .',\n",
              " 'the mean difference between treatment arms ( @ % ci ) was @ ( @-@ @ ) , p < @ ; @ ( @-@ @ ) , p < @ ; @ ( @-@ @ ) , p < @ ; and @ ( @-@ @ ) , p < @ , respectively .',\n",
              " 'further , there was a clinically relevant reduction in the serum levels of il-@ , il-@ , tnf - , and hscrp at @ weeks in the intervention group when compared to the placebo group .',\n",
              " 'these differences remained significant at @ weeks .']"
            ]
          },
          "metadata": {},
          "execution_count": 17
        }
      ]
    },
    {
      "cell_type": "markdown",
      "source": [
        "## Make numeric labels (ML require numeric labels)"
      ],
      "metadata": {
        "id": "UJy-I--SqspF"
      }
    },
    {
      "cell_type": "code",
      "source": [
        "import sklearn\n",
        "print(sklearn.__version__)"
      ],
      "metadata": {
        "colab": {
          "base_uri": "https://localhost:8080/"
        },
        "id": "G-xxtP5Bl9ac",
        "outputId": "bd768620-53b3-49e4-a63b-f4e236af0adf"
      },
      "execution_count": 18,
      "outputs": [
        {
          "output_type": "stream",
          "name": "stdout",
          "text": [
            "1.2.2\n"
          ]
        }
      ]
    },
    {
      "cell_type": "code",
      "source": [
        "# One hot encode labels\n",
        "from sklearn.preprocessing import OneHotEncoder\n",
        "one_hot_encoder = OneHotEncoder(sparse=False)\n",
        "train_label_one_hot = one_hot_encoder.fit_transform(train_df[\"target\"].to_numpy().reshape(-1, 1))\n",
        "val_labels_one_hot = one_hot_encoder.transform(val_df[\"target\"].to_numpy().reshape(-1, 1))\n",
        "test_labels_one_hot = one_hot_encoder.transform(test_df[\"target\"].to_numpy().reshape(-1, 1))\n",
        "\n",
        "# Check what one hot encoded labels look like\n",
        "train_label_one_hot"
      ],
      "metadata": {
        "colab": {
          "base_uri": "https://localhost:8080/"
        },
        "id": "g4VL-bndlZy2",
        "outputId": "16cec5e4-1d48-4fb2-bf5e-e533d18c3a28"
      },
      "execution_count": 19,
      "outputs": [
        {
          "output_type": "stream",
          "name": "stderr",
          "text": [
            "/usr/local/lib/python3.10/dist-packages/sklearn/preprocessing/_encoders.py:868: FutureWarning: `sparse` was renamed to `sparse_output` in version 1.2 and will be removed in 1.4. `sparse_output` is ignored unless you leave `sparse` to its default value.\n",
            "  warnings.warn(\n"
          ]
        },
        {
          "output_type": "execute_result",
          "data": {
            "text/plain": [
              "array([[0., 0., 0., 1., 0.],\n",
              "       [0., 0., 1., 0., 0.],\n",
              "       [0., 0., 1., 0., 0.],\n",
              "       ...,\n",
              "       [0., 0., 0., 0., 1.],\n",
              "       [0., 1., 0., 0., 0.],\n",
              "       [0., 1., 0., 0., 0.]])"
            ]
          },
          "metadata": {},
          "execution_count": 19
        }
      ]
    },
    {
      "cell_type": "code",
      "source": [
        "import tensorflow as tf\n",
        "tf.constant(train_label_one_hot)"
      ],
      "metadata": {
        "colab": {
          "base_uri": "https://localhost:8080/"
        },
        "id": "3cIxDyD4nMOb",
        "outputId": "9e382413-5efc-4b02-8eee-968e53295a9b"
      },
      "execution_count": 20,
      "outputs": [
        {
          "output_type": "execute_result",
          "data": {
            "text/plain": [
              "<tf.Tensor: shape=(180040, 5), dtype=float64, numpy=\n",
              "array([[0., 0., 0., 1., 0.],\n",
              "       [0., 0., 1., 0., 0.],\n",
              "       [0., 0., 1., 0., 0.],\n",
              "       ...,\n",
              "       [0., 0., 0., 0., 1.],\n",
              "       [0., 1., 0., 0., 0.],\n",
              "       [0., 1., 0., 0., 0.]])>"
            ]
          },
          "metadata": {},
          "execution_count": 20
        }
      ]
    },
    {
      "cell_type": "markdown",
      "source": [
        "### Label encode labels"
      ],
      "metadata": {
        "id": "uaCRuF6LnaCj"
      }
    },
    {
      "cell_type": "code",
      "source": [
        "# Extract labels (\"target\" columns) and encode them into integers\n",
        "from sklearn.preprocessing import LabelEncoder\n",
        "label_encoder = LabelEncoder()\n",
        "train_labels_encoded = label_encoder.fit_transform(train_df[\"target\"].to_numpy())\n",
        "val_labels_encoded = label_encoder.transform(val_df[\"target\"].to_numpy())\n",
        "test_labels_encoded = label_encoder.transform(val_df[\"target\"].to_numpy())\n",
        "\n",
        "# Check what training labels look like\n",
        "train_labels_encoded"
      ],
      "metadata": {
        "colab": {
          "base_uri": "https://localhost:8080/"
        },
        "id": "qhJi_oahoae-",
        "outputId": "665382ed-48e3-49e2-8267-ff931eaa8d0e"
      },
      "execution_count": 21,
      "outputs": [
        {
          "output_type": "execute_result",
          "data": {
            "text/plain": [
              "array([3, 2, 2, ..., 4, 1, 1])"
            ]
          },
          "metadata": {},
          "execution_count": 21
        }
      ]
    },
    {
      "cell_type": "code",
      "source": [
        "# Get class names and number of classes from LabelEncoder instance\n",
        "num_classes = len(label_encoder.classes_)\n",
        "class_names = label_encoder.classes_\n",
        "num_classes, class_names"
      ],
      "metadata": {
        "colab": {
          "base_uri": "https://localhost:8080/"
        },
        "id": "nE2iiCKYqaEN",
        "outputId": "d39acd96-5525-4357-cd85-37e6cd106228"
      },
      "execution_count": 22,
      "outputs": [
        {
          "output_type": "execute_result",
          "data": {
            "text/plain": [
              "(5,\n",
              " array(['BACKGROUND', 'CONCLUSIONS', 'METHODS', 'OBJECTIVE', 'RESULTS'],\n",
              "       dtype=object))"
            ]
          },
          "metadata": {},
          "execution_count": 22
        }
      ]
    },
    {
      "cell_type": "markdown",
      "source": [
        "## Starting a series of modelling experiments..\n",
        "\n",
        "As usual, we're going to be trying out a bunch of different models and seeing wich one works best.![2024-05-10_2.png](data:image/png;base64,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)\n"
      ],
      "metadata": {
        "id": "LTGPe-j9y4Oq"
      }
    },
    {
      "cell_type": "markdown",
      "source": [
        "## Model 0: Getting a baseline\n"
      ],
      "metadata": {
        "id": "tnfwBxEHrDHm"
      }
    },
    {
      "cell_type": "code",
      "source": [
        "from sklearn.feature_extraction.text import TfidfVectorizer\n",
        "from sklearn.naive_bayes import MultinomialNB\n",
        "from sklearn.pipeline import Pipeline\n",
        "\n",
        "# Create a pipeline\n",
        "model_0 = Pipeline([\n",
        "    (\"tf-idf\", TfidfVectorizer()),\n",
        "    (\"clf\", MultinomialNB())\n",
        "])\n",
        "\n",
        "# Fit the pipeline to the training data\n",
        "model_0.fit(X=train_sentences,\n",
        "            y=train_labels_encoded)"
      ],
      "metadata": {
        "colab": {
          "base_uri": "https://localhost:8080/",
          "height": 126
        },
        "id": "akrlRPA7zPcz",
        "outputId": "08caa7a6-9967-4e60-a0cf-3fa4fb810fb1"
      },
      "execution_count": 23,
      "outputs": [
        {
          "output_type": "execute_result",
          "data": {
            "text/plain": [
              "Pipeline(steps=[('tf-idf', TfidfVectorizer()), ('clf', MultinomialNB())])"
            ],
            "text/html": [
              "<style>#sk-container-id-1 {color: black;background-color: white;}#sk-container-id-1 pre{padding: 0;}#sk-container-id-1 div.sk-toggleable {background-color: white;}#sk-container-id-1 label.sk-toggleable__label {cursor: pointer;display: block;width: 100%;margin-bottom: 0;padding: 0.3em;box-sizing: border-box;text-align: center;}#sk-container-id-1 label.sk-toggleable__label-arrow:before {content: \"▸\";float: left;margin-right: 0.25em;color: #696969;}#sk-container-id-1 label.sk-toggleable__label-arrow:hover:before {color: black;}#sk-container-id-1 div.sk-estimator:hover label.sk-toggleable__label-arrow:before {color: black;}#sk-container-id-1 div.sk-toggleable__content {max-height: 0;max-width: 0;overflow: hidden;text-align: left;background-color: #f0f8ff;}#sk-container-id-1 div.sk-toggleable__content pre {margin: 0.2em;color: black;border-radius: 0.25em;background-color: #f0f8ff;}#sk-container-id-1 input.sk-toggleable__control:checked~div.sk-toggleable__content {max-height: 200px;max-width: 100%;overflow: auto;}#sk-container-id-1 input.sk-toggleable__control:checked~label.sk-toggleable__label-arrow:before {content: \"▾\";}#sk-container-id-1 div.sk-estimator input.sk-toggleable__control:checked~label.sk-toggleable__label {background-color: #d4ebff;}#sk-container-id-1 div.sk-label input.sk-toggleable__control:checked~label.sk-toggleable__label {background-color: #d4ebff;}#sk-container-id-1 input.sk-hidden--visually {border: 0;clip: rect(1px 1px 1px 1px);clip: rect(1px, 1px, 1px, 1px);height: 1px;margin: -1px;overflow: hidden;padding: 0;position: absolute;width: 1px;}#sk-container-id-1 div.sk-estimator {font-family: monospace;background-color: #f0f8ff;border: 1px dotted black;border-radius: 0.25em;box-sizing: border-box;margin-bottom: 0.5em;}#sk-container-id-1 div.sk-estimator:hover {background-color: #d4ebff;}#sk-container-id-1 div.sk-parallel-item::after {content: \"\";width: 100%;border-bottom: 1px solid gray;flex-grow: 1;}#sk-container-id-1 div.sk-label:hover label.sk-toggleable__label {background-color: #d4ebff;}#sk-container-id-1 div.sk-serial::before {content: \"\";position: absolute;border-left: 1px solid gray;box-sizing: border-box;top: 0;bottom: 0;left: 50%;z-index: 0;}#sk-container-id-1 div.sk-serial {display: flex;flex-direction: column;align-items: center;background-color: white;padding-right: 0.2em;padding-left: 0.2em;position: relative;}#sk-container-id-1 div.sk-item {position: relative;z-index: 1;}#sk-container-id-1 div.sk-parallel {display: flex;align-items: stretch;justify-content: center;background-color: white;position: relative;}#sk-container-id-1 div.sk-item::before, #sk-container-id-1 div.sk-parallel-item::before {content: \"\";position: absolute;border-left: 1px solid gray;box-sizing: border-box;top: 0;bottom: 0;left: 50%;z-index: -1;}#sk-container-id-1 div.sk-parallel-item {display: flex;flex-direction: column;z-index: 1;position: relative;background-color: white;}#sk-container-id-1 div.sk-parallel-item:first-child::after {align-self: flex-end;width: 50%;}#sk-container-id-1 div.sk-parallel-item:last-child::after {align-self: flex-start;width: 50%;}#sk-container-id-1 div.sk-parallel-item:only-child::after {width: 0;}#sk-container-id-1 div.sk-dashed-wrapped {border: 1px dashed gray;margin: 0 0.4em 0.5em 0.4em;box-sizing: border-box;padding-bottom: 0.4em;background-color: white;}#sk-container-id-1 div.sk-label label {font-family: monospace;font-weight: bold;display: inline-block;line-height: 1.2em;}#sk-container-id-1 div.sk-label-container {text-align: center;}#sk-container-id-1 div.sk-container {/* jupyter's `normalize.less` sets `[hidden] { display: none; }` but bootstrap.min.css set `[hidden] { display: none !important; }` so we also need the `!important` here to be able to override the default hidden behavior on the sphinx rendered scikit-learn.org. See: https://github.com/scikit-learn/scikit-learn/issues/21755 */display: inline-block !important;position: relative;}#sk-container-id-1 div.sk-text-repr-fallback {display: none;}</style><div id=\"sk-container-id-1\" class=\"sk-top-container\"><div class=\"sk-text-repr-fallback\"><pre>Pipeline(steps=[(&#x27;tf-idf&#x27;, TfidfVectorizer()), (&#x27;clf&#x27;, MultinomialNB())])</pre><b>In a Jupyter environment, please rerun this cell to show the HTML representation or trust the notebook. <br />On GitHub, the HTML representation is unable to render, please try loading this page with nbviewer.org.</b></div><div class=\"sk-container\" hidden><div class=\"sk-item sk-dashed-wrapped\"><div class=\"sk-label-container\"><div class=\"sk-label sk-toggleable\"><input class=\"sk-toggleable__control sk-hidden--visually\" id=\"sk-estimator-id-1\" type=\"checkbox\" ><label for=\"sk-estimator-id-1\" class=\"sk-toggleable__label sk-toggleable__label-arrow\">Pipeline</label><div class=\"sk-toggleable__content\"><pre>Pipeline(steps=[(&#x27;tf-idf&#x27;, TfidfVectorizer()), (&#x27;clf&#x27;, MultinomialNB())])</pre></div></div></div><div class=\"sk-serial\"><div class=\"sk-item\"><div class=\"sk-estimator sk-toggleable\"><input class=\"sk-toggleable__control sk-hidden--visually\" id=\"sk-estimator-id-2\" type=\"checkbox\" ><label for=\"sk-estimator-id-2\" class=\"sk-toggleable__label sk-toggleable__label-arrow\">TfidfVectorizer</label><div class=\"sk-toggleable__content\"><pre>TfidfVectorizer()</pre></div></div></div><div class=\"sk-item\"><div class=\"sk-estimator sk-toggleable\"><input class=\"sk-toggleable__control sk-hidden--visually\" id=\"sk-estimator-id-3\" type=\"checkbox\" ><label for=\"sk-estimator-id-3\" class=\"sk-toggleable__label sk-toggleable__label-arrow\">MultinomialNB</label><div class=\"sk-toggleable__content\"><pre>MultinomialNB()</pre></div></div></div></div></div></div></div>"
            ]
          },
          "metadata": {},
          "execution_count": 23
        }
      ]
    },
    {
      "cell_type": "code",
      "source": [
        "# Evaluate baseline on validation dataset\n",
        "model_0.score(X=val_sentences,\n",
        "              y=val_labels_encoded)"
      ],
      "metadata": {
        "colab": {
          "base_uri": "https://localhost:8080/"
        },
        "id": "kkC6XLxe0m7A",
        "outputId": "040add49-77c7-45b2-98db-59e87f456191"
      },
      "execution_count": 24,
      "outputs": [
        {
          "output_type": "execute_result",
          "data": {
            "text/plain": [
              "0.7218323844829869"
            ]
          },
          "metadata": {},
          "execution_count": 24
        }
      ]
    },
    {
      "cell_type": "code",
      "source": [
        "# Make predictions using our baseline model\n",
        "baseline_preds = model_0.predict(val_sentences)\n",
        "baseline_preds"
      ],
      "metadata": {
        "colab": {
          "base_uri": "https://localhost:8080/"
        },
        "id": "JoIl2a4J1BFP",
        "outputId": "a40d56b9-3ad4-4007-db50-645882a0722c"
      },
      "execution_count": 25,
      "outputs": [
        {
          "output_type": "execute_result",
          "data": {
            "text/plain": [
              "array([4, 1, 3, ..., 4, 4, 1])"
            ]
          },
          "metadata": {},
          "execution_count": 25
        }
      ]
    },
    {
      "cell_type": "code",
      "source": [
        "### Download helper function script\n",
        "!wget https://raw.githubusercontent.com/JonasHagstrom79/Tensorflow/main/helper.py -O helper.py"
      ],
      "metadata": {
        "colab": {
          "base_uri": "https://localhost:8080/"
        },
        "id": "p4NLz1NT1cpt",
        "outputId": "80325199-6b74-4a61-8009-624de9845fbc"
      },
      "execution_count": 26,
      "outputs": [
        {
          "output_type": "stream",
          "name": "stdout",
          "text": [
            "--2024-05-10 19:35:44--  https://raw.githubusercontent.com/JonasHagstrom79/Tensorflow/main/helper.py\n",
            "Resolving raw.githubusercontent.com (raw.githubusercontent.com)... 185.199.108.133, 185.199.109.133, 185.199.110.133, ...\n",
            "Connecting to raw.githubusercontent.com (raw.githubusercontent.com)|185.199.108.133|:443... connected.\n",
            "HTTP request sent, awaiting response... 200 OK\n",
            "Length: 13380 (13K) [text/plain]\n",
            "Saving to: ‘helper.py’\n",
            "\n",
            "helper.py           100%[===================>]  13.07K  --.-KB/s    in 0s      \n",
            "\n",
            "2024-05-10 19:35:44 (92.4 MB/s) - ‘helper.py’ saved [13380/13380]\n",
            "\n"
          ]
        }
      ]
    },
    {
      "cell_type": "code",
      "source": [
        "from helper import calculate_results"
      ],
      "metadata": {
        "id": "xXpfosoR2a48"
      },
      "execution_count": 27,
      "outputs": []
    },
    {
      "cell_type": "code",
      "source": [
        "# Calculate baseline reults\n",
        "baseline_results = calculate_results(y_true=val_labels_encoded,\n",
        "                                     y_pred=baseline_preds)\n",
        "baseline_results"
      ],
      "metadata": {
        "colab": {
          "base_uri": "https://localhost:8080/"
        },
        "id": "CUNCPuxh4LF8",
        "outputId": "5561f525-6808-4b87-ccc6-d3844f823f24"
      },
      "execution_count": 28,
      "outputs": [
        {
          "output_type": "execute_result",
          "data": {
            "text/plain": [
              "{'accuracy': 72.1832384482987,\n",
              " 'precision': 0.7186466952323352,\n",
              " 'recall': 0.7218323844829869,\n",
              " 'f1': 0.6989250353450294}"
            ]
          },
          "metadata": {},
          "execution_count": 28
        }
      ]
    },
    {
      "cell_type": "markdown",
      "source": [
        "## Preparing our data (the text) for deep sequence models\n",
        "\n",
        "Before we start building deeper models,we've got to create vectorization and embedding layers."
      ],
      "metadata": {
        "id": "ZQlMHFfB4qYE"
      }
    },
    {
      "cell_type": "code",
      "source": [
        "import numpy as np\n",
        "import tensorflow as tf\n",
        "from tensorflow.keras import layers"
      ],
      "metadata": {
        "id": "8MIlnqbwBgDt"
      },
      "execution_count": 30,
      "outputs": []
    },
    {
      "cell_type": "code",
      "source": [
        "train_sentences[:10]"
      ],
      "metadata": {
        "colab": {
          "base_uri": "https://localhost:8080/"
        },
        "id": "d4v1obI8B5eo",
        "outputId": "11179686-812b-4eea-f99e-4d828a572cf5"
      },
      "execution_count": 31,
      "outputs": [
        {
          "output_type": "execute_result",
          "data": {
            "text/plain": [
              "['to investigate the efficacy of @ weeks of daily low-dose oral prednisolone in improving pain , mobility , and systemic low-grade inflammation in the short term and whether the effect would be sustained at @ weeks in older adults with moderate to severe knee osteoarthritis ( oa ) .',\n",
              " 'a total of @ patients with primary knee oa were randomized @:@ ; @ received @ mg/day of prednisolone and @ received placebo for @ weeks .',\n",
              " 'outcome measures included pain reduction and improvement in function scores and systemic inflammation markers .',\n",
              " 'pain was assessed using the visual analog pain scale ( @-@ mm ) .',\n",
              " 'secondary outcome measures included the western ontario and mcmaster universities osteoarthritis index scores , patient global assessment ( pga ) of the severity of knee oa , and @-min walk distance ( @mwd ) .',\n",
              " 'serum levels of interleukin @ ( il-@ ) , il-@ , tumor necrosis factor ( tnf ) - , and high-sensitivity c-reactive protein ( hscrp ) were measured .',\n",
              " 'there was a clinically relevant reduction in the intervention group compared to the placebo group for knee pain , physical function , pga , and @mwd at @ weeks .',\n",
              " 'the mean difference between treatment arms ( @ % ci ) was @ ( @-@ @ ) , p < @ ; @ ( @-@ @ ) , p < @ ; @ ( @-@ @ ) , p < @ ; and @ ( @-@ @ ) , p < @ , respectively .',\n",
              " 'further , there was a clinically relevant reduction in the serum levels of il-@ , il-@ , tnf - , and hscrp at @ weeks in the intervention group when compared to the placebo group .',\n",
              " 'these differences remained significant at @ weeks .']"
            ]
          },
          "metadata": {},
          "execution_count": 31
        }
      ]
    },
    {
      "cell_type": "code",
      "source": [
        "# How long is each sentence on average?\n",
        "sent_lens = [len(sentence.split()) for sentence in train_sentences]\n",
        "avg_sent_len = np.mean(sent_lens)\n",
        "avg_sent_len"
      ],
      "metadata": {
        "colab": {
          "base_uri": "https://localhost:8080/"
        },
        "id": "_D9RBlc2Bsok",
        "outputId": "206c24bf-4e9a-4bbc-fb06-d2741f6c256a"
      },
      "execution_count": 32,
      "outputs": [
        {
          "output_type": "execute_result",
          "data": {
            "text/plain": [
              "26.338269273494777"
            ]
          },
          "metadata": {},
          "execution_count": 32
        }
      ]
    },
    {
      "cell_type": "code",
      "source": [
        "# Whats the distrubution look like?\n",
        "import matplotlib.pyplot as plt\n",
        "plt.hist(sent_lens, bins=20)"
      ],
      "metadata": {
        "colab": {
          "base_uri": "https://localhost:8080/",
          "height": 569
        },
        "id": "61Rb0VTNCljo",
        "outputId": "394ba6cd-45c5-452b-ed90-9905876193d7"
      },
      "execution_count": 34,
      "outputs": [
        {
          "output_type": "execute_result",
          "data": {
            "text/plain": [
              "(array([4.2075e+04, 8.3771e+04, 3.6877e+04, 1.0945e+04, 3.9310e+03,\n",
              "        1.4450e+03, 5.6000e+02, 2.2600e+02, 1.0100e+02, 4.5000e+01,\n",
              "        2.0000e+01, 1.2000e+01, 9.0000e+00, 1.0000e+01, 6.0000e+00,\n",
              "        2.0000e+00, 3.0000e+00, 0.0000e+00, 1.0000e+00, 1.0000e+00]),\n",
              " array([  1.  ,  15.75,  30.5 ,  45.25,  60.  ,  74.75,  89.5 , 104.25,\n",
              "        119.  , 133.75, 148.5 , 163.25, 178.  , 192.75, 207.5 , 222.25,\n",
              "        237.  , 251.75, 266.5 , 281.25, 296.  ]),\n",
              " <BarContainer object of 20 artists>)"
            ]
          },
          "metadata": {},
          "execution_count": 34
        },
        {
          "output_type": "display_data",
          "data": {
            "text/plain": [
              "<Figure size 640x480 with 1 Axes>"
            ],
            "image/png": "[encoded data removed]"
          },
          "metadata": {}
        }
      ]
    },
    {
      "cell_type": "code",
      "source": [
        "# How long of a sentence lenght covers 95% of examples?\n",
        "output_seq_len = int(np.percentile(sent_lens, 95))\n",
        "output_seq_len"
      ],
      "metadata": {
        "colab": {
          "base_uri": "https://localhost:8080/"
        },
        "id": "5ETYxP7XC_DE",
        "outputId": "367fa5e1-4b14-4a98-b37b-82fc8f39b802"
      },
      "execution_count": 35,
      "outputs": [
        {
          "output_type": "execute_result",
          "data": {
            "text/plain": [
              "55"
            ]
          },
          "metadata": {},
          "execution_count": 35
        }
      ]
    },
    {
      "cell_type": "code",
      "source": [
        "# Maximum sequence length in the training set\n",
        "max(sent_lens)"
      ],
      "metadata": {
        "colab": {
          "base_uri": "https://localhost:8080/"
        },
        "id": "OlON0fqFD4Wj",
        "outputId": "c9d23ba6-525c-4747-d760-a338496562cd"
      },
      "execution_count": 36,
      "outputs": [
        {
          "output_type": "execute_result",
          "data": {
            "text/plain": [
              "296"
            ]
          },
          "metadata": {},
          "execution_count": 36
        }
      ]
    },
    {
      "cell_type": "markdown",
      "source": [
        "### Creating text vectorizer layer\n",
        "\n",
        "We want to make a layer wich maps our texts from words to numbers."
      ],
      "metadata": {
        "id": "1FkHtX-dEN5S"
      }
    },
    {
      "cell_type": "markdown",
      "source": [],
      "metadata": {
        "id": "hjA4TIWFKNlB"
      }
    },
    {
      "cell_type": "code",
      "source": [
        "# How many words are in our vocabulay?\n",
        "max_tokens = 68000"
      ],
      "metadata": {
        "id": "zQ5i-nPZK5gx"
      },
      "execution_count": 37,
      "outputs": []
    },
    {
      "cell_type": "code",
      "source": [
        "# Create text vectorizer\n",
        "from tensorflow.keras.layers import TextVectorization\n",
        "\n",
        "text_vectorizer = TextVectorization(max_tokens, # number of words in vocabulary\n",
        "                                    output_sequence_length=output_seq_len) # desired output length of vectorized sequences"
      ],
      "metadata": {
        "id": "ylo7HxaVLhV5"
      },
      "execution_count": 41,
      "outputs": []
    },
    {
      "cell_type": "code",
      "source": [
        "# Adapt text vectorizer to trainig sentences\n",
        "text_vectorizer.adapt(train_sentences)"
      ],
      "metadata": {
        "id": "5KfkUBtTM-KX"
      },
      "execution_count": 42,
      "outputs": []
    },
    {
      "cell_type": "code",
      "source": [
        "# Test out text vectorizer on random sentences\n",
        "import random\n",
        "target_sentence = random.choice(train_sentences)\n",
        "print(f\"Text:\\n{target_sentence}\")\n",
        "print(f\"\\nLength of text: {len(target_sentence.split())}\")\n",
        "print(f\"\\nVectorized text: {text_vectorizer([target_sentence])}\")"
      ],
      "metadata": {
        "colab": {
          "base_uri": "https://localhost:8080/"
        },
        "id": "X6sZBspxNO5C",
        "outputId": "0f39864a-6d3f-494d-dd0a-baa628df2536"
      },
      "execution_count": 45,
      "outputs": [
        {
          "output_type": "stream",
          "name": "stdout",
          "text": [
            "Text:\n",
            "this is a demonstration project to be developed through a facility-based cluster randomized controlled trial with a stepped wedge design .\n",
            "\n",
            "Length of text: 21\n",
            "\n",
            "Vectorized text: [[   23    20     8  6109  2303     6    36   481   313     8 14048  1023\n",
            "     29   106    32     7     8  4808  4453   372     0     0     0     0\n",
            "      0     0     0     0     0     0     0     0     0     0     0     0\n",
            "      0     0     0     0     0     0     0     0     0     0     0     0\n",
            "      0     0     0     0     0     0     0]]\n"
          ]
        }
      ]
    },
    {
      "cell_type": "code",
      "source": [
        "# How many words in our training vocabulary?\n",
        "rct_20k_text_vocab = text_vectorizer.get_vocabulary()\n",
        "print(f\"Number of words in vocab: {len(rct_20k_text_vocab)}\")\n",
        "print(f\"Most common words in the vocab: {rct_20k_text_vocab[:5]}\")\n",
        "print(f\"Least common words in the vocab: {rct_20k_text_vocab[-5:]}\")"
      ],
      "metadata": {
        "colab": {
          "base_uri": "https://localhost:8080/"
        },
        "id": "6D2faOOlOdSd",
        "outputId": "76084b22-9c53-4de0-c6b8-a8219cb4af2d"
      },
      "execution_count": 46,
      "outputs": [
        {
          "output_type": "stream",
          "name": "stdout",
          "text": [
            "Number of words in vocab: 64841\n",
            "Most common words in the vocab: ['', '[UNK]', 'the', 'and', 'of']\n",
            "Least common words in the vocab: ['aainduced', 'aaigroup', 'aachener', 'aachen', 'aaacp']\n"
          ]
        }
      ]
    },
    {
      "cell_type": "code",
      "source": [
        "# Get the config of our text vectorizer\n",
        "text_vectorizer.get_config()"
      ],
      "metadata": {
        "colab": {
          "base_uri": "https://localhost:8080/"
        },
        "id": "H_pmOW_JQCO4",
        "outputId": "f1f1b99d-11eb-4911-9c0c-db73941eca73"
      },
      "execution_count": 47,
      "outputs": [
        {
          "output_type": "execute_result",
          "data": {
            "text/plain": [
              "{'name': 'text_vectorization',\n",
              " 'trainable': True,\n",
              " 'dtype': 'string',\n",
              " 'batch_input_shape': (None,),\n",
              " 'max_tokens': 68000,\n",
              " 'standardize': 'lower_and_strip_punctuation',\n",
              " 'split': 'whitespace',\n",
              " 'ngrams': None,\n",
              " 'output_mode': 'int',\n",
              " 'output_sequence_length': 55,\n",
              " 'pad_to_max_tokens': False,\n",
              " 'sparse': False,\n",
              " 'ragged': False,\n",
              " 'vocabulary': None,\n",
              " 'idf_weights': None,\n",
              " 'encoding': 'utf-8',\n",
              " 'vocabulary_size': 64841}"
            ]
          },
          "metadata": {},
          "execution_count": 47
        }
      ]
    }
  ],
  "metadata": {
    "accelerator": "GPU",
    "colab": {
      "gpuType": "T4",
      "machine_shape": "hm",
      "provenance": [],
      "authorship_tag": "ABX9TyOBRAYPjEDR3KyLRg562XWd"
    },
    "kernelspec": {
      "display_name": "Python 3",
      "name": "python3"
    },
    "language_info": {
      "name": "python"
    }
  },
  "nbformat": 4,
  "nbformat_minor": 0
}