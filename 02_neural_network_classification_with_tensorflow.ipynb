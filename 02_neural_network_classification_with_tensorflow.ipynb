{
  "nbformat": 4,
  "nbformat_minor": 0,
  "metadata": {
    "colab": {
      "name": "02_neural_network_classification_with_tensorflow.ipynb",
      "provenance": [],
      "collapsed_sections": [],
      "authorship_tag": "ABX9TyNPPuGFN0GB+6+nUoWhUteB"
    },
    "kernelspec": {
      "name": "python3",
      "display_name": "Python 3"
    },
    "language_info": {
      "name": "python"
    }
  },
  "cells": [
    {
      "cell_type": "markdown",
      "source": [
        "# Introduction to neural network classification with TensorFlow\n",
        "\n",
        "A classification is where you try yo classify something as on thing or another.\n",
        "\n",
        "A few types of classification problems:\n",
        "\n",
        "* Binary classification\n",
        "* Multiclass classification\n",
        "* Multilabel classification"
      ],
      "metadata": {
        "id": "KGythZba1ZJS"
      }
    },
    {
      "cell_type": "markdown",
      "source": [
        "## Creating data to view and fit"
      ],
      "metadata": {
        "id": "gPHn8etm2P2P"
      }
    },
    {
      "cell_type": "code",
      "source": [
        "from sklearn.datasets import make_circles\n",
        "\n",
        "# Make 1000 examples\n",
        "n_samples = 10000\n",
        "\n",
        "# Create circles\n",
        "X, y = make_circles(n_samples, \n",
        "                    noise=0.03,\n",
        "                    random_state=42)"
      ],
      "metadata": {
        "id": "lYGEl5We2VlY"
      },
      "execution_count": 1,
      "outputs": []
    },
    {
      "cell_type": "code",
      "source": [
        "# Check the features\n",
        "X"
      ],
      "metadata": {
        "colab": {
          "base_uri": "https://localhost:8080/"
        },
        "id": "wwtHWLey3NYf",
        "outputId": "68ee9a56-abe3-427e-bef7-0598ecdc9662"
      },
      "execution_count": 2,
      "outputs": [
        {
          "output_type": "execute_result",
          "data": {
            "text/plain": [
              "array([[ 0.0464692 ,  0.82477834],\n",
              "       [ 1.00506323, -0.43335153],\n",
              "       [-0.58348442,  0.79452834],\n",
              "       ...,\n",
              "       [ 0.6854581 ,  0.37297955],\n",
              "       [ 0.47440334,  0.88491997],\n",
              "       [-0.67440999,  0.26094865]])"
            ]
          },
          "metadata": {},
          "execution_count": 2
        }
      ]
    },
    {
      "cell_type": "code",
      "source": [
        "# Check the labels\n",
        "y"
      ],
      "metadata": {
        "colab": {
          "base_uri": "https://localhost:8080/"
        },
        "id": "L5cqMJSq3Te9",
        "outputId": "163620f5-a470-414a-835f-e77238c5e6e9"
      },
      "execution_count": 3,
      "outputs": [
        {
          "output_type": "execute_result",
          "data": {
            "text/plain": [
              "array([1, 0, 0, ..., 1, 0, 1])"
            ]
          },
          "metadata": {},
          "execution_count": 3
        }
      ]
    },
    {
      "cell_type": "markdown",
      "source": [
        "The data is a little hard to understand right now... let´s visualize it."
      ],
      "metadata": {
        "id": "zPbwAHsK3xtx"
      }
    },
    {
      "cell_type": "code",
      "source": [
        "import pandas as pd\n",
        "circles = pd.DataFrame({\"X0\":X[:, 0], \"X1\":X[:, 1], \"label\":y})\n",
        "circles"
      ],
      "metadata": {
        "colab": {
          "base_uri": "https://localhost:8080/",
          "height": 424
        },
        "id": "5mrzonXt3q8O",
        "outputId": "a08280a6-bf06-4be1-b39a-25c5d8ad1584"
      },
      "execution_count": 4,
      "outputs": [
        {
          "output_type": "execute_result",
          "data": {
            "text/plain": [
              "            X0        X1  label\n",
              "0     0.046469  0.824778      1\n",
              "1     1.005063 -0.433352      0\n",
              "2    -0.583484  0.794528      0\n",
              "3     0.984783 -0.325179      0\n",
              "4     0.829930 -0.547223      0\n",
              "...        ...       ...    ...\n",
              "9995  0.505764  0.662722      1\n",
              "9996  0.790650  0.218306      1\n",
              "9997  0.685458  0.372980      1\n",
              "9998  0.474403  0.884920      0\n",
              "9999 -0.674410  0.260949      1\n",
              "\n",
              "[10000 rows x 3 columns]"
            ],
            "text/html": [
              "\n",
              "  <div id=\"df-43a003ee-777b-4c39-8ea4-6e0b6edb68b1\">\n",
              "    <div class=\"colab-df-container\">\n",
              "      <div>\n",
              "<style scoped>\n",
              "    .dataframe tbody tr th:only-of-type {\n",
              "        vertical-align: middle;\n",
              "    }\n",
              "\n",
              "    .dataframe tbody tr th {\n",
              "        vertical-align: top;\n",
              "    }\n",
              "\n",
              "    .dataframe thead th {\n",
              "        text-align: right;\n",
              "    }\n",
              "</style>\n",
              "<table border=\"1\" class=\"dataframe\">\n",
              "  <thead>\n",
              "    <tr style=\"text-align: right;\">\n",
              "      <th></th>\n",
              "      <th>X0</th>\n",
              "      <th>X1</th>\n",
              "      <th>label</th>\n",
              "    </tr>\n",
              "  </thead>\n",
              "  <tbody>\n",
              "    <tr>\n",
              "      <th>0</th>\n",
              "      <td>0.046469</td>\n",
              "      <td>0.824778</td>\n",
              "      <td>1</td>\n",
              "    </tr>\n",
              "    <tr>\n",
              "      <th>1</th>\n",
              "      <td>1.005063</td>\n",
              "      <td>-0.433352</td>\n",
              "      <td>0</td>\n",
              "    </tr>\n",
              "    <tr>\n",
              "      <th>2</th>\n",
              "      <td>-0.583484</td>\n",
              "      <td>0.794528</td>\n",
              "      <td>0</td>\n",
              "    </tr>\n",
              "    <tr>\n",
              "      <th>3</th>\n",
              "      <td>0.984783</td>\n",
              "      <td>-0.325179</td>\n",
              "      <td>0</td>\n",
              "    </tr>\n",
              "    <tr>\n",
              "      <th>4</th>\n",
              "      <td>0.829930</td>\n",
              "      <td>-0.547223</td>\n",
              "      <td>0</td>\n",
              "    </tr>\n",
              "    <tr>\n",
              "      <th>...</th>\n",
              "      <td>...</td>\n",
              "      <td>...</td>\n",
              "      <td>...</td>\n",
              "    </tr>\n",
              "    <tr>\n",
              "      <th>9995</th>\n",
              "      <td>0.505764</td>\n",
              "      <td>0.662722</td>\n",
              "      <td>1</td>\n",
              "    </tr>\n",
              "    <tr>\n",
              "      <th>9996</th>\n",
              "      <td>0.790650</td>\n",
              "      <td>0.218306</td>\n",
              "      <td>1</td>\n",
              "    </tr>\n",
              "    <tr>\n",
              "      <th>9997</th>\n",
              "      <td>0.685458</td>\n",
              "      <td>0.372980</td>\n",
              "      <td>1</td>\n",
              "    </tr>\n",
              "    <tr>\n",
              "      <th>9998</th>\n",
              "      <td>0.474403</td>\n",
              "      <td>0.884920</td>\n",
              "      <td>0</td>\n",
              "    </tr>\n",
              "    <tr>\n",
              "      <th>9999</th>\n",
              "      <td>-0.674410</td>\n",
              "      <td>0.260949</td>\n",
              "      <td>1</td>\n",
              "    </tr>\n",
              "  </tbody>\n",
              "</table>\n",
              "<p>10000 rows × 3 columns</p>\n",
              "</div>\n",
              "      <button class=\"colab-df-convert\" onclick=\"convertToInteractive('df-43a003ee-777b-4c39-8ea4-6e0b6edb68b1')\"\n",
              "              title=\"Convert this dataframe to an interactive table.\"\n",
              "              style=\"display:none;\">\n",
              "        \n",
              "  <svg xmlns=\"http://www.w3.org/2000/svg\" height=\"24px\"viewBox=\"0 0 24 24\"\n",
              "       width=\"24px\">\n",
              "    <path d=\"M0 0h24v24H0V0z\" fill=\"none\"/>\n",
              "    <path d=\"M18.56 5.44l.94 2.06.94-2.06 2.06-.94-2.06-.94-.94-2.06-.94 2.06-2.06.94zm-11 1L8.5 8.5l.94-2.06 2.06-.94-2.06-.94L8.5 2.5l-.94 2.06-2.06.94zm10 10l.94 2.06.94-2.06 2.06-.94-2.06-.94-.94-2.06-.94 2.06-2.06.94z\"/><path d=\"M17.41 7.96l-1.37-1.37c-.4-.4-.92-.59-1.43-.59-.52 0-1.04.2-1.43.59L10.3 9.45l-7.72 7.72c-.78.78-.78 2.05 0 2.83L4 21.41c.39.39.9.59 1.41.59.51 0 1.02-.2 1.41-.59l7.78-7.78 2.81-2.81c.8-.78.8-2.07 0-2.86zM5.41 20L4 18.59l7.72-7.72 1.47 1.35L5.41 20z\"/>\n",
              "  </svg>\n",
              "      </button>\n",
              "      \n",
              "  <style>\n",
              "    .colab-df-container {\n",
              "      display:flex;\n",
              "      flex-wrap:wrap;\n",
              "      gap: 12px;\n",
              "    }\n",
              "\n",
              "    .colab-df-convert {\n",
              "      background-color: #E8F0FE;\n",
              "      border: none;\n",
              "      border-radius: 50%;\n",
              "      cursor: pointer;\n",
              "      display: none;\n",
              "      fill: #1967D2;\n",
              "      height: 32px;\n",
              "      padding: 0 0 0 0;\n",
              "      width: 32px;\n",
              "    }\n",
              "\n",
              "    .colab-df-convert:hover {\n",
              "      background-color: #E2EBFA;\n",
              "      box-shadow: 0px 1px 2px rgba(60, 64, 67, 0.3), 0px 1px 3px 1px rgba(60, 64, 67, 0.15);\n",
              "      fill: #174EA6;\n",
              "    }\n",
              "\n",
              "    [theme=dark] .colab-df-convert {\n",
              "      background-color: #3B4455;\n",
              "      fill: #D2E3FC;\n",
              "    }\n",
              "\n",
              "    [theme=dark] .colab-df-convert:hover {\n",
              "      background-color: #434B5C;\n",
              "      box-shadow: 0px 1px 3px 1px rgba(0, 0, 0, 0.15);\n",
              "      filter: drop-shadow(0px 1px 2px rgba(0, 0, 0, 0.3));\n",
              "      fill: #FFFFFF;\n",
              "    }\n",
              "  </style>\n",
              "\n",
              "      <script>\n",
              "        const buttonEl =\n",
              "          document.querySelector('#df-43a003ee-777b-4c39-8ea4-6e0b6edb68b1 button.colab-df-convert');\n",
              "        buttonEl.style.display =\n",
              "          google.colab.kernel.accessAllowed ? 'block' : 'none';\n",
              "\n",
              "        async function convertToInteractive(key) {\n",
              "          const element = document.querySelector('#df-43a003ee-777b-4c39-8ea4-6e0b6edb68b1');\n",
              "          const dataTable =\n",
              "            await google.colab.kernel.invokeFunction('convertToInteractive',\n",
              "                                                     [key], {});\n",
              "          if (!dataTable) return;\n",
              "\n",
              "          const docLinkHtml = 'Like what you see? Visit the ' +\n",
              "            '<a target=\"_blank\" href=https://colab.research.google.com/notebooks/data_table.ipynb>data table notebook</a>'\n",
              "            + ' to learn more about interactive tables.';\n",
              "          element.innerHTML = '';\n",
              "          dataTable['output_type'] = 'display_data';\n",
              "          await google.colab.output.renderOutput(dataTable, element);\n",
              "          const docLink = document.createElement('div');\n",
              "          docLink.innerHTML = docLinkHtml;\n",
              "          element.appendChild(docLink);\n",
              "        }\n",
              "      </script>\n",
              "    </div>\n",
              "  </div>\n",
              "  "
            ]
          },
          "metadata": {},
          "execution_count": 4
        }
      ]
    },
    {
      "cell_type": "code",
      "source": [
        "# Visualize with a plot\n",
        "import matplotlib.pyplot as plt\n",
        "plt.scatter(X[:, 0], X[:, 1], c=y, cmap=plt.cm.RdYlBu)"
      ],
      "metadata": {
        "colab": {
          "base_uri": "https://localhost:8080/",
          "height": 283
        },
        "id": "WlBKacPt4lWd",
        "outputId": "41400ea3-8100-47b0-f2dd-47d178557ce2"
      },
      "execution_count": 5,
      "outputs": [
        {
          "output_type": "execute_result",
          "data": {
            "text/plain": [
              "<matplotlib.collections.PathCollection at 0x7fae7284f650>"
            ]
          },
          "metadata": {},
          "execution_count": 5
        },
        {
          "output_type": "display_data",
          "data": {
            "text/plain": [
              "<Figure size 432x288 with 1 Axes>"
            ],
            "image/png": "[encoded data removed]"
          },
          "metadata": {
            "needs_background": "light"
          }
        }
      ]
    },
    {
      "cell_type": "markdown",
      "source": [
        "## Input and output shapes"
      ],
      "metadata": {
        "id": "dqSFxSvs5Mck"
      }
    },
    {
      "cell_type": "code",
      "source": [
        "# Check the shape of our features and labels\n",
        "X.shape, y.shape"
      ],
      "metadata": {
        "colab": {
          "base_uri": "https://localhost:8080/"
        },
        "id": "WoSkxBX0nNO9",
        "outputId": "0101061e-9629-4886-c99b-a5ab82ba0272"
      },
      "execution_count": 6,
      "outputs": [
        {
          "output_type": "execute_result",
          "data": {
            "text/plain": [
              "((10000, 2), (10000,))"
            ]
          },
          "metadata": {},
          "execution_count": 6
        }
      ]
    },
    {
      "cell_type": "code",
      "source": [
        "X[:10], y[:10]"
      ],
      "metadata": {
        "colab": {
          "base_uri": "https://localhost:8080/"
        },
        "id": "16wtKBnLnWTa",
        "outputId": "3db69036-8d55-4161-84fd-1b494117aac0"
      },
      "execution_count": 7,
      "outputs": [
        {
          "output_type": "execute_result",
          "data": {
            "text/plain": [
              "(array([[ 0.0464692 ,  0.82477834],\n",
              "        [ 1.00506323, -0.43335153],\n",
              "        [-0.58348442,  0.79452834],\n",
              "        [ 0.98478298, -0.32517879],\n",
              "        [ 0.82993028, -0.54722305],\n",
              "        [-0.13392877,  0.77624858],\n",
              "        [ 0.77919743,  0.64581132],\n",
              "        [ 0.72295477,  0.17383084],\n",
              "        [-0.12180665,  0.79695076],\n",
              "        [ 0.84952936,  0.50567829]]), array([1, 0, 0, 0, 0, 1, 0, 1, 1, 0]))"
            ]
          },
          "metadata": {},
          "execution_count": 7
        }
      ]
    },
    {
      "cell_type": "code",
      "source": [
        "# How many samples we're working with\n",
        "len(X), len(y)"
      ],
      "metadata": {
        "colab": {
          "base_uri": "https://localhost:8080/"
        },
        "id": "KViBC56en3tm",
        "outputId": "7129e938-f2b2-4a3d-d74f-9b3726ef4f3f"
      },
      "execution_count": 8,
      "outputs": [
        {
          "output_type": "execute_result",
          "data": {
            "text/plain": [
              "(10000, 10000)"
            ]
          },
          "metadata": {},
          "execution_count": 8
        }
      ]
    },
    {
      "cell_type": "code",
      "source": [
        "# View the first example of features and labels\n",
        "X[10], y[10]"
      ],
      "metadata": {
        "colab": {
          "base_uri": "https://localhost:8080/"
        },
        "id": "MpcovOF_oFZf",
        "outputId": "c11f9a69-97c3-4c87-db26-374b17a5571e"
      },
      "execution_count": 9,
      "outputs": [
        {
          "output_type": "execute_result",
          "data": {
            "text/plain": [
              "(array([-0.92287711, -0.31288882]), 0)"
            ]
          },
          "metadata": {},
          "execution_count": 9
        }
      ]
    },
    {
      "cell_type": "markdown",
      "source": [
        "## Steps in modelling\n",
        "First try"
      ],
      "metadata": {
        "id": "F9Np29oorHlB"
      }
    },
    {
      "cell_type": "code",
      "source": [
        "# Create training and test sets\n",
        "from sklearn.model_selection import train_test_split\n",
        "X_train, X_test, y_train, y_test = train_test_split(X,\n",
        "                                                    y,\n",
        "                                                    test_size=0.2,\n",
        "                                                    random_state=42\n",
        ")\n",
        "len(X), len(X_train), len(X_test)"
      ],
      "metadata": {
        "colab": {
          "base_uri": "https://localhost:8080/"
        },
        "id": "WTp793swyCVo",
        "outputId": "cb6456eb-3f13-4354-a5d8-a1dd29551b7f"
      },
      "execution_count": 10,
      "outputs": [
        {
          "output_type": "execute_result",
          "data": {
            "text/plain": [
              "(10000, 8000, 2000)"
            ]
          },
          "metadata": {},
          "execution_count": 10
        }
      ]
    },
    {
      "cell_type": "code",
      "source": [
        "import tensorflow as tf\n",
        "\n",
        "# Build a neural network to fit the data\n",
        "tf.random.set_seed(42)\n",
        "\n",
        "# 1. Create a model\n",
        "callback = tf.keras.callbacks.EarlyStopping(monitor=\"accuracy\", mode=\"min\", patience=10)\n",
        "first_model = tf.keras.Sequential([\n",
        "  tf.keras.Input(shape = 2),\n",
        "  tf.keras.layers.Dense(100, activation = \"relu\"),\n",
        "  #tf.keras.layers.Dense(100),\n",
        "  #tf.keras.layers.Dense(100),\n",
        "  tf.keras.layers.Dense(1, activation=\"sigmoid\"),\n",
        "])\n",
        "\n",
        "# 2. Compile the model\n",
        "first_model.compile(loss=tf.keras.losses.BinaryCrossentropy(),\n",
        "              optimizer=tf.keras.optimizers.Adam(learning_rate=3e-4),\n",
        "              metrics=[\"accuracy\"])\n",
        "\n",
        "# 3. Fit the model\n",
        "history = first_model.fit(X_train, y_train, \n",
        "                          #X, y,\n",
        "                          epochs=10000, callbacks=[callback])\n",
        "\n",
        "# 4. Evaluate the model\n",
        "first_model.evaluate(X_test, y_test)"
      ],
      "metadata": {
        "colab": {
          "base_uri": "https://localhost:8080/"
        },
        "id": "gtd7voOPrMgc",
        "outputId": "029fd02a-a9dc-419d-8e7e-d31d790bcb1a"
      },
      "execution_count": 11,
      "outputs": [
        {
          "output_type": "stream",
          "name": "stdout",
          "text": [
            "Epoch 1/10000\n",
            "250/250 [==============================] - 2s 3ms/step - loss: 0.6949 - accuracy: 0.4976\n",
            "Epoch 2/10000\n",
            "250/250 [==============================] - 1s 3ms/step - loss: 0.6863 - accuracy: 0.4974\n",
            "Epoch 3/10000\n",
            "250/250 [==============================] - 1s 3ms/step - loss: 0.6789 - accuracy: 0.5045\n",
            "Epoch 4/10000\n",
            "250/250 [==============================] - 1s 3ms/step - loss: 0.6699 - accuracy: 0.5665\n",
            "Epoch 5/10000\n",
            "250/250 [==============================] - 1s 3ms/step - loss: 0.6591 - accuracy: 0.7505\n",
            "Epoch 6/10000\n",
            "250/250 [==============================] - 1s 3ms/step - loss: 0.6468 - accuracy: 0.8911\n",
            "Epoch 7/10000\n",
            "250/250 [==============================] - 1s 4ms/step - loss: 0.6333 - accuracy: 0.9345\n",
            "Epoch 8/10000\n",
            "250/250 [==============================] - 1s 3ms/step - loss: 0.6191 - accuracy: 0.9621\n",
            "Epoch 9/10000\n",
            "250/250 [==============================] - 1s 3ms/step - loss: 0.6037 - accuracy: 0.9799\n",
            "Epoch 10/10000\n",
            "250/250 [==============================] - 1s 3ms/step - loss: 0.5880 - accuracy: 0.9876\n",
            "Epoch 11/10000\n",
            "250/250 [==============================] - 1s 4ms/step - loss: 0.5712 - accuracy: 0.9916\n",
            "Epoch 12/10000\n",
            "250/250 [==============================] - 1s 3ms/step - loss: 0.5539 - accuracy: 0.9939\n",
            "63/63 [==============================] - 0s 3ms/step - loss: 0.5448 - accuracy: 0.9990\n"
          ]
        },
        {
          "output_type": "execute_result",
          "data": {
            "text/plain": [
              "[0.5448473691940308, 0.9990000128746033]"
            ]
          },
          "metadata": {},
          "execution_count": 11
        }
      ]
    },
    {
      "cell_type": "code",
      "source": [
        "# Plot history\n",
        "import pandas as pd\n",
        "pd.DataFrame(history.history).plot()\n",
        "plt.ylabel(\"loss\")\n",
        "plt.xlabel(\"epochs\")"
      ],
      "metadata": {
        "colab": {
          "base_uri": "https://localhost:8080/",
          "height": 297
        },
        "id": "IvXhqRqSxS8z",
        "outputId": "3e2ca98b-f7e9-43b5-fb07-50d2657c524b"
      },
      "execution_count": 12,
      "outputs": [
        {
          "output_type": "execute_result",
          "data": {
            "text/plain": [
              "Text(0.5, 0, 'epochs')"
            ]
          },
          "metadata": {},
          "execution_count": 12
        },
        {
          "output_type": "display_data",
          "data": {
            "text/plain": [
              "<Figure size 432x288 with 1 Axes>"
            ],
            "image/png": "[encoded data removed]"
          },
          "metadata": {
            "needs_background": "light"
          }
        }
      ]
    },
    {
      "cell_type": "code",
      "source": [
        "# Save the model\n",
        "first_model.save(\"binary_classification_model.h5\")"
      ],
      "metadata": {
        "id": "qJDN69DX9P0-"
      },
      "execution_count": 13,
      "outputs": []
    },
    {
      "cell_type": "code",
      "source": [
        "# Download the model from Google Colab\n",
        "from google.colab import files\n",
        "files.download(\"/content/binary_classification_model.h5\")"
      ],
      "metadata": {
        "colab": {
          "base_uri": "https://localhost:8080/",
          "height": 17
        },
        "id": "QLjwrzgv96NL",
        "outputId": "d9a601f9-9568-4c62-876b-f2160560c250"
      },
      "execution_count": 14,
      "outputs": [
        {
          "output_type": "display_data",
          "data": {
            "text/plain": [
              "<IPython.core.display.Javascript object>"
            ],
            "application/javascript": [
              "\n",
              "    async function download(id, filename, size) {\n",
              "      if (!google.colab.kernel.accessAllowed) {\n",
              "        return;\n",
              "      }\n",
              "      const div = document.createElement('div');\n",
              "      const label = document.createElement('label');\n",
              "      label.textContent = `Downloading \"${filename}\": `;\n",
              "      div.appendChild(label);\n",
              "      const progress = document.createElement('progress');\n",
              "      progress.max = size;\n",
              "      div.appendChild(progress);\n",
              "      document.body.appendChild(div);\n",
              "\n",
              "      const buffers = [];\n",
              "      let downloaded = 0;\n",
              "\n",
              "      const channel = await google.colab.kernel.comms.open(id);\n",
              "      // Send a message to notify the kernel that we're ready.\n",
              "      channel.send({})\n",
              "\n",
              "      for await (const message of channel.messages) {\n",
              "        // Send a message to notify the kernel that we're ready.\n",
              "        channel.send({})\n",
              "        if (message.buffers) {\n",
              "          for (const buffer of message.buffers) {\n",
              "            buffers.push(buffer);\n",
              "            downloaded += buffer.byteLength;\n",
              "            progress.value = downloaded;\n",
              "          }\n",
              "        }\n",
              "      }\n",
              "      const blob = new Blob(buffers, {type: 'application/binary'});\n",
              "      const a = document.createElement('a');\n",
              "      a.href = window.URL.createObjectURL(blob);\n",
              "      a.download = filename;\n",
              "      div.appendChild(a);\n",
              "      a.click();\n",
              "      div.remove();\n",
              "    }\n",
              "  "
            ]
          },
          "metadata": {}
        },
        {
          "output_type": "display_data",
          "data": {
            "text/plain": [
              "<IPython.core.display.Javascript object>"
            ],
            "application/javascript": [
              "download(\"download_311128e5-c903-4b70-bb4a-9da6d6d94867\", \"binary_classification_model.h5\", 30464)"
            ]
          },
          "metadata": {}
        }
      ]
    },
    {
      "cell_type": "markdown",
      "source": [
        "## Steps in modelling\n",
        "\n",
        "The steps in modelling with TensorFlow are typically:\n",
        "\n",
        "1. Create or import a model\n",
        "2. Compile the model\n",
        "3. Fit the model\n",
        "4. Evaluate the model\n",
        "5. Tweak\n",
        "6. Evaluate..."
      ],
      "metadata": {
        "id": "39hs40j22d4x"
      }
    },
    {
      "cell_type": "code",
      "source": [
        "# Set the random seed\n",
        "tf.random.set_seed(42)\n",
        "\n",
        "# 1. Create the model using the Sequential API\n",
        "model_2 = tf.keras.Sequential([\n",
        "  tf.keras.layers.Dense(1)\n",
        "])\n",
        "\n",
        "# 2. Compile the model\n",
        "model_2.compile(loss=tf.keras.losses.BinaryCrossentropy(),\n",
        "                optimizer=tf.keras.optimizers.SGD(),\n",
        "                metrics=[\"accuracy\"])\n",
        "\n",
        "# 3. Fit the model \n",
        "model_2.fit(X, y,epochs=5)"
      ],
      "metadata": {
        "colab": {
          "base_uri": "https://localhost:8080/"
        },
        "id": "ioZkgrhL2_Yx",
        "outputId": "408ae284-7ca6-4d51-f86a-6fea2bc7e3fb"
      },
      "execution_count": 15,
      "outputs": [
        {
          "output_type": "stream",
          "name": "stdout",
          "text": [
            "Epoch 1/5\n",
            "313/313 [==============================] - 2s 3ms/step - loss: 0.8730 - accuracy: 0.4962\n",
            "Epoch 2/5\n",
            "313/313 [==============================] - 1s 3ms/step - loss: 0.6938 - accuracy: 0.4964\n",
            "Epoch 3/5\n",
            "313/313 [==============================] - 1s 3ms/step - loss: 0.6939 - accuracy: 0.4960\n",
            "Epoch 4/5\n",
            "313/313 [==============================] - 1s 3ms/step - loss: 0.6938 - accuracy: 0.5015\n",
            "Epoch 5/5\n",
            "313/313 [==============================] - 1s 3ms/step - loss: 0.6938 - accuracy: 0.4997\n"
          ]
        },
        {
          "output_type": "execute_result",
          "data": {
            "text/plain": [
              "<keras.callbacks.History at 0x7fae05677350>"
            ]
          },
          "metadata": {},
          "execution_count": 15
        }
      ]
    },
    {
      "cell_type": "code",
      "source": [
        "# Lets try and improve our model by training for longer..\n",
        "model_2.fit(X, y, epochs=200)\n",
        "model_2.evaluate(X, y)"
      ],
      "metadata": {
        "colab": {
          "base_uri": "https://localhost:8080/"
        },
        "id": "XEDBDOEv5bJH",
        "outputId": "0650bf29-6a3c-49d5-a1fa-ae15b525c565"
      },
      "execution_count": 16,
      "outputs": [
        {
          "output_type": "stream",
          "name": "stdout",
          "text": [
            "Epoch 1/200\n",
            "313/313 [==============================] - 0s 1ms/step - loss: 0.6936 - accuracy: 0.4958\n",
            "Epoch 2/200\n",
            "313/313 [==============================] - 0s 1ms/step - loss: 0.6938 - accuracy: 0.4954\n",
            "Epoch 3/200\n",
            "313/313 [==============================] - 0s 1ms/step - loss: 0.6939 - accuracy: 0.4960\n",
            "Epoch 4/200\n",
            "313/313 [==============================] - 0s 1ms/step - loss: 0.6938 - accuracy: 0.5015\n",
            "Epoch 5/200\n",
            "313/313 [==============================] - 0s 1ms/step - loss: 0.6938 - accuracy: 0.4997\n",
            "Epoch 6/200\n",
            "313/313 [==============================] - 0s 1ms/step - loss: 0.6940 - accuracy: 0.4953\n",
            "Epoch 7/200\n",
            "313/313 [==============================] - 0s 1ms/step - loss: 0.6941 - accuracy: 0.4883\n",
            "Epoch 8/200\n",
            "313/313 [==============================] - 0s 1ms/step - loss: 0.6938 - accuracy: 0.4974\n",
            "Epoch 9/200\n",
            "313/313 [==============================] - 0s 1ms/step - loss: 0.6939 - accuracy: 0.4977\n",
            "Epoch 10/200\n",
            "313/313 [==============================] - 0s 1ms/step - loss: 0.6940 - accuracy: 0.4977\n",
            "Epoch 11/200\n",
            "313/313 [==============================] - 0s 1ms/step - loss: 0.6940 - accuracy: 0.4901\n",
            "Epoch 12/200\n",
            "313/313 [==============================] - 0s 1ms/step - loss: 0.6939 - accuracy: 0.5048\n",
            "Epoch 13/200\n",
            "313/313 [==============================] - 0s 1ms/step - loss: 0.6939 - accuracy: 0.4921\n",
            "Epoch 14/200\n",
            "313/313 [==============================] - 0s 1ms/step - loss: 0.6940 - accuracy: 0.4914\n",
            "Epoch 15/200\n",
            "313/313 [==============================] - 0s 1ms/step - loss: 0.6935 - accuracy: 0.5056\n",
            "Epoch 16/200\n",
            "313/313 [==============================] - 0s 1ms/step - loss: 0.6941 - accuracy: 0.4942\n",
            "Epoch 17/200\n",
            "313/313 [==============================] - 0s 1ms/step - loss: 0.6936 - accuracy: 0.4958\n",
            "Epoch 18/200\n",
            "313/313 [==============================] - 0s 1ms/step - loss: 0.6940 - accuracy: 0.4945\n",
            "Epoch 19/200\n",
            "313/313 [==============================] - 0s 1ms/step - loss: 0.6940 - accuracy: 0.4915\n",
            "Epoch 20/200\n",
            "313/313 [==============================] - 0s 1ms/step - loss: 0.6940 - accuracy: 0.4872\n",
            "Epoch 21/200\n",
            "313/313 [==============================] - 0s 1ms/step - loss: 0.6938 - accuracy: 0.5002\n",
            "Epoch 22/200\n",
            "313/313 [==============================] - 0s 1ms/step - loss: 0.6939 - accuracy: 0.4955\n",
            "Epoch 23/200\n",
            "313/313 [==============================] - 0s 1ms/step - loss: 0.6938 - accuracy: 0.5007\n",
            "Epoch 24/200\n",
            "313/313 [==============================] - 0s 1ms/step - loss: 0.6937 - accuracy: 0.5017\n",
            "Epoch 25/200\n",
            "313/313 [==============================] - 0s 1ms/step - loss: 0.6940 - accuracy: 0.4951\n",
            "Epoch 26/200\n",
            "313/313 [==============================] - 0s 1ms/step - loss: 0.6939 - accuracy: 0.4819\n",
            "Epoch 27/200\n",
            "313/313 [==============================] - 0s 1ms/step - loss: 0.6940 - accuracy: 0.4989\n",
            "Epoch 28/200\n",
            "313/313 [==============================] - 0s 1ms/step - loss: 0.6938 - accuracy: 0.5034\n",
            "Epoch 29/200\n",
            "313/313 [==============================] - 0s 1ms/step - loss: 0.6939 - accuracy: 0.4968\n",
            "Epoch 30/200\n",
            "313/313 [==============================] - 0s 1ms/step - loss: 0.6940 - accuracy: 0.4896\n",
            "Epoch 31/200\n",
            "313/313 [==============================] - 0s 1ms/step - loss: 0.6938 - accuracy: 0.4910\n",
            "Epoch 32/200\n",
            "313/313 [==============================] - 0s 1ms/step - loss: 0.6938 - accuracy: 0.4966\n",
            "Epoch 33/200\n",
            "313/313 [==============================] - 0s 1ms/step - loss: 0.6939 - accuracy: 0.4934\n",
            "Epoch 34/200\n",
            "313/313 [==============================] - 0s 1ms/step - loss: 0.6938 - accuracy: 0.4878\n",
            "Epoch 35/200\n",
            "313/313 [==============================] - 0s 1ms/step - loss: 0.6940 - accuracy: 0.4893\n",
            "Epoch 36/200\n",
            "313/313 [==============================] - 0s 1ms/step - loss: 0.6939 - accuracy: 0.4903\n",
            "Epoch 37/200\n",
            "313/313 [==============================] - 0s 1ms/step - loss: 0.6940 - accuracy: 0.4874\n",
            "Epoch 38/200\n",
            "313/313 [==============================] - 0s 1ms/step - loss: 0.6935 - accuracy: 0.5102\n",
            "Epoch 39/200\n",
            "313/313 [==============================] - 0s 1ms/step - loss: 0.6939 - accuracy: 0.4977\n",
            "Epoch 40/200\n",
            "313/313 [==============================] - 0s 1ms/step - loss: 0.6937 - accuracy: 0.4999\n",
            "Epoch 41/200\n",
            "313/313 [==============================] - 0s 1ms/step - loss: 0.6937 - accuracy: 0.4955\n",
            "Epoch 42/200\n",
            "313/313 [==============================] - 0s 1ms/step - loss: 0.6938 - accuracy: 0.4962\n",
            "Epoch 43/200\n",
            "313/313 [==============================] - 0s 1ms/step - loss: 0.6938 - accuracy: 0.4965\n",
            "Epoch 44/200\n",
            "313/313 [==============================] - 0s 1ms/step - loss: 0.6939 - accuracy: 0.4944\n",
            "Epoch 45/200\n",
            "313/313 [==============================] - 0s 1ms/step - loss: 0.6935 - accuracy: 0.5043\n",
            "Epoch 46/200\n",
            "313/313 [==============================] - 0s 1ms/step - loss: 0.6938 - accuracy: 0.4936\n",
            "Epoch 47/200\n",
            "313/313 [==============================] - 0s 1ms/step - loss: 0.6939 - accuracy: 0.4969\n",
            "Epoch 48/200\n",
            "313/313 [==============================] - 0s 1ms/step - loss: 0.6938 - accuracy: 0.4980\n",
            "Epoch 49/200\n",
            "313/313 [==============================] - 0s 1ms/step - loss: 0.6940 - accuracy: 0.4945\n",
            "Epoch 50/200\n",
            "313/313 [==============================] - 0s 1ms/step - loss: 0.6940 - accuracy: 0.4906\n",
            "Epoch 51/200\n",
            "313/313 [==============================] - 0s 1ms/step - loss: 0.6937 - accuracy: 0.4947\n",
            "Epoch 52/200\n",
            "313/313 [==============================] - 0s 1ms/step - loss: 0.6938 - accuracy: 0.4992\n",
            "Epoch 53/200\n",
            "313/313 [==============================] - 0s 1ms/step - loss: 0.6940 - accuracy: 0.4935\n",
            "Epoch 54/200\n",
            "313/313 [==============================] - 0s 1ms/step - loss: 0.6939 - accuracy: 0.4930\n",
            "Epoch 55/200\n",
            "313/313 [==============================] - 0s 1ms/step - loss: 0.6937 - accuracy: 0.5114\n",
            "Epoch 56/200\n",
            "313/313 [==============================] - 0s 1ms/step - loss: 0.6938 - accuracy: 0.4954\n",
            "Epoch 57/200\n",
            "313/313 [==============================] - 0s 1ms/step - loss: 0.6938 - accuracy: 0.4968\n",
            "Epoch 58/200\n",
            "313/313 [==============================] - 0s 1ms/step - loss: 0.6938 - accuracy: 0.4963\n",
            "Epoch 59/200\n",
            "313/313 [==============================] - 0s 1ms/step - loss: 0.6938 - accuracy: 0.5051\n",
            "Epoch 60/200\n",
            "313/313 [==============================] - 0s 1ms/step - loss: 0.6940 - accuracy: 0.4947\n",
            "Epoch 61/200\n",
            "313/313 [==============================] - 0s 1ms/step - loss: 0.6940 - accuracy: 0.4903\n",
            "Epoch 62/200\n",
            "313/313 [==============================] - 0s 1ms/step - loss: 0.6939 - accuracy: 0.4929\n",
            "Epoch 63/200\n",
            "313/313 [==============================] - 0s 1ms/step - loss: 0.6940 - accuracy: 0.4923\n",
            "Epoch 64/200\n",
            "313/313 [==============================] - 0s 1ms/step - loss: 0.6940 - accuracy: 0.4953\n",
            "Epoch 65/200\n",
            "313/313 [==============================] - 0s 1ms/step - loss: 0.6939 - accuracy: 0.4993\n",
            "Epoch 66/200\n",
            "313/313 [==============================] - 0s 1ms/step - loss: 0.6935 - accuracy: 0.5040\n",
            "Epoch 67/200\n",
            "313/313 [==============================] - 0s 1ms/step - loss: 0.6938 - accuracy: 0.4967\n",
            "Epoch 68/200\n",
            "313/313 [==============================] - 0s 1ms/step - loss: 0.6942 - accuracy: 0.4878\n",
            "Epoch 69/200\n",
            "313/313 [==============================] - 0s 1ms/step - loss: 0.6939 - accuracy: 0.4918\n",
            "Epoch 70/200\n",
            "313/313 [==============================] - 0s 1ms/step - loss: 0.6940 - accuracy: 0.4973\n",
            "Epoch 71/200\n",
            "313/313 [==============================] - 0s 1ms/step - loss: 0.6938 - accuracy: 0.4961\n",
            "Epoch 72/200\n",
            "313/313 [==============================] - 0s 1ms/step - loss: 0.6939 - accuracy: 0.5009\n",
            "Epoch 73/200\n",
            "313/313 [==============================] - 0s 1ms/step - loss: 0.6938 - accuracy: 0.4929\n",
            "Epoch 74/200\n",
            "313/313 [==============================] - 0s 1ms/step - loss: 0.6939 - accuracy: 0.4882\n",
            "Epoch 75/200\n",
            "313/313 [==============================] - 0s 1ms/step - loss: 0.6935 - accuracy: 0.5045\n",
            "Epoch 76/200\n",
            "313/313 [==============================] - 0s 1ms/step - loss: 0.6939 - accuracy: 0.4927\n",
            "Epoch 77/200\n",
            "313/313 [==============================] - 0s 1ms/step - loss: 0.6939 - accuracy: 0.4882\n",
            "Epoch 78/200\n",
            "313/313 [==============================] - 0s 1ms/step - loss: 0.6940 - accuracy: 0.4931\n",
            "Epoch 79/200\n",
            "313/313 [==============================] - 0s 1ms/step - loss: 0.6938 - accuracy: 0.4987\n",
            "Epoch 80/200\n",
            "313/313 [==============================] - 0s 1ms/step - loss: 0.6940 - accuracy: 0.4920\n",
            "Epoch 81/200\n",
            "313/313 [==============================] - 0s 1ms/step - loss: 0.6938 - accuracy: 0.4963\n",
            "Epoch 82/200\n",
            "313/313 [==============================] - 0s 1ms/step - loss: 0.6936 - accuracy: 0.4934\n",
            "Epoch 83/200\n",
            "313/313 [==============================] - 0s 1ms/step - loss: 0.6940 - accuracy: 0.4878\n",
            "Epoch 84/200\n",
            "313/313 [==============================] - 0s 1ms/step - loss: 0.6940 - accuracy: 0.4875\n",
            "Epoch 85/200\n",
            "313/313 [==============================] - 0s 1ms/step - loss: 0.6938 - accuracy: 0.4998\n",
            "Epoch 86/200\n",
            "313/313 [==============================] - 0s 1ms/step - loss: 0.6940 - accuracy: 0.4926\n",
            "Epoch 87/200\n",
            "313/313 [==============================] - 0s 1ms/step - loss: 0.6940 - accuracy: 0.5010\n",
            "Epoch 88/200\n",
            "313/313 [==============================] - 0s 1ms/step - loss: 0.6939 - accuracy: 0.4900\n",
            "Epoch 89/200\n",
            "313/313 [==============================] - 0s 1ms/step - loss: 0.6936 - accuracy: 0.5005\n",
            "Epoch 90/200\n",
            "313/313 [==============================] - 0s 1ms/step - loss: 0.6937 - accuracy: 0.5016\n",
            "Epoch 91/200\n",
            "313/313 [==============================] - 0s 1ms/step - loss: 0.6939 - accuracy: 0.4964\n",
            "Epoch 92/200\n",
            "313/313 [==============================] - 0s 1ms/step - loss: 0.6939 - accuracy: 0.4907\n",
            "Epoch 93/200\n",
            "313/313 [==============================] - 0s 1ms/step - loss: 0.6940 - accuracy: 0.5004\n",
            "Epoch 94/200\n",
            "313/313 [==============================] - 0s 1ms/step - loss: 0.6939 - accuracy: 0.4977\n",
            "Epoch 95/200\n",
            "313/313 [==============================] - 0s 1ms/step - loss: 0.6941 - accuracy: 0.4912\n",
            "Epoch 96/200\n",
            "313/313 [==============================] - 0s 1ms/step - loss: 0.6938 - accuracy: 0.4979\n",
            "Epoch 97/200\n",
            "313/313 [==============================] - 0s 1ms/step - loss: 0.6937 - accuracy: 0.5001\n",
            "Epoch 98/200\n",
            "313/313 [==============================] - 0s 1ms/step - loss: 0.6940 - accuracy: 0.4889\n",
            "Epoch 99/200\n",
            "313/313 [==============================] - 0s 1ms/step - loss: 0.6939 - accuracy: 0.5000\n",
            "Epoch 100/200\n",
            "313/313 [==============================] - 0s 1ms/step - loss: 0.6940 - accuracy: 0.4993\n",
            "Epoch 101/200\n",
            "313/313 [==============================] - 0s 1ms/step - loss: 0.6938 - accuracy: 0.4947\n",
            "Epoch 102/200\n",
            "313/313 [==============================] - 0s 1ms/step - loss: 0.6935 - accuracy: 0.4971\n",
            "Epoch 103/200\n",
            "313/313 [==============================] - 0s 1ms/step - loss: 0.6939 - accuracy: 0.4921\n",
            "Epoch 104/200\n",
            "313/313 [==============================] - 0s 2ms/step - loss: 0.6940 - accuracy: 0.4908\n",
            "Epoch 105/200\n",
            "313/313 [==============================] - 0s 1ms/step - loss: 0.6939 - accuracy: 0.4967\n",
            "Epoch 106/200\n",
            "313/313 [==============================] - 0s 1ms/step - loss: 0.6940 - accuracy: 0.4909\n",
            "Epoch 107/200\n",
            "313/313 [==============================] - 0s 1ms/step - loss: 0.6937 - accuracy: 0.5046\n",
            "Epoch 108/200\n",
            "313/313 [==============================] - 0s 1ms/step - loss: 0.6941 - accuracy: 0.4911\n",
            "Epoch 109/200\n",
            "313/313 [==============================] - 0s 1ms/step - loss: 0.6937 - accuracy: 0.5049\n",
            "Epoch 110/200\n",
            "313/313 [==============================] - 0s 1ms/step - loss: 0.6938 - accuracy: 0.4943\n",
            "Epoch 111/200\n",
            "313/313 [==============================] - 0s 1ms/step - loss: 0.6938 - accuracy: 0.4986\n",
            "Epoch 112/200\n",
            "313/313 [==============================] - 0s 1ms/step - loss: 0.6938 - accuracy: 0.4924\n",
            "Epoch 113/200\n",
            "313/313 [==============================] - 0s 1ms/step - loss: 0.6936 - accuracy: 0.4999\n",
            "Epoch 114/200\n",
            "313/313 [==============================] - 0s 1ms/step - loss: 0.6939 - accuracy: 0.4861\n",
            "Epoch 115/200\n",
            "313/313 [==============================] - 0s 1ms/step - loss: 0.6937 - accuracy: 0.5004\n",
            "Epoch 116/200\n",
            "313/313 [==============================] - 0s 1ms/step - loss: 0.6940 - accuracy: 0.4990\n",
            "Epoch 117/200\n",
            "313/313 [==============================] - 0s 1ms/step - loss: 0.6937 - accuracy: 0.4962\n",
            "Epoch 118/200\n",
            "313/313 [==============================] - 0s 1ms/step - loss: 0.6939 - accuracy: 0.5039\n",
            "Epoch 119/200\n",
            "313/313 [==============================] - 0s 1ms/step - loss: 0.6941 - accuracy: 0.4878\n",
            "Epoch 120/200\n",
            "313/313 [==============================] - 0s 1ms/step - loss: 0.6940 - accuracy: 0.4911\n",
            "Epoch 121/200\n",
            "313/313 [==============================] - 0s 1ms/step - loss: 0.6939 - accuracy: 0.4837\n",
            "Epoch 122/200\n",
            "313/313 [==============================] - 0s 1ms/step - loss: 0.6939 - accuracy: 0.4945\n",
            "Epoch 123/200\n",
            "313/313 [==============================] - 0s 1ms/step - loss: 0.6937 - accuracy: 0.5063\n",
            "Epoch 124/200\n",
            "313/313 [==============================] - 0s 1ms/step - loss: 0.6938 - accuracy: 0.4917\n",
            "Epoch 125/200\n",
            "313/313 [==============================] - 0s 1ms/step - loss: 0.6941 - accuracy: 0.4955\n",
            "Epoch 126/200\n",
            "313/313 [==============================] - 0s 1ms/step - loss: 0.6938 - accuracy: 0.5020\n",
            "Epoch 127/200\n",
            "313/313 [==============================] - 0s 1ms/step - loss: 0.6941 - accuracy: 0.4869\n",
            "Epoch 128/200\n",
            "313/313 [==============================] - 0s 1ms/step - loss: 0.6940 - accuracy: 0.4944\n",
            "Epoch 129/200\n",
            "313/313 [==============================] - 0s 1ms/step - loss: 0.6939 - accuracy: 0.4965\n",
            "Epoch 130/200\n",
            "313/313 [==============================] - 0s 1ms/step - loss: 0.6938 - accuracy: 0.4986\n",
            "Epoch 131/200\n",
            "313/313 [==============================] - 0s 1ms/step - loss: 0.6941 - accuracy: 0.5000\n",
            "Epoch 132/200\n",
            "313/313 [==============================] - 0s 1ms/step - loss: 0.6939 - accuracy: 0.4988\n",
            "Epoch 133/200\n",
            "313/313 [==============================] - 0s 1ms/step - loss: 0.6939 - accuracy: 0.4958\n",
            "Epoch 134/200\n",
            "313/313 [==============================] - 0s 1ms/step - loss: 0.6940 - accuracy: 0.4910\n",
            "Epoch 135/200\n",
            "313/313 [==============================] - 0s 1ms/step - loss: 0.6940 - accuracy: 0.4939\n",
            "Epoch 136/200\n",
            "313/313 [==============================] - 0s 1ms/step - loss: 0.6938 - accuracy: 0.4991\n",
            "Epoch 137/200\n",
            "313/313 [==============================] - 0s 1ms/step - loss: 0.6938 - accuracy: 0.4944\n",
            "Epoch 138/200\n",
            "313/313 [==============================] - 0s 1ms/step - loss: 0.6940 - accuracy: 0.4929\n",
            "Epoch 139/200\n",
            "313/313 [==============================] - 0s 1ms/step - loss: 0.6938 - accuracy: 0.4880\n",
            "Epoch 140/200\n",
            "313/313 [==============================] - 0s 1ms/step - loss: 0.6940 - accuracy: 0.4923\n",
            "Epoch 141/200\n",
            "313/313 [==============================] - 0s 1ms/step - loss: 0.6936 - accuracy: 0.5022\n",
            "Epoch 142/200\n",
            "313/313 [==============================] - 0s 1ms/step - loss: 0.6937 - accuracy: 0.4982\n",
            "Epoch 143/200\n",
            "313/313 [==============================] - 0s 1ms/step - loss: 0.6940 - accuracy: 0.4933\n",
            "Epoch 144/200\n",
            "313/313 [==============================] - 0s 1ms/step - loss: 0.6938 - accuracy: 0.4941\n",
            "Epoch 145/200\n",
            "313/313 [==============================] - 0s 1ms/step - loss: 0.6939 - accuracy: 0.4992\n",
            "Epoch 146/200\n",
            "313/313 [==============================] - 0s 1ms/step - loss: 0.6939 - accuracy: 0.4844\n",
            "Epoch 147/200\n",
            "313/313 [==============================] - 0s 1ms/step - loss: 0.6937 - accuracy: 0.4918\n",
            "Epoch 148/200\n",
            "313/313 [==============================] - 0s 1ms/step - loss: 0.6938 - accuracy: 0.4957\n",
            "Epoch 149/200\n",
            "313/313 [==============================] - 0s 1ms/step - loss: 0.6940 - accuracy: 0.4839\n",
            "Epoch 150/200\n",
            "313/313 [==============================] - 0s 1ms/step - loss: 0.6937 - accuracy: 0.4968\n",
            "Epoch 151/200\n",
            "313/313 [==============================] - 0s 1ms/step - loss: 0.6939 - accuracy: 0.4954\n",
            "Epoch 152/200\n",
            "313/313 [==============================] - 0s 1ms/step - loss: 0.6938 - accuracy: 0.4961\n",
            "Epoch 153/200\n",
            "313/313 [==============================] - 0s 1ms/step - loss: 0.6939 - accuracy: 0.4927\n",
            "Epoch 154/200\n",
            "313/313 [==============================] - 0s 1ms/step - loss: 0.6935 - accuracy: 0.5062\n",
            "Epoch 155/200\n",
            "313/313 [==============================] - 0s 1ms/step - loss: 0.6936 - accuracy: 0.4979\n",
            "Epoch 156/200\n",
            "313/313 [==============================] - 0s 1ms/step - loss: 0.6940 - accuracy: 0.4934\n",
            "Epoch 157/200\n",
            "313/313 [==============================] - 0s 1ms/step - loss: 0.6939 - accuracy: 0.4963\n",
            "Epoch 158/200\n",
            "313/313 [==============================] - 0s 1ms/step - loss: 0.6938 - accuracy: 0.5028\n",
            "Epoch 159/200\n",
            "313/313 [==============================] - 0s 1ms/step - loss: 0.6940 - accuracy: 0.4939\n",
            "Epoch 160/200\n",
            "313/313 [==============================] - 0s 1ms/step - loss: 0.6939 - accuracy: 0.4806\n",
            "Epoch 161/200\n",
            "313/313 [==============================] - 0s 1ms/step - loss: 0.6937 - accuracy: 0.5045\n",
            "Epoch 162/200\n",
            "313/313 [==============================] - 0s 1ms/step - loss: 0.6936 - accuracy: 0.5031\n",
            "Epoch 163/200\n",
            "313/313 [==============================] - 0s 1ms/step - loss: 0.6940 - accuracy: 0.4964\n",
            "Epoch 164/200\n",
            "313/313 [==============================] - 0s 1ms/step - loss: 0.6939 - accuracy: 0.4943\n",
            "Epoch 165/200\n",
            "313/313 [==============================] - 0s 1ms/step - loss: 0.6940 - accuracy: 0.4906\n",
            "Epoch 166/200\n",
            "313/313 [==============================] - 0s 1ms/step - loss: 0.6939 - accuracy: 0.5029\n",
            "Epoch 167/200\n",
            "313/313 [==============================] - 0s 1ms/step - loss: 0.6939 - accuracy: 0.4874\n",
            "Epoch 168/200\n",
            "313/313 [==============================] - 0s 1ms/step - loss: 0.6939 - accuracy: 0.4933\n",
            "Epoch 169/200\n",
            "313/313 [==============================] - 0s 1ms/step - loss: 0.6938 - accuracy: 0.5002\n",
            "Epoch 170/200\n",
            "313/313 [==============================] - 0s 1ms/step - loss: 0.6939 - accuracy: 0.4987\n",
            "Epoch 171/200\n",
            "313/313 [==============================] - 0s 1ms/step - loss: 0.6939 - accuracy: 0.4982\n",
            "Epoch 172/200\n",
            "313/313 [==============================] - 0s 1ms/step - loss: 0.6940 - accuracy: 0.4908\n",
            "Epoch 173/200\n",
            "313/313 [==============================] - 0s 1ms/step - loss: 0.6939 - accuracy: 0.4906\n",
            "Epoch 174/200\n",
            "313/313 [==============================] - 0s 1ms/step - loss: 0.6939 - accuracy: 0.4990\n",
            "Epoch 175/200\n",
            "313/313 [==============================] - 0s 1ms/step - loss: 0.6940 - accuracy: 0.4963\n",
            "Epoch 176/200\n",
            "313/313 [==============================] - 0s 1ms/step - loss: 0.6939 - accuracy: 0.4944\n",
            "Epoch 177/200\n",
            "313/313 [==============================] - 0s 1ms/step - loss: 0.6936 - accuracy: 0.4833\n",
            "Epoch 178/200\n",
            "313/313 [==============================] - 0s 1ms/step - loss: 0.6939 - accuracy: 0.4917\n",
            "Epoch 179/200\n",
            "313/313 [==============================] - 0s 1ms/step - loss: 0.6939 - accuracy: 0.4937\n",
            "Epoch 180/200\n",
            "313/313 [==============================] - 0s 1ms/step - loss: 0.6935 - accuracy: 0.4988\n",
            "Epoch 181/200\n",
            "313/313 [==============================] - 0s 1ms/step - loss: 0.6941 - accuracy: 0.4948\n",
            "Epoch 182/200\n",
            "313/313 [==============================] - 0s 1ms/step - loss: 0.6938 - accuracy: 0.5006\n",
            "Epoch 183/200\n",
            "313/313 [==============================] - 0s 1ms/step - loss: 0.6940 - accuracy: 0.4920\n",
            "Epoch 184/200\n",
            "313/313 [==============================] - 0s 1ms/step - loss: 0.6939 - accuracy: 0.4881\n",
            "Epoch 185/200\n",
            "313/313 [==============================] - 0s 1ms/step - loss: 0.6938 - accuracy: 0.4981\n",
            "Epoch 186/200\n",
            "313/313 [==============================] - 0s 1ms/step - loss: 0.6940 - accuracy: 0.4958\n",
            "Epoch 187/200\n",
            "313/313 [==============================] - 0s 1ms/step - loss: 0.6938 - accuracy: 0.5040\n",
            "Epoch 188/200\n",
            "313/313 [==============================] - 0s 1ms/step - loss: 0.6940 - accuracy: 0.4862\n",
            "Epoch 189/200\n",
            "313/313 [==============================] - 0s 1ms/step - loss: 0.6937 - accuracy: 0.5180\n",
            "Epoch 190/200\n",
            "313/313 [==============================] - 0s 1ms/step - loss: 0.6938 - accuracy: 0.4916\n",
            "Epoch 191/200\n",
            "313/313 [==============================] - 0s 1ms/step - loss: 0.6938 - accuracy: 0.4957\n",
            "Epoch 192/200\n",
            "313/313 [==============================] - 0s 1ms/step - loss: 0.6938 - accuracy: 0.4918\n",
            "Epoch 193/200\n",
            "313/313 [==============================] - 0s 1ms/step - loss: 0.6940 - accuracy: 0.4886\n",
            "Epoch 194/200\n",
            "313/313 [==============================] - 0s 1ms/step - loss: 0.6940 - accuracy: 0.4907\n",
            "Epoch 195/200\n",
            "313/313 [==============================] - 0s 1ms/step - loss: 0.6940 - accuracy: 0.4930\n",
            "Epoch 196/200\n",
            "313/313 [==============================] - 0s 1ms/step - loss: 0.6938 - accuracy: 0.5093\n",
            "Epoch 197/200\n",
            "313/313 [==============================] - 0s 1ms/step - loss: 0.6939 - accuracy: 0.4877\n",
            "Epoch 198/200\n",
            "313/313 [==============================] - 0s 1ms/step - loss: 0.6935 - accuracy: 0.5120\n",
            "Epoch 199/200\n",
            "313/313 [==============================] - 0s 1ms/step - loss: 0.6941 - accuracy: 0.4902\n",
            "Epoch 200/200\n",
            "313/313 [==============================] - 0s 1ms/step - loss: 0.6939 - accuracy: 0.4937\n",
            "313/313 [==============================] - 1s 1ms/step - loss: 0.6937 - accuracy: 0.5004\n"
          ]
        },
        {
          "output_type": "execute_result",
          "data": {
            "text/plain": [
              "[0.6936948299407959, 0.5004000067710876]"
            ]
          },
          "metadata": {},
          "execution_count": 16
        }
      ]
    },
    {
      "cell_type": "markdown",
      "source": [
        "Since we're working on a binary classification problem and our model is getting around 50% accuaracy... it's performing as it's guessing 🇸\n",
        "\n",
        "Try to add an extra layer?"
      ],
      "metadata": {
        "id": "EURmoCc96Xyb"
      }
    },
    {
      "cell_type": "code",
      "source": [
        "# Set the random seed\n",
        "tf.random.set_seed(42)\n",
        "\n",
        "# 1. Create the model, with 2 layers\n",
        "model_3 = tf.keras.Sequential([\n",
        "  tf.keras.layers.Dense(1),\n",
        "  tf.keras.layers.Dense(1)\n",
        "])\n",
        "\n",
        "# 2. Compile the model\n",
        "model_3.compile(loss=tf.keras.losses.BinaryCrossentropy(),\n",
        "                optimizer=tf.keras.optimizers.SGD(),\n",
        "                metrics=[\"accuracy\"])\n",
        "\n",
        "# 3. Fit the model\n",
        "model_3.fit(X, y, epochs=100)"
      ],
      "metadata": {
        "colab": {
          "base_uri": "https://localhost:8080/"
        },
        "id": "gKNRoO6Z65Ge",
        "outputId": "a5b6f436-cb3e-407f-919f-f0d6d9053c84"
      },
      "execution_count": 17,
      "outputs": [
        {
          "output_type": "stream",
          "name": "stdout",
          "text": [
            "Epoch 1/100\n",
            "313/313 [==============================] - 2s 3ms/step - loss: 0.7659 - accuracy: 0.5057\n",
            "Epoch 2/100\n",
            "313/313 [==============================] - 1s 2ms/step - loss: 0.6952 - accuracy: 0.4978\n",
            "Epoch 3/100\n",
            "313/313 [==============================] - 1s 3ms/step - loss: 0.6942 - accuracy: 0.4989\n",
            "Epoch 4/100\n",
            "313/313 [==============================] - 0s 1ms/step - loss: 0.6938 - accuracy: 0.5024\n",
            "Epoch 5/100\n",
            "313/313 [==============================] - 0s 1ms/step - loss: 0.6937 - accuracy: 0.5007\n",
            "Epoch 6/100\n",
            "313/313 [==============================] - 0s 1ms/step - loss: 0.6937 - accuracy: 0.5011\n",
            "Epoch 7/100\n",
            "313/313 [==============================] - 0s 1ms/step - loss: 0.6938 - accuracy: 0.4919\n",
            "Epoch 8/100\n",
            "313/313 [==============================] - 0s 1ms/step - loss: 0.6937 - accuracy: 0.4893\n",
            "Epoch 9/100\n",
            "313/313 [==============================] - 0s 1ms/step - loss: 0.6935 - accuracy: 0.5031\n",
            "Epoch 10/100\n",
            "313/313 [==============================] - 0s 1ms/step - loss: 0.6937 - accuracy: 0.4910\n",
            "Epoch 11/100\n",
            "313/313 [==============================] - 0s 1ms/step - loss: 0.6937 - accuracy: 0.4958\n",
            "Epoch 12/100\n",
            "313/313 [==============================] - 0s 1ms/step - loss: 0.6936 - accuracy: 0.5007\n",
            "Epoch 13/100\n",
            "313/313 [==============================] - 0s 1ms/step - loss: 0.6937 - accuracy: 0.4878\n",
            "Epoch 14/100\n",
            "313/313 [==============================] - 0s 1ms/step - loss: 0.6937 - accuracy: 0.5045\n",
            "Epoch 15/100\n",
            "313/313 [==============================] - 0s 1ms/step - loss: 0.6934 - accuracy: 0.5090\n",
            "Epoch 16/100\n",
            "313/313 [==============================] - 0s 1ms/step - loss: 0.6937 - accuracy: 0.4970\n",
            "Epoch 17/100\n",
            "313/313 [==============================] - 0s 1ms/step - loss: 0.6934 - accuracy: 0.5071\n",
            "Epoch 18/100\n",
            "313/313 [==============================] - 0s 1ms/step - loss: 0.6936 - accuracy: 0.5004\n",
            "Epoch 19/100\n",
            "313/313 [==============================] - 0s 1ms/step - loss: 0.6937 - accuracy: 0.4981\n",
            "Epoch 20/100\n",
            "313/313 [==============================] - 0s 1ms/step - loss: 0.6937 - accuracy: 0.4971\n",
            "Epoch 21/100\n",
            "313/313 [==============================] - 0s 1ms/step - loss: 0.6936 - accuracy: 0.4956\n",
            "Epoch 22/100\n",
            "313/313 [==============================] - 0s 1ms/step - loss: 0.6936 - accuracy: 0.4967\n",
            "Epoch 23/100\n",
            "313/313 [==============================] - 0s 1ms/step - loss: 0.6937 - accuracy: 0.5000\n",
            "Epoch 24/100\n",
            "313/313 [==============================] - 0s 1ms/step - loss: 0.6933 - accuracy: 0.5087\n",
            "Epoch 25/100\n",
            "313/313 [==============================] - 0s 1ms/step - loss: 0.6938 - accuracy: 0.5003\n",
            "Epoch 26/100\n",
            "313/313 [==============================] - 0s 1ms/step - loss: 0.6936 - accuracy: 0.4957\n",
            "Epoch 27/100\n",
            "313/313 [==============================] - 0s 1ms/step - loss: 0.6937 - accuracy: 0.4918\n",
            "Epoch 28/100\n",
            "313/313 [==============================] - 0s 1ms/step - loss: 0.6935 - accuracy: 0.5061\n",
            "Epoch 29/100\n",
            "313/313 [==============================] - 0s 1ms/step - loss: 0.6934 - accuracy: 0.5005\n",
            "Epoch 30/100\n",
            "313/313 [==============================] - 0s 1ms/step - loss: 0.6937 - accuracy: 0.4938\n",
            "Epoch 31/100\n",
            "313/313 [==============================] - 0s 1ms/step - loss: 0.6937 - accuracy: 0.4953\n",
            "Epoch 32/100\n",
            "313/313 [==============================] - 0s 1ms/step - loss: 0.6935 - accuracy: 0.5045\n",
            "Epoch 33/100\n",
            "313/313 [==============================] - 0s 1ms/step - loss: 0.6938 - accuracy: 0.4978\n",
            "Epoch 34/100\n",
            "313/313 [==============================] - 0s 1ms/step - loss: 0.6936 - accuracy: 0.4882\n",
            "Epoch 35/100\n",
            "313/313 [==============================] - 0s 1ms/step - loss: 0.6937 - accuracy: 0.4898\n",
            "Epoch 36/100\n",
            "313/313 [==============================] - 0s 1ms/step - loss: 0.6936 - accuracy: 0.4958\n",
            "Epoch 37/100\n",
            "313/313 [==============================] - 0s 1ms/step - loss: 0.6936 - accuracy: 0.4983\n",
            "Epoch 38/100\n",
            "313/313 [==============================] - 0s 1ms/step - loss: 0.6933 - accuracy: 0.4993\n",
            "Epoch 39/100\n",
            "313/313 [==============================] - 0s 1ms/step - loss: 0.6936 - accuracy: 0.4969\n",
            "Epoch 40/100\n",
            "313/313 [==============================] - 0s 1ms/step - loss: 0.6934 - accuracy: 0.5057\n",
            "Epoch 41/100\n",
            "313/313 [==============================] - 0s 1ms/step - loss: 0.6934 - accuracy: 0.4987\n",
            "Epoch 42/100\n",
            "313/313 [==============================] - 0s 1ms/step - loss: 0.6937 - accuracy: 0.4989\n",
            "Epoch 43/100\n",
            "313/313 [==============================] - 0s 1ms/step - loss: 0.6935 - accuracy: 0.5002\n",
            "Epoch 44/100\n",
            "313/313 [==============================] - 0s 1ms/step - loss: 0.6935 - accuracy: 0.4993\n",
            "Epoch 45/100\n",
            "313/313 [==============================] - 0s 1ms/step - loss: 0.6936 - accuracy: 0.4973\n",
            "Epoch 46/100\n",
            "313/313 [==============================] - 0s 1ms/step - loss: 0.6934 - accuracy: 0.5001\n",
            "Epoch 47/100\n",
            "313/313 [==============================] - 0s 1ms/step - loss: 0.6937 - accuracy: 0.4931\n",
            "Epoch 48/100\n",
            "313/313 [==============================] - 0s 1ms/step - loss: 0.6935 - accuracy: 0.5039\n",
            "Epoch 49/100\n",
            "313/313 [==============================] - 0s 1ms/step - loss: 0.6937 - accuracy: 0.4935\n",
            "Epoch 50/100\n",
            "313/313 [==============================] - 0s 1ms/step - loss: 0.6937 - accuracy: 0.4882\n",
            "Epoch 51/100\n",
            "313/313 [==============================] - 0s 1ms/step - loss: 0.6935 - accuracy: 0.5034\n",
            "Epoch 52/100\n",
            "313/313 [==============================] - 0s 1ms/step - loss: 0.6936 - accuracy: 0.5026\n",
            "Epoch 53/100\n",
            "313/313 [==============================] - 0s 1ms/step - loss: 0.6937 - accuracy: 0.4973\n",
            "Epoch 54/100\n",
            "313/313 [==============================] - 0s 1ms/step - loss: 0.6936 - accuracy: 0.4965\n",
            "Epoch 55/100\n",
            "313/313 [==============================] - 0s 1ms/step - loss: 0.6935 - accuracy: 0.4983\n",
            "Epoch 56/100\n",
            "313/313 [==============================] - 0s 1ms/step - loss: 0.6935 - accuracy: 0.5012\n",
            "Epoch 57/100\n",
            "313/313 [==============================] - 0s 1ms/step - loss: 0.6934 - accuracy: 0.5041\n",
            "Epoch 58/100\n",
            "313/313 [==============================] - 0s 1ms/step - loss: 0.6934 - accuracy: 0.4970\n",
            "Epoch 59/100\n",
            "313/313 [==============================] - 0s 1ms/step - loss: 0.6936 - accuracy: 0.4987\n",
            "Epoch 60/100\n",
            "313/313 [==============================] - 0s 2ms/step - loss: 0.6936 - accuracy: 0.4988\n",
            "Epoch 61/100\n",
            "313/313 [==============================] - 0s 1ms/step - loss: 0.6937 - accuracy: 0.4945\n",
            "Epoch 62/100\n",
            "313/313 [==============================] - 0s 1ms/step - loss: 0.6935 - accuracy: 0.5058\n",
            "Epoch 63/100\n",
            "313/313 [==============================] - 0s 1ms/step - loss: 0.6937 - accuracy: 0.4956\n",
            "Epoch 64/100\n",
            "313/313 [==============================] - 0s 1ms/step - loss: 0.6937 - accuracy: 0.4897\n",
            "Epoch 65/100\n",
            "313/313 [==============================] - 0s 1ms/step - loss: 0.6937 - accuracy: 0.4972\n",
            "Epoch 66/100\n",
            "313/313 [==============================] - 0s 1ms/step - loss: 0.6934 - accuracy: 0.5056\n",
            "Epoch 67/100\n",
            "313/313 [==============================] - 0s 1ms/step - loss: 0.6936 - accuracy: 0.4985\n",
            "Epoch 68/100\n",
            "313/313 [==============================] - 0s 1ms/step - loss: 0.6937 - accuracy: 0.4934\n",
            "Epoch 69/100\n",
            "313/313 [==============================] - 0s 1ms/step - loss: 0.6937 - accuracy: 0.4966\n",
            "Epoch 70/100\n",
            "313/313 [==============================] - 0s 1ms/step - loss: 0.6936 - accuracy: 0.4974\n",
            "Epoch 71/100\n",
            "313/313 [==============================] - 0s 1ms/step - loss: 0.6937 - accuracy: 0.4934\n",
            "Epoch 72/100\n",
            "313/313 [==============================] - 0s 1ms/step - loss: 0.6936 - accuracy: 0.4928\n",
            "Epoch 73/100\n",
            "313/313 [==============================] - 0s 1ms/step - loss: 0.6936 - accuracy: 0.4967\n",
            "Epoch 74/100\n",
            "313/313 [==============================] - 0s 1ms/step - loss: 0.6936 - accuracy: 0.4946\n",
            "Epoch 75/100\n",
            "313/313 [==============================] - 0s 1ms/step - loss: 0.6932 - accuracy: 0.5060\n",
            "Epoch 76/100\n",
            "313/313 [==============================] - 0s 1ms/step - loss: 0.6936 - accuracy: 0.4961\n",
            "Epoch 77/100\n",
            "313/313 [==============================] - 0s 1ms/step - loss: 0.6937 - accuracy: 0.4977\n",
            "Epoch 78/100\n",
            "313/313 [==============================] - 0s 1ms/step - loss: 0.6937 - accuracy: 0.4921\n",
            "Epoch 79/100\n",
            "313/313 [==============================] - 0s 1ms/step - loss: 0.6935 - accuracy: 0.4989\n",
            "Epoch 80/100\n",
            "313/313 [==============================] - 0s 1ms/step - loss: 0.6937 - accuracy: 0.4951\n",
            "Epoch 81/100\n",
            "313/313 [==============================] - 0s 1ms/step - loss: 0.6935 - accuracy: 0.4997\n",
            "Epoch 82/100\n",
            "313/313 [==============================] - 0s 1ms/step - loss: 0.6935 - accuracy: 0.5002\n",
            "Epoch 83/100\n",
            "313/313 [==============================] - 0s 1ms/step - loss: 0.6937 - accuracy: 0.4901\n",
            "Epoch 84/100\n",
            "313/313 [==============================] - 0s 1ms/step - loss: 0.6936 - accuracy: 0.4981\n",
            "Epoch 85/100\n",
            "313/313 [==============================] - 0s 1ms/step - loss: 0.6935 - accuracy: 0.5003\n",
            "Epoch 86/100\n",
            "313/313 [==============================] - 0s 1ms/step - loss: 0.6937 - accuracy: 0.4981\n",
            "Epoch 87/100\n",
            "313/313 [==============================] - 0s 1ms/step - loss: 0.6937 - accuracy: 0.4948\n",
            "Epoch 88/100\n",
            "313/313 [==============================] - 0s 1ms/step - loss: 0.6936 - accuracy: 0.5009\n",
            "Epoch 89/100\n",
            "313/313 [==============================] - 0s 1ms/step - loss: 0.6933 - accuracy: 0.5056\n",
            "Epoch 90/100\n",
            "313/313 [==============================] - 0s 1ms/step - loss: 0.6935 - accuracy: 0.5014\n",
            "Epoch 91/100\n",
            "313/313 [==============================] - 0s 1ms/step - loss: 0.6937 - accuracy: 0.4970\n",
            "Epoch 92/100\n",
            "313/313 [==============================] - 0s 1ms/step - loss: 0.6936 - accuracy: 0.4966\n",
            "Epoch 93/100\n",
            "313/313 [==============================] - 0s 1ms/step - loss: 0.6936 - accuracy: 0.4954\n",
            "Epoch 94/100\n",
            "313/313 [==============================] - 0s 1ms/step - loss: 0.6935 - accuracy: 0.4994\n",
            "Epoch 95/100\n",
            "313/313 [==============================] - 0s 1ms/step - loss: 0.6937 - accuracy: 0.4932\n",
            "Epoch 96/100\n",
            "313/313 [==============================] - 0s 1ms/step - loss: 0.6935 - accuracy: 0.4986\n",
            "Epoch 97/100\n",
            "313/313 [==============================] - 0s 1ms/step - loss: 0.6935 - accuracy: 0.5028\n",
            "Epoch 98/100\n",
            "313/313 [==============================] - 0s 1ms/step - loss: 0.6936 - accuracy: 0.5000\n",
            "Epoch 99/100\n",
            "313/313 [==============================] - 0s 1ms/step - loss: 0.6935 - accuracy: 0.5014\n",
            "Epoch 100/100\n",
            "313/313 [==============================] - 0s 1ms/step - loss: 0.6937 - accuracy: 0.4964\n"
          ]
        },
        {
          "output_type": "execute_result",
          "data": {
            "text/plain": [
              "<keras.callbacks.History at 0x7fae04d24f50>"
            ]
          },
          "metadata": {},
          "execution_count": 17
        }
      ]
    },
    {
      "cell_type": "code",
      "source": [
        "# 4. Evaluate the model(ON THE SAME DATA WE TRAINED ON, BIG NO-NO)\n",
        "model_3.evaluate(X, y)"
      ],
      "metadata": {
        "colab": {
          "base_uri": "https://localhost:8080/"
        },
        "id": "U5QvLvq28lBc",
        "outputId": "3a9dfc20-4440-4435-aa9a-b8b9ff51d387"
      },
      "execution_count": 18,
      "outputs": [
        {
          "output_type": "stream",
          "name": "stdout",
          "text": [
            "313/313 [==============================] - 0s 1ms/step - loss: 0.6933 - accuracy: 0.5000\n"
          ]
        },
        {
          "output_type": "execute_result",
          "data": {
            "text/plain": [
              "[0.6932647824287415, 0.5]"
            ]
          },
          "metadata": {},
          "execution_count": 18
        }
      ]
    },
    {
      "cell_type": "code",
      "source": [
        "# There are 5K of each color, not that good neural network :P\n",
        "circles[\"label\"].value_counts()"
      ],
      "metadata": {
        "colab": {
          "base_uri": "https://localhost:8080/"
        },
        "id": "D_9I-TwG_hck",
        "outputId": "9fabe85c-448a-4313-f47d-bdc07989f76b"
      },
      "execution_count": 19,
      "outputs": [
        {
          "output_type": "execute_result",
          "data": {
            "text/plain": [
              "1    5000\n",
              "0    5000\n",
              "Name: label, dtype: int64"
            ]
          },
          "metadata": {},
          "execution_count": 19
        }
      ]
    },
    {
      "cell_type": "markdown",
      "source": [
        "## Improving our model\n",
        "\n",
        "1. Create a model - more layers and hidden units\n",
        "2. Compile a model - choose a diffirent optimization function\n",
        "3. Fitting a model - more epochs"
      ],
      "metadata": {
        "id": "0_uUaU-hAHLg"
      }
    },
    {
      "cell_type": "markdown",
      "source": [
        "## Common ways to improve a deep model:\n",
        "* Adding layers\n",
        "* Increase the number of hidden units\n",
        "* Change the activation functions\n",
        "* Change the optimization function\n",
        "* Change the learning rate\n",
        "* Fitting on more data\n",
        "* Fitting for longer"
      ],
      "metadata": {
        "id": "WU0db00vaApP"
      }
    },
    {
      "cell_type": "code",
      "source": [
        "# Set random seed\n",
        "tf.random.set_seed(42)\n",
        "\n",
        "# 1. Create te model\n",
        "model_4 =  tf.keras.Sequential([\n",
        "  tf.keras.layers.Dense(100),\n",
        "  tf.keras.layers.Dense(10),\n",
        "  tf.keras.layers.Dense(1)                               \n",
        "])\n",
        "\n",
        "# 2. Compile the model\n",
        "model_4.compile(loss=tf.keras.losses.BinaryCrossentropy(),\n",
        "                optimizer=tf.keras.optimizers.Adam(),\n",
        "                metrics=[\"accuracy\"]    \n",
        ")\n",
        "\n",
        "# 3. Fit the model\n",
        "model_4.fit(X, y, epochs=100)"
      ],
      "metadata": {
        "colab": {
          "base_uri": "https://localhost:8080/"
        },
        "id": "U63zbm4ZAMlk",
        "outputId": "db1e1eaf-b69c-4af0-fcaa-418ab9a7d73d"
      },
      "execution_count": 20,
      "outputs": [
        {
          "output_type": "stream",
          "name": "stdout",
          "text": [
            "Epoch 1/100\n",
            "313/313 [==============================] - 1s 2ms/step - loss: 0.9536 - accuracy: 0.4919\n",
            "Epoch 2/100\n",
            "313/313 [==============================] - 1s 2ms/step - loss: 0.6949 - accuracy: 0.5005\n",
            "Epoch 3/100\n",
            "313/313 [==============================] - 1s 2ms/step - loss: 0.6948 - accuracy: 0.4941\n",
            "Epoch 4/100\n",
            "313/313 [==============================] - 1s 2ms/step - loss: 0.6966 - accuracy: 0.4923\n",
            "Epoch 5/100\n",
            "313/313 [==============================] - 1s 2ms/step - loss: 0.6965 - accuracy: 0.5028\n",
            "Epoch 6/100\n",
            "313/313 [==============================] - 1s 2ms/step - loss: 0.6960 - accuracy: 0.4941\n",
            "Epoch 7/100\n",
            "313/313 [==============================] - 1s 2ms/step - loss: 0.6970 - accuracy: 0.4926\n",
            "Epoch 8/100\n",
            "313/313 [==============================] - 1s 2ms/step - loss: 0.6969 - accuracy: 0.4978\n",
            "Epoch 9/100\n",
            "313/313 [==============================] - 1s 2ms/step - loss: 0.6962 - accuracy: 0.5006\n",
            "Epoch 10/100\n",
            "313/313 [==============================] - 1s 2ms/step - loss: 0.6969 - accuracy: 0.4885\n",
            "Epoch 11/100\n",
            "313/313 [==============================] - 1s 2ms/step - loss: 0.6964 - accuracy: 0.4985\n",
            "Epoch 12/100\n",
            "313/313 [==============================] - 1s 2ms/step - loss: 0.6975 - accuracy: 0.4993\n",
            "Epoch 13/100\n",
            "313/313 [==============================] - 1s 2ms/step - loss: 0.6972 - accuracy: 0.5010\n",
            "Epoch 14/100\n",
            "313/313 [==============================] - 1s 2ms/step - loss: 0.6985 - accuracy: 0.4917\n",
            "Epoch 15/100\n",
            "313/313 [==============================] - 1s 2ms/step - loss: 0.6971 - accuracy: 0.4963\n",
            "Epoch 16/100\n",
            "313/313 [==============================] - 1s 2ms/step - loss: 0.6973 - accuracy: 0.4940\n",
            "Epoch 17/100\n",
            "313/313 [==============================] - 1s 2ms/step - loss: 0.6968 - accuracy: 0.4967\n",
            "Epoch 18/100\n",
            "313/313 [==============================] - 1s 2ms/step - loss: 0.6968 - accuracy: 0.4922\n",
            "Epoch 19/100\n",
            "313/313 [==============================] - 1s 2ms/step - loss: 0.6968 - accuracy: 0.4957\n",
            "Epoch 20/100\n",
            "313/313 [==============================] - 1s 2ms/step - loss: 0.6967 - accuracy: 0.4911\n",
            "Epoch 21/100\n",
            "313/313 [==============================] - 1s 2ms/step - loss: 0.6963 - accuracy: 0.4959\n",
            "Epoch 22/100\n",
            "313/313 [==============================] - 1s 2ms/step - loss: 0.6958 - accuracy: 0.4985\n",
            "Epoch 23/100\n",
            "313/313 [==============================] - 1s 2ms/step - loss: 0.6963 - accuracy: 0.4971\n",
            "Epoch 24/100\n",
            "313/313 [==============================] - 1s 2ms/step - loss: 0.6957 - accuracy: 0.5018\n",
            "Epoch 25/100\n",
            "313/313 [==============================] - 1s 2ms/step - loss: 0.6957 - accuracy: 0.5004\n",
            "Epoch 26/100\n",
            "313/313 [==============================] - 1s 2ms/step - loss: 0.6960 - accuracy: 0.4835\n",
            "Epoch 27/100\n",
            "313/313 [==============================] - 1s 2ms/step - loss: 0.6955 - accuracy: 0.4997\n",
            "Epoch 28/100\n",
            "313/313 [==============================] - 1s 2ms/step - loss: 0.6950 - accuracy: 0.5075\n",
            "Epoch 29/100\n",
            "313/313 [==============================] - 1s 2ms/step - loss: 0.6954 - accuracy: 0.4968\n",
            "Epoch 30/100\n",
            "313/313 [==============================] - 1s 2ms/step - loss: 0.6955 - accuracy: 0.4945\n",
            "Epoch 31/100\n",
            "313/313 [==============================] - 1s 2ms/step - loss: 0.6959 - accuracy: 0.4957\n",
            "Epoch 32/100\n",
            "313/313 [==============================] - 1s 2ms/step - loss: 0.6954 - accuracy: 0.5023\n",
            "Epoch 33/100\n",
            "313/313 [==============================] - 1s 2ms/step - loss: 0.6952 - accuracy: 0.4943\n",
            "Epoch 34/100\n",
            "313/313 [==============================] - 1s 2ms/step - loss: 0.6950 - accuracy: 0.4958\n",
            "Epoch 35/100\n",
            "313/313 [==============================] - 1s 2ms/step - loss: 0.6953 - accuracy: 0.5003\n",
            "Epoch 36/100\n",
            "313/313 [==============================] - 1s 2ms/step - loss: 0.6950 - accuracy: 0.4950\n",
            "Epoch 37/100\n",
            "313/313 [==============================] - 1s 2ms/step - loss: 0.6952 - accuracy: 0.4901\n",
            "Epoch 38/100\n",
            "313/313 [==============================] - 1s 2ms/step - loss: 0.6945 - accuracy: 0.5077\n",
            "Epoch 39/100\n",
            "313/313 [==============================] - 1s 2ms/step - loss: 0.6943 - accuracy: 0.5028\n",
            "Epoch 40/100\n",
            "313/313 [==============================] - 1s 2ms/step - loss: 0.6957 - accuracy: 0.4945\n",
            "Epoch 41/100\n",
            "313/313 [==============================] - 1s 2ms/step - loss: 0.6948 - accuracy: 0.4990\n",
            "Epoch 42/100\n",
            "313/313 [==============================] - 1s 2ms/step - loss: 0.6945 - accuracy: 0.4998\n",
            "Epoch 43/100\n",
            "313/313 [==============================] - 1s 2ms/step - loss: 0.6948 - accuracy: 0.4971\n",
            "Epoch 44/100\n",
            "313/313 [==============================] - 1s 2ms/step - loss: 0.6950 - accuracy: 0.4971\n",
            "Epoch 45/100\n",
            "313/313 [==============================] - 1s 2ms/step - loss: 0.6941 - accuracy: 0.5075\n",
            "Epoch 46/100\n",
            "313/313 [==============================] - 1s 2ms/step - loss: 0.6946 - accuracy: 0.4962\n",
            "Epoch 47/100\n",
            "313/313 [==============================] - 1s 2ms/step - loss: 0.6944 - accuracy: 0.4913\n",
            "Epoch 48/100\n",
            "313/313 [==============================] - 1s 2ms/step - loss: 0.6949 - accuracy: 0.4966\n",
            "Epoch 49/100\n",
            "313/313 [==============================] - 1s 2ms/step - loss: 0.6949 - accuracy: 0.4819\n",
            "Epoch 50/100\n",
            "313/313 [==============================] - 1s 2ms/step - loss: 0.6943 - accuracy: 0.4909\n",
            "Epoch 51/100\n",
            "313/313 [==============================] - 1s 2ms/step - loss: 0.6946 - accuracy: 0.4913\n",
            "Epoch 52/100\n",
            "313/313 [==============================] - 1s 2ms/step - loss: 0.6950 - accuracy: 0.4883\n",
            "Epoch 53/100\n",
            "313/313 [==============================] - 1s 3ms/step - loss: 0.6945 - accuracy: 0.4927\n",
            "Epoch 54/100\n",
            "313/313 [==============================] - 1s 3ms/step - loss: 0.6944 - accuracy: 0.4992\n",
            "Epoch 55/100\n",
            "313/313 [==============================] - 1s 3ms/step - loss: 0.6947 - accuracy: 0.5076\n",
            "Epoch 56/100\n",
            "313/313 [==============================] - 1s 3ms/step - loss: 0.6948 - accuracy: 0.4930\n",
            "Epoch 57/100\n",
            "313/313 [==============================] - 1s 2ms/step - loss: 0.6944 - accuracy: 0.5015\n",
            "Epoch 58/100\n",
            "313/313 [==============================] - 1s 2ms/step - loss: 0.6944 - accuracy: 0.4969\n",
            "Epoch 59/100\n",
            "313/313 [==============================] - 1s 2ms/step - loss: 0.6942 - accuracy: 0.5098\n",
            "Epoch 60/100\n",
            "313/313 [==============================] - 1s 2ms/step - loss: 0.6942 - accuracy: 0.4995\n",
            "Epoch 61/100\n",
            "313/313 [==============================] - 1s 2ms/step - loss: 0.6942 - accuracy: 0.4904\n",
            "Epoch 62/100\n",
            "313/313 [==============================] - 1s 2ms/step - loss: 0.6943 - accuracy: 0.4988\n",
            "Epoch 63/100\n",
            "313/313 [==============================] - 1s 2ms/step - loss: 0.6942 - accuracy: 0.4952\n",
            "Epoch 64/100\n",
            "313/313 [==============================] - 1s 2ms/step - loss: 0.6942 - accuracy: 0.4928\n",
            "Epoch 65/100\n",
            "313/313 [==============================] - 1s 2ms/step - loss: 0.6940 - accuracy: 0.5013\n",
            "Epoch 66/100\n",
            "313/313 [==============================] - 1s 2ms/step - loss: 0.6938 - accuracy: 0.5049\n",
            "Epoch 67/100\n",
            "313/313 [==============================] - 1s 2ms/step - loss: 0.6940 - accuracy: 0.4910\n",
            "Epoch 68/100\n",
            "313/313 [==============================] - 1s 3ms/step - loss: 0.6943 - accuracy: 0.4976\n",
            "Epoch 69/100\n",
            "313/313 [==============================] - 1s 2ms/step - loss: 0.6943 - accuracy: 0.4890\n",
            "Epoch 70/100\n",
            "313/313 [==============================] - 1s 3ms/step - loss: 0.6942 - accuracy: 0.5014\n",
            "Epoch 71/100\n",
            "313/313 [==============================] - 1s 3ms/step - loss: 0.6939 - accuracy: 0.4981\n",
            "Epoch 72/100\n",
            "313/313 [==============================] - 1s 3ms/step - loss: 0.6939 - accuracy: 0.4884\n",
            "Epoch 73/100\n",
            "313/313 [==============================] - 1s 3ms/step - loss: 0.6939 - accuracy: 0.4911\n",
            "Epoch 74/100\n",
            "313/313 [==============================] - 1s 2ms/step - loss: 0.6939 - accuracy: 0.4965\n",
            "Epoch 75/100\n",
            "313/313 [==============================] - 1s 2ms/step - loss: 0.6939 - accuracy: 0.4956\n",
            "Epoch 76/100\n",
            "313/313 [==============================] - 1s 2ms/step - loss: 0.6943 - accuracy: 0.4878\n",
            "Epoch 77/100\n",
            "313/313 [==============================] - 1s 2ms/step - loss: 0.6943 - accuracy: 0.4871\n",
            "Epoch 78/100\n",
            "313/313 [==============================] - 1s 2ms/step - loss: 0.6938 - accuracy: 0.5026\n",
            "Epoch 79/100\n",
            "313/313 [==============================] - 1s 2ms/step - loss: 0.6941 - accuracy: 0.4985\n",
            "Epoch 80/100\n",
            "313/313 [==============================] - 1s 3ms/step - loss: 0.6939 - accuracy: 0.4909\n",
            "Epoch 81/100\n",
            "313/313 [==============================] - 1s 2ms/step - loss: 0.6942 - accuracy: 0.4940\n",
            "Epoch 82/100\n",
            "313/313 [==============================] - 1s 2ms/step - loss: 0.6939 - accuracy: 0.4982\n",
            "Epoch 83/100\n",
            "313/313 [==============================] - 1s 2ms/step - loss: 0.6940 - accuracy: 0.4906\n",
            "Epoch 84/100\n",
            "313/313 [==============================] - 1s 2ms/step - loss: 0.6940 - accuracy: 0.4937\n",
            "Epoch 85/100\n",
            "313/313 [==============================] - 1s 2ms/step - loss: 0.6940 - accuracy: 0.4951\n",
            "Epoch 86/100\n",
            "313/313 [==============================] - 1s 2ms/step - loss: 0.6941 - accuracy: 0.4901\n",
            "Epoch 87/100\n",
            "313/313 [==============================] - 1s 3ms/step - loss: 0.6938 - accuracy: 0.4916\n",
            "Epoch 88/100\n",
            "313/313 [==============================] - 1s 3ms/step - loss: 0.6940 - accuracy: 0.4885\n",
            "Epoch 89/100\n",
            "313/313 [==============================] - 1s 4ms/step - loss: 0.6935 - accuracy: 0.5025\n",
            "Epoch 90/100\n",
            "313/313 [==============================] - 1s 3ms/step - loss: 0.6944 - accuracy: 0.4966\n",
            "Epoch 91/100\n",
            "313/313 [==============================] - 1s 3ms/step - loss: 0.6939 - accuracy: 0.4992\n",
            "Epoch 92/100\n",
            "313/313 [==============================] - 1s 3ms/step - loss: 0.6941 - accuracy: 0.4864\n",
            "Epoch 93/100\n",
            "313/313 [==============================] - 1s 2ms/step - loss: 0.6940 - accuracy: 0.4969\n",
            "Epoch 94/100\n",
            "313/313 [==============================] - 1s 2ms/step - loss: 0.6937 - accuracy: 0.4910\n",
            "Epoch 95/100\n",
            "313/313 [==============================] - 1s 2ms/step - loss: 0.6938 - accuracy: 0.4964\n",
            "Epoch 96/100\n",
            "313/313 [==============================] - 1s 2ms/step - loss: 0.6938 - accuracy: 0.4988\n",
            "Epoch 97/100\n",
            "313/313 [==============================] - 1s 2ms/step - loss: 0.6938 - accuracy: 0.5008\n",
            "Epoch 98/100\n",
            "313/313 [==============================] - 1s 2ms/step - loss: 0.6938 - accuracy: 0.4908\n",
            "Epoch 99/100\n",
            "313/313 [==============================] - 1s 2ms/step - loss: 0.6938 - accuracy: 0.4972\n",
            "Epoch 100/100\n",
            "313/313 [==============================] - 1s 2ms/step - loss: 0.6940 - accuracy: 0.4964\n"
          ]
        },
        {
          "output_type": "execute_result",
          "data": {
            "text/plain": [
              "<keras.callbacks.History at 0x7fae04141ed0>"
            ]
          },
          "metadata": {},
          "execution_count": 20
        }
      ]
    },
    {
      "cell_type": "code",
      "source": [
        "# 4. Evaluate the model, NOT IDEAL TO EVALUATE ON THE SAME DATASET WE'RE TRAINING ON.. :P\n",
        "model_4.evaluate(X, y)"
      ],
      "metadata": {
        "colab": {
          "base_uri": "https://localhost:8080/"
        },
        "id": "AzXlKlW6deUD",
        "outputId": "1589b975-37be-4a28-cc80-476f7cbede9d"
      },
      "execution_count": 21,
      "outputs": [
        {
          "output_type": "stream",
          "name": "stdout",
          "text": [
            "313/313 [==============================] - 1s 1ms/step - loss: 0.6934 - accuracy: 0.5000\n"
          ]
        },
        {
          "output_type": "execute_result",
          "data": {
            "text/plain": [
              "[0.6934003829956055, 0.5]"
            ]
          },
          "metadata": {},
          "execution_count": 21
        }
      ]
    },
    {
      "cell_type": "code",
      "source": [
        ""
      ],
      "metadata": {
        "id": "h6kVilZ0duTx"
      },
      "execution_count": null,
      "outputs": []
    }
  ]
}