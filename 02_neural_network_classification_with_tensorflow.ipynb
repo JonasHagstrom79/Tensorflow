{
  "nbformat": 4,
  "nbformat_minor": 0,
  "metadata": {
    "colab": {
      "name": "02_neural_network_classification_with_tensorflow.ipynb",
      "provenance": [],
      "collapsed_sections": [],
      "authorship_tag": "ABX9TyOn3DYvoxcalos3lc6/ZxZd"
    },
    "kernelspec": {
      "name": "python3",
      "display_name": "Python 3"
    },
    "language_info": {
      "name": "python"
    }
  },
  "cells": [
    {
      "cell_type": "markdown",
      "source": [
        "# Introduction to neural network classification with TensorFlow\n",
        "\n",
        "A classification is where you try yo classify something as on thing or another.\n",
        "\n",
        "A few types of classification problems:\n",
        "\n",
        "* Binary classification\n",
        "* Multiclass classification\n",
        "* Multilabel classification"
      ],
      "metadata": {
        "id": "KGythZba1ZJS"
      }
    },
    {
      "cell_type": "markdown",
      "source": [
        "## Creating data to view and fit"
      ],
      "metadata": {
        "id": "gPHn8etm2P2P"
      }
    },
    {
      "cell_type": "code",
      "source": [
        "from sklearn.datasets import make_circles\n",
        "\n",
        "# Make 1000 examples\n",
        "n_samples = 10000\n",
        "\n",
        "# Create circles\n",
        "X, y = make_circles(n_samples, \n",
        "                    noise=0.03,\n",
        "                    random_state=42)"
      ],
      "metadata": {
        "id": "lYGEl5We2VlY"
      },
      "execution_count": 1,
      "outputs": []
    },
    {
      "cell_type": "code",
      "source": [
        "# Check the features\n",
        "X"
      ],
      "metadata": {
        "colab": {
          "base_uri": "https://localhost:8080/"
        },
        "id": "wwtHWLey3NYf",
        "outputId": "0e0ddba2-94a8-4307-b603-82b6c69930e6"
      },
      "execution_count": 2,
      "outputs": [
        {
          "output_type": "execute_result",
          "data": {
            "text/plain": [
              "array([[ 0.0464692 ,  0.82477834],\n",
              "       [ 1.00506323, -0.43335153],\n",
              "       [-0.58348442,  0.79452834],\n",
              "       ...,\n",
              "       [ 0.6854581 ,  0.37297955],\n",
              "       [ 0.47440334,  0.88491997],\n",
              "       [-0.67440999,  0.26094865]])"
            ]
          },
          "metadata": {},
          "execution_count": 2
        }
      ]
    },
    {
      "cell_type": "code",
      "source": [
        "# Check the labels\n",
        "y"
      ],
      "metadata": {
        "colab": {
          "base_uri": "https://localhost:8080/"
        },
        "id": "L5cqMJSq3Te9",
        "outputId": "37d630d3-6b55-40f4-adff-aab0807c346b"
      },
      "execution_count": 3,
      "outputs": [
        {
          "output_type": "execute_result",
          "data": {
            "text/plain": [
              "array([1, 0, 0, ..., 1, 0, 1])"
            ]
          },
          "metadata": {},
          "execution_count": 3
        }
      ]
    },
    {
      "cell_type": "markdown",
      "source": [
        "The data is a little hard to understand right now... let´s visualize it."
      ],
      "metadata": {
        "id": "zPbwAHsK3xtx"
      }
    },
    {
      "cell_type": "code",
      "source": [
        "import pandas as pd\n",
        "circles = pd.DataFrame({\"X0\":X[:, 0], \"X1\":X[:, 1], \"label\":y})\n",
        "circles"
      ],
      "metadata": {
        "colab": {
          "base_uri": "https://localhost:8080/",
          "height": 424
        },
        "id": "5mrzonXt3q8O",
        "outputId": "6e9611da-8559-49f8-db4d-6fdcaee0e8df"
      },
      "execution_count": 4,
      "outputs": [
        {
          "output_type": "execute_result",
          "data": {
            "text/plain": [
              "            X0        X1  label\n",
              "0     0.046469  0.824778      1\n",
              "1     1.005063 -0.433352      0\n",
              "2    -0.583484  0.794528      0\n",
              "3     0.984783 -0.325179      0\n",
              "4     0.829930 -0.547223      0\n",
              "...        ...       ...    ...\n",
              "9995  0.505764  0.662722      1\n",
              "9996  0.790650  0.218306      1\n",
              "9997  0.685458  0.372980      1\n",
              "9998  0.474403  0.884920      0\n",
              "9999 -0.674410  0.260949      1\n",
              "\n",
              "[10000 rows x 3 columns]"
            ],
            "text/html": [
              "\n",
              "  <div id=\"df-ee00bd22-98e0-46ab-8161-194810c2bc2a\">\n",
              "    <div class=\"colab-df-container\">\n",
              "      <div>\n",
              "<style scoped>\n",
              "    .dataframe tbody tr th:only-of-type {\n",
              "        vertical-align: middle;\n",
              "    }\n",
              "\n",
              "    .dataframe tbody tr th {\n",
              "        vertical-align: top;\n",
              "    }\n",
              "\n",
              "    .dataframe thead th {\n",
              "        text-align: right;\n",
              "    }\n",
              "</style>\n",
              "<table border=\"1\" class=\"dataframe\">\n",
              "  <thead>\n",
              "    <tr style=\"text-align: right;\">\n",
              "      <th></th>\n",
              "      <th>X0</th>\n",
              "      <th>X1</th>\n",
              "      <th>label</th>\n",
              "    </tr>\n",
              "  </thead>\n",
              "  <tbody>\n",
              "    <tr>\n",
              "      <th>0</th>\n",
              "      <td>0.046469</td>\n",
              "      <td>0.824778</td>\n",
              "      <td>1</td>\n",
              "    </tr>\n",
              "    <tr>\n",
              "      <th>1</th>\n",
              "      <td>1.005063</td>\n",
              "      <td>-0.433352</td>\n",
              "      <td>0</td>\n",
              "    </tr>\n",
              "    <tr>\n",
              "      <th>2</th>\n",
              "      <td>-0.583484</td>\n",
              "      <td>0.794528</td>\n",
              "      <td>0</td>\n",
              "    </tr>\n",
              "    <tr>\n",
              "      <th>3</th>\n",
              "      <td>0.984783</td>\n",
              "      <td>-0.325179</td>\n",
              "      <td>0</td>\n",
              "    </tr>\n",
              "    <tr>\n",
              "      <th>4</th>\n",
              "      <td>0.829930</td>\n",
              "      <td>-0.547223</td>\n",
              "      <td>0</td>\n",
              "    </tr>\n",
              "    <tr>\n",
              "      <th>...</th>\n",
              "      <td>...</td>\n",
              "      <td>...</td>\n",
              "      <td>...</td>\n",
              "    </tr>\n",
              "    <tr>\n",
              "      <th>9995</th>\n",
              "      <td>0.505764</td>\n",
              "      <td>0.662722</td>\n",
              "      <td>1</td>\n",
              "    </tr>\n",
              "    <tr>\n",
              "      <th>9996</th>\n",
              "      <td>0.790650</td>\n",
              "      <td>0.218306</td>\n",
              "      <td>1</td>\n",
              "    </tr>\n",
              "    <tr>\n",
              "      <th>9997</th>\n",
              "      <td>0.685458</td>\n",
              "      <td>0.372980</td>\n",
              "      <td>1</td>\n",
              "    </tr>\n",
              "    <tr>\n",
              "      <th>9998</th>\n",
              "      <td>0.474403</td>\n",
              "      <td>0.884920</td>\n",
              "      <td>0</td>\n",
              "    </tr>\n",
              "    <tr>\n",
              "      <th>9999</th>\n",
              "      <td>-0.674410</td>\n",
              "      <td>0.260949</td>\n",
              "      <td>1</td>\n",
              "    </tr>\n",
              "  </tbody>\n",
              "</table>\n",
              "<p>10000 rows × 3 columns</p>\n",
              "</div>\n",
              "      <button class=\"colab-df-convert\" onclick=\"convertToInteractive('df-ee00bd22-98e0-46ab-8161-194810c2bc2a')\"\n",
              "              title=\"Convert this dataframe to an interactive table.\"\n",
              "              style=\"display:none;\">\n",
              "        \n",
              "  <svg xmlns=\"http://www.w3.org/2000/svg\" height=\"24px\"viewBox=\"0 0 24 24\"\n",
              "       width=\"24px\">\n",
              "    <path d=\"M0 0h24v24H0V0z\" fill=\"none\"/>\n",
              "    <path d=\"M18.56 5.44l.94 2.06.94-2.06 2.06-.94-2.06-.94-.94-2.06-.94 2.06-2.06.94zm-11 1L8.5 8.5l.94-2.06 2.06-.94-2.06-.94L8.5 2.5l-.94 2.06-2.06.94zm10 10l.94 2.06.94-2.06 2.06-.94-2.06-.94-.94-2.06-.94 2.06-2.06.94z\"/><path d=\"M17.41 7.96l-1.37-1.37c-.4-.4-.92-.59-1.43-.59-.52 0-1.04.2-1.43.59L10.3 9.45l-7.72 7.72c-.78.78-.78 2.05 0 2.83L4 21.41c.39.39.9.59 1.41.59.51 0 1.02-.2 1.41-.59l7.78-7.78 2.81-2.81c.8-.78.8-2.07 0-2.86zM5.41 20L4 18.59l7.72-7.72 1.47 1.35L5.41 20z\"/>\n",
              "  </svg>\n",
              "      </button>\n",
              "      \n",
              "  <style>\n",
              "    .colab-df-container {\n",
              "      display:flex;\n",
              "      flex-wrap:wrap;\n",
              "      gap: 12px;\n",
              "    }\n",
              "\n",
              "    .colab-df-convert {\n",
              "      background-color: #E8F0FE;\n",
              "      border: none;\n",
              "      border-radius: 50%;\n",
              "      cursor: pointer;\n",
              "      display: none;\n",
              "      fill: #1967D2;\n",
              "      height: 32px;\n",
              "      padding: 0 0 0 0;\n",
              "      width: 32px;\n",
              "    }\n",
              "\n",
              "    .colab-df-convert:hover {\n",
              "      background-color: #E2EBFA;\n",
              "      box-shadow: 0px 1px 2px rgba(60, 64, 67, 0.3), 0px 1px 3px 1px rgba(60, 64, 67, 0.15);\n",
              "      fill: #174EA6;\n",
              "    }\n",
              "\n",
              "    [theme=dark] .colab-df-convert {\n",
              "      background-color: #3B4455;\n",
              "      fill: #D2E3FC;\n",
              "    }\n",
              "\n",
              "    [theme=dark] .colab-df-convert:hover {\n",
              "      background-color: #434B5C;\n",
              "      box-shadow: 0px 1px 3px 1px rgba(0, 0, 0, 0.15);\n",
              "      filter: drop-shadow(0px 1px 2px rgba(0, 0, 0, 0.3));\n",
              "      fill: #FFFFFF;\n",
              "    }\n",
              "  </style>\n",
              "\n",
              "      <script>\n",
              "        const buttonEl =\n",
              "          document.querySelector('#df-ee00bd22-98e0-46ab-8161-194810c2bc2a button.colab-df-convert');\n",
              "        buttonEl.style.display =\n",
              "          google.colab.kernel.accessAllowed ? 'block' : 'none';\n",
              "\n",
              "        async function convertToInteractive(key) {\n",
              "          const element = document.querySelector('#df-ee00bd22-98e0-46ab-8161-194810c2bc2a');\n",
              "          const dataTable =\n",
              "            await google.colab.kernel.invokeFunction('convertToInteractive',\n",
              "                                                     [key], {});\n",
              "          if (!dataTable) return;\n",
              "\n",
              "          const docLinkHtml = 'Like what you see? Visit the ' +\n",
              "            '<a target=\"_blank\" href=https://colab.research.google.com/notebooks/data_table.ipynb>data table notebook</a>'\n",
              "            + ' to learn more about interactive tables.';\n",
              "          element.innerHTML = '';\n",
              "          dataTable['output_type'] = 'display_data';\n",
              "          await google.colab.output.renderOutput(dataTable, element);\n",
              "          const docLink = document.createElement('div');\n",
              "          docLink.innerHTML = docLinkHtml;\n",
              "          element.appendChild(docLink);\n",
              "        }\n",
              "      </script>\n",
              "    </div>\n",
              "  </div>\n",
              "  "
            ]
          },
          "metadata": {},
          "execution_count": 4
        }
      ]
    },
    {
      "cell_type": "code",
      "source": [
        "# Visualize with a plot\n",
        "import matplotlib.pyplot as plt\n",
        "plt.scatter(X[:, 0], X[:, 1], c=y, cmap=plt.cm.RdYlBu)"
      ],
      "metadata": {
        "colab": {
          "base_uri": "https://localhost:8080/",
          "height": 283
        },
        "id": "WlBKacPt4lWd",
        "outputId": "3eeb74c8-3bd6-4d9d-f34f-827c3d4778fe"
      },
      "execution_count": 5,
      "outputs": [
        {
          "output_type": "execute_result",
          "data": {
            "text/plain": [
              "<matplotlib.collections.PathCollection at 0x7f5ea9f87410>"
            ]
          },
          "metadata": {},
          "execution_count": 5
        },
        {
          "output_type": "display_data",
          "data": {
            "text/plain": [
              "<Figure size 432x288 with 1 Axes>"
            ],
            "image/png": "[encoded data removed]"
          },
          "metadata": {
            "needs_background": "light"
          }
        }
      ]
    },
    {
      "cell_type": "markdown",
      "source": [
        "## Input and output shapes"
      ],
      "metadata": {
        "id": "dqSFxSvs5Mck"
      }
    },
    {
      "cell_type": "code",
      "source": [
        "# Check the shape of our features and labels\n",
        "X.shape, y.shape"
      ],
      "metadata": {
        "colab": {
          "base_uri": "https://localhost:8080/"
        },
        "id": "WoSkxBX0nNO9",
        "outputId": "52f30cb2-c705-440a-87e7-5d47ad30788a"
      },
      "execution_count": 6,
      "outputs": [
        {
          "output_type": "execute_result",
          "data": {
            "text/plain": [
              "((10000, 2), (10000,))"
            ]
          },
          "metadata": {},
          "execution_count": 6
        }
      ]
    },
    {
      "cell_type": "code",
      "source": [
        "X[:10], y[:10]"
      ],
      "metadata": {
        "colab": {
          "base_uri": "https://localhost:8080/"
        },
        "id": "16wtKBnLnWTa",
        "outputId": "c90e1ee6-70ff-44c3-9906-86b09652c022"
      },
      "execution_count": 7,
      "outputs": [
        {
          "output_type": "execute_result",
          "data": {
            "text/plain": [
              "(array([[ 0.0464692 ,  0.82477834],\n",
              "        [ 1.00506323, -0.43335153],\n",
              "        [-0.58348442,  0.79452834],\n",
              "        [ 0.98478298, -0.32517879],\n",
              "        [ 0.82993028, -0.54722305],\n",
              "        [-0.13392877,  0.77624858],\n",
              "        [ 0.77919743,  0.64581132],\n",
              "        [ 0.72295477,  0.17383084],\n",
              "        [-0.12180665,  0.79695076],\n",
              "        [ 0.84952936,  0.50567829]]), array([1, 0, 0, 0, 0, 1, 0, 1, 1, 0]))"
            ]
          },
          "metadata": {},
          "execution_count": 7
        }
      ]
    },
    {
      "cell_type": "code",
      "source": [
        "# How many samples we're working with\n",
        "len(X), len(y)"
      ],
      "metadata": {
        "colab": {
          "base_uri": "https://localhost:8080/"
        },
        "id": "KViBC56en3tm",
        "outputId": "04b1eefa-87ec-4585-9daf-d31147aa12c1"
      },
      "execution_count": 8,
      "outputs": [
        {
          "output_type": "execute_result",
          "data": {
            "text/plain": [
              "(10000, 10000)"
            ]
          },
          "metadata": {},
          "execution_count": 8
        }
      ]
    },
    {
      "cell_type": "code",
      "source": [
        "# View the first example of features and labels\n",
        "X[10], y[10]"
      ],
      "metadata": {
        "colab": {
          "base_uri": "https://localhost:8080/"
        },
        "id": "MpcovOF_oFZf",
        "outputId": "942ac72f-e43d-4ced-8706-739bf903687c"
      },
      "execution_count": 9,
      "outputs": [
        {
          "output_type": "execute_result",
          "data": {
            "text/plain": [
              "(array([-0.92287711, -0.31288882]), 0)"
            ]
          },
          "metadata": {},
          "execution_count": 9
        }
      ]
    },
    {
      "cell_type": "markdown",
      "source": [
        "## Steps in modelling\n",
        "First try"
      ],
      "metadata": {
        "id": "F9Np29oorHlB"
      }
    },
    {
      "cell_type": "code",
      "source": [
        "# Create training and test sets\n",
        "from sklearn.model_selection import train_test_split\n",
        "X_train, X_test, y_train, y_test = train_test_split(X,\n",
        "                                                    y,\n",
        "                                                    test_size=0.2,\n",
        "                                                    random_state=42\n",
        ")\n",
        "len(X), len(X_train), len(X_test)"
      ],
      "metadata": {
        "colab": {
          "base_uri": "https://localhost:8080/"
        },
        "id": "WTp793swyCVo",
        "outputId": "0225b7c5-5d65-4631-ed78-8fcf407b8f03"
      },
      "execution_count": 10,
      "outputs": [
        {
          "output_type": "execute_result",
          "data": {
            "text/plain": [
              "(10000, 8000, 2000)"
            ]
          },
          "metadata": {},
          "execution_count": 10
        }
      ]
    },
    {
      "cell_type": "code",
      "source": [
        "import tensorflow as tf\n",
        "\n",
        "# Build a neural network to fit the data\n",
        "tf.random.set_seed(42)\n",
        "\n",
        "# 1. Create a model\n",
        "callback = tf.keras.callbacks.EarlyStopping(monitor=\"accuracy\", mode=\"min\", patience=10)\n",
        "first_model = tf.keras.Sequential([\n",
        "  tf.keras.Input(shape = 2),\n",
        "  tf.keras.layers.Dense(100, activation = \"relu\"),\n",
        "  #tf.keras.layers.Dense(100),\n",
        "  #tf.keras.layers.Dense(100),\n",
        "  tf.keras.layers.Dense(1, activation=\"sigmoid\"),\n",
        "])\n",
        "\n",
        "# 2. Compile the model\n",
        "first_model.compile(loss=tf.keras.losses.BinaryCrossentropy(),\n",
        "              optimizer=tf.keras.optimizers.Adam(learning_rate=3e-4),\n",
        "              metrics=[\"accuracy\"])\n",
        "\n",
        "# 3. Fit the model\n",
        "history = first_model.fit(X_train, y_train, \n",
        "                          #X, y,\n",
        "                          epochs=10000, callbacks=[callback])\n",
        "\n",
        "# 4. Evaluate the model\n",
        "first_model.evaluate(X_test, y_test)"
      ],
      "metadata": {
        "colab": {
          "base_uri": "https://localhost:8080/"
        },
        "id": "gtd7voOPrMgc",
        "outputId": "74fd6741-0644-4c8b-c8f5-21ed72cb50af"
      },
      "execution_count": 11,
      "outputs": [
        {
          "output_type": "stream",
          "name": "stdout",
          "text": [
            "Epoch 1/10000\n",
            "250/250 [==============================] - 1s 2ms/step - loss: 0.6949 - accuracy: 0.4976\n",
            "Epoch 2/10000\n",
            "250/250 [==============================] - 0s 2ms/step - loss: 0.6863 - accuracy: 0.4974\n",
            "Epoch 3/10000\n",
            "250/250 [==============================] - 0s 2ms/step - loss: 0.6789 - accuracy: 0.5045\n",
            "Epoch 4/10000\n",
            "250/250 [==============================] - 0s 2ms/step - loss: 0.6699 - accuracy: 0.5665\n",
            "Epoch 5/10000\n",
            "250/250 [==============================] - 0s 2ms/step - loss: 0.6591 - accuracy: 0.7505\n",
            "Epoch 6/10000\n",
            "250/250 [==============================] - 0s 2ms/step - loss: 0.6468 - accuracy: 0.8911\n",
            "Epoch 7/10000\n",
            "250/250 [==============================] - 0s 2ms/step - loss: 0.6333 - accuracy: 0.9345\n",
            "Epoch 8/10000\n",
            "250/250 [==============================] - 0s 2ms/step - loss: 0.6191 - accuracy: 0.9621\n",
            "Epoch 9/10000\n",
            "250/250 [==============================] - 0s 2ms/step - loss: 0.6037 - accuracy: 0.9799\n",
            "Epoch 10/10000\n",
            "250/250 [==============================] - 0s 2ms/step - loss: 0.5880 - accuracy: 0.9876\n",
            "Epoch 11/10000\n",
            "250/250 [==============================] - 0s 2ms/step - loss: 0.5712 - accuracy: 0.9916\n",
            "Epoch 12/10000\n",
            "250/250 [==============================] - 0s 2ms/step - loss: 0.5539 - accuracy: 0.9939\n",
            "63/63 [==============================] - 0s 2ms/step - loss: 0.5448 - accuracy: 0.9990\n"
          ]
        },
        {
          "output_type": "execute_result",
          "data": {
            "text/plain": [
              "[0.5448473691940308, 0.9990000128746033]"
            ]
          },
          "metadata": {},
          "execution_count": 11
        }
      ]
    },
    {
      "cell_type": "code",
      "source": [
        "# Plot history\n",
        "import pandas as pd\n",
        "pd.DataFrame(history.history).plot()\n",
        "plt.ylabel(\"loss\")\n",
        "plt.xlabel(\"epochs\")"
      ],
      "metadata": {
        "colab": {
          "base_uri": "https://localhost:8080/",
          "height": 297
        },
        "id": "IvXhqRqSxS8z",
        "outputId": "fdfff6cf-c548-43da-940d-aa027a329bd0"
      },
      "execution_count": 12,
      "outputs": [
        {
          "output_type": "execute_result",
          "data": {
            "text/plain": [
              "Text(0.5, 0, 'epochs')"
            ]
          },
          "metadata": {},
          "execution_count": 12
        },
        {
          "output_type": "display_data",
          "data": {
            "text/plain": [
              "<Figure size 432x288 with 1 Axes>"
            ],
            "image/png": "[encoded data removed]"
          },
          "metadata": {
            "needs_background": "light"
          }
        }
      ]
    },
    {
      "cell_type": "code",
      "source": [
        "# Save the model\n",
        "first_model.save(\"binary_classification_model.h5\")"
      ],
      "metadata": {
        "id": "qJDN69DX9P0-"
      },
      "execution_count": 13,
      "outputs": []
    },
    {
      "cell_type": "code",
      "source": [
        "# Download the model from Google Colab\n",
        "from google.colab import files\n",
        "files.download(\"/content/binary_classification_model.h5\")"
      ],
      "metadata": {
        "colab": {
          "base_uri": "https://localhost:8080/",
          "height": 17
        },
        "id": "QLjwrzgv96NL",
        "outputId": "37c7ddab-16a3-4713-c763-0e1a6b6b1de9"
      },
      "execution_count": 14,
      "outputs": [
        {
          "output_type": "display_data",
          "data": {
            "text/plain": [
              "<IPython.core.display.Javascript object>"
            ],
            "application/javascript": [
              "\n",
              "    async function download(id, filename, size) {\n",
              "      if (!google.colab.kernel.accessAllowed) {\n",
              "        return;\n",
              "      }\n",
              "      const div = document.createElement('div');\n",
              "      const label = document.createElement('label');\n",
              "      label.textContent = `Downloading \"${filename}\": `;\n",
              "      div.appendChild(label);\n",
              "      const progress = document.createElement('progress');\n",
              "      progress.max = size;\n",
              "      div.appendChild(progress);\n",
              "      document.body.appendChild(div);\n",
              "\n",
              "      const buffers = [];\n",
              "      let downloaded = 0;\n",
              "\n",
              "      const channel = await google.colab.kernel.comms.open(id);\n",
              "      // Send a message to notify the kernel that we're ready.\n",
              "      channel.send({})\n",
              "\n",
              "      for await (const message of channel.messages) {\n",
              "        // Send a message to notify the kernel that we're ready.\n",
              "        channel.send({})\n",
              "        if (message.buffers) {\n",
              "          for (const buffer of message.buffers) {\n",
              "            buffers.push(buffer);\n",
              "            downloaded += buffer.byteLength;\n",
              "            progress.value = downloaded;\n",
              "          }\n",
              "        }\n",
              "      }\n",
              "      const blob = new Blob(buffers, {type: 'application/binary'});\n",
              "      const a = document.createElement('a');\n",
              "      a.href = window.URL.createObjectURL(blob);\n",
              "      a.download = filename;\n",
              "      div.appendChild(a);\n",
              "      a.click();\n",
              "      div.remove();\n",
              "    }\n",
              "  "
            ]
          },
          "metadata": {}
        },
        {
          "output_type": "display_data",
          "data": {
            "text/plain": [
              "<IPython.core.display.Javascript object>"
            ],
            "application/javascript": [
              "download(\"download_58726caa-5e46-4575-bc87-b00ae1b41fe0\", \"binary_classification_model.h5\", 30464)"
            ]
          },
          "metadata": {}
        }
      ]
    },
    {
      "cell_type": "markdown",
      "source": [
        "## Steps in modelling\n",
        "\n",
        "The steps in modelling with TensorFlow are typically:\n",
        "\n",
        "1. Create or import a model\n",
        "2. Compile the model\n",
        "3. Fit the model\n",
        "4. Evaluate the model\n",
        "5. Tweak\n",
        "6. Evaluate..."
      ],
      "metadata": {
        "id": "39hs40j22d4x"
      }
    },
    {
      "cell_type": "code",
      "source": [
        "# Set the random seed\n",
        "tf.random.set_seed(42)\n",
        "\n",
        "# 1. Create the model using the Sequential API\n",
        "model_2 = tf.keras.Sequential([\n",
        "  tf.keras.layers.Dense(1)\n",
        "])\n",
        "\n",
        "# 2. Compile the model\n",
        "model_2.compile(loss=tf.keras.losses.BinaryCrossentropy(),\n",
        "                optimizer=tf.keras.optimizers.SGD(),\n",
        "                metrics=[\"accuracy\"])\n",
        "\n",
        "# 3. Fit the model \n",
        "model_2.fit(X, y,epochs=5)"
      ],
      "metadata": {
        "colab": {
          "base_uri": "https://localhost:8080/"
        },
        "id": "ioZkgrhL2_Yx",
        "outputId": "3d230283-e38f-435f-bfe8-fc42f07f03e0"
      },
      "execution_count": 15,
      "outputs": [
        {
          "output_type": "stream",
          "name": "stdout",
          "text": [
            "Epoch 1/5\n",
            "313/313 [==============================] - 1s 2ms/step - loss: 0.8730 - accuracy: 0.4962\n",
            "Epoch 2/5\n",
            "313/313 [==============================] - 1s 2ms/step - loss: 0.6938 - accuracy: 0.4964\n",
            "Epoch 3/5\n",
            "313/313 [==============================] - 0s 2ms/step - loss: 0.6939 - accuracy: 0.4960\n",
            "Epoch 4/5\n",
            "313/313 [==============================] - 0s 2ms/step - loss: 0.6938 - accuracy: 0.5015\n",
            "Epoch 5/5\n",
            "313/313 [==============================] - 1s 2ms/step - loss: 0.6938 - accuracy: 0.4997\n"
          ]
        },
        {
          "output_type": "execute_result",
          "data": {
            "text/plain": [
              "<keras.callbacks.History at 0x7f5e3cda7cd0>"
            ]
          },
          "metadata": {},
          "execution_count": 15
        }
      ]
    },
    {
      "cell_type": "code",
      "source": [
        "# Lets try and improve our model by training for longer..\n",
        "model_2.fit(X, y, epochs=200)\n",
        "model_2.evaluate(X, y)"
      ],
      "metadata": {
        "colab": {
          "base_uri": "https://localhost:8080/"
        },
        "id": "XEDBDOEv5bJH",
        "outputId": "3495dbfc-39d8-45de-e108-92831d280297"
      },
      "execution_count": 16,
      "outputs": [
        {
          "output_type": "stream",
          "name": "stdout",
          "text": [
            "Epoch 1/200\n",
            "313/313 [==============================] - 1s 2ms/step - loss: 0.6936 - accuracy: 0.4958\n",
            "Epoch 2/200\n",
            "313/313 [==============================] - 0s 2ms/step - loss: 0.6938 - accuracy: 0.4954\n",
            "Epoch 3/200\n",
            "313/313 [==============================] - 1s 2ms/step - loss: 0.6939 - accuracy: 0.4960\n",
            "Epoch 4/200\n",
            "313/313 [==============================] - 1s 2ms/step - loss: 0.6938 - accuracy: 0.5015\n",
            "Epoch 5/200\n",
            "313/313 [==============================] - 1s 2ms/step - loss: 0.6938 - accuracy: 0.4997\n",
            "Epoch 6/200\n",
            "313/313 [==============================] - 0s 2ms/step - loss: 0.6940 - accuracy: 0.4953\n",
            "Epoch 7/200\n",
            "313/313 [==============================] - 1s 2ms/step - loss: 0.6941 - accuracy: 0.4883\n",
            "Epoch 8/200\n",
            "313/313 [==============================] - 1s 2ms/step - loss: 0.6938 - accuracy: 0.4974\n",
            "Epoch 9/200\n",
            "313/313 [==============================] - 0s 2ms/step - loss: 0.6939 - accuracy: 0.4977\n",
            "Epoch 10/200\n",
            "313/313 [==============================] - 0s 2ms/step - loss: 0.6940 - accuracy: 0.4977\n",
            "Epoch 11/200\n",
            "313/313 [==============================] - 1s 2ms/step - loss: 0.6940 - accuracy: 0.4901\n",
            "Epoch 12/200\n",
            "313/313 [==============================] - 1s 2ms/step - loss: 0.6939 - accuracy: 0.5048\n",
            "Epoch 13/200\n",
            "313/313 [==============================] - 1s 2ms/step - loss: 0.6939 - accuracy: 0.4921\n",
            "Epoch 14/200\n",
            "313/313 [==============================] - 0s 2ms/step - loss: 0.6940 - accuracy: 0.4914\n",
            "Epoch 15/200\n",
            "313/313 [==============================] - 1s 2ms/step - loss: 0.6935 - accuracy: 0.5056\n",
            "Epoch 16/200\n",
            "313/313 [==============================] - 0s 2ms/step - loss: 0.6941 - accuracy: 0.4942\n",
            "Epoch 17/200\n",
            "313/313 [==============================] - 1s 2ms/step - loss: 0.6936 - accuracy: 0.4958\n",
            "Epoch 18/200\n",
            "313/313 [==============================] - 0s 2ms/step - loss: 0.6940 - accuracy: 0.4945\n",
            "Epoch 19/200\n",
            "313/313 [==============================] - 1s 2ms/step - loss: 0.6940 - accuracy: 0.4915\n",
            "Epoch 20/200\n",
            "313/313 [==============================] - 0s 2ms/step - loss: 0.6940 - accuracy: 0.4872\n",
            "Epoch 21/200\n",
            "313/313 [==============================] - 1s 2ms/step - loss: 0.6938 - accuracy: 0.5002\n",
            "Epoch 22/200\n",
            "313/313 [==============================] - 1s 2ms/step - loss: 0.6939 - accuracy: 0.4955\n",
            "Epoch 23/200\n",
            "313/313 [==============================] - 1s 2ms/step - loss: 0.6938 - accuracy: 0.5007\n",
            "Epoch 24/200\n",
            "313/313 [==============================] - 1s 2ms/step - loss: 0.6937 - accuracy: 0.5017\n",
            "Epoch 25/200\n",
            "313/313 [==============================] - 1s 2ms/step - loss: 0.6940 - accuracy: 0.4951\n",
            "Epoch 26/200\n",
            "313/313 [==============================] - 1s 2ms/step - loss: 0.6939 - accuracy: 0.4819\n",
            "Epoch 27/200\n",
            "313/313 [==============================] - 0s 2ms/step - loss: 0.6940 - accuracy: 0.4989\n",
            "Epoch 28/200\n",
            "313/313 [==============================] - 1s 2ms/step - loss: 0.6938 - accuracy: 0.5034\n",
            "Epoch 29/200\n",
            "313/313 [==============================] - 1s 2ms/step - loss: 0.6939 - accuracy: 0.4968\n",
            "Epoch 30/200\n",
            "313/313 [==============================] - 1s 2ms/step - loss: 0.6940 - accuracy: 0.4896\n",
            "Epoch 31/200\n",
            "313/313 [==============================] - 1s 2ms/step - loss: 0.6938 - accuracy: 0.4910\n",
            "Epoch 32/200\n",
            "313/313 [==============================] - 0s 2ms/step - loss: 0.6938 - accuracy: 0.4966\n",
            "Epoch 33/200\n",
            "313/313 [==============================] - 0s 2ms/step - loss: 0.6939 - accuracy: 0.4934\n",
            "Epoch 34/200\n",
            "313/313 [==============================] - 1s 2ms/step - loss: 0.6938 - accuracy: 0.4878\n",
            "Epoch 35/200\n",
            "313/313 [==============================] - 1s 2ms/step - loss: 0.6940 - accuracy: 0.4893\n",
            "Epoch 36/200\n",
            "313/313 [==============================] - 0s 2ms/step - loss: 0.6939 - accuracy: 0.4903\n",
            "Epoch 37/200\n",
            "313/313 [==============================] - 1s 2ms/step - loss: 0.6940 - accuracy: 0.4874\n",
            "Epoch 38/200\n",
            "313/313 [==============================] - 1s 2ms/step - loss: 0.6935 - accuracy: 0.5102\n",
            "Epoch 39/200\n",
            "313/313 [==============================] - 1s 2ms/step - loss: 0.6939 - accuracy: 0.4977\n",
            "Epoch 40/200\n",
            "313/313 [==============================] - 0s 2ms/step - loss: 0.6937 - accuracy: 0.4999\n",
            "Epoch 41/200\n",
            "313/313 [==============================] - 1s 2ms/step - loss: 0.6937 - accuracy: 0.4955\n",
            "Epoch 42/200\n",
            "313/313 [==============================] - 0s 2ms/step - loss: 0.6938 - accuracy: 0.4962\n",
            "Epoch 43/200\n",
            "313/313 [==============================] - 1s 2ms/step - loss: 0.6938 - accuracy: 0.4965\n",
            "Epoch 44/200\n",
            "313/313 [==============================] - 1s 2ms/step - loss: 0.6939 - accuracy: 0.4944\n",
            "Epoch 45/200\n",
            "313/313 [==============================] - 0s 2ms/step - loss: 0.6935 - accuracy: 0.5043\n",
            "Epoch 46/200\n",
            "313/313 [==============================] - 0s 2ms/step - loss: 0.6938 - accuracy: 0.4936\n",
            "Epoch 47/200\n",
            "313/313 [==============================] - 1s 2ms/step - loss: 0.6939 - accuracy: 0.4969\n",
            "Epoch 48/200\n",
            "313/313 [==============================] - 0s 2ms/step - loss: 0.6938 - accuracy: 0.4980\n",
            "Epoch 49/200\n",
            "313/313 [==============================] - 1s 2ms/step - loss: 0.6940 - accuracy: 0.4945\n",
            "Epoch 50/200\n",
            "313/313 [==============================] - 0s 2ms/step - loss: 0.6940 - accuracy: 0.4906\n",
            "Epoch 51/200\n",
            "313/313 [==============================] - 1s 2ms/step - loss: 0.6937 - accuracy: 0.4947\n",
            "Epoch 52/200\n",
            "313/313 [==============================] - 1s 2ms/step - loss: 0.6938 - accuracy: 0.4992\n",
            "Epoch 53/200\n",
            "313/313 [==============================] - 1s 2ms/step - loss: 0.6940 - accuracy: 0.4935\n",
            "Epoch 54/200\n",
            "313/313 [==============================] - 1s 2ms/step - loss: 0.6939 - accuracy: 0.4930\n",
            "Epoch 55/200\n",
            "313/313 [==============================] - 1s 2ms/step - loss: 0.6937 - accuracy: 0.5114\n",
            "Epoch 56/200\n",
            "313/313 [==============================] - 1s 2ms/step - loss: 0.6938 - accuracy: 0.4954\n",
            "Epoch 57/200\n",
            "313/313 [==============================] - 1s 2ms/step - loss: 0.6938 - accuracy: 0.4968\n",
            "Epoch 58/200\n",
            "313/313 [==============================] - 1s 2ms/step - loss: 0.6938 - accuracy: 0.4963\n",
            "Epoch 59/200\n",
            "313/313 [==============================] - 1s 2ms/step - loss: 0.6938 - accuracy: 0.5051\n",
            "Epoch 60/200\n",
            "313/313 [==============================] - 1s 2ms/step - loss: 0.6940 - accuracy: 0.4947\n",
            "Epoch 61/200\n",
            "313/313 [==============================] - 1s 2ms/step - loss: 0.6940 - accuracy: 0.4903\n",
            "Epoch 62/200\n",
            "313/313 [==============================] - 0s 2ms/step - loss: 0.6939 - accuracy: 0.4929\n",
            "Epoch 63/200\n",
            "313/313 [==============================] - 1s 2ms/step - loss: 0.6940 - accuracy: 0.4923\n",
            "Epoch 64/200\n",
            "313/313 [==============================] - 1s 2ms/step - loss: 0.6940 - accuracy: 0.4953\n",
            "Epoch 65/200\n",
            "313/313 [==============================] - 1s 2ms/step - loss: 0.6939 - accuracy: 0.4993\n",
            "Epoch 66/200\n",
            "313/313 [==============================] - 1s 2ms/step - loss: 0.6935 - accuracy: 0.5040\n",
            "Epoch 67/200\n",
            "313/313 [==============================] - 1s 2ms/step - loss: 0.6938 - accuracy: 0.4967\n",
            "Epoch 68/200\n",
            "313/313 [==============================] - 1s 2ms/step - loss: 0.6942 - accuracy: 0.4878\n",
            "Epoch 69/200\n",
            "313/313 [==============================] - 1s 2ms/step - loss: 0.6939 - accuracy: 0.4918\n",
            "Epoch 70/200\n",
            "313/313 [==============================] - 0s 2ms/step - loss: 0.6940 - accuracy: 0.4973\n",
            "Epoch 71/200\n",
            "313/313 [==============================] - 1s 2ms/step - loss: 0.6938 - accuracy: 0.4961\n",
            "Epoch 72/200\n",
            "313/313 [==============================] - 1s 2ms/step - loss: 0.6939 - accuracy: 0.5009\n",
            "Epoch 73/200\n",
            "313/313 [==============================] - 0s 2ms/step - loss: 0.6938 - accuracy: 0.4929\n",
            "Epoch 74/200\n",
            "313/313 [==============================] - 1s 2ms/step - loss: 0.6939 - accuracy: 0.4882\n",
            "Epoch 75/200\n",
            "313/313 [==============================] - 1s 2ms/step - loss: 0.6935 - accuracy: 0.5045\n",
            "Epoch 76/200\n",
            "313/313 [==============================] - 0s 2ms/step - loss: 0.6939 - accuracy: 0.4927\n",
            "Epoch 77/200\n",
            "313/313 [==============================] - 1s 2ms/step - loss: 0.6939 - accuracy: 0.4882\n",
            "Epoch 78/200\n",
            "313/313 [==============================] - 1s 2ms/step - loss: 0.6940 - accuracy: 0.4931\n",
            "Epoch 79/200\n",
            "313/313 [==============================] - 1s 2ms/step - loss: 0.6938 - accuracy: 0.4987\n",
            "Epoch 80/200\n",
            "313/313 [==============================] - 0s 2ms/step - loss: 0.6940 - accuracy: 0.4920\n",
            "Epoch 81/200\n",
            "313/313 [==============================] - 1s 2ms/step - loss: 0.6938 - accuracy: 0.4963\n",
            "Epoch 82/200\n",
            "313/313 [==============================] - 1s 2ms/step - loss: 0.6936 - accuracy: 0.4934\n",
            "Epoch 83/200\n",
            "313/313 [==============================] - 1s 2ms/step - loss: 0.6940 - accuracy: 0.4878\n",
            "Epoch 84/200\n",
            "313/313 [==============================] - 1s 2ms/step - loss: 0.6940 - accuracy: 0.4875\n",
            "Epoch 85/200\n",
            "313/313 [==============================] - 1s 2ms/step - loss: 0.6938 - accuracy: 0.4998\n",
            "Epoch 86/200\n",
            "313/313 [==============================] - 1s 2ms/step - loss: 0.6940 - accuracy: 0.4926\n",
            "Epoch 87/200\n",
            "313/313 [==============================] - 1s 2ms/step - loss: 0.6940 - accuracy: 0.5010\n",
            "Epoch 88/200\n",
            "313/313 [==============================] - 1s 2ms/step - loss: 0.6939 - accuracy: 0.4900\n",
            "Epoch 89/200\n",
            "313/313 [==============================] - 1s 2ms/step - loss: 0.6936 - accuracy: 0.5005\n",
            "Epoch 90/200\n",
            "313/313 [==============================] - 1s 2ms/step - loss: 0.6937 - accuracy: 0.5016\n",
            "Epoch 91/200\n",
            "313/313 [==============================] - 1s 2ms/step - loss: 0.6939 - accuracy: 0.4964\n",
            "Epoch 92/200\n",
            "313/313 [==============================] - 1s 2ms/step - loss: 0.6939 - accuracy: 0.4907\n",
            "Epoch 93/200\n",
            "313/313 [==============================] - 1s 2ms/step - loss: 0.6940 - accuracy: 0.5004\n",
            "Epoch 94/200\n",
            "313/313 [==============================] - 1s 2ms/step - loss: 0.6939 - accuracy: 0.4977\n",
            "Epoch 95/200\n",
            "313/313 [==============================] - 1s 2ms/step - loss: 0.6941 - accuracy: 0.4912\n",
            "Epoch 96/200\n",
            "313/313 [==============================] - 1s 2ms/step - loss: 0.6938 - accuracy: 0.4979\n",
            "Epoch 97/200\n",
            "313/313 [==============================] - 1s 2ms/step - loss: 0.6937 - accuracy: 0.5001\n",
            "Epoch 98/200\n",
            "313/313 [==============================] - 1s 2ms/step - loss: 0.6940 - accuracy: 0.4889\n",
            "Epoch 99/200\n",
            "313/313 [==============================] - 1s 2ms/step - loss: 0.6939 - accuracy: 0.5000\n",
            "Epoch 100/200\n",
            "313/313 [==============================] - 1s 2ms/step - loss: 0.6940 - accuracy: 0.4993\n",
            "Epoch 101/200\n",
            "313/313 [==============================] - 1s 2ms/step - loss: 0.6938 - accuracy: 0.4947\n",
            "Epoch 102/200\n",
            "313/313 [==============================] - 1s 2ms/step - loss: 0.6935 - accuracy: 0.4971\n",
            "Epoch 103/200\n",
            "313/313 [==============================] - 1s 2ms/step - loss: 0.6939 - accuracy: 0.4921\n",
            "Epoch 104/200\n",
            "313/313 [==============================] - 1s 2ms/step - loss: 0.6940 - accuracy: 0.4908\n",
            "Epoch 105/200\n",
            "313/313 [==============================] - 1s 2ms/step - loss: 0.6939 - accuracy: 0.4967\n",
            "Epoch 106/200\n",
            "313/313 [==============================] - 1s 2ms/step - loss: 0.6940 - accuracy: 0.4909\n",
            "Epoch 107/200\n",
            "313/313 [==============================] - 1s 2ms/step - loss: 0.6937 - accuracy: 0.5046\n",
            "Epoch 108/200\n",
            "313/313 [==============================] - 1s 2ms/step - loss: 0.6941 - accuracy: 0.4911\n",
            "Epoch 109/200\n",
            "313/313 [==============================] - 1s 2ms/step - loss: 0.6937 - accuracy: 0.5049\n",
            "Epoch 110/200\n",
            "313/313 [==============================] - 1s 2ms/step - loss: 0.6938 - accuracy: 0.4943\n",
            "Epoch 111/200\n",
            "313/313 [==============================] - 1s 2ms/step - loss: 0.6938 - accuracy: 0.4986\n",
            "Epoch 112/200\n",
            "313/313 [==============================] - 1s 2ms/step - loss: 0.6938 - accuracy: 0.4924\n",
            "Epoch 113/200\n",
            "313/313 [==============================] - 1s 2ms/step - loss: 0.6936 - accuracy: 0.4999\n",
            "Epoch 114/200\n",
            "313/313 [==============================] - 1s 2ms/step - loss: 0.6939 - accuracy: 0.4861\n",
            "Epoch 115/200\n",
            "313/313 [==============================] - 1s 2ms/step - loss: 0.6937 - accuracy: 0.5004\n",
            "Epoch 116/200\n",
            "313/313 [==============================] - 1s 2ms/step - loss: 0.6940 - accuracy: 0.4990\n",
            "Epoch 117/200\n",
            "313/313 [==============================] - 1s 2ms/step - loss: 0.6937 - accuracy: 0.4962\n",
            "Epoch 118/200\n",
            "313/313 [==============================] - 1s 2ms/step - loss: 0.6939 - accuracy: 0.5039\n",
            "Epoch 119/200\n",
            "313/313 [==============================] - 1s 2ms/step - loss: 0.6941 - accuracy: 0.4878\n",
            "Epoch 120/200\n",
            "313/313 [==============================] - 1s 2ms/step - loss: 0.6940 - accuracy: 0.4911\n",
            "Epoch 121/200\n",
            "313/313 [==============================] - 1s 2ms/step - loss: 0.6939 - accuracy: 0.4837\n",
            "Epoch 122/200\n",
            "313/313 [==============================] - 1s 2ms/step - loss: 0.6939 - accuracy: 0.4945\n",
            "Epoch 123/200\n",
            "313/313 [==============================] - 1s 2ms/step - loss: 0.6937 - accuracy: 0.5063\n",
            "Epoch 124/200\n",
            "313/313 [==============================] - 1s 2ms/step - loss: 0.6938 - accuracy: 0.4917\n",
            "Epoch 125/200\n",
            "313/313 [==============================] - 1s 2ms/step - loss: 0.6941 - accuracy: 0.4955\n",
            "Epoch 126/200\n",
            "313/313 [==============================] - 1s 2ms/step - loss: 0.6938 - accuracy: 0.5020\n",
            "Epoch 127/200\n",
            "313/313 [==============================] - 1s 2ms/step - loss: 0.6941 - accuracy: 0.4869\n",
            "Epoch 128/200\n",
            "313/313 [==============================] - 1s 2ms/step - loss: 0.6940 - accuracy: 0.4944\n",
            "Epoch 129/200\n",
            "313/313 [==============================] - 1s 2ms/step - loss: 0.6939 - accuracy: 0.4965\n",
            "Epoch 130/200\n",
            "313/313 [==============================] - 1s 2ms/step - loss: 0.6938 - accuracy: 0.4986\n",
            "Epoch 131/200\n",
            "313/313 [==============================] - 1s 2ms/step - loss: 0.6941 - accuracy: 0.5000\n",
            "Epoch 132/200\n",
            "313/313 [==============================] - 1s 2ms/step - loss: 0.6939 - accuracy: 0.4988\n",
            "Epoch 133/200\n",
            "313/313 [==============================] - 1s 2ms/step - loss: 0.6939 - accuracy: 0.4958\n",
            "Epoch 134/200\n",
            "313/313 [==============================] - 1s 2ms/step - loss: 0.6940 - accuracy: 0.4910\n",
            "Epoch 135/200\n",
            "313/313 [==============================] - 1s 2ms/step - loss: 0.6940 - accuracy: 0.4939\n",
            "Epoch 136/200\n",
            "313/313 [==============================] - 1s 2ms/step - loss: 0.6938 - accuracy: 0.4991\n",
            "Epoch 137/200\n",
            "313/313 [==============================] - 1s 2ms/step - loss: 0.6938 - accuracy: 0.4944\n",
            "Epoch 138/200\n",
            "313/313 [==============================] - 1s 2ms/step - loss: 0.6940 - accuracy: 0.4929\n",
            "Epoch 139/200\n",
            "313/313 [==============================] - 1s 2ms/step - loss: 0.6938 - accuracy: 0.4880\n",
            "Epoch 140/200\n",
            "313/313 [==============================] - 1s 2ms/step - loss: 0.6940 - accuracy: 0.4923\n",
            "Epoch 141/200\n",
            "313/313 [==============================] - 1s 2ms/step - loss: 0.6936 - accuracy: 0.5022\n",
            "Epoch 142/200\n",
            "313/313 [==============================] - 1s 3ms/step - loss: 0.6937 - accuracy: 0.4982\n",
            "Epoch 143/200\n",
            "313/313 [==============================] - 1s 4ms/step - loss: 0.6940 - accuracy: 0.4933\n",
            "Epoch 144/200\n",
            "313/313 [==============================] - 1s 2ms/step - loss: 0.6938 - accuracy: 0.4941\n",
            "Epoch 145/200\n",
            "313/313 [==============================] - 1s 3ms/step - loss: 0.6939 - accuracy: 0.4992\n",
            "Epoch 146/200\n",
            "313/313 [==============================] - 1s 2ms/step - loss: 0.6939 - accuracy: 0.4844\n",
            "Epoch 147/200\n",
            "313/313 [==============================] - 1s 2ms/step - loss: 0.6937 - accuracy: 0.4918\n",
            "Epoch 148/200\n",
            "313/313 [==============================] - 1s 2ms/step - loss: 0.6938 - accuracy: 0.4957\n",
            "Epoch 149/200\n",
            "313/313 [==============================] - 1s 2ms/step - loss: 0.6940 - accuracy: 0.4839\n",
            "Epoch 150/200\n",
            "313/313 [==============================] - 1s 2ms/step - loss: 0.6937 - accuracy: 0.4968\n",
            "Epoch 151/200\n",
            "313/313 [==============================] - 1s 2ms/step - loss: 0.6939 - accuracy: 0.4954\n",
            "Epoch 152/200\n",
            "313/313 [==============================] - 1s 2ms/step - loss: 0.6938 - accuracy: 0.4961\n",
            "Epoch 153/200\n",
            "313/313 [==============================] - 1s 2ms/step - loss: 0.6939 - accuracy: 0.4927\n",
            "Epoch 154/200\n",
            "313/313 [==============================] - 1s 2ms/step - loss: 0.6935 - accuracy: 0.5062\n",
            "Epoch 155/200\n",
            "313/313 [==============================] - 1s 2ms/step - loss: 0.6936 - accuracy: 0.4979\n",
            "Epoch 156/200\n",
            "313/313 [==============================] - 1s 2ms/step - loss: 0.6940 - accuracy: 0.4934\n",
            "Epoch 157/200\n",
            "313/313 [==============================] - 1s 2ms/step - loss: 0.6939 - accuracy: 0.4963\n",
            "Epoch 158/200\n",
            "313/313 [==============================] - 1s 2ms/step - loss: 0.6938 - accuracy: 0.5028\n",
            "Epoch 159/200\n",
            "313/313 [==============================] - 1s 2ms/step - loss: 0.6940 - accuracy: 0.4939\n",
            "Epoch 160/200\n",
            "313/313 [==============================] - 1s 2ms/step - loss: 0.6939 - accuracy: 0.4806\n",
            "Epoch 161/200\n",
            "313/313 [==============================] - 1s 2ms/step - loss: 0.6937 - accuracy: 0.5045\n",
            "Epoch 162/200\n",
            "313/313 [==============================] - 1s 2ms/step - loss: 0.6936 - accuracy: 0.5031\n",
            "Epoch 163/200\n",
            "313/313 [==============================] - 1s 2ms/step - loss: 0.6940 - accuracy: 0.4964\n",
            "Epoch 164/200\n",
            "313/313 [==============================] - 1s 2ms/step - loss: 0.6939 - accuracy: 0.4943\n",
            "Epoch 165/200\n",
            "313/313 [==============================] - 1s 2ms/step - loss: 0.6940 - accuracy: 0.4906\n",
            "Epoch 166/200\n",
            "313/313 [==============================] - 1s 2ms/step - loss: 0.6939 - accuracy: 0.5029\n",
            "Epoch 167/200\n",
            "313/313 [==============================] - 1s 2ms/step - loss: 0.6939 - accuracy: 0.4874\n",
            "Epoch 168/200\n",
            "313/313 [==============================] - 1s 2ms/step - loss: 0.6939 - accuracy: 0.4933\n",
            "Epoch 169/200\n",
            "313/313 [==============================] - 1s 2ms/step - loss: 0.6938 - accuracy: 0.5002\n",
            "Epoch 170/200\n",
            "313/313 [==============================] - 1s 2ms/step - loss: 0.6939 - accuracy: 0.4987\n",
            "Epoch 171/200\n",
            "313/313 [==============================] - 1s 2ms/step - loss: 0.6939 - accuracy: 0.4982\n",
            "Epoch 172/200\n",
            "313/313 [==============================] - 1s 2ms/step - loss: 0.6940 - accuracy: 0.4908\n",
            "Epoch 173/200\n",
            "313/313 [==============================] - 1s 2ms/step - loss: 0.6939 - accuracy: 0.4906\n",
            "Epoch 174/200\n",
            "313/313 [==============================] - 1s 2ms/step - loss: 0.6939 - accuracy: 0.4990\n",
            "Epoch 175/200\n",
            "313/313 [==============================] - 1s 2ms/step - loss: 0.6940 - accuracy: 0.4963\n",
            "Epoch 176/200\n",
            "313/313 [==============================] - 1s 2ms/step - loss: 0.6939 - accuracy: 0.4944\n",
            "Epoch 177/200\n",
            "313/313 [==============================] - 1s 2ms/step - loss: 0.6936 - accuracy: 0.4833\n",
            "Epoch 178/200\n",
            "313/313 [==============================] - 1s 2ms/step - loss: 0.6939 - accuracy: 0.4917\n",
            "Epoch 179/200\n",
            "313/313 [==============================] - 1s 2ms/step - loss: 0.6939 - accuracy: 0.4937\n",
            "Epoch 180/200\n",
            "313/313 [==============================] - 1s 2ms/step - loss: 0.6935 - accuracy: 0.4988\n",
            "Epoch 181/200\n",
            "313/313 [==============================] - 1s 2ms/step - loss: 0.6941 - accuracy: 0.4948\n",
            "Epoch 182/200\n",
            "313/313 [==============================] - 1s 2ms/step - loss: 0.6938 - accuracy: 0.5006\n",
            "Epoch 183/200\n",
            "313/313 [==============================] - 1s 2ms/step - loss: 0.6940 - accuracy: 0.4920\n",
            "Epoch 184/200\n",
            "313/313 [==============================] - 1s 2ms/step - loss: 0.6939 - accuracy: 0.4881\n",
            "Epoch 185/200\n",
            "313/313 [==============================] - 1s 2ms/step - loss: 0.6938 - accuracy: 0.4981\n",
            "Epoch 186/200\n",
            "313/313 [==============================] - 1s 2ms/step - loss: 0.6940 - accuracy: 0.4958\n",
            "Epoch 187/200\n",
            "313/313 [==============================] - 1s 2ms/step - loss: 0.6938 - accuracy: 0.5040\n",
            "Epoch 188/200\n",
            "313/313 [==============================] - 1s 2ms/step - loss: 0.6940 - accuracy: 0.4862\n",
            "Epoch 189/200\n",
            "313/313 [==============================] - 1s 2ms/step - loss: 0.6937 - accuracy: 0.5180\n",
            "Epoch 190/200\n",
            "313/313 [==============================] - 1s 2ms/step - loss: 0.6938 - accuracy: 0.4916\n",
            "Epoch 191/200\n",
            "313/313 [==============================] - 1s 2ms/step - loss: 0.6938 - accuracy: 0.4957\n",
            "Epoch 192/200\n",
            "313/313 [==============================] - 1s 2ms/step - loss: 0.6938 - accuracy: 0.4918\n",
            "Epoch 193/200\n",
            "313/313 [==============================] - 1s 2ms/step - loss: 0.6940 - accuracy: 0.4886\n",
            "Epoch 194/200\n",
            "313/313 [==============================] - 1s 2ms/step - loss: 0.6940 - accuracy: 0.4907\n",
            "Epoch 195/200\n",
            "313/313 [==============================] - 1s 2ms/step - loss: 0.6940 - accuracy: 0.4930\n",
            "Epoch 196/200\n",
            "313/313 [==============================] - 1s 2ms/step - loss: 0.6938 - accuracy: 0.5093\n",
            "Epoch 197/200\n",
            "313/313 [==============================] - 1s 2ms/step - loss: 0.6939 - accuracy: 0.4877\n",
            "Epoch 198/200\n",
            "313/313 [==============================] - 1s 2ms/step - loss: 0.6935 - accuracy: 0.5120\n",
            "Epoch 199/200\n",
            "313/313 [==============================] - 1s 2ms/step - loss: 0.6941 - accuracy: 0.4902\n",
            "Epoch 200/200\n",
            "313/313 [==============================] - 1s 2ms/step - loss: 0.6939 - accuracy: 0.4937\n",
            "313/313 [==============================] - 1s 2ms/step - loss: 0.6937 - accuracy: 0.5004\n"
          ]
        },
        {
          "output_type": "execute_result",
          "data": {
            "text/plain": [
              "[0.6936948299407959, 0.5004000067710876]"
            ]
          },
          "metadata": {},
          "execution_count": 16
        }
      ]
    },
    {
      "cell_type": "markdown",
      "source": [
        "Since we're working on a binary classification problem and our model is getting around 50% accuaracy... it's performing as it's guessing 🇸\n",
        "\n",
        "Try to add an extra layer?"
      ],
      "metadata": {
        "id": "EURmoCc96Xyb"
      }
    },
    {
      "cell_type": "code",
      "source": [
        "# Set the random seed\n",
        "tf.random.set_seed(42)\n",
        "\n",
        "# 1. Create the model, with 2 layers\n",
        "model_3 = tf.keras.Sequential([\n",
        "  tf.keras.layers.Dense(1),\n",
        "  tf.keras.layers.Dense(1)\n",
        "])\n",
        "\n",
        "# 2. Compile the model\n",
        "model_3.compile(loss=tf.keras.losses.BinaryCrossentropy(),\n",
        "                optimizer=tf.keras.optimizers.SGD(),\n",
        "                metrics=[\"accuracy\"])\n",
        "\n",
        "# 3. Fit the model\n",
        "model_3.fit(X, y, epochs=100)"
      ],
      "metadata": {
        "colab": {
          "base_uri": "https://localhost:8080/"
        },
        "id": "gKNRoO6Z65Ge",
        "outputId": "b8578456-3c38-4886-be69-f346719f5980"
      },
      "execution_count": 17,
      "outputs": [
        {
          "output_type": "stream",
          "name": "stdout",
          "text": [
            "Epoch 1/100\n",
            "313/313 [==============================] - 1s 2ms/step - loss: 0.7659 - accuracy: 0.5057\n",
            "Epoch 2/100\n",
            "313/313 [==============================] - 1s 2ms/step - loss: 0.6952 - accuracy: 0.4978\n",
            "Epoch 3/100\n",
            "313/313 [==============================] - 1s 2ms/step - loss: 0.6942 - accuracy: 0.4989\n",
            "Epoch 4/100\n",
            "313/313 [==============================] - 1s 2ms/step - loss: 0.6938 - accuracy: 0.5024\n",
            "Epoch 5/100\n",
            "313/313 [==============================] - 1s 2ms/step - loss: 0.6937 - accuracy: 0.5007\n",
            "Epoch 6/100\n",
            "313/313 [==============================] - 1s 2ms/step - loss: 0.6937 - accuracy: 0.5011\n",
            "Epoch 7/100\n",
            "313/313 [==============================] - 1s 2ms/step - loss: 0.6938 - accuracy: 0.4919\n",
            "Epoch 8/100\n",
            "313/313 [==============================] - 1s 2ms/step - loss: 0.6937 - accuracy: 0.4893\n",
            "Epoch 9/100\n",
            "313/313 [==============================] - 1s 2ms/step - loss: 0.6935 - accuracy: 0.5031\n",
            "Epoch 10/100\n",
            "313/313 [==============================] - 1s 2ms/step - loss: 0.6937 - accuracy: 0.4910\n",
            "Epoch 11/100\n",
            "313/313 [==============================] - 1s 2ms/step - loss: 0.6937 - accuracy: 0.4958\n",
            "Epoch 12/100\n",
            "313/313 [==============================] - 1s 2ms/step - loss: 0.6936 - accuracy: 0.5007\n",
            "Epoch 13/100\n",
            "313/313 [==============================] - 1s 2ms/step - loss: 0.6937 - accuracy: 0.4878\n",
            "Epoch 14/100\n",
            "313/313 [==============================] - 0s 2ms/step - loss: 0.6937 - accuracy: 0.5045\n",
            "Epoch 15/100\n",
            "313/313 [==============================] - 1s 2ms/step - loss: 0.6934 - accuracy: 0.5090\n",
            "Epoch 16/100\n",
            "313/313 [==============================] - 1s 2ms/step - loss: 0.6937 - accuracy: 0.4970\n",
            "Epoch 17/100\n",
            "313/313 [==============================] - 1s 2ms/step - loss: 0.6934 - accuracy: 0.5071\n",
            "Epoch 18/100\n",
            "313/313 [==============================] - 1s 2ms/step - loss: 0.6936 - accuracy: 0.5004\n",
            "Epoch 19/100\n",
            "313/313 [==============================] - 1s 2ms/step - loss: 0.6937 - accuracy: 0.4981\n",
            "Epoch 20/100\n",
            "313/313 [==============================] - 1s 2ms/step - loss: 0.6937 - accuracy: 0.4971\n",
            "Epoch 21/100\n",
            "313/313 [==============================] - 1s 2ms/step - loss: 0.6936 - accuracy: 0.4956\n",
            "Epoch 22/100\n",
            "313/313 [==============================] - 1s 2ms/step - loss: 0.6936 - accuracy: 0.4967\n",
            "Epoch 23/100\n",
            "313/313 [==============================] - 1s 2ms/step - loss: 0.6937 - accuracy: 0.5000\n",
            "Epoch 24/100\n",
            "313/313 [==============================] - 1s 2ms/step - loss: 0.6933 - accuracy: 0.5087\n",
            "Epoch 25/100\n",
            "313/313 [==============================] - 1s 2ms/step - loss: 0.6938 - accuracy: 0.5003\n",
            "Epoch 26/100\n",
            "313/313 [==============================] - 1s 2ms/step - loss: 0.6936 - accuracy: 0.4957\n",
            "Epoch 27/100\n",
            "313/313 [==============================] - 1s 2ms/step - loss: 0.6937 - accuracy: 0.4918\n",
            "Epoch 28/100\n",
            "313/313 [==============================] - 1s 2ms/step - loss: 0.6935 - accuracy: 0.5061\n",
            "Epoch 29/100\n",
            "313/313 [==============================] - 1s 2ms/step - loss: 0.6934 - accuracy: 0.5005\n",
            "Epoch 30/100\n",
            "313/313 [==============================] - 1s 2ms/step - loss: 0.6937 - accuracy: 0.4938\n",
            "Epoch 31/100\n",
            "313/313 [==============================] - 1s 2ms/step - loss: 0.6937 - accuracy: 0.4953\n",
            "Epoch 32/100\n",
            "313/313 [==============================] - 1s 2ms/step - loss: 0.6935 - accuracy: 0.5045\n",
            "Epoch 33/100\n",
            "313/313 [==============================] - 1s 2ms/step - loss: 0.6938 - accuracy: 0.4978\n",
            "Epoch 34/100\n",
            "313/313 [==============================] - 1s 2ms/step - loss: 0.6936 - accuracy: 0.4882\n",
            "Epoch 35/100\n",
            "313/313 [==============================] - 1s 2ms/step - loss: 0.6937 - accuracy: 0.4898\n",
            "Epoch 36/100\n",
            "313/313 [==============================] - 1s 2ms/step - loss: 0.6936 - accuracy: 0.4958\n",
            "Epoch 37/100\n",
            "313/313 [==============================] - 1s 2ms/step - loss: 0.6936 - accuracy: 0.4983\n",
            "Epoch 38/100\n",
            "313/313 [==============================] - 1s 2ms/step - loss: 0.6933 - accuracy: 0.4993\n",
            "Epoch 39/100\n",
            "313/313 [==============================] - 1s 2ms/step - loss: 0.6936 - accuracy: 0.4969\n",
            "Epoch 40/100\n",
            "313/313 [==============================] - 1s 2ms/step - loss: 0.6934 - accuracy: 0.5057\n",
            "Epoch 41/100\n",
            "313/313 [==============================] - 1s 2ms/step - loss: 0.6934 - accuracy: 0.4987\n",
            "Epoch 42/100\n",
            "313/313 [==============================] - 1s 2ms/step - loss: 0.6937 - accuracy: 0.4989\n",
            "Epoch 43/100\n",
            "313/313 [==============================] - 1s 2ms/step - loss: 0.6935 - accuracy: 0.5002\n",
            "Epoch 44/100\n",
            "313/313 [==============================] - 1s 2ms/step - loss: 0.6935 - accuracy: 0.4993\n",
            "Epoch 45/100\n",
            "313/313 [==============================] - 1s 2ms/step - loss: 0.6936 - accuracy: 0.4973\n",
            "Epoch 46/100\n",
            "313/313 [==============================] - 1s 2ms/step - loss: 0.6934 - accuracy: 0.5001\n",
            "Epoch 47/100\n",
            "313/313 [==============================] - 1s 2ms/step - loss: 0.6937 - accuracy: 0.4931\n",
            "Epoch 48/100\n",
            "313/313 [==============================] - 1s 2ms/step - loss: 0.6935 - accuracy: 0.5039\n",
            "Epoch 49/100\n",
            "313/313 [==============================] - 1s 2ms/step - loss: 0.6937 - accuracy: 0.4935\n",
            "Epoch 50/100\n",
            "313/313 [==============================] - 1s 2ms/step - loss: 0.6937 - accuracy: 0.4882\n",
            "Epoch 51/100\n",
            "313/313 [==============================] - 1s 2ms/step - loss: 0.6935 - accuracy: 0.5034\n",
            "Epoch 52/100\n",
            "313/313 [==============================] - 1s 2ms/step - loss: 0.6936 - accuracy: 0.5026\n",
            "Epoch 53/100\n",
            "313/313 [==============================] - 1s 2ms/step - loss: 0.6937 - accuracy: 0.4973\n",
            "Epoch 54/100\n",
            "313/313 [==============================] - 1s 2ms/step - loss: 0.6936 - accuracy: 0.4965\n",
            "Epoch 55/100\n",
            "313/313 [==============================] - 1s 2ms/step - loss: 0.6935 - accuracy: 0.4983\n",
            "Epoch 56/100\n",
            "313/313 [==============================] - 0s 2ms/step - loss: 0.6935 - accuracy: 0.5012\n",
            "Epoch 57/100\n",
            "313/313 [==============================] - 1s 2ms/step - loss: 0.6934 - accuracy: 0.5041\n",
            "Epoch 58/100\n",
            "313/313 [==============================] - 1s 2ms/step - loss: 0.6934 - accuracy: 0.4970\n",
            "Epoch 59/100\n",
            "313/313 [==============================] - 1s 2ms/step - loss: 0.6936 - accuracy: 0.4987\n",
            "Epoch 60/100\n",
            "313/313 [==============================] - 1s 2ms/step - loss: 0.6936 - accuracy: 0.4988\n",
            "Epoch 61/100\n",
            "313/313 [==============================] - 1s 2ms/step - loss: 0.6937 - accuracy: 0.4945\n",
            "Epoch 62/100\n",
            "313/313 [==============================] - 1s 2ms/step - loss: 0.6935 - accuracy: 0.5058\n",
            "Epoch 63/100\n",
            "313/313 [==============================] - 1s 2ms/step - loss: 0.6937 - accuracy: 0.4956\n",
            "Epoch 64/100\n",
            "313/313 [==============================] - 1s 2ms/step - loss: 0.6937 - accuracy: 0.4897\n",
            "Epoch 65/100\n",
            "313/313 [==============================] - 1s 2ms/step - loss: 0.6937 - accuracy: 0.4972\n",
            "Epoch 66/100\n",
            "313/313 [==============================] - 1s 2ms/step - loss: 0.6934 - accuracy: 0.5056\n",
            "Epoch 67/100\n",
            "313/313 [==============================] - 1s 2ms/step - loss: 0.6936 - accuracy: 0.4985\n",
            "Epoch 68/100\n",
            "313/313 [==============================] - 1s 2ms/step - loss: 0.6937 - accuracy: 0.4934\n",
            "Epoch 69/100\n",
            "313/313 [==============================] - 1s 2ms/step - loss: 0.6937 - accuracy: 0.4966\n",
            "Epoch 70/100\n",
            "313/313 [==============================] - 1s 2ms/step - loss: 0.6936 - accuracy: 0.4974\n",
            "Epoch 71/100\n",
            "313/313 [==============================] - 1s 2ms/step - loss: 0.6937 - accuracy: 0.4934\n",
            "Epoch 72/100\n",
            "313/313 [==============================] - 1s 2ms/step - loss: 0.6936 - accuracy: 0.4928\n",
            "Epoch 73/100\n",
            "313/313 [==============================] - 1s 2ms/step - loss: 0.6936 - accuracy: 0.4967\n",
            "Epoch 74/100\n",
            "313/313 [==============================] - 1s 2ms/step - loss: 0.6936 - accuracy: 0.4946\n",
            "Epoch 75/100\n",
            "313/313 [==============================] - 1s 2ms/step - loss: 0.6932 - accuracy: 0.5060\n",
            "Epoch 76/100\n",
            "313/313 [==============================] - 1s 2ms/step - loss: 0.6936 - accuracy: 0.4961\n",
            "Epoch 77/100\n",
            "313/313 [==============================] - 1s 2ms/step - loss: 0.6937 - accuracy: 0.4977\n",
            "Epoch 78/100\n",
            "313/313 [==============================] - 1s 2ms/step - loss: 0.6937 - accuracy: 0.4921\n",
            "Epoch 79/100\n",
            "313/313 [==============================] - 1s 2ms/step - loss: 0.6935 - accuracy: 0.4989\n",
            "Epoch 80/100\n",
            "313/313 [==============================] - 1s 2ms/step - loss: 0.6937 - accuracy: 0.4951\n",
            "Epoch 81/100\n",
            "313/313 [==============================] - 1s 2ms/step - loss: 0.6935 - accuracy: 0.4997\n",
            "Epoch 82/100\n",
            "313/313 [==============================] - 1s 2ms/step - loss: 0.6935 - accuracy: 0.5002\n",
            "Epoch 83/100\n",
            "313/313 [==============================] - 1s 2ms/step - loss: 0.6937 - accuracy: 0.4901\n",
            "Epoch 84/100\n",
            "313/313 [==============================] - 1s 2ms/step - loss: 0.6936 - accuracy: 0.4981\n",
            "Epoch 85/100\n",
            "313/313 [==============================] - 1s 2ms/step - loss: 0.6935 - accuracy: 0.5003\n",
            "Epoch 86/100\n",
            "313/313 [==============================] - 1s 2ms/step - loss: 0.6937 - accuracy: 0.4981\n",
            "Epoch 87/100\n",
            "313/313 [==============================] - 1s 2ms/step - loss: 0.6937 - accuracy: 0.4948\n",
            "Epoch 88/100\n",
            "313/313 [==============================] - 1s 2ms/step - loss: 0.6936 - accuracy: 0.5009\n",
            "Epoch 89/100\n",
            "313/313 [==============================] - 1s 2ms/step - loss: 0.6933 - accuracy: 0.5056\n",
            "Epoch 90/100\n",
            "313/313 [==============================] - 1s 2ms/step - loss: 0.6935 - accuracy: 0.5014\n",
            "Epoch 91/100\n",
            "313/313 [==============================] - 1s 2ms/step - loss: 0.6937 - accuracy: 0.4970\n",
            "Epoch 92/100\n",
            "313/313 [==============================] - 1s 2ms/step - loss: 0.6936 - accuracy: 0.4966\n",
            "Epoch 93/100\n",
            "313/313 [==============================] - 1s 2ms/step - loss: 0.6936 - accuracy: 0.4954\n",
            "Epoch 94/100\n",
            "313/313 [==============================] - 1s 2ms/step - loss: 0.6935 - accuracy: 0.4994\n",
            "Epoch 95/100\n",
            "313/313 [==============================] - 1s 2ms/step - loss: 0.6937 - accuracy: 0.4932\n",
            "Epoch 96/100\n",
            "313/313 [==============================] - 1s 2ms/step - loss: 0.6935 - accuracy: 0.4986\n",
            "Epoch 97/100\n",
            "313/313 [==============================] - 1s 2ms/step - loss: 0.6935 - accuracy: 0.5028\n",
            "Epoch 98/100\n",
            "313/313 [==============================] - 0s 2ms/step - loss: 0.6936 - accuracy: 0.5000\n",
            "Epoch 99/100\n",
            "313/313 [==============================] - 1s 2ms/step - loss: 0.6935 - accuracy: 0.5014\n",
            "Epoch 100/100\n",
            "313/313 [==============================] - 1s 2ms/step - loss: 0.6937 - accuracy: 0.4964\n"
          ]
        },
        {
          "output_type": "execute_result",
          "data": {
            "text/plain": [
              "<keras.callbacks.History at 0x7f5e3cc67e90>"
            ]
          },
          "metadata": {},
          "execution_count": 17
        }
      ]
    },
    {
      "cell_type": "code",
      "source": [
        "# 4. Evaluate the model(ON THE SAME DATA WE TRAINED ON, BIG NO-NO)\n",
        "model_3.evaluate(X, y)"
      ],
      "metadata": {
        "colab": {
          "base_uri": "https://localhost:8080/"
        },
        "id": "U5QvLvq28lBc",
        "outputId": "45d5ea52-4d5c-4b7e-a617-ffce118bdff0"
      },
      "execution_count": 18,
      "outputs": [
        {
          "output_type": "stream",
          "name": "stdout",
          "text": [
            "313/313 [==============================] - 1s 2ms/step - loss: 0.6933 - accuracy: 0.5000\n"
          ]
        },
        {
          "output_type": "execute_result",
          "data": {
            "text/plain": [
              "[0.6932647824287415, 0.5]"
            ]
          },
          "metadata": {},
          "execution_count": 18
        }
      ]
    },
    {
      "cell_type": "code",
      "source": [
        "# There are 5K of each color, not that good neural network :P\n",
        "circles[\"label\"].value_counts()"
      ],
      "metadata": {
        "colab": {
          "base_uri": "https://localhost:8080/"
        },
        "id": "D_9I-TwG_hck",
        "outputId": "4096eef3-f633-434d-d700-898dcef92f76"
      },
      "execution_count": 19,
      "outputs": [
        {
          "output_type": "execute_result",
          "data": {
            "text/plain": [
              "1    5000\n",
              "0    5000\n",
              "Name: label, dtype: int64"
            ]
          },
          "metadata": {},
          "execution_count": 19
        }
      ]
    },
    {
      "cell_type": "markdown",
      "source": [
        "## Improving our model\n",
        "\n",
        "1. Create a model - more layers and hidden units\n",
        "2. Compile a model - choose a diffirent optimization function\n",
        "3. Fitting a model - more epochs"
      ],
      "metadata": {
        "id": "0_uUaU-hAHLg"
      }
    },
    {
      "cell_type": "markdown",
      "source": [
        "## Common ways to improve a deep model:\n",
        "* Adding layers\n",
        "* Increase the number of hidden units\n",
        "* Change the activation functions\n",
        "* Change the optimization function\n",
        "* Change the learning rate\n",
        "* Fitting on more data\n",
        "* Fitting for longer"
      ],
      "metadata": {
        "id": "WU0db00vaApP"
      }
    },
    {
      "cell_type": "code",
      "source": [
        "# Set random seed\n",
        "tf.random.set_seed(42)\n",
        "\n",
        "# 1. Create te model\n",
        "model_4 =  tf.keras.Sequential([\n",
        "  tf.keras.layers.Dense(100),\n",
        "  tf.keras.layers.Dense(10),\n",
        "  tf.keras.layers.Dense(1)                               \n",
        "])\n",
        "\n",
        "# 2. Compile the model\n",
        "model_4.compile(loss=tf.keras.losses.BinaryCrossentropy(),\n",
        "                optimizer=tf.keras.optimizers.Adam(),\n",
        "                metrics=[\"accuracy\"]    \n",
        ")\n",
        "\n",
        "# 3. Fit the model\n",
        "model_4.fit(X, y, epochs=100)"
      ],
      "metadata": {
        "colab": {
          "base_uri": "https://localhost:8080/"
        },
        "id": "U63zbm4ZAMlk",
        "outputId": "274c5b3b-1c4a-456c-95b4-b6453b4119f8"
      },
      "execution_count": 20,
      "outputs": [
        {
          "output_type": "stream",
          "name": "stdout",
          "text": [
            "Epoch 1/100\n",
            "313/313 [==============================] - 1s 2ms/step - loss: 0.9536 - accuracy: 0.4919\n",
            "Epoch 2/100\n",
            "313/313 [==============================] - 1s 2ms/step - loss: 0.6949 - accuracy: 0.5005\n",
            "Epoch 3/100\n",
            "313/313 [==============================] - 1s 2ms/step - loss: 0.6948 - accuracy: 0.4941\n",
            "Epoch 4/100\n",
            "313/313 [==============================] - 1s 2ms/step - loss: 0.6966 - accuracy: 0.4923\n",
            "Epoch 5/100\n",
            "313/313 [==============================] - 1s 2ms/step - loss: 0.6965 - accuracy: 0.5028\n",
            "Epoch 6/100\n",
            "313/313 [==============================] - 1s 2ms/step - loss: 0.6960 - accuracy: 0.4941\n",
            "Epoch 7/100\n",
            "313/313 [==============================] - 1s 2ms/step - loss: 0.6970 - accuracy: 0.4926\n",
            "Epoch 8/100\n",
            "313/313 [==============================] - 1s 2ms/step - loss: 0.6969 - accuracy: 0.4978\n",
            "Epoch 9/100\n",
            "313/313 [==============================] - 1s 2ms/step - loss: 0.6962 - accuracy: 0.5006\n",
            "Epoch 10/100\n",
            "313/313 [==============================] - 1s 2ms/step - loss: 0.6969 - accuracy: 0.4885\n",
            "Epoch 11/100\n",
            "313/313 [==============================] - 1s 2ms/step - loss: 0.6964 - accuracy: 0.4985\n",
            "Epoch 12/100\n",
            "313/313 [==============================] - 1s 2ms/step - loss: 0.6975 - accuracy: 0.4993\n",
            "Epoch 13/100\n",
            "313/313 [==============================] - 1s 2ms/step - loss: 0.6972 - accuracy: 0.5010\n",
            "Epoch 14/100\n",
            "313/313 [==============================] - 1s 2ms/step - loss: 0.6985 - accuracy: 0.4917\n",
            "Epoch 15/100\n",
            "313/313 [==============================] - 1s 2ms/step - loss: 0.6971 - accuracy: 0.4963\n",
            "Epoch 16/100\n",
            "313/313 [==============================] - 1s 2ms/step - loss: 0.6973 - accuracy: 0.4940\n",
            "Epoch 17/100\n",
            "313/313 [==============================] - 1s 2ms/step - loss: 0.6968 - accuracy: 0.4967\n",
            "Epoch 18/100\n",
            "313/313 [==============================] - 1s 2ms/step - loss: 0.6968 - accuracy: 0.4922\n",
            "Epoch 19/100\n",
            "313/313 [==============================] - 1s 2ms/step - loss: 0.6968 - accuracy: 0.4957\n",
            "Epoch 20/100\n",
            "313/313 [==============================] - 1s 2ms/step - loss: 0.6967 - accuracy: 0.4911\n",
            "Epoch 21/100\n",
            "313/313 [==============================] - 1s 2ms/step - loss: 0.6963 - accuracy: 0.4959\n",
            "Epoch 22/100\n",
            "313/313 [==============================] - 1s 2ms/step - loss: 0.6958 - accuracy: 0.4985\n",
            "Epoch 23/100\n",
            "313/313 [==============================] - 1s 2ms/step - loss: 0.6963 - accuracy: 0.4971\n",
            "Epoch 24/100\n",
            "313/313 [==============================] - 1s 2ms/step - loss: 0.6957 - accuracy: 0.5018\n",
            "Epoch 25/100\n",
            "313/313 [==============================] - 1s 2ms/step - loss: 0.6957 - accuracy: 0.5004\n",
            "Epoch 26/100\n",
            "313/313 [==============================] - 1s 2ms/step - loss: 0.6960 - accuracy: 0.4835\n",
            "Epoch 27/100\n",
            "313/313 [==============================] - 1s 2ms/step - loss: 0.6955 - accuracy: 0.4997\n",
            "Epoch 28/100\n",
            "313/313 [==============================] - 1s 2ms/step - loss: 0.6950 - accuracy: 0.5075\n",
            "Epoch 29/100\n",
            "313/313 [==============================] - 1s 2ms/step - loss: 0.6954 - accuracy: 0.4968\n",
            "Epoch 30/100\n",
            "313/313 [==============================] - 1s 2ms/step - loss: 0.6955 - accuracy: 0.4945\n",
            "Epoch 31/100\n",
            "313/313 [==============================] - 1s 2ms/step - loss: 0.6959 - accuracy: 0.4957\n",
            "Epoch 32/100\n",
            "313/313 [==============================] - 1s 2ms/step - loss: 0.6954 - accuracy: 0.5023\n",
            "Epoch 33/100\n",
            "313/313 [==============================] - 1s 2ms/step - loss: 0.6952 - accuracy: 0.4943\n",
            "Epoch 34/100\n",
            "313/313 [==============================] - 1s 2ms/step - loss: 0.6950 - accuracy: 0.4958\n",
            "Epoch 35/100\n",
            "313/313 [==============================] - 1s 2ms/step - loss: 0.6953 - accuracy: 0.5003\n",
            "Epoch 36/100\n",
            "313/313 [==============================] - 1s 2ms/step - loss: 0.6950 - accuracy: 0.4950\n",
            "Epoch 37/100\n",
            "313/313 [==============================] - 1s 2ms/step - loss: 0.6952 - accuracy: 0.4901\n",
            "Epoch 38/100\n",
            "313/313 [==============================] - 1s 2ms/step - loss: 0.6945 - accuracy: 0.5077\n",
            "Epoch 39/100\n",
            "313/313 [==============================] - 1s 2ms/step - loss: 0.6943 - accuracy: 0.5028\n",
            "Epoch 40/100\n",
            "313/313 [==============================] - 1s 2ms/step - loss: 0.6957 - accuracy: 0.4945\n",
            "Epoch 41/100\n",
            "313/313 [==============================] - 1s 2ms/step - loss: 0.6948 - accuracy: 0.4990\n",
            "Epoch 42/100\n",
            "313/313 [==============================] - 1s 2ms/step - loss: 0.6945 - accuracy: 0.4998\n",
            "Epoch 43/100\n",
            "313/313 [==============================] - 1s 2ms/step - loss: 0.6948 - accuracy: 0.4971\n",
            "Epoch 44/100\n",
            "313/313 [==============================] - 1s 2ms/step - loss: 0.6950 - accuracy: 0.4971\n",
            "Epoch 45/100\n",
            "313/313 [==============================] - 1s 2ms/step - loss: 0.6941 - accuracy: 0.5075\n",
            "Epoch 46/100\n",
            "313/313 [==============================] - 1s 2ms/step - loss: 0.6946 - accuracy: 0.4962\n",
            "Epoch 47/100\n",
            "313/313 [==============================] - 1s 2ms/step - loss: 0.6944 - accuracy: 0.4913\n",
            "Epoch 48/100\n",
            "313/313 [==============================] - 1s 2ms/step - loss: 0.6949 - accuracy: 0.4966\n",
            "Epoch 49/100\n",
            "313/313 [==============================] - 1s 2ms/step - loss: 0.6949 - accuracy: 0.4819\n",
            "Epoch 50/100\n",
            "313/313 [==============================] - 1s 2ms/step - loss: 0.6943 - accuracy: 0.4909\n",
            "Epoch 51/100\n",
            "313/313 [==============================] - 1s 2ms/step - loss: 0.6946 - accuracy: 0.4913\n",
            "Epoch 52/100\n",
            "313/313 [==============================] - 1s 2ms/step - loss: 0.6950 - accuracy: 0.4883\n",
            "Epoch 53/100\n",
            "313/313 [==============================] - 1s 2ms/step - loss: 0.6945 - accuracy: 0.4927\n",
            "Epoch 54/100\n",
            "313/313 [==============================] - 1s 2ms/step - loss: 0.6944 - accuracy: 0.4992\n",
            "Epoch 55/100\n",
            "313/313 [==============================] - 1s 2ms/step - loss: 0.6947 - accuracy: 0.5076\n",
            "Epoch 56/100\n",
            "313/313 [==============================] - 1s 2ms/step - loss: 0.6948 - accuracy: 0.4930\n",
            "Epoch 57/100\n",
            "313/313 [==============================] - 1s 2ms/step - loss: 0.6944 - accuracy: 0.5015\n",
            "Epoch 58/100\n",
            "313/313 [==============================] - 1s 2ms/step - loss: 0.6944 - accuracy: 0.4969\n",
            "Epoch 59/100\n",
            "313/313 [==============================] - 1s 2ms/step - loss: 0.6942 - accuracy: 0.5098\n",
            "Epoch 60/100\n",
            "313/313 [==============================] - 1s 2ms/step - loss: 0.6942 - accuracy: 0.4995\n",
            "Epoch 61/100\n",
            "313/313 [==============================] - 1s 2ms/step - loss: 0.6942 - accuracy: 0.4904\n",
            "Epoch 62/100\n",
            "313/313 [==============================] - 1s 2ms/step - loss: 0.6943 - accuracy: 0.4988\n",
            "Epoch 63/100\n",
            "313/313 [==============================] - 1s 2ms/step - loss: 0.6942 - accuracy: 0.4952\n",
            "Epoch 64/100\n",
            "313/313 [==============================] - 1s 2ms/step - loss: 0.6942 - accuracy: 0.4928\n",
            "Epoch 65/100\n",
            "313/313 [==============================] - 1s 2ms/step - loss: 0.6940 - accuracy: 0.5013\n",
            "Epoch 66/100\n",
            "313/313 [==============================] - 1s 2ms/step - loss: 0.6938 - accuracy: 0.5049\n",
            "Epoch 67/100\n",
            "313/313 [==============================] - 1s 2ms/step - loss: 0.6940 - accuracy: 0.4910\n",
            "Epoch 68/100\n",
            "313/313 [==============================] - 1s 2ms/step - loss: 0.6943 - accuracy: 0.4976\n",
            "Epoch 69/100\n",
            "313/313 [==============================] - 1s 2ms/step - loss: 0.6943 - accuracy: 0.4890\n",
            "Epoch 70/100\n",
            "313/313 [==============================] - 1s 2ms/step - loss: 0.6942 - accuracy: 0.5014\n",
            "Epoch 71/100\n",
            "313/313 [==============================] - 1s 2ms/step - loss: 0.6939 - accuracy: 0.4981\n",
            "Epoch 72/100\n",
            "313/313 [==============================] - 1s 2ms/step - loss: 0.6939 - accuracy: 0.4884\n",
            "Epoch 73/100\n",
            "313/313 [==============================] - 1s 2ms/step - loss: 0.6939 - accuracy: 0.4911\n",
            "Epoch 74/100\n",
            "313/313 [==============================] - 1s 2ms/step - loss: 0.6939 - accuracy: 0.4965\n",
            "Epoch 75/100\n",
            "313/313 [==============================] - 1s 2ms/step - loss: 0.6939 - accuracy: 0.4956\n",
            "Epoch 76/100\n",
            "313/313 [==============================] - 1s 2ms/step - loss: 0.6943 - accuracy: 0.4878\n",
            "Epoch 77/100\n",
            "313/313 [==============================] - 1s 2ms/step - loss: 0.6943 - accuracy: 0.4871\n",
            "Epoch 78/100\n",
            "313/313 [==============================] - 1s 2ms/step - loss: 0.6938 - accuracy: 0.5026\n",
            "Epoch 79/100\n",
            "313/313 [==============================] - 1s 2ms/step - loss: 0.6941 - accuracy: 0.4985\n",
            "Epoch 80/100\n",
            "313/313 [==============================] - 1s 2ms/step - loss: 0.6939 - accuracy: 0.4909\n",
            "Epoch 81/100\n",
            "313/313 [==============================] - 1s 2ms/step - loss: 0.6942 - accuracy: 0.4940\n",
            "Epoch 82/100\n",
            "313/313 [==============================] - 1s 2ms/step - loss: 0.6939 - accuracy: 0.4982\n",
            "Epoch 83/100\n",
            "313/313 [==============================] - 1s 2ms/step - loss: 0.6940 - accuracy: 0.4906\n",
            "Epoch 84/100\n",
            "313/313 [==============================] - 1s 2ms/step - loss: 0.6940 - accuracy: 0.4937\n",
            "Epoch 85/100\n",
            "313/313 [==============================] - 1s 2ms/step - loss: 0.6940 - accuracy: 0.4951\n",
            "Epoch 86/100\n",
            "313/313 [==============================] - 1s 2ms/step - loss: 0.6941 - accuracy: 0.4901\n",
            "Epoch 87/100\n",
            "313/313 [==============================] - 1s 2ms/step - loss: 0.6938 - accuracy: 0.4916\n",
            "Epoch 88/100\n",
            "313/313 [==============================] - 1s 2ms/step - loss: 0.6940 - accuracy: 0.4885\n",
            "Epoch 89/100\n",
            "313/313 [==============================] - 1s 2ms/step - loss: 0.6935 - accuracy: 0.5025\n",
            "Epoch 90/100\n",
            "313/313 [==============================] - 1s 2ms/step - loss: 0.6944 - accuracy: 0.4966\n",
            "Epoch 91/100\n",
            "313/313 [==============================] - 1s 2ms/step - loss: 0.6939 - accuracy: 0.4992\n",
            "Epoch 92/100\n",
            "313/313 [==============================] - 1s 2ms/step - loss: 0.6941 - accuracy: 0.4864\n",
            "Epoch 93/100\n",
            "313/313 [==============================] - 1s 2ms/step - loss: 0.6940 - accuracy: 0.4969\n",
            "Epoch 94/100\n",
            "313/313 [==============================] - 1s 2ms/step - loss: 0.6937 - accuracy: 0.4910\n",
            "Epoch 95/100\n",
            "313/313 [==============================] - 1s 2ms/step - loss: 0.6938 - accuracy: 0.4964\n",
            "Epoch 96/100\n",
            "313/313 [==============================] - 1s 2ms/step - loss: 0.6938 - accuracy: 0.4988\n",
            "Epoch 97/100\n",
            "313/313 [==============================] - 1s 2ms/step - loss: 0.6938 - accuracy: 0.5008\n",
            "Epoch 98/100\n",
            "313/313 [==============================] - 1s 2ms/step - loss: 0.6938 - accuracy: 0.4908\n",
            "Epoch 99/100\n",
            "313/313 [==============================] - 1s 2ms/step - loss: 0.6938 - accuracy: 0.4972\n",
            "Epoch 100/100\n",
            "313/313 [==============================] - 1s 2ms/step - loss: 0.6940 - accuracy: 0.4964\n"
          ]
        },
        {
          "output_type": "execute_result",
          "data": {
            "text/plain": [
              "<keras.callbacks.History at 0x7f5e3cc6a0d0>"
            ]
          },
          "metadata": {},
          "execution_count": 20
        }
      ]
    },
    {
      "cell_type": "code",
      "source": [
        "# 4. Evaluate the model, NOT IDEAL TO EVALUATE ON THE SAME DATASET WE'RE TRAINING ON.. :P\n",
        "model_4.evaluate(X, y)"
      ],
      "metadata": {
        "colab": {
          "base_uri": "https://localhost:8080/"
        },
        "id": "AzXlKlW6deUD",
        "outputId": "4f772816-3cbe-463f-b772-d569f34ddc67"
      },
      "execution_count": 21,
      "outputs": [
        {
          "output_type": "stream",
          "name": "stdout",
          "text": [
            "313/313 [==============================] - 1s 2ms/step - loss: 0.6934 - accuracy: 0.5000\n"
          ]
        },
        {
          "output_type": "execute_result",
          "data": {
            "text/plain": [
              "[0.6934003829956055, 0.5]"
            ]
          },
          "metadata": {},
          "execution_count": 21
        }
      ]
    },
    {
      "cell_type": "markdown",
      "source": [
        "To visulize our model's predictions, let's create a function `plot_decision_boundary()`, this function will:\n",
        "\n",
        "* Take in trained model, features (X) and labels (y)\n",
        "* Create a [meshgrid](https://numpy.org/doc/stable/reference/generated/numpy.meshgrid.html) of the different X values\n",
        "* Make predictions across the meshgrid\n",
        "* Plot the predictions as well as a line between zones (where each unique class falls)\n",
        "\n",
        "\n"
      ],
      "metadata": {
        "id": "h6kVilZ0duTx"
      }
    },
    {
      "cell_type": "code",
      "source": [
        "import numpy as np\n",
        "\n",
        "def plot_decision_boundary(model, X, y):\n",
        "  \"\"\"\n",
        "  Plots the decision boundary created by a model predicting on X.\n",
        "  This function has been adapted from two phenomenal resources:\n",
        "   1. CS231n - https://cs231n.github.io/neural-networks-case-study/\n",
        "   2. Made with ML basics - https://github.com/GokuMohandas/MadeWithML/blob/main/notebooks/08_Neural_Networks.ipynb\n",
        "  \"\"\"\n",
        "  # Define the axis boundaries of the plot and create a meshgrid\n",
        "  x_min, x_max = X[:, 0].min() - 0.1, X[:, 0].max() + 0.1\n",
        "  y_min, y_max = X[:, 1].min() - 0.1, X[:, 1].max() + 0.1\n",
        "  xx, yy = np.meshgrid(np.linspace(x_min, x_max, 100),\n",
        "                       np.linspace(y_min, y_max, 100))\n",
        "  \n",
        "  # Create X values (we're going to predict on all of these)\n",
        "  x_in = np.c_[xx.ravel(), yy.ravel()] # stack 2D arrays together: https://numpy.org/devdocs/reference/generated/numpy.c_.html\n",
        "  \n",
        "  # Make predictions using the trained model\n",
        "  y_pred = model.predict(x_in)\n",
        "\n",
        "  # Check for multi-class\n",
        "  if model.output_shape[-1] > 1: # checks the final dimension of the model's output shape, if this is > (greater than) 1, it's multi-class \n",
        "    print(\"doing multiclass classification...\")\n",
        "    # We have to reshape our predictions to get them ready for plotting\n",
        "    y_pred = np.argmax(y_pred, axis=1).reshape(xx.shape)\n",
        "  else:\n",
        "    print(\"doing binary classifcation...\")\n",
        "    y_pred = np.round(np.max(y_pred, axis=1)).reshape(xx.shape)\n",
        "  \n",
        "  # Plot decision boundary\n",
        "  plt.contourf(xx, yy, y_pred, cmap=plt.cm.RdYlBu, alpha=0.7)\n",
        "  plt.scatter(X[:, 0], X[:, 1], c=y, s=40, cmap=plt.cm.RdYlBu)\n",
        "  plt.xlim(xx.min(), xx.max())\n",
        "  plt.ylim(yy.min(), yy.max())"
      ],
      "metadata": {
        "id": "FDlqVyiC0G6k"
      },
      "execution_count": 22,
      "outputs": []
    },
    {
      "cell_type": "code",
      "source": [
        "# Check out the predictions our model is making\n",
        "plot_decision_boundary(first_model, X, y)  \n"
      ],
      "metadata": {
        "colab": {
          "base_uri": "https://localhost:8080/",
          "height": 283
        },
        "id": "alpiNhdyxXWC",
        "outputId": "8a7dfaad-8e0f-4286-a2cb-80155ca44c4c"
      },
      "execution_count": 23,
      "outputs": [
        {
          "output_type": "stream",
          "name": "stdout",
          "text": [
            "doing binary classifcation...\n"
          ]
        },
        {
          "output_type": "display_data",
          "data": {
            "text/plain": [
              "<Figure size 432x288 with 1 Axes>"
            ],
            "image/png": "[encoded data removed]"
          },
          "metadata": {
            "needs_background": "light"
          }
        }
      ]
    },
    {
      "cell_type": "code",
      "source": [
        "# Let's see if out model can be used for a regresion problem.\n",
        "\n",
        "tf.random.set_seed(42)\n",
        "\n",
        "# Create some regression data\n",
        "X_regression = tf.range(0, 1000, 5)\n",
        "y_regression = tf.range(100, 1100, 5) # y = X +100 (Thats the relationship between X and Y)\n",
        "\n",
        "# Split the regression data into training and test sets\n",
        "X_reg_train = X_regression[:150]\n",
        "X_reg_test = X_regression[150:]\n",
        "y_reg_train = y_regression[:150]\n",
        "y_reg_test = y_regression[150:]\n",
        "\n",
        "# Fit our model to the regression data"
      ],
      "metadata": {
        "id": "uHfM39-kzLFO"
      },
      "execution_count": 24,
      "outputs": []
    },
    {
      "cell_type": "markdown",
      "source": [
        "We are working on a regression problem\n",
        "\n",
        "To compile the model we need to re-write `model_4` since its for a binary classification problem\n"
      ],
      "metadata": {
        "id": "2S4zCN731zHM"
      }
    },
    {
      "cell_type": "code",
      "source": [
        "# Random seed\n",
        "tf.random.set_seed(42)\n",
        "\n",
        "# 1. Create the model\n",
        "model_4 = tf.keras.Sequential([\n",
        "  tf.keras.layers.Dense(100),\n",
        "  tf.keras.layers.Dense(10),\n",
        "  tf.keras.layers.Dense(1)\n",
        "])\n",
        "\n",
        "# 2. Compile the model, this time with a regression-specific loss function\n",
        "model_4.compile(loss=tf.keras.losses.mae,\n",
        "                optimizer=tf.keras.optimizers.Adam(),\n",
        "                metrics=[\"mae\"])\n",
        "\n",
        "# 3. Fit the model\n",
        "model_4.fit(tf.expand_dims(X_reg_train, axis=-1), y_reg_train, epochs = 100)"
      ],
      "metadata": {
        "colab": {
          "base_uri": "https://localhost:8080/"
        },
        "id": "WvDsdARx2YOG",
        "outputId": "70c529ed-6d57-47e1-ba5b-3beef04cefed"
      },
      "execution_count": 28,
      "outputs": [
        {
          "output_type": "stream",
          "name": "stdout",
          "text": [
            "Epoch 1/100\n",
            "5/5 [==============================] - 0s 3ms/step - loss: 248.2155 - mae: 248.2155\n",
            "Epoch 2/100\n",
            "5/5 [==============================] - 0s 4ms/step - loss: 138.9005 - mae: 138.9005\n",
            "Epoch 3/100\n",
            "5/5 [==============================] - 0s 3ms/step - loss: 53.1039 - mae: 53.1039\n",
            "Epoch 4/100\n",
            "5/5 [==============================] - 0s 4ms/step - loss: 73.5170 - mae: 73.5170\n",
            "Epoch 5/100\n",
            "5/5 [==============================] - 0s 3ms/step - loss: 71.2358 - mae: 71.2358\n",
            "Epoch 6/100\n",
            "5/5 [==============================] - 0s 4ms/step - loss: 47.0040 - mae: 47.0040\n",
            "Epoch 7/100\n",
            "5/5 [==============================] - 0s 3ms/step - loss: 45.9386 - mae: 45.9386\n",
            "Epoch 8/100\n",
            "5/5 [==============================] - 0s 3ms/step - loss: 42.3638 - mae: 42.3638\n",
            "Epoch 9/100\n",
            "5/5 [==============================] - 0s 4ms/step - loss: 43.6831 - mae: 43.6831\n",
            "Epoch 10/100\n",
            "5/5 [==============================] - 0s 4ms/step - loss: 42.6198 - mae: 42.6198\n",
            "Epoch 11/100\n",
            "5/5 [==============================] - 0s 5ms/step - loss: 42.4797 - mae: 42.4797\n",
            "Epoch 12/100\n",
            "5/5 [==============================] - 0s 3ms/step - loss: 41.5537 - mae: 41.5537\n",
            "Epoch 13/100\n",
            "5/5 [==============================] - 0s 4ms/step - loss: 42.0972 - mae: 42.0972\n",
            "Epoch 14/100\n",
            "5/5 [==============================] - 0s 4ms/step - loss: 41.8647 - mae: 41.8647\n",
            "Epoch 15/100\n",
            "5/5 [==============================] - 0s 4ms/step - loss: 41.5342 - mae: 41.5342\n",
            "Epoch 16/100\n",
            "5/5 [==============================] - 0s 4ms/step - loss: 41.4028 - mae: 41.4028\n",
            "Epoch 17/100\n",
            "5/5 [==============================] - 0s 4ms/step - loss: 41.6887 - mae: 41.6887\n",
            "Epoch 18/100\n",
            "5/5 [==============================] - 0s 3ms/step - loss: 41.6137 - mae: 41.6137\n",
            "Epoch 19/100\n",
            "5/5 [==============================] - 0s 4ms/step - loss: 41.2796 - mae: 41.2796\n",
            "Epoch 20/100\n",
            "5/5 [==============================] - 0s 5ms/step - loss: 41.1947 - mae: 41.1947\n",
            "Epoch 21/100\n",
            "5/5 [==============================] - 0s 4ms/step - loss: 41.2130 - mae: 41.2130\n",
            "Epoch 22/100\n",
            "5/5 [==============================] - 0s 4ms/step - loss: 41.0893 - mae: 41.0893\n",
            "Epoch 23/100\n",
            "5/5 [==============================] - 0s 5ms/step - loss: 41.2019 - mae: 41.2019\n",
            "Epoch 24/100\n",
            "5/5 [==============================] - 0s 4ms/step - loss: 40.9989 - mae: 40.9989\n",
            "Epoch 25/100\n",
            "5/5 [==============================] - 0s 4ms/step - loss: 41.0131 - mae: 41.0131\n",
            "Epoch 26/100\n",
            "5/5 [==============================] - 0s 5ms/step - loss: 41.0654 - mae: 41.0654\n",
            "Epoch 27/100\n",
            "5/5 [==============================] - 0s 4ms/step - loss: 40.8764 - mae: 40.8764\n",
            "Epoch 28/100\n",
            "5/5 [==============================] - 0s 4ms/step - loss: 41.0545 - mae: 41.0545\n",
            "Epoch 29/100\n",
            "5/5 [==============================] - 0s 4ms/step - loss: 41.0480 - mae: 41.0480\n",
            "Epoch 30/100\n",
            "5/5 [==============================] - 0s 4ms/step - loss: 40.8807 - mae: 40.8807\n",
            "Epoch 31/100\n",
            "5/5 [==============================] - 0s 3ms/step - loss: 41.2695 - mae: 41.2695\n",
            "Epoch 32/100\n",
            "5/5 [==============================] - 0s 4ms/step - loss: 40.9949 - mae: 40.9949\n",
            "Epoch 33/100\n",
            "5/5 [==============================] - 0s 4ms/step - loss: 41.0760 - mae: 41.0760\n",
            "Epoch 34/100\n",
            "5/5 [==============================] - 0s 4ms/step - loss: 41.2471 - mae: 41.2471\n",
            "Epoch 35/100\n",
            "5/5 [==============================] - 0s 4ms/step - loss: 40.6102 - mae: 40.6102\n",
            "Epoch 36/100\n",
            "5/5 [==============================] - 0s 5ms/step - loss: 41.1093 - mae: 41.1093\n",
            "Epoch 37/100\n",
            "5/5 [==============================] - 0s 5ms/step - loss: 40.8191 - mae: 40.8191\n",
            "Epoch 38/100\n",
            "5/5 [==============================] - 0s 4ms/step - loss: 40.2485 - mae: 40.2485\n",
            "Epoch 39/100\n",
            "5/5 [==============================] - 0s 4ms/step - loss: 41.0625 - mae: 41.0625\n",
            "Epoch 40/100\n",
            "5/5 [==============================] - 0s 6ms/step - loss: 40.5311 - mae: 40.5311\n",
            "Epoch 41/100\n",
            "5/5 [==============================] - 0s 4ms/step - loss: 40.5497 - mae: 40.5497\n",
            "Epoch 42/100\n",
            "5/5 [==============================] - 0s 4ms/step - loss: 40.4322 - mae: 40.4322\n",
            "Epoch 43/100\n",
            "5/5 [==============================] - 0s 4ms/step - loss: 40.5367 - mae: 40.5367\n",
            "Epoch 44/100\n",
            "5/5 [==============================] - 0s 4ms/step - loss: 40.2487 - mae: 40.2487\n",
            "Epoch 45/100\n",
            "5/5 [==============================] - 0s 4ms/step - loss: 40.5152 - mae: 40.5152\n",
            "Epoch 46/100\n",
            "5/5 [==============================] - 0s 4ms/step - loss: 40.3702 - mae: 40.3702\n",
            "Epoch 47/100\n",
            "5/5 [==============================] - 0s 4ms/step - loss: 40.4769 - mae: 40.4769\n",
            "Epoch 48/100\n",
            "5/5 [==============================] - 0s 4ms/step - loss: 40.1532 - mae: 40.1532\n",
            "Epoch 49/100\n",
            "5/5 [==============================] - 0s 3ms/step - loss: 40.7291 - mae: 40.7291\n",
            "Epoch 50/100\n",
            "5/5 [==============================] - 0s 3ms/step - loss: 40.1536 - mae: 40.1536\n",
            "Epoch 51/100\n",
            "5/5 [==============================] - 0s 4ms/step - loss: 40.2711 - mae: 40.2711\n",
            "Epoch 52/100\n",
            "5/5 [==============================] - 0s 5ms/step - loss: 40.6572 - mae: 40.6572\n",
            "Epoch 53/100\n",
            "5/5 [==============================] - 0s 4ms/step - loss: 40.6573 - mae: 40.6573\n",
            "Epoch 54/100\n",
            "5/5 [==============================] - 0s 3ms/step - loss: 40.6894 - mae: 40.6894\n",
            "Epoch 55/100\n",
            "5/5 [==============================] - 0s 3ms/step - loss: 41.2771 - mae: 41.2771\n",
            "Epoch 56/100\n",
            "5/5 [==============================] - 0s 4ms/step - loss: 41.8519 - mae: 41.8519\n",
            "Epoch 57/100\n",
            "5/5 [==============================] - 0s 3ms/step - loss: 40.7903 - mae: 40.7903\n",
            "Epoch 58/100\n",
            "5/5 [==============================] - 0s 5ms/step - loss: 40.3128 - mae: 40.3128\n",
            "Epoch 59/100\n",
            "5/5 [==============================] - 0s 3ms/step - loss: 40.7198 - mae: 40.7198\n",
            "Epoch 60/100\n",
            "5/5 [==============================] - 0s 3ms/step - loss: 40.1478 - mae: 40.1478\n",
            "Epoch 61/100\n",
            "5/5 [==============================] - 0s 3ms/step - loss: 40.1116 - mae: 40.1116\n",
            "Epoch 62/100\n",
            "5/5 [==============================] - 0s 5ms/step - loss: 40.7800 - mae: 40.7800\n",
            "Epoch 63/100\n",
            "5/5 [==============================] - 0s 4ms/step - loss: 39.7242 - mae: 39.7242\n",
            "Epoch 64/100\n",
            "5/5 [==============================] - 0s 3ms/step - loss: 40.1465 - mae: 40.1465\n",
            "Epoch 65/100\n",
            "5/5 [==============================] - 0s 4ms/step - loss: 39.6887 - mae: 39.6887\n",
            "Epoch 66/100\n",
            "5/5 [==============================] - 0s 4ms/step - loss: 40.2840 - mae: 40.2840\n",
            "Epoch 67/100\n",
            "5/5 [==============================] - 0s 4ms/step - loss: 39.5541 - mae: 39.5541\n",
            "Epoch 68/100\n",
            "5/5 [==============================] - 0s 3ms/step - loss: 39.7378 - mae: 39.7378\n",
            "Epoch 69/100\n",
            "5/5 [==============================] - 0s 3ms/step - loss: 39.9784 - mae: 39.9784\n",
            "Epoch 70/100\n",
            "5/5 [==============================] - 0s 4ms/step - loss: 40.0016 - mae: 40.0016\n",
            "Epoch 71/100\n",
            "5/5 [==============================] - 0s 6ms/step - loss: 40.0913 - mae: 40.0913\n",
            "Epoch 72/100\n",
            "5/5 [==============================] - 0s 4ms/step - loss: 39.2547 - mae: 39.2547\n",
            "Epoch 73/100\n",
            "5/5 [==============================] - 0s 4ms/step - loss: 39.6828 - mae: 39.6828\n",
            "Epoch 74/100\n",
            "5/5 [==============================] - 0s 3ms/step - loss: 39.5373 - mae: 39.5373\n",
            "Epoch 75/100\n",
            "5/5 [==============================] - 0s 3ms/step - loss: 39.6265 - mae: 39.6265\n",
            "Epoch 76/100\n",
            "5/5 [==============================] - 0s 4ms/step - loss: 39.3110 - mae: 39.3110\n",
            "Epoch 77/100\n",
            "5/5 [==============================] - 0s 4ms/step - loss: 39.1599 - mae: 39.1599\n",
            "Epoch 78/100\n",
            "5/5 [==============================] - 0s 4ms/step - loss: 39.7550 - mae: 39.7550\n",
            "Epoch 79/100\n",
            "5/5 [==============================] - 0s 3ms/step - loss: 39.2542 - mae: 39.2542\n",
            "Epoch 80/100\n",
            "5/5 [==============================] - 0s 3ms/step - loss: 38.6968 - mae: 38.6968\n",
            "Epoch 81/100\n",
            "5/5 [==============================] - 0s 4ms/step - loss: 39.5442 - mae: 39.5442\n",
            "Epoch 82/100\n",
            "5/5 [==============================] - 0s 4ms/step - loss: 39.8686 - mae: 39.8686\n",
            "Epoch 83/100\n",
            "5/5 [==============================] - 0s 3ms/step - loss: 39.1693 - mae: 39.1693\n",
            "Epoch 84/100\n",
            "5/5 [==============================] - 0s 4ms/step - loss: 38.8840 - mae: 38.8840\n",
            "Epoch 85/100\n",
            "5/5 [==============================] - 0s 4ms/step - loss: 38.8887 - mae: 38.8887\n",
            "Epoch 86/100\n",
            "5/5 [==============================] - 0s 5ms/step - loss: 38.6614 - mae: 38.6614\n",
            "Epoch 87/100\n",
            "5/5 [==============================] - 0s 4ms/step - loss: 38.8399 - mae: 38.8399\n",
            "Epoch 88/100\n",
            "5/5 [==============================] - 0s 3ms/step - loss: 38.6604 - mae: 38.6604\n",
            "Epoch 89/100\n",
            "5/5 [==============================] - 0s 3ms/step - loss: 38.7559 - mae: 38.7559\n",
            "Epoch 90/100\n",
            "5/5 [==============================] - 0s 3ms/step - loss: 38.5442 - mae: 38.5442\n",
            "Epoch 91/100\n",
            "5/5 [==============================] - 0s 3ms/step - loss: 38.3247 - mae: 38.3247\n",
            "Epoch 92/100\n",
            "5/5 [==============================] - 0s 5ms/step - loss: 38.8431 - mae: 38.8431\n",
            "Epoch 93/100\n",
            "5/5 [==============================] - 0s 5ms/step - loss: 39.1137 - mae: 39.1137\n",
            "Epoch 94/100\n",
            "5/5 [==============================] - 0s 3ms/step - loss: 38.1463 - mae: 38.1463\n",
            "Epoch 95/100\n",
            "5/5 [==============================] - 0s 4ms/step - loss: 38.3998 - mae: 38.3998\n",
            "Epoch 96/100\n",
            "5/5 [==============================] - 0s 4ms/step - loss: 38.5599 - mae: 38.5599\n",
            "Epoch 97/100\n",
            "5/5 [==============================] - 0s 4ms/step - loss: 38.1038 - mae: 38.1038\n",
            "Epoch 98/100\n",
            "5/5 [==============================] - 0s 3ms/step - loss: 39.0081 - mae: 39.0081\n",
            "Epoch 99/100\n",
            "5/5 [==============================] - 0s 4ms/step - loss: 38.3056 - mae: 38.3056\n",
            "Epoch 100/100\n",
            "5/5 [==============================] - 0s 3ms/step - loss: 37.9976 - mae: 37.9976\n"
          ]
        },
        {
          "output_type": "execute_result",
          "data": {
            "text/plain": [
              "<keras.callbacks.History at 0x7f5e3c8a5b50>"
            ]
          },
          "metadata": {},
          "execution_count": 28
        }
      ]
    },
    {
      "cell_type": "code",
      "source": [
        "# Make predictions with our trained model\n",
        "y_reg_preds = model_4.predict(X_reg_test)\n",
        "\n",
        "# Plot the model's predictions against our regression data\n",
        "plt.figure(figsize=(10, 7))\n",
        "plt.scatter(X_reg_train, y_reg_train, c=\"b\", label=\"Training data\")\n",
        "plt.scatter(X_reg_test, y_reg_test, c=\"g\", label=\"Test data\")\n",
        "plt.scatter(X_reg_test, y_reg_preds, c=\"r\", label=\"Predictions\")\n",
        "plt.legend();"
      ],
      "metadata": {
        "colab": {
          "base_uri": "https://localhost:8080/",
          "height": 428
        },
        "id": "d4p1ZHZR5WxO",
        "outputId": "0b1cf0ba-c3f0-44d2-dcd2-b222bf603dda"
      },
      "execution_count": 29,
      "outputs": [
        {
          "output_type": "display_data",
          "data": {
            "text/plain": [
              "<Figure size 720x504 with 1 Axes>"
            ],
            "image/png": "[encoded data removed]"
          },
          "metadata": {
            "needs_background": "light"
          }
        }
      ]
    },
    {
      "cell_type": "markdown",
      "source": [
        "## The missing piece: Non-linearity"
      ],
      "metadata": {
        "id": "TQEMFnlC7LGP"
      }
    },
    {
      "cell_type": "code",
      "source": [
        ""
      ],
      "metadata": {
        "id": "wL1l8E7M7daX"
      },
      "execution_count": null,
      "outputs": []
    }
  ]
}