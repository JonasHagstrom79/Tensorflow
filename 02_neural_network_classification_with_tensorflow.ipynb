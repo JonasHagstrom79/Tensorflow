{
  "nbformat": 4,
  "nbformat_minor": 0,
  "metadata": {
    "colab": {
      "name": "02_neural_network_classification_with_tensorflow.ipynb",
      "provenance": [],
      "collapsed_sections": [],
      "authorship_tag": "ABX9TyNuQzqXhWuRpadvwG23Joz6"
    },
    "kernelspec": {
      "name": "python3",
      "display_name": "Python 3"
    },
    "language_info": {
      "name": "python"
    }
  },
  "cells": [
    {
      "cell_type": "markdown",
      "source": [
        "# Introduction to neural network classification with TensorFlow\n",
        "\n",
        "A classification is where you try yo classify something as on thing or another.\n",
        "\n",
        "A few types of classification problems:\n",
        "\n",
        "* Binary classification\n",
        "* Multiclass classification\n",
        "* Multilabel classification"
      ],
      "metadata": {
        "id": "KGythZba1ZJS"
      }
    },
    {
      "cell_type": "markdown",
      "source": [
        "## Creating data to view and fit"
      ],
      "metadata": {
        "id": "gPHn8etm2P2P"
      }
    },
    {
      "cell_type": "code",
      "source": [
        "from sklearn.datasets import make_circles\n",
        "\n",
        "# Make 1000 examples\n",
        "n_samples = 10000\n",
        "\n",
        "# Create circles\n",
        "X, y = make_circles(n_samples, \n",
        "                    noise=0.03,\n",
        "                    random_state=42)"
      ],
      "metadata": {
        "id": "lYGEl5We2VlY"
      },
      "execution_count": 4,
      "outputs": []
    },
    {
      "cell_type": "code",
      "source": [
        "# Check the features\n",
        "X"
      ],
      "metadata": {
        "colab": {
          "base_uri": "https://localhost:8080/"
        },
        "id": "wwtHWLey3NYf",
        "outputId": "7d442843-a322-48ef-8242-ee67f4672675"
      },
      "execution_count": 5,
      "outputs": [
        {
          "output_type": "execute_result",
          "data": {
            "text/plain": [
              "array([[ 0.0464692 ,  0.82477834],\n",
              "       [ 1.00506323, -0.43335153],\n",
              "       [-0.58348442,  0.79452834],\n",
              "       ...,\n",
              "       [ 0.6854581 ,  0.37297955],\n",
              "       [ 0.47440334,  0.88491997],\n",
              "       [-0.67440999,  0.26094865]])"
            ]
          },
          "metadata": {},
          "execution_count": 5
        }
      ]
    },
    {
      "cell_type": "code",
      "source": [
        "# Check the labels\n",
        "y"
      ],
      "metadata": {
        "colab": {
          "base_uri": "https://localhost:8080/"
        },
        "id": "L5cqMJSq3Te9",
        "outputId": "f87abe1e-e731-4dd4-d109-3bd412f552ee"
      },
      "execution_count": 6,
      "outputs": [
        {
          "output_type": "execute_result",
          "data": {
            "text/plain": [
              "array([1, 0, 0, ..., 1, 0, 1])"
            ]
          },
          "metadata": {},
          "execution_count": 6
        }
      ]
    },
    {
      "cell_type": "markdown",
      "source": [
        "The data is a little hard to understand right now... let´s visualize it."
      ],
      "metadata": {
        "id": "zPbwAHsK3xtx"
      }
    },
    {
      "cell_type": "code",
      "source": [
        "import pandas as pd\n",
        "circles = pd.DataFrame({\"X0\":X[:, 0], \"X1\":X[:, 1], \"label\":y})\n",
        "circles"
      ],
      "metadata": {
        "colab": {
          "base_uri": "https://localhost:8080/",
          "height": 424
        },
        "id": "5mrzonXt3q8O",
        "outputId": "0dc7db13-3678-451f-c9af-56a4c742f258"
      },
      "execution_count": 7,
      "outputs": [
        {
          "output_type": "execute_result",
          "data": {
            "text/plain": [
              "            X0        X1  label\n",
              "0     0.046469  0.824778      1\n",
              "1     1.005063 -0.433352      0\n",
              "2    -0.583484  0.794528      0\n",
              "3     0.984783 -0.325179      0\n",
              "4     0.829930 -0.547223      0\n",
              "...        ...       ...    ...\n",
              "9995  0.505764  0.662722      1\n",
              "9996  0.790650  0.218306      1\n",
              "9997  0.685458  0.372980      1\n",
              "9998  0.474403  0.884920      0\n",
              "9999 -0.674410  0.260949      1\n",
              "\n",
              "[10000 rows x 3 columns]"
            ],
            "text/html": [
              "\n",
              "  <div id=\"df-daf355ca-efed-4214-b1a9-b642b31457f5\">\n",
              "    <div class=\"colab-df-container\">\n",
              "      <div>\n",
              "<style scoped>\n",
              "    .dataframe tbody tr th:only-of-type {\n",
              "        vertical-align: middle;\n",
              "    }\n",
              "\n",
              "    .dataframe tbody tr th {\n",
              "        vertical-align: top;\n",
              "    }\n",
              "\n",
              "    .dataframe thead th {\n",
              "        text-align: right;\n",
              "    }\n",
              "</style>\n",
              "<table border=\"1\" class=\"dataframe\">\n",
              "  <thead>\n",
              "    <tr style=\"text-align: right;\">\n",
              "      <th></th>\n",
              "      <th>X0</th>\n",
              "      <th>X1</th>\n",
              "      <th>label</th>\n",
              "    </tr>\n",
              "  </thead>\n",
              "  <tbody>\n",
              "    <tr>\n",
              "      <th>0</th>\n",
              "      <td>0.046469</td>\n",
              "      <td>0.824778</td>\n",
              "      <td>1</td>\n",
              "    </tr>\n",
              "    <tr>\n",
              "      <th>1</th>\n",
              "      <td>1.005063</td>\n",
              "      <td>-0.433352</td>\n",
              "      <td>0</td>\n",
              "    </tr>\n",
              "    <tr>\n",
              "      <th>2</th>\n",
              "      <td>-0.583484</td>\n",
              "      <td>0.794528</td>\n",
              "      <td>0</td>\n",
              "    </tr>\n",
              "    <tr>\n",
              "      <th>3</th>\n",
              "      <td>0.984783</td>\n",
              "      <td>-0.325179</td>\n",
              "      <td>0</td>\n",
              "    </tr>\n",
              "    <tr>\n",
              "      <th>4</th>\n",
              "      <td>0.829930</td>\n",
              "      <td>-0.547223</td>\n",
              "      <td>0</td>\n",
              "    </tr>\n",
              "    <tr>\n",
              "      <th>...</th>\n",
              "      <td>...</td>\n",
              "      <td>...</td>\n",
              "      <td>...</td>\n",
              "    </tr>\n",
              "    <tr>\n",
              "      <th>9995</th>\n",
              "      <td>0.505764</td>\n",
              "      <td>0.662722</td>\n",
              "      <td>1</td>\n",
              "    </tr>\n",
              "    <tr>\n",
              "      <th>9996</th>\n",
              "      <td>0.790650</td>\n",
              "      <td>0.218306</td>\n",
              "      <td>1</td>\n",
              "    </tr>\n",
              "    <tr>\n",
              "      <th>9997</th>\n",
              "      <td>0.685458</td>\n",
              "      <td>0.372980</td>\n",
              "      <td>1</td>\n",
              "    </tr>\n",
              "    <tr>\n",
              "      <th>9998</th>\n",
              "      <td>0.474403</td>\n",
              "      <td>0.884920</td>\n",
              "      <td>0</td>\n",
              "    </tr>\n",
              "    <tr>\n",
              "      <th>9999</th>\n",
              "      <td>-0.674410</td>\n",
              "      <td>0.260949</td>\n",
              "      <td>1</td>\n",
              "    </tr>\n",
              "  </tbody>\n",
              "</table>\n",
              "<p>10000 rows × 3 columns</p>\n",
              "</div>\n",
              "      <button class=\"colab-df-convert\" onclick=\"convertToInteractive('df-daf355ca-efed-4214-b1a9-b642b31457f5')\"\n",
              "              title=\"Convert this dataframe to an interactive table.\"\n",
              "              style=\"display:none;\">\n",
              "        \n",
              "  <svg xmlns=\"http://www.w3.org/2000/svg\" height=\"24px\"viewBox=\"0 0 24 24\"\n",
              "       width=\"24px\">\n",
              "    <path d=\"M0 0h24v24H0V0z\" fill=\"none\"/>\n",
              "    <path d=\"M18.56 5.44l.94 2.06.94-2.06 2.06-.94-2.06-.94-.94-2.06-.94 2.06-2.06.94zm-11 1L8.5 8.5l.94-2.06 2.06-.94-2.06-.94L8.5 2.5l-.94 2.06-2.06.94zm10 10l.94 2.06.94-2.06 2.06-.94-2.06-.94-.94-2.06-.94 2.06-2.06.94z\"/><path d=\"M17.41 7.96l-1.37-1.37c-.4-.4-.92-.59-1.43-.59-.52 0-1.04.2-1.43.59L10.3 9.45l-7.72 7.72c-.78.78-.78 2.05 0 2.83L4 21.41c.39.39.9.59 1.41.59.51 0 1.02-.2 1.41-.59l7.78-7.78 2.81-2.81c.8-.78.8-2.07 0-2.86zM5.41 20L4 18.59l7.72-7.72 1.47 1.35L5.41 20z\"/>\n",
              "  </svg>\n",
              "      </button>\n",
              "      \n",
              "  <style>\n",
              "    .colab-df-container {\n",
              "      display:flex;\n",
              "      flex-wrap:wrap;\n",
              "      gap: 12px;\n",
              "    }\n",
              "\n",
              "    .colab-df-convert {\n",
              "      background-color: #E8F0FE;\n",
              "      border: none;\n",
              "      border-radius: 50%;\n",
              "      cursor: pointer;\n",
              "      display: none;\n",
              "      fill: #1967D2;\n",
              "      height: 32px;\n",
              "      padding: 0 0 0 0;\n",
              "      width: 32px;\n",
              "    }\n",
              "\n",
              "    .colab-df-convert:hover {\n",
              "      background-color: #E2EBFA;\n",
              "      box-shadow: 0px 1px 2px rgba(60, 64, 67, 0.3), 0px 1px 3px 1px rgba(60, 64, 67, 0.15);\n",
              "      fill: #174EA6;\n",
              "    }\n",
              "\n",
              "    [theme=dark] .colab-df-convert {\n",
              "      background-color: #3B4455;\n",
              "      fill: #D2E3FC;\n",
              "    }\n",
              "\n",
              "    [theme=dark] .colab-df-convert:hover {\n",
              "      background-color: #434B5C;\n",
              "      box-shadow: 0px 1px 3px 1px rgba(0, 0, 0, 0.15);\n",
              "      filter: drop-shadow(0px 1px 2px rgba(0, 0, 0, 0.3));\n",
              "      fill: #FFFFFF;\n",
              "    }\n",
              "  </style>\n",
              "\n",
              "      <script>\n",
              "        const buttonEl =\n",
              "          document.querySelector('#df-daf355ca-efed-4214-b1a9-b642b31457f5 button.colab-df-convert');\n",
              "        buttonEl.style.display =\n",
              "          google.colab.kernel.accessAllowed ? 'block' : 'none';\n",
              "\n",
              "        async function convertToInteractive(key) {\n",
              "          const element = document.querySelector('#df-daf355ca-efed-4214-b1a9-b642b31457f5');\n",
              "          const dataTable =\n",
              "            await google.colab.kernel.invokeFunction('convertToInteractive',\n",
              "                                                     [key], {});\n",
              "          if (!dataTable) return;\n",
              "\n",
              "          const docLinkHtml = 'Like what you see? Visit the ' +\n",
              "            '<a target=\"_blank\" href=https://colab.research.google.com/notebooks/data_table.ipynb>data table notebook</a>'\n",
              "            + ' to learn more about interactive tables.';\n",
              "          element.innerHTML = '';\n",
              "          dataTable['output_type'] = 'display_data';\n",
              "          await google.colab.output.renderOutput(dataTable, element);\n",
              "          const docLink = document.createElement('div');\n",
              "          docLink.innerHTML = docLinkHtml;\n",
              "          element.appendChild(docLink);\n",
              "        }\n",
              "      </script>\n",
              "    </div>\n",
              "  </div>\n",
              "  "
            ]
          },
          "metadata": {},
          "execution_count": 7
        }
      ]
    },
    {
      "cell_type": "code",
      "source": [
        "# Visualize with a plot\n",
        "import matplotlib.pyplot as plt\n",
        "plt.scatter(X[:, 0], X[:, 1], c=y, cmap=plt.cm.RdYlBu)"
      ],
      "metadata": {
        "colab": {
          "base_uri": "https://localhost:8080/",
          "height": 283
        },
        "id": "WlBKacPt4lWd",
        "outputId": "b32fcd5b-268f-472b-d254-1b50e5bc2717"
      },
      "execution_count": 8,
      "outputs": [
        {
          "output_type": "execute_result",
          "data": {
            "text/plain": [
              "<matplotlib.collections.PathCollection at 0x7fbd7864c5d0>"
            ]
          },
          "metadata": {},
          "execution_count": 8
        },
        {
          "output_type": "display_data",
          "data": {
            "text/plain": [
              "<Figure size 432x288 with 1 Axes>"
            ],
            "image/png": "[encoded data removed]"
          },
          "metadata": {
            "needs_background": "light"
          }
        }
      ]
    },
    {
      "cell_type": "markdown",
      "source": [
        "## Input and output shapes"
      ],
      "metadata": {
        "id": "dqSFxSvs5Mck"
      }
    },
    {
      "cell_type": "code",
      "source": [
        "# Check the shape of our features and labels\n",
        "X.shape, y.shape"
      ],
      "metadata": {
        "colab": {
          "base_uri": "https://localhost:8080/"
        },
        "id": "WoSkxBX0nNO9",
        "outputId": "7bdb64f9-b7ab-496c-d795-972191f491b7"
      },
      "execution_count": 9,
      "outputs": [
        {
          "output_type": "execute_result",
          "data": {
            "text/plain": [
              "((10000, 2), (10000,))"
            ]
          },
          "metadata": {},
          "execution_count": 9
        }
      ]
    },
    {
      "cell_type": "code",
      "source": [
        "X[:10], y[:10]"
      ],
      "metadata": {
        "colab": {
          "base_uri": "https://localhost:8080/"
        },
        "id": "16wtKBnLnWTa",
        "outputId": "36bc93d7-c5e6-4bd5-dd5a-3a38677ba9e1"
      },
      "execution_count": 10,
      "outputs": [
        {
          "output_type": "execute_result",
          "data": {
            "text/plain": [
              "(array([[ 0.0464692 ,  0.82477834],\n",
              "        [ 1.00506323, -0.43335153],\n",
              "        [-0.58348442,  0.79452834],\n",
              "        [ 0.98478298, -0.32517879],\n",
              "        [ 0.82993028, -0.54722305],\n",
              "        [-0.13392877,  0.77624858],\n",
              "        [ 0.77919743,  0.64581132],\n",
              "        [ 0.72295477,  0.17383084],\n",
              "        [-0.12180665,  0.79695076],\n",
              "        [ 0.84952936,  0.50567829]]), array([1, 0, 0, 0, 0, 1, 0, 1, 1, 0]))"
            ]
          },
          "metadata": {},
          "execution_count": 10
        }
      ]
    },
    {
      "cell_type": "code",
      "source": [
        "# How many samples we're working with\n",
        "len(X), len(y)"
      ],
      "metadata": {
        "colab": {
          "base_uri": "https://localhost:8080/"
        },
        "id": "KViBC56en3tm",
        "outputId": "4680a3f7-228a-4d9b-c8e8-46614b8177db"
      },
      "execution_count": 11,
      "outputs": [
        {
          "output_type": "execute_result",
          "data": {
            "text/plain": [
              "(10000, 10000)"
            ]
          },
          "metadata": {},
          "execution_count": 11
        }
      ]
    },
    {
      "cell_type": "code",
      "source": [
        "# View the first example of features and labels\n",
        "X[10], y[10]"
      ],
      "metadata": {
        "colab": {
          "base_uri": "https://localhost:8080/"
        },
        "id": "MpcovOF_oFZf",
        "outputId": "a5e00898-84d7-40c6-c726-345259bbd8a7"
      },
      "execution_count": 12,
      "outputs": [
        {
          "output_type": "execute_result",
          "data": {
            "text/plain": [
              "(array([-0.92287711, -0.31288882]), 0)"
            ]
          },
          "metadata": {},
          "execution_count": 12
        }
      ]
    },
    {
      "cell_type": "markdown",
      "source": [
        "## Steps in modelling\n",
        "First try"
      ],
      "metadata": {
        "id": "F9Np29oorHlB"
      }
    },
    {
      "cell_type": "code",
      "source": [
        "# Create training and test sets\n",
        "from sklearn.model_selection import train_test_split\n",
        "X_train, X_test, y_train, y_test = train_test_split(X,\n",
        "                                                    y,\n",
        "                                                    test_size=0.2,\n",
        "                                                    random_state=42\n",
        ")\n",
        "len(X), len(X_train), len(X_test)"
      ],
      "metadata": {
        "colab": {
          "base_uri": "https://localhost:8080/"
        },
        "id": "WTp793swyCVo",
        "outputId": "0e125eca-3cf0-4aa0-bfbe-180c27efc27c"
      },
      "execution_count": 13,
      "outputs": [
        {
          "output_type": "execute_result",
          "data": {
            "text/plain": [
              "(10000, 8000, 2000)"
            ]
          },
          "metadata": {},
          "execution_count": 13
        }
      ]
    },
    {
      "cell_type": "code",
      "source": [
        "import tensorflow as tf\n",
        "\n",
        "# Build a neural network to fit the data\n",
        "tf.random.set_seed(42)\n",
        "\n",
        "# 1. Create a model\n",
        "callback = tf.keras.callbacks.EarlyStopping(monitor=\"accuracy\", mode=\"min\", patience=10)\n",
        "first_model = tf.keras.Sequential([\n",
        "  tf.keras.Input(shape = 2),\n",
        "  tf.keras.layers.Dense(100, activation = \"relu\"),\n",
        "  #tf.keras.layers.Dense(100),\n",
        "  #tf.keras.layers.Dense(100),\n",
        "  tf.keras.layers.Dense(1, activation=\"sigmoid\"),\n",
        "])\n",
        "\n",
        "# 2. Compile the model\n",
        "first_model.compile(loss=tf.keras.losses.BinaryCrossentropy(),\n",
        "              optimizer=tf.keras.optimizers.Adam(learning_rate=3e-4),\n",
        "              metrics=[\"accuracy\"])\n",
        "\n",
        "# 3. Fit the model\n",
        "history = first_model.fit(X_train, y_train, \n",
        "                          #X, y,\n",
        "                          epochs=10000, callbacks=[callback])\n",
        "\n",
        "# 4. Evaluate the model\n",
        "first_model.evaluate(X_test, y_test)"
      ],
      "metadata": {
        "colab": {
          "base_uri": "https://localhost:8080/"
        },
        "id": "gtd7voOPrMgc",
        "outputId": "90668274-2967-4a05-bf7f-7effc9c4d44d"
      },
      "execution_count": 14,
      "outputs": [
        {
          "output_type": "stream",
          "name": "stdout",
          "text": [
            "Epoch 1/10000\n",
            "250/250 [==============================] - 1s 2ms/step - loss: 0.6949 - accuracy: 0.4976\n",
            "Epoch 2/10000\n",
            "250/250 [==============================] - 0s 2ms/step - loss: 0.6863 - accuracy: 0.4974\n",
            "Epoch 3/10000\n",
            "250/250 [==============================] - 0s 2ms/step - loss: 0.6789 - accuracy: 0.5045\n",
            "Epoch 4/10000\n",
            "250/250 [==============================] - 0s 2ms/step - loss: 0.6699 - accuracy: 0.5665\n",
            "Epoch 5/10000\n",
            "250/250 [==============================] - 0s 2ms/step - loss: 0.6591 - accuracy: 0.7505\n",
            "Epoch 6/10000\n",
            "250/250 [==============================] - 0s 2ms/step - loss: 0.6468 - accuracy: 0.8911\n",
            "Epoch 7/10000\n",
            "250/250 [==============================] - 0s 2ms/step - loss: 0.6333 - accuracy: 0.9345\n",
            "Epoch 8/10000\n",
            "250/250 [==============================] - 0s 2ms/step - loss: 0.6191 - accuracy: 0.9621\n",
            "Epoch 9/10000\n",
            "250/250 [==============================] - 0s 2ms/step - loss: 0.6037 - accuracy: 0.9799\n",
            "Epoch 10/10000\n",
            "250/250 [==============================] - 0s 2ms/step - loss: 0.5880 - accuracy: 0.9876\n",
            "Epoch 11/10000\n",
            "250/250 [==============================] - 0s 2ms/step - loss: 0.5712 - accuracy: 0.9916\n",
            "Epoch 12/10000\n",
            "250/250 [==============================] - 0s 2ms/step - loss: 0.5539 - accuracy: 0.9939\n",
            "63/63 [==============================] - 0s 3ms/step - loss: 0.5448 - accuracy: 0.9990\n"
          ]
        },
        {
          "output_type": "execute_result",
          "data": {
            "text/plain": [
              "[0.5448473691940308, 0.9990000128746033]"
            ]
          },
          "metadata": {},
          "execution_count": 14
        }
      ]
    },
    {
      "cell_type": "code",
      "source": [
        "# Plot history\n",
        "import pandas as pd\n",
        "pd.DataFrame(history.history).plot()\n",
        "plt.ylabel(\"loss\")\n",
        "plt.xlabel(\"epochs\")"
      ],
      "metadata": {
        "colab": {
          "base_uri": "https://localhost:8080/",
          "height": 297
        },
        "id": "IvXhqRqSxS8z",
        "outputId": "3ab13eb7-d7b6-48d8-f774-8878a8460e70"
      },
      "execution_count": 15,
      "outputs": [
        {
          "output_type": "execute_result",
          "data": {
            "text/plain": [
              "Text(0.5, 0, 'epochs')"
            ]
          },
          "metadata": {},
          "execution_count": 15
        },
        {
          "output_type": "display_data",
          "data": {
            "text/plain": [
              "<Figure size 432x288 with 1 Axes>"
            ],
            "image/png": "[encoded data removed]"
          },
          "metadata": {
            "needs_background": "light"
          }
        }
      ]
    },
    {
      "cell_type": "code",
      "source": [
        "# Save the model\n",
        "first_model.save(\"binary_classification_model.h5\")"
      ],
      "metadata": {
        "id": "qJDN69DX9P0-"
      },
      "execution_count": 16,
      "outputs": []
    },
    {
      "cell_type": "code",
      "source": [
        "# Download the model from Google Colab\n",
        "from google.colab import files\n",
        "files.download(\"/content/binary_classification_model.h5\")"
      ],
      "metadata": {
        "colab": {
          "base_uri": "https://localhost:8080/",
          "height": 17
        },
        "id": "QLjwrzgv96NL",
        "outputId": "0a4c1227-3e80-406f-843d-d90622ccf32f"
      },
      "execution_count": 17,
      "outputs": [
        {
          "output_type": "display_data",
          "data": {
            "text/plain": [
              "<IPython.core.display.Javascript object>"
            ],
            "application/javascript": [
              "\n",
              "    async function download(id, filename, size) {\n",
              "      if (!google.colab.kernel.accessAllowed) {\n",
              "        return;\n",
              "      }\n",
              "      const div = document.createElement('div');\n",
              "      const label = document.createElement('label');\n",
              "      label.textContent = `Downloading \"${filename}\": `;\n",
              "      div.appendChild(label);\n",
              "      const progress = document.createElement('progress');\n",
              "      progress.max = size;\n",
              "      div.appendChild(progress);\n",
              "      document.body.appendChild(div);\n",
              "\n",
              "      const buffers = [];\n",
              "      let downloaded = 0;\n",
              "\n",
              "      const channel = await google.colab.kernel.comms.open(id);\n",
              "      // Send a message to notify the kernel that we're ready.\n",
              "      channel.send({})\n",
              "\n",
              "      for await (const message of channel.messages) {\n",
              "        // Send a message to notify the kernel that we're ready.\n",
              "        channel.send({})\n",
              "        if (message.buffers) {\n",
              "          for (const buffer of message.buffers) {\n",
              "            buffers.push(buffer);\n",
              "            downloaded += buffer.byteLength;\n",
              "            progress.value = downloaded;\n",
              "          }\n",
              "        }\n",
              "      }\n",
              "      const blob = new Blob(buffers, {type: 'application/binary'});\n",
              "      const a = document.createElement('a');\n",
              "      a.href = window.URL.createObjectURL(blob);\n",
              "      a.download = filename;\n",
              "      div.appendChild(a);\n",
              "      a.click();\n",
              "      div.remove();\n",
              "    }\n",
              "  "
            ]
          },
          "metadata": {}
        },
        {
          "output_type": "display_data",
          "data": {
            "text/plain": [
              "<IPython.core.display.Javascript object>"
            ],
            "application/javascript": [
              "download(\"download_a890d114-bcb2-4d64-8a06-f9eb51ec24f3\", \"binary_classification_model.h5\", 30464)"
            ]
          },
          "metadata": {}
        }
      ]
    },
    {
      "cell_type": "markdown",
      "source": [
        "## Steps in modelling\n",
        "\n",
        "The steps in modelling with TensorFlow are typically:\n",
        "\n",
        "1. Create or import a model\n",
        "2. Compile the model\n",
        "3. Fit the model\n",
        "4. Evaluate the model\n",
        "5. Tweak\n",
        "6. Evaluate..."
      ],
      "metadata": {
        "id": "39hs40j22d4x"
      }
    },
    {
      "cell_type": "code",
      "source": [
        "# Set the random seed\n",
        "tf.random.set_seed(42)\n",
        "\n",
        "# 1. Create the model using the Sequential API\n",
        "model_2 = tf.keras.Sequential([\n",
        "  tf.keras.layers.Dense(1)\n",
        "])\n",
        "\n",
        "# 2. Compile the model\n",
        "model_2.compile(loss=tf.keras.losses.BinaryCrossentropy(),\n",
        "                optimizer=tf.keras.optimizers.SGD(),\n",
        "                metrics=[\"accuracy\"])\n",
        "\n",
        "# 3. Fit the model \n",
        "model_2.fit(X, y,epochs=5)"
      ],
      "metadata": {
        "colab": {
          "base_uri": "https://localhost:8080/"
        },
        "id": "ioZkgrhL2_Yx",
        "outputId": "ca8b27dc-dae3-4d2f-f75a-90946e4915c6"
      },
      "execution_count": 18,
      "outputs": [
        {
          "output_type": "stream",
          "name": "stdout",
          "text": [
            "Epoch 1/5\n",
            "313/313 [==============================] - 1s 1ms/step - loss: 0.8730 - accuracy: 0.4962\n",
            "Epoch 2/5\n",
            "313/313 [==============================] - 0s 1ms/step - loss: 0.6938 - accuracy: 0.4964\n",
            "Epoch 3/5\n",
            "313/313 [==============================] - 0s 1ms/step - loss: 0.6939 - accuracy: 0.4960\n",
            "Epoch 4/5\n",
            "313/313 [==============================] - 0s 2ms/step - loss: 0.6938 - accuracy: 0.5015\n",
            "Epoch 5/5\n",
            "313/313 [==============================] - 0s 1ms/step - loss: 0.6938 - accuracy: 0.4997\n"
          ]
        },
        {
          "output_type": "execute_result",
          "data": {
            "text/plain": [
              "<keras.callbacks.History at 0x7fbd774cb190>"
            ]
          },
          "metadata": {},
          "execution_count": 18
        }
      ]
    },
    {
      "cell_type": "code",
      "source": [
        "# Lets try and improve our model by training for longer..\n",
        "model_2.fit(X, y, epochs=200)\n",
        "model_2.evaluate(X, y)"
      ],
      "metadata": {
        "colab": {
          "base_uri": "https://localhost:8080/"
        },
        "id": "XEDBDOEv5bJH",
        "outputId": "a46ba660-ec29-4d2c-e851-7c1aef4cc7ef"
      },
      "execution_count": 19,
      "outputs": [
        {
          "output_type": "stream",
          "name": "stdout",
          "text": [
            "Epoch 1/200\n",
            "313/313 [==============================] - 0s 1ms/step - loss: 0.6936 - accuracy: 0.4958\n",
            "Epoch 2/200\n",
            "313/313 [==============================] - 0s 2ms/step - loss: 0.6938 - accuracy: 0.4954\n",
            "Epoch 3/200\n",
            "313/313 [==============================] - 0s 1ms/step - loss: 0.6939 - accuracy: 0.4960\n",
            "Epoch 4/200\n",
            "313/313 [==============================] - 0s 1ms/step - loss: 0.6938 - accuracy: 0.5015\n",
            "Epoch 5/200\n",
            "313/313 [==============================] - 0s 1ms/step - loss: 0.6938 - accuracy: 0.4997\n",
            "Epoch 6/200\n",
            "313/313 [==============================] - 0s 1ms/step - loss: 0.6940 - accuracy: 0.4953\n",
            "Epoch 7/200\n",
            "313/313 [==============================] - 0s 2ms/step - loss: 0.6941 - accuracy: 0.4883\n",
            "Epoch 8/200\n",
            "313/313 [==============================] - 0s 1ms/step - loss: 0.6938 - accuracy: 0.4974\n",
            "Epoch 9/200\n",
            "313/313 [==============================] - 0s 2ms/step - loss: 0.6939 - accuracy: 0.4977\n",
            "Epoch 10/200\n",
            "313/313 [==============================] - 0s 2ms/step - loss: 0.6940 - accuracy: 0.4977\n",
            "Epoch 11/200\n",
            "313/313 [==============================] - 0s 1ms/step - loss: 0.6940 - accuracy: 0.4901\n",
            "Epoch 12/200\n",
            "313/313 [==============================] - 1s 4ms/step - loss: 0.6939 - accuracy: 0.5048\n",
            "Epoch 13/200\n",
            "313/313 [==============================] - 1s 2ms/step - loss: 0.6939 - accuracy: 0.4921\n",
            "Epoch 14/200\n",
            "313/313 [==============================] - 0s 1ms/step - loss: 0.6940 - accuracy: 0.4914\n",
            "Epoch 15/200\n",
            "313/313 [==============================] - 0s 1ms/step - loss: 0.6935 - accuracy: 0.5056\n",
            "Epoch 16/200\n",
            "313/313 [==============================] - 0s 1ms/step - loss: 0.6941 - accuracy: 0.4942\n",
            "Epoch 17/200\n",
            "313/313 [==============================] - 0s 2ms/step - loss: 0.6936 - accuracy: 0.4958\n",
            "Epoch 18/200\n",
            "313/313 [==============================] - 0s 1ms/step - loss: 0.6940 - accuracy: 0.4945\n",
            "Epoch 19/200\n",
            "313/313 [==============================] - 0s 1ms/step - loss: 0.6940 - accuracy: 0.4915\n",
            "Epoch 20/200\n",
            "313/313 [==============================] - 0s 1ms/step - loss: 0.6940 - accuracy: 0.4872\n",
            "Epoch 21/200\n",
            "313/313 [==============================] - 0s 1ms/step - loss: 0.6938 - accuracy: 0.5002\n",
            "Epoch 22/200\n",
            "313/313 [==============================] - 0s 1ms/step - loss: 0.6939 - accuracy: 0.4955\n",
            "Epoch 23/200\n",
            "313/313 [==============================] - 0s 2ms/step - loss: 0.6938 - accuracy: 0.5007\n",
            "Epoch 24/200\n",
            "313/313 [==============================] - 0s 1ms/step - loss: 0.6937 - accuracy: 0.5017\n",
            "Epoch 25/200\n",
            "313/313 [==============================] - 0s 2ms/step - loss: 0.6940 - accuracy: 0.4951\n",
            "Epoch 26/200\n",
            "313/313 [==============================] - 0s 1ms/step - loss: 0.6939 - accuracy: 0.4819\n",
            "Epoch 27/200\n",
            "313/313 [==============================] - 0s 2ms/step - loss: 0.6940 - accuracy: 0.4989\n",
            "Epoch 28/200\n",
            "313/313 [==============================] - 0s 1ms/step - loss: 0.6938 - accuracy: 0.5034\n",
            "Epoch 29/200\n",
            "313/313 [==============================] - 0s 2ms/step - loss: 0.6939 - accuracy: 0.4968\n",
            "Epoch 30/200\n",
            "313/313 [==============================] - 0s 2ms/step - loss: 0.6940 - accuracy: 0.4896\n",
            "Epoch 31/200\n",
            "313/313 [==============================] - 0s 1ms/step - loss: 0.6938 - accuracy: 0.4910\n",
            "Epoch 32/200\n",
            "313/313 [==============================] - 0s 1ms/step - loss: 0.6938 - accuracy: 0.4966\n",
            "Epoch 33/200\n",
            "313/313 [==============================] - 0s 1ms/step - loss: 0.6939 - accuracy: 0.4934\n",
            "Epoch 34/200\n",
            "313/313 [==============================] - 0s 1ms/step - loss: 0.6938 - accuracy: 0.4878\n",
            "Epoch 35/200\n",
            "313/313 [==============================] - 0s 2ms/step - loss: 0.6940 - accuracy: 0.4893\n",
            "Epoch 36/200\n",
            "313/313 [==============================] - 0s 1ms/step - loss: 0.6939 - accuracy: 0.4903\n",
            "Epoch 37/200\n",
            "313/313 [==============================] - 0s 2ms/step - loss: 0.6940 - accuracy: 0.4874\n",
            "Epoch 38/200\n",
            "313/313 [==============================] - 0s 1ms/step - loss: 0.6935 - accuracy: 0.5102\n",
            "Epoch 39/200\n",
            "313/313 [==============================] - 0s 1ms/step - loss: 0.6939 - accuracy: 0.4977\n",
            "Epoch 40/200\n",
            "313/313 [==============================] - 0s 1ms/step - loss: 0.6937 - accuracy: 0.4999\n",
            "Epoch 41/200\n",
            "313/313 [==============================] - 0s 1ms/step - loss: 0.6937 - accuracy: 0.4955\n",
            "Epoch 42/200\n",
            "313/313 [==============================] - 0s 2ms/step - loss: 0.6938 - accuracy: 0.4962\n",
            "Epoch 43/200\n",
            "313/313 [==============================] - 0s 2ms/step - loss: 0.6938 - accuracy: 0.4965\n",
            "Epoch 44/200\n",
            "313/313 [==============================] - 0s 1ms/step - loss: 0.6939 - accuracy: 0.4944\n",
            "Epoch 45/200\n",
            "313/313 [==============================] - 0s 2ms/step - loss: 0.6935 - accuracy: 0.5043\n",
            "Epoch 46/200\n",
            "313/313 [==============================] - 0s 2ms/step - loss: 0.6938 - accuracy: 0.4936\n",
            "Epoch 47/200\n",
            "313/313 [==============================] - 0s 2ms/step - loss: 0.6939 - accuracy: 0.4969\n",
            "Epoch 48/200\n",
            "313/313 [==============================] - 0s 1ms/step - loss: 0.6938 - accuracy: 0.4980\n",
            "Epoch 49/200\n",
            "313/313 [==============================] - 0s 1ms/step - loss: 0.6940 - accuracy: 0.4945\n",
            "Epoch 50/200\n",
            "313/313 [==============================] - 0s 1ms/step - loss: 0.6940 - accuracy: 0.4906\n",
            "Epoch 51/200\n",
            "313/313 [==============================] - 0s 1ms/step - loss: 0.6937 - accuracy: 0.4947\n",
            "Epoch 52/200\n",
            "313/313 [==============================] - 0s 2ms/step - loss: 0.6938 - accuracy: 0.4992\n",
            "Epoch 53/200\n",
            "313/313 [==============================] - 0s 1ms/step - loss: 0.6940 - accuracy: 0.4935\n",
            "Epoch 54/200\n",
            "313/313 [==============================] - 0s 1ms/step - loss: 0.6939 - accuracy: 0.4930\n",
            "Epoch 55/200\n",
            "313/313 [==============================] - 0s 1ms/step - loss: 0.6937 - accuracy: 0.5114\n",
            "Epoch 56/200\n",
            "313/313 [==============================] - 0s 1ms/step - loss: 0.6938 - accuracy: 0.4954\n",
            "Epoch 57/200\n",
            "313/313 [==============================] - 0s 2ms/step - loss: 0.6938 - accuracy: 0.4968\n",
            "Epoch 58/200\n",
            "313/313 [==============================] - 0s 1ms/step - loss: 0.6938 - accuracy: 0.4963\n",
            "Epoch 59/200\n",
            "313/313 [==============================] - 0s 2ms/step - loss: 0.6938 - accuracy: 0.5051\n",
            "Epoch 60/200\n",
            "313/313 [==============================] - 0s 1ms/step - loss: 0.6940 - accuracy: 0.4947\n",
            "Epoch 61/200\n",
            "313/313 [==============================] - 0s 1ms/step - loss: 0.6940 - accuracy: 0.4903\n",
            "Epoch 62/200\n",
            "313/313 [==============================] - 0s 1ms/step - loss: 0.6939 - accuracy: 0.4929\n",
            "Epoch 63/200\n",
            "313/313 [==============================] - 0s 1ms/step - loss: 0.6940 - accuracy: 0.4923\n",
            "Epoch 64/200\n",
            "313/313 [==============================] - 0s 1ms/step - loss: 0.6940 - accuracy: 0.4953\n",
            "Epoch 65/200\n",
            "313/313 [==============================] - 0s 1ms/step - loss: 0.6939 - accuracy: 0.4993\n",
            "Epoch 66/200\n",
            "313/313 [==============================] - 0s 2ms/step - loss: 0.6935 - accuracy: 0.5040\n",
            "Epoch 67/200\n",
            "313/313 [==============================] - 0s 1ms/step - loss: 0.6938 - accuracy: 0.4967\n",
            "Epoch 68/200\n",
            "313/313 [==============================] - 0s 1ms/step - loss: 0.6942 - accuracy: 0.4878\n",
            "Epoch 69/200\n",
            "313/313 [==============================] - 0s 1ms/step - loss: 0.6939 - accuracy: 0.4918\n",
            "Epoch 70/200\n",
            "313/313 [==============================] - 0s 1ms/step - loss: 0.6940 - accuracy: 0.4973\n",
            "Epoch 71/200\n",
            "313/313 [==============================] - 0s 1ms/step - loss: 0.6938 - accuracy: 0.4961\n",
            "Epoch 72/200\n",
            "313/313 [==============================] - 1s 2ms/step - loss: 0.6939 - accuracy: 0.5009\n",
            "Epoch 73/200\n",
            "313/313 [==============================] - 1s 2ms/step - loss: 0.6938 - accuracy: 0.4929\n",
            "Epoch 74/200\n",
            "313/313 [==============================] - 0s 2ms/step - loss: 0.6939 - accuracy: 0.4882\n",
            "Epoch 75/200\n",
            "313/313 [==============================] - 0s 1ms/step - loss: 0.6935 - accuracy: 0.5045\n",
            "Epoch 76/200\n",
            "313/313 [==============================] - 0s 2ms/step - loss: 0.6939 - accuracy: 0.4927\n",
            "Epoch 77/200\n",
            "313/313 [==============================] - 0s 2ms/step - loss: 0.6939 - accuracy: 0.4882\n",
            "Epoch 78/200\n",
            "313/313 [==============================] - 0s 2ms/step - loss: 0.6940 - accuracy: 0.4931\n",
            "Epoch 79/200\n",
            "313/313 [==============================] - 0s 1ms/step - loss: 0.6938 - accuracy: 0.4987\n",
            "Epoch 80/200\n",
            "313/313 [==============================] - 0s 1ms/step - loss: 0.6940 - accuracy: 0.4920\n",
            "Epoch 81/200\n",
            "313/313 [==============================] - 0s 2ms/step - loss: 0.6938 - accuracy: 0.4963\n",
            "Epoch 82/200\n",
            "313/313 [==============================] - 0s 1ms/step - loss: 0.6936 - accuracy: 0.4934\n",
            "Epoch 83/200\n",
            "313/313 [==============================] - 0s 2ms/step - loss: 0.6940 - accuracy: 0.4878\n",
            "Epoch 84/200\n",
            "313/313 [==============================] - 0s 1ms/step - loss: 0.6940 - accuracy: 0.4875\n",
            "Epoch 85/200\n",
            "313/313 [==============================] - 0s 1ms/step - loss: 0.6938 - accuracy: 0.4998\n",
            "Epoch 86/200\n",
            "313/313 [==============================] - 0s 1ms/step - loss: 0.6940 - accuracy: 0.4926\n",
            "Epoch 87/200\n",
            "313/313 [==============================] - 0s 2ms/step - loss: 0.6940 - accuracy: 0.5010\n",
            "Epoch 88/200\n",
            "313/313 [==============================] - 0s 1ms/step - loss: 0.6939 - accuracy: 0.4900\n",
            "Epoch 89/200\n",
            "313/313 [==============================] - 0s 2ms/step - loss: 0.6936 - accuracy: 0.5005\n",
            "Epoch 90/200\n",
            "313/313 [==============================] - 0s 1ms/step - loss: 0.6937 - accuracy: 0.5016\n",
            "Epoch 91/200\n",
            "313/313 [==============================] - 0s 1ms/step - loss: 0.6939 - accuracy: 0.4964\n",
            "Epoch 92/200\n",
            "313/313 [==============================] - 1s 2ms/step - loss: 0.6939 - accuracy: 0.4907\n",
            "Epoch 93/200\n",
            "313/313 [==============================] - 1s 4ms/step - loss: 0.6940 - accuracy: 0.5004\n",
            "Epoch 94/200\n",
            "313/313 [==============================] - 1s 2ms/step - loss: 0.6939 - accuracy: 0.4977\n",
            "Epoch 95/200\n",
            "313/313 [==============================] - 0s 2ms/step - loss: 0.6941 - accuracy: 0.4912\n",
            "Epoch 96/200\n",
            "313/313 [==============================] - 0s 2ms/step - loss: 0.6938 - accuracy: 0.4979\n",
            "Epoch 97/200\n",
            "313/313 [==============================] - 0s 1ms/step - loss: 0.6937 - accuracy: 0.5001\n",
            "Epoch 98/200\n",
            "313/313 [==============================] - 0s 2ms/step - loss: 0.6940 - accuracy: 0.4889\n",
            "Epoch 99/200\n",
            "313/313 [==============================] - 0s 1ms/step - loss: 0.6939 - accuracy: 0.5000\n",
            "Epoch 100/200\n",
            "313/313 [==============================] - 0s 1ms/step - loss: 0.6940 - accuracy: 0.4993\n",
            "Epoch 101/200\n",
            "313/313 [==============================] - 0s 2ms/step - loss: 0.6938 - accuracy: 0.4947\n",
            "Epoch 102/200\n",
            "313/313 [==============================] - 0s 1ms/step - loss: 0.6935 - accuracy: 0.4971\n",
            "Epoch 103/200\n",
            "313/313 [==============================] - 0s 1ms/step - loss: 0.6939 - accuracy: 0.4921\n",
            "Epoch 104/200\n",
            "313/313 [==============================] - 0s 2ms/step - loss: 0.6940 - accuracy: 0.4908\n",
            "Epoch 105/200\n",
            "313/313 [==============================] - 0s 2ms/step - loss: 0.6939 - accuracy: 0.4967\n",
            "Epoch 106/200\n",
            "313/313 [==============================] - 0s 2ms/step - loss: 0.6940 - accuracy: 0.4909\n",
            "Epoch 107/200\n",
            "313/313 [==============================] - 0s 2ms/step - loss: 0.6937 - accuracy: 0.5046\n",
            "Epoch 108/200\n",
            "313/313 [==============================] - 0s 1ms/step - loss: 0.6941 - accuracy: 0.4911\n",
            "Epoch 109/200\n",
            "313/313 [==============================] - 0s 1ms/step - loss: 0.6937 - accuracy: 0.5049\n",
            "Epoch 110/200\n",
            "313/313 [==============================] - 0s 2ms/step - loss: 0.6938 - accuracy: 0.4943\n",
            "Epoch 111/200\n",
            "313/313 [==============================] - 1s 2ms/step - loss: 0.6938 - accuracy: 0.4986\n",
            "Epoch 112/200\n",
            "313/313 [==============================] - 1s 2ms/step - loss: 0.6938 - accuracy: 0.4924\n",
            "Epoch 113/200\n",
            "313/313 [==============================] - 0s 1ms/step - loss: 0.6936 - accuracy: 0.4999\n",
            "Epoch 114/200\n",
            "313/313 [==============================] - 0s 2ms/step - loss: 0.6939 - accuracy: 0.4861\n",
            "Epoch 115/200\n",
            "313/313 [==============================] - 1s 2ms/step - loss: 0.6937 - accuracy: 0.5004\n",
            "Epoch 116/200\n",
            "313/313 [==============================] - 0s 1ms/step - loss: 0.6940 - accuracy: 0.4990\n",
            "Epoch 117/200\n",
            "313/313 [==============================] - 0s 1ms/step - loss: 0.6937 - accuracy: 0.4962\n",
            "Epoch 118/200\n",
            "313/313 [==============================] - 0s 2ms/step - loss: 0.6939 - accuracy: 0.5039\n",
            "Epoch 119/200\n",
            "313/313 [==============================] - 0s 1ms/step - loss: 0.6941 - accuracy: 0.4878\n",
            "Epoch 120/200\n",
            "313/313 [==============================] - 0s 2ms/step - loss: 0.6940 - accuracy: 0.4911\n",
            "Epoch 121/200\n",
            "313/313 [==============================] - 0s 1ms/step - loss: 0.6939 - accuracy: 0.4837\n",
            "Epoch 122/200\n",
            "313/313 [==============================] - 0s 2ms/step - loss: 0.6939 - accuracy: 0.4945\n",
            "Epoch 123/200\n",
            "313/313 [==============================] - 0s 2ms/step - loss: 0.6937 - accuracy: 0.5063\n",
            "Epoch 124/200\n",
            "313/313 [==============================] - 0s 2ms/step - loss: 0.6938 - accuracy: 0.4917\n",
            "Epoch 125/200\n",
            "313/313 [==============================] - 0s 1ms/step - loss: 0.6941 - accuracy: 0.4955\n",
            "Epoch 126/200\n",
            "313/313 [==============================] - 0s 1ms/step - loss: 0.6938 - accuracy: 0.5020\n",
            "Epoch 127/200\n",
            "313/313 [==============================] - 0s 1ms/step - loss: 0.6941 - accuracy: 0.4869\n",
            "Epoch 128/200\n",
            "313/313 [==============================] - 0s 1ms/step - loss: 0.6940 - accuracy: 0.4944\n",
            "Epoch 129/200\n",
            "313/313 [==============================] - 0s 1ms/step - loss: 0.6939 - accuracy: 0.4965\n",
            "Epoch 130/200\n",
            "313/313 [==============================] - 0s 2ms/step - loss: 0.6938 - accuracy: 0.4986\n",
            "Epoch 131/200\n",
            "313/313 [==============================] - 0s 2ms/step - loss: 0.6941 - accuracy: 0.5000\n",
            "Epoch 132/200\n",
            "313/313 [==============================] - 0s 1ms/step - loss: 0.6939 - accuracy: 0.4988\n",
            "Epoch 133/200\n",
            "313/313 [==============================] - 0s 2ms/step - loss: 0.6939 - accuracy: 0.4958\n",
            "Epoch 134/200\n",
            "313/313 [==============================] - 0s 1ms/step - loss: 0.6940 - accuracy: 0.4910\n",
            "Epoch 135/200\n",
            "313/313 [==============================] - 0s 2ms/step - loss: 0.6940 - accuracy: 0.4939\n",
            "Epoch 136/200\n",
            "313/313 [==============================] - 0s 2ms/step - loss: 0.6938 - accuracy: 0.4991\n",
            "Epoch 137/200\n",
            "313/313 [==============================] - 0s 1ms/step - loss: 0.6938 - accuracy: 0.4944\n",
            "Epoch 138/200\n",
            "313/313 [==============================] - 0s 2ms/step - loss: 0.6940 - accuracy: 0.4929\n",
            "Epoch 139/200\n",
            "313/313 [==============================] - 0s 1ms/step - loss: 0.6938 - accuracy: 0.4880\n",
            "Epoch 140/200\n",
            "313/313 [==============================] - 0s 1ms/step - loss: 0.6940 - accuracy: 0.4923\n",
            "Epoch 141/200\n",
            "313/313 [==============================] - 0s 2ms/step - loss: 0.6936 - accuracy: 0.5022\n",
            "Epoch 142/200\n",
            "313/313 [==============================] - 0s 2ms/step - loss: 0.6937 - accuracy: 0.4982\n",
            "Epoch 143/200\n",
            "313/313 [==============================] - 0s 2ms/step - loss: 0.6940 - accuracy: 0.4933\n",
            "Epoch 144/200\n",
            "313/313 [==============================] - 0s 2ms/step - loss: 0.6938 - accuracy: 0.4941\n",
            "Epoch 145/200\n",
            "313/313 [==============================] - 0s 2ms/step - loss: 0.6939 - accuracy: 0.4992\n",
            "Epoch 146/200\n",
            "313/313 [==============================] - 0s 2ms/step - loss: 0.6939 - accuracy: 0.4844\n",
            "Epoch 147/200\n",
            "313/313 [==============================] - 0s 1ms/step - loss: 0.6937 - accuracy: 0.4918\n",
            "Epoch 148/200\n",
            "313/313 [==============================] - 0s 2ms/step - loss: 0.6938 - accuracy: 0.4957\n",
            "Epoch 149/200\n",
            "313/313 [==============================] - 0s 1ms/step - loss: 0.6940 - accuracy: 0.4839\n",
            "Epoch 150/200\n",
            "313/313 [==============================] - 0s 2ms/step - loss: 0.6937 - accuracy: 0.4968\n",
            "Epoch 151/200\n",
            "313/313 [==============================] - 0s 1ms/step - loss: 0.6939 - accuracy: 0.4954\n",
            "Epoch 152/200\n",
            "313/313 [==============================] - 0s 2ms/step - loss: 0.6938 - accuracy: 0.4961\n",
            "Epoch 153/200\n",
            "313/313 [==============================] - 0s 1ms/step - loss: 0.6939 - accuracy: 0.4927\n",
            "Epoch 154/200\n",
            "313/313 [==============================] - 0s 2ms/step - loss: 0.6935 - accuracy: 0.5062\n",
            "Epoch 155/200\n",
            "313/313 [==============================] - 0s 2ms/step - loss: 0.6936 - accuracy: 0.4979\n",
            "Epoch 156/200\n",
            "313/313 [==============================] - 0s 1ms/step - loss: 0.6940 - accuracy: 0.4934\n",
            "Epoch 157/200\n",
            "313/313 [==============================] - 1s 2ms/step - loss: 0.6939 - accuracy: 0.4963\n",
            "Epoch 158/200\n",
            "313/313 [==============================] - 0s 2ms/step - loss: 0.6938 - accuracy: 0.5028\n",
            "Epoch 159/200\n",
            "313/313 [==============================] - 0s 1ms/step - loss: 0.6940 - accuracy: 0.4939\n",
            "Epoch 160/200\n",
            "313/313 [==============================] - 0s 2ms/step - loss: 0.6939 - accuracy: 0.4806\n",
            "Epoch 161/200\n",
            "313/313 [==============================] - 0s 1ms/step - loss: 0.6937 - accuracy: 0.5045\n",
            "Epoch 162/200\n",
            "313/313 [==============================] - 1s 2ms/step - loss: 0.6936 - accuracy: 0.5031\n",
            "Epoch 163/200\n",
            "313/313 [==============================] - 0s 2ms/step - loss: 0.6940 - accuracy: 0.4964\n",
            "Epoch 164/200\n",
            "313/313 [==============================] - 1s 2ms/step - loss: 0.6939 - accuracy: 0.4943\n",
            "Epoch 165/200\n",
            "313/313 [==============================] - 0s 1ms/step - loss: 0.6940 - accuracy: 0.4906\n",
            "Epoch 166/200\n",
            "313/313 [==============================] - 0s 2ms/step - loss: 0.6939 - accuracy: 0.5029\n",
            "Epoch 167/200\n",
            "313/313 [==============================] - 0s 1ms/step - loss: 0.6939 - accuracy: 0.4874\n",
            "Epoch 168/200\n",
            "313/313 [==============================] - 0s 1ms/step - loss: 0.6939 - accuracy: 0.4933\n",
            "Epoch 169/200\n",
            "313/313 [==============================] - 0s 2ms/step - loss: 0.6938 - accuracy: 0.5002\n",
            "Epoch 170/200\n",
            "313/313 [==============================] - 0s 1ms/step - loss: 0.6939 - accuracy: 0.4987\n",
            "Epoch 171/200\n",
            "313/313 [==============================] - 0s 1ms/step - loss: 0.6939 - accuracy: 0.4982\n",
            "Epoch 172/200\n",
            "313/313 [==============================] - 0s 2ms/step - loss: 0.6940 - accuracy: 0.4908\n",
            "Epoch 173/200\n",
            "313/313 [==============================] - 0s 2ms/step - loss: 0.6939 - accuracy: 0.4906\n",
            "Epoch 174/200\n",
            "313/313 [==============================] - 0s 1ms/step - loss: 0.6939 - accuracy: 0.4990\n",
            "Epoch 175/200\n",
            "313/313 [==============================] - 0s 2ms/step - loss: 0.6940 - accuracy: 0.4963\n",
            "Epoch 176/200\n",
            "313/313 [==============================] - 0s 1ms/step - loss: 0.6939 - accuracy: 0.4944\n",
            "Epoch 177/200\n",
            "313/313 [==============================] - 0s 2ms/step - loss: 0.6936 - accuracy: 0.4833\n",
            "Epoch 178/200\n",
            "313/313 [==============================] - 0s 1ms/step - loss: 0.6939 - accuracy: 0.4917\n",
            "Epoch 179/200\n",
            "313/313 [==============================] - 1s 2ms/step - loss: 0.6939 - accuracy: 0.4937\n",
            "Epoch 180/200\n",
            "313/313 [==============================] - 0s 1ms/step - loss: 0.6935 - accuracy: 0.4988\n",
            "Epoch 181/200\n",
            "313/313 [==============================] - 0s 2ms/step - loss: 0.6941 - accuracy: 0.4948\n",
            "Epoch 182/200\n",
            "313/313 [==============================] - 0s 1ms/step - loss: 0.6938 - accuracy: 0.5006\n",
            "Epoch 183/200\n",
            "313/313 [==============================] - 0s 2ms/step - loss: 0.6940 - accuracy: 0.4920\n",
            "Epoch 184/200\n",
            "313/313 [==============================] - 0s 2ms/step - loss: 0.6939 - accuracy: 0.4881\n",
            "Epoch 185/200\n",
            "313/313 [==============================] - 0s 1ms/step - loss: 0.6938 - accuracy: 0.4981\n",
            "Epoch 186/200\n",
            "313/313 [==============================] - 0s 2ms/step - loss: 0.6940 - accuracy: 0.4958\n",
            "Epoch 187/200\n",
            "313/313 [==============================] - 0s 1ms/step - loss: 0.6938 - accuracy: 0.5040\n",
            "Epoch 188/200\n",
            "313/313 [==============================] - 0s 2ms/step - loss: 0.6940 - accuracy: 0.4862\n",
            "Epoch 189/200\n",
            "313/313 [==============================] - 0s 2ms/step - loss: 0.6937 - accuracy: 0.5180\n",
            "Epoch 190/200\n",
            "313/313 [==============================] - 0s 2ms/step - loss: 0.6938 - accuracy: 0.4916\n",
            "Epoch 191/200\n",
            "313/313 [==============================] - 1s 2ms/step - loss: 0.6938 - accuracy: 0.4957\n",
            "Epoch 192/200\n",
            "313/313 [==============================] - 1s 2ms/step - loss: 0.6938 - accuracy: 0.4918\n",
            "Epoch 193/200\n",
            "313/313 [==============================] - 0s 2ms/step - loss: 0.6940 - accuracy: 0.4886\n",
            "Epoch 194/200\n",
            "313/313 [==============================] - 0s 2ms/step - loss: 0.6940 - accuracy: 0.4907\n",
            "Epoch 195/200\n",
            "313/313 [==============================] - 0s 1ms/step - loss: 0.6940 - accuracy: 0.4930\n",
            "Epoch 196/200\n",
            "313/313 [==============================] - 0s 2ms/step - loss: 0.6938 - accuracy: 0.5093\n",
            "Epoch 197/200\n",
            "313/313 [==============================] - 0s 1ms/step - loss: 0.6939 - accuracy: 0.4877\n",
            "Epoch 198/200\n",
            "313/313 [==============================] - 0s 2ms/step - loss: 0.6935 - accuracy: 0.5120\n",
            "Epoch 199/200\n",
            "313/313 [==============================] - 0s 1ms/step - loss: 0.6941 - accuracy: 0.4902\n",
            "Epoch 200/200\n",
            "313/313 [==============================] - 1s 2ms/step - loss: 0.6939 - accuracy: 0.4937\n",
            "313/313 [==============================] - 1s 1ms/step - loss: 0.6937 - accuracy: 0.5004\n"
          ]
        },
        {
          "output_type": "execute_result",
          "data": {
            "text/plain": [
              "[0.6936948299407959, 0.5004000067710876]"
            ]
          },
          "metadata": {},
          "execution_count": 19
        }
      ]
    },
    {
      "cell_type": "markdown",
      "source": [
        "Since we're working on a binary classification problem and our model is getting around 50% accuaracy... it's performing as it's guessing 🇸\n",
        "\n",
        "Try to add an extra layer?"
      ],
      "metadata": {
        "id": "EURmoCc96Xyb"
      }
    },
    {
      "cell_type": "code",
      "source": [
        "# Set the random seed\n",
        "tf.random.set_seed(42)\n",
        "\n",
        "# 1. Create the model, with 2 layers\n",
        "model_3 = tf.keras.Sequential([\n",
        "  tf.keras.layers.Dense(1),\n",
        "  tf.keras.layers.Dense(1)\n",
        "])\n",
        "\n",
        "# 2. Compile the model\n",
        "model_3.compile(loss=tf.keras.losses.BinaryCrossentropy(),\n",
        "                optimizer=tf.keras.optimizers.SGD(),\n",
        "                metrics=[\"accuracy\"])\n",
        "\n",
        "# 3. Fit the model\n",
        "model_3.fit(X, y, epochs=100)"
      ],
      "metadata": {
        "colab": {
          "base_uri": "https://localhost:8080/"
        },
        "id": "gKNRoO6Z65Ge",
        "outputId": "63ebea1b-f513-4d08-fa49-3dfb85d70c46"
      },
      "execution_count": 20,
      "outputs": [
        {
          "output_type": "stream",
          "name": "stdout",
          "text": [
            "Epoch 1/100\n",
            "313/313 [==============================] - 2s 4ms/step - loss: 0.7659 - accuracy: 0.5057\n",
            "Epoch 2/100\n",
            "313/313 [==============================] - 1s 3ms/step - loss: 0.6952 - accuracy: 0.4978\n",
            "Epoch 3/100\n",
            "313/313 [==============================] - 1s 3ms/step - loss: 0.6942 - accuracy: 0.4989\n",
            "Epoch 4/100\n",
            "313/313 [==============================] - 0s 2ms/step - loss: 0.6938 - accuracy: 0.5024\n",
            "Epoch 5/100\n",
            "313/313 [==============================] - 1s 2ms/step - loss: 0.6937 - accuracy: 0.5007\n",
            "Epoch 6/100\n",
            "313/313 [==============================] - 0s 1ms/step - loss: 0.6937 - accuracy: 0.5011\n",
            "Epoch 7/100\n",
            "313/313 [==============================] - 0s 1ms/step - loss: 0.6938 - accuracy: 0.4919\n",
            "Epoch 8/100\n",
            "313/313 [==============================] - 0s 2ms/step - loss: 0.6937 - accuracy: 0.4893\n",
            "Epoch 9/100\n",
            "313/313 [==============================] - 0s 2ms/step - loss: 0.6935 - accuracy: 0.5031\n",
            "Epoch 10/100\n",
            "313/313 [==============================] - 0s 2ms/step - loss: 0.6937 - accuracy: 0.4910\n",
            "Epoch 11/100\n",
            "313/313 [==============================] - 0s 2ms/step - loss: 0.6937 - accuracy: 0.4958\n",
            "Epoch 12/100\n",
            "313/313 [==============================] - 1s 2ms/step - loss: 0.6936 - accuracy: 0.5007\n",
            "Epoch 13/100\n",
            "313/313 [==============================] - 1s 2ms/step - loss: 0.6937 - accuracy: 0.4878\n",
            "Epoch 14/100\n",
            "313/313 [==============================] - 0s 2ms/step - loss: 0.6937 - accuracy: 0.5045\n",
            "Epoch 15/100\n",
            "313/313 [==============================] - 0s 1ms/step - loss: 0.6934 - accuracy: 0.5090\n",
            "Epoch 16/100\n",
            "313/313 [==============================] - 0s 2ms/step - loss: 0.6937 - accuracy: 0.4970\n",
            "Epoch 17/100\n",
            "313/313 [==============================] - 0s 1ms/step - loss: 0.6934 - accuracy: 0.5071\n",
            "Epoch 18/100\n",
            "313/313 [==============================] - 0s 2ms/step - loss: 0.6936 - accuracy: 0.5004\n",
            "Epoch 19/100\n",
            "313/313 [==============================] - 0s 1ms/step - loss: 0.6937 - accuracy: 0.4981\n",
            "Epoch 20/100\n",
            "313/313 [==============================] - 0s 2ms/step - loss: 0.6937 - accuracy: 0.4971\n",
            "Epoch 21/100\n",
            "313/313 [==============================] - 0s 2ms/step - loss: 0.6936 - accuracy: 0.4956\n",
            "Epoch 22/100\n",
            "313/313 [==============================] - 1s 2ms/step - loss: 0.6936 - accuracy: 0.4967\n",
            "Epoch 23/100\n",
            "313/313 [==============================] - 1s 2ms/step - loss: 0.6937 - accuracy: 0.5000\n",
            "Epoch 24/100\n",
            "313/313 [==============================] - 0s 2ms/step - loss: 0.6933 - accuracy: 0.5087\n",
            "Epoch 25/100\n",
            "313/313 [==============================] - 0s 2ms/step - loss: 0.6938 - accuracy: 0.5003\n",
            "Epoch 26/100\n",
            "313/313 [==============================] - 0s 2ms/step - loss: 0.6936 - accuracy: 0.4957\n",
            "Epoch 27/100\n",
            "313/313 [==============================] - 0s 2ms/step - loss: 0.6937 - accuracy: 0.4918\n",
            "Epoch 28/100\n",
            "313/313 [==============================] - 1s 2ms/step - loss: 0.6935 - accuracy: 0.5061\n",
            "Epoch 29/100\n",
            "313/313 [==============================] - 0s 2ms/step - loss: 0.6934 - accuracy: 0.5005\n",
            "Epoch 30/100\n",
            "313/313 [==============================] - 0s 2ms/step - loss: 0.6937 - accuracy: 0.4938\n",
            "Epoch 31/100\n",
            "313/313 [==============================] - 1s 2ms/step - loss: 0.6937 - accuracy: 0.4953\n",
            "Epoch 32/100\n",
            "313/313 [==============================] - 0s 2ms/step - loss: 0.6935 - accuracy: 0.5045\n",
            "Epoch 33/100\n",
            "313/313 [==============================] - 0s 1ms/step - loss: 0.6938 - accuracy: 0.4978\n",
            "Epoch 34/100\n",
            "313/313 [==============================] - 0s 1ms/step - loss: 0.6936 - accuracy: 0.4882\n",
            "Epoch 35/100\n",
            "313/313 [==============================] - 0s 2ms/step - loss: 0.6937 - accuracy: 0.4898\n",
            "Epoch 36/100\n",
            "313/313 [==============================] - 1s 2ms/step - loss: 0.6936 - accuracy: 0.4958\n",
            "Epoch 37/100\n",
            "313/313 [==============================] - 1s 3ms/step - loss: 0.6936 - accuracy: 0.4983\n",
            "Epoch 38/100\n",
            "313/313 [==============================] - 0s 2ms/step - loss: 0.6933 - accuracy: 0.4993\n",
            "Epoch 39/100\n",
            "313/313 [==============================] - 0s 1ms/step - loss: 0.6936 - accuracy: 0.4969\n",
            "Epoch 40/100\n",
            "313/313 [==============================] - 0s 1ms/step - loss: 0.6934 - accuracy: 0.5057\n",
            "Epoch 41/100\n",
            "313/313 [==============================] - 1s 2ms/step - loss: 0.6934 - accuracy: 0.4987\n",
            "Epoch 42/100\n",
            "313/313 [==============================] - 0s 2ms/step - loss: 0.6937 - accuracy: 0.4989\n",
            "Epoch 43/100\n",
            "313/313 [==============================] - 0s 1ms/step - loss: 0.6935 - accuracy: 0.5002\n",
            "Epoch 44/100\n",
            "313/313 [==============================] - 0s 2ms/step - loss: 0.6935 - accuracy: 0.4993\n",
            "Epoch 45/100\n",
            "313/313 [==============================] - 0s 1ms/step - loss: 0.6936 - accuracy: 0.4973\n",
            "Epoch 46/100\n",
            "313/313 [==============================] - 0s 1ms/step - loss: 0.6934 - accuracy: 0.5001\n",
            "Epoch 47/100\n",
            "313/313 [==============================] - 0s 2ms/step - loss: 0.6937 - accuracy: 0.4931\n",
            "Epoch 48/100\n",
            "313/313 [==============================] - 0s 2ms/step - loss: 0.6935 - accuracy: 0.5039\n",
            "Epoch 49/100\n",
            "313/313 [==============================] - 1s 2ms/step - loss: 0.6937 - accuracy: 0.4935\n",
            "Epoch 50/100\n",
            "313/313 [==============================] - 1s 2ms/step - loss: 0.6937 - accuracy: 0.4882\n",
            "Epoch 51/100\n",
            "313/313 [==============================] - 0s 1ms/step - loss: 0.6935 - accuracy: 0.5034\n",
            "Epoch 52/100\n",
            "313/313 [==============================] - 0s 2ms/step - loss: 0.6936 - accuracy: 0.5026\n",
            "Epoch 53/100\n",
            "313/313 [==============================] - 0s 1ms/step - loss: 0.6937 - accuracy: 0.4973\n",
            "Epoch 54/100\n",
            "313/313 [==============================] - 0s 2ms/step - loss: 0.6936 - accuracy: 0.4965\n",
            "Epoch 55/100\n",
            "313/313 [==============================] - 0s 2ms/step - loss: 0.6935 - accuracy: 0.4983\n",
            "Epoch 56/100\n",
            "313/313 [==============================] - 0s 1ms/step - loss: 0.6935 - accuracy: 0.5012\n",
            "Epoch 57/100\n",
            "313/313 [==============================] - 0s 1ms/step - loss: 0.6934 - accuracy: 0.5041\n",
            "Epoch 58/100\n",
            "313/313 [==============================] - 0s 2ms/step - loss: 0.6934 - accuracy: 0.4970\n",
            "Epoch 59/100\n",
            "313/313 [==============================] - 0s 2ms/step - loss: 0.6936 - accuracy: 0.4987\n",
            "Epoch 60/100\n",
            "313/313 [==============================] - 1s 2ms/step - loss: 0.6936 - accuracy: 0.4988\n",
            "Epoch 61/100\n",
            "313/313 [==============================] - 0s 2ms/step - loss: 0.6937 - accuracy: 0.4945\n",
            "Epoch 62/100\n",
            "313/313 [==============================] - 0s 2ms/step - loss: 0.6935 - accuracy: 0.5058\n",
            "Epoch 63/100\n",
            "313/313 [==============================] - 0s 2ms/step - loss: 0.6937 - accuracy: 0.4956\n",
            "Epoch 64/100\n",
            "313/313 [==============================] - 0s 1ms/step - loss: 0.6937 - accuracy: 0.4897\n",
            "Epoch 65/100\n",
            "313/313 [==============================] - 0s 1ms/step - loss: 0.6937 - accuracy: 0.4972\n",
            "Epoch 66/100\n",
            "313/313 [==============================] - 0s 2ms/step - loss: 0.6934 - accuracy: 0.5056\n",
            "Epoch 67/100\n",
            "313/313 [==============================] - 0s 2ms/step - loss: 0.6936 - accuracy: 0.4985\n",
            "Epoch 68/100\n",
            "313/313 [==============================] - 0s 1ms/step - loss: 0.6937 - accuracy: 0.4934\n",
            "Epoch 69/100\n",
            "313/313 [==============================] - 0s 2ms/step - loss: 0.6937 - accuracy: 0.4966\n",
            "Epoch 70/100\n",
            "313/313 [==============================] - 0s 2ms/step - loss: 0.6936 - accuracy: 0.4974\n",
            "Epoch 71/100\n",
            "313/313 [==============================] - 0s 2ms/step - loss: 0.6937 - accuracy: 0.4934\n",
            "Epoch 72/100\n",
            "313/313 [==============================] - 0s 2ms/step - loss: 0.6936 - accuracy: 0.4928\n",
            "Epoch 73/100\n",
            "313/313 [==============================] - 0s 2ms/step - loss: 0.6936 - accuracy: 0.4967\n",
            "Epoch 74/100\n",
            "313/313 [==============================] - 0s 1ms/step - loss: 0.6936 - accuracy: 0.4946\n",
            "Epoch 75/100\n",
            "313/313 [==============================] - 1s 2ms/step - loss: 0.6932 - accuracy: 0.5060\n",
            "Epoch 76/100\n",
            "313/313 [==============================] - 0s 1ms/step - loss: 0.6936 - accuracy: 0.4961\n",
            "Epoch 77/100\n",
            "313/313 [==============================] - 0s 2ms/step - loss: 0.6937 - accuracy: 0.4977\n",
            "Epoch 78/100\n",
            "313/313 [==============================] - 0s 2ms/step - loss: 0.6937 - accuracy: 0.4921\n",
            "Epoch 79/100\n",
            "313/313 [==============================] - 0s 2ms/step - loss: 0.6935 - accuracy: 0.4989\n",
            "Epoch 80/100\n",
            "313/313 [==============================] - 0s 1ms/step - loss: 0.6937 - accuracy: 0.4951\n",
            "Epoch 81/100\n",
            "313/313 [==============================] - 0s 2ms/step - loss: 0.6935 - accuracy: 0.4997\n",
            "Epoch 82/100\n",
            "313/313 [==============================] - 0s 2ms/step - loss: 0.6935 - accuracy: 0.5002\n",
            "Epoch 83/100\n",
            "313/313 [==============================] - 0s 2ms/step - loss: 0.6937 - accuracy: 0.4901\n",
            "Epoch 84/100\n",
            "313/313 [==============================] - 0s 2ms/step - loss: 0.6936 - accuracy: 0.4981\n",
            "Epoch 85/100\n",
            "313/313 [==============================] - 1s 2ms/step - loss: 0.6935 - accuracy: 0.5003\n",
            "Epoch 86/100\n",
            "313/313 [==============================] - 0s 2ms/step - loss: 0.6937 - accuracy: 0.4981\n",
            "Epoch 87/100\n",
            "313/313 [==============================] - 0s 2ms/step - loss: 0.6937 - accuracy: 0.4948\n",
            "Epoch 88/100\n",
            "313/313 [==============================] - 0s 2ms/step - loss: 0.6936 - accuracy: 0.5009\n",
            "Epoch 89/100\n",
            "313/313 [==============================] - 1s 2ms/step - loss: 0.6933 - accuracy: 0.5056\n",
            "Epoch 90/100\n",
            "313/313 [==============================] - 1s 2ms/step - loss: 0.6935 - accuracy: 0.5014\n",
            "Epoch 91/100\n",
            "313/313 [==============================] - 1s 2ms/step - loss: 0.6937 - accuracy: 0.4970\n",
            "Epoch 92/100\n",
            "313/313 [==============================] - 1s 2ms/step - loss: 0.6936 - accuracy: 0.4966\n",
            "Epoch 93/100\n",
            "313/313 [==============================] - 1s 2ms/step - loss: 0.6936 - accuracy: 0.4954\n",
            "Epoch 94/100\n",
            "313/313 [==============================] - 0s 2ms/step - loss: 0.6935 - accuracy: 0.4994\n",
            "Epoch 95/100\n",
            "313/313 [==============================] - 0s 2ms/step - loss: 0.6937 - accuracy: 0.4932\n",
            "Epoch 96/100\n",
            "313/313 [==============================] - 0s 2ms/step - loss: 0.6935 - accuracy: 0.4986\n",
            "Epoch 97/100\n",
            "313/313 [==============================] - 0s 1ms/step - loss: 0.6935 - accuracy: 0.5028\n",
            "Epoch 98/100\n",
            "313/313 [==============================] - 0s 1ms/step - loss: 0.6936 - accuracy: 0.5000\n",
            "Epoch 99/100\n",
            "313/313 [==============================] - 0s 2ms/step - loss: 0.6935 - accuracy: 0.5014\n",
            "Epoch 100/100\n",
            "313/313 [==============================] - 1s 2ms/step - loss: 0.6937 - accuracy: 0.4964\n"
          ]
        },
        {
          "output_type": "execute_result",
          "data": {
            "text/plain": [
              "<keras.callbacks.History at 0x7fbd77338290>"
            ]
          },
          "metadata": {},
          "execution_count": 20
        }
      ]
    },
    {
      "cell_type": "code",
      "source": [
        "# 4. Evaluate the model(ON THE SAME DATA WE TRAINED ON, BIG NO-NO)\n",
        "model_3.evaluate(X, y)"
      ],
      "metadata": {
        "colab": {
          "base_uri": "https://localhost:8080/"
        },
        "id": "U5QvLvq28lBc",
        "outputId": "8cfb21d1-3ae0-4f63-8e4f-e85d27b4c88c"
      },
      "execution_count": 21,
      "outputs": [
        {
          "output_type": "stream",
          "name": "stdout",
          "text": [
            "313/313 [==============================] - 1s 1ms/step - loss: 0.6933 - accuracy: 0.5000\n"
          ]
        },
        {
          "output_type": "execute_result",
          "data": {
            "text/plain": [
              "[0.6932647824287415, 0.5]"
            ]
          },
          "metadata": {},
          "execution_count": 21
        }
      ]
    },
    {
      "cell_type": "code",
      "source": [
        "# There are 5K of each color, not that good neural network :P\n",
        "circles[\"label\"].value_counts()"
      ],
      "metadata": {
        "colab": {
          "base_uri": "https://localhost:8080/"
        },
        "id": "D_9I-TwG_hck",
        "outputId": "8328a320-7d52-4517-e934-702da147b89a"
      },
      "execution_count": 22,
      "outputs": [
        {
          "output_type": "execute_result",
          "data": {
            "text/plain": [
              "1    5000\n",
              "0    5000\n",
              "Name: label, dtype: int64"
            ]
          },
          "metadata": {},
          "execution_count": 22
        }
      ]
    },
    {
      "cell_type": "markdown",
      "source": [
        "## Improving our model\n",
        "\n",
        "1. Create a model - more layers and hidden units\n",
        "2. Compile a model - choose a diffirent optimization function\n",
        "3. Fitting a model - more epochs"
      ],
      "metadata": {
        "id": "0_uUaU-hAHLg"
      }
    },
    {
      "cell_type": "markdown",
      "source": [
        "## Common ways to improve a deep model:\n",
        "* Adding layers\n",
        "* Increase the number of hidden units\n",
        "* Change the activation functions\n",
        "* Change the optimization function\n",
        "* Change the learning rate\n",
        "* Fitting on more data\n",
        "* Fitting for longer"
      ],
      "metadata": {
        "id": "WU0db00vaApP"
      }
    },
    {
      "cell_type": "code",
      "source": [
        "# Set random seed\n",
        "tf.random.set_seed(42)\n",
        "\n",
        "# 1. Create te model\n",
        "model_4 =  tf.keras.Sequential([\n",
        "  tf.keras.layers.Dense(100),\n",
        "  tf.keras.layers.Dense(10),\n",
        "  tf.keras.layers.Dense(1)                               \n",
        "])\n",
        "\n",
        "# 2. Compile the model\n",
        "model_4.compile(loss=tf.keras.losses.BinaryCrossentropy(),\n",
        "                optimizer=tf.keras.optimizers.Adam(),\n",
        "                metrics=[\"accuracy\"]    \n",
        ")\n",
        "\n",
        "# 3. Fit the model\n",
        "model_4.fit(X, y, epochs=100)"
      ],
      "metadata": {
        "colab": {
          "base_uri": "https://localhost:8080/"
        },
        "id": "U63zbm4ZAMlk",
        "outputId": "f500eb44-c1a3-4067-ae77-1b9e30a2b340"
      },
      "execution_count": 23,
      "outputs": [
        {
          "output_type": "stream",
          "name": "stdout",
          "text": [
            "Epoch 1/100\n",
            "313/313 [==============================] - 1s 2ms/step - loss: 0.9536 - accuracy: 0.4919\n",
            "Epoch 2/100\n",
            "313/313 [==============================] - 1s 2ms/step - loss: 0.6949 - accuracy: 0.5005\n",
            "Epoch 3/100\n",
            "313/313 [==============================] - 1s 2ms/step - loss: 0.6948 - accuracy: 0.4941\n",
            "Epoch 4/100\n",
            "313/313 [==============================] - 1s 2ms/step - loss: 0.6966 - accuracy: 0.4923\n",
            "Epoch 5/100\n",
            "313/313 [==============================] - 1s 2ms/step - loss: 0.6965 - accuracy: 0.5028\n",
            "Epoch 6/100\n",
            "313/313 [==============================] - 1s 2ms/step - loss: 0.6960 - accuracy: 0.4941\n",
            "Epoch 7/100\n",
            "313/313 [==============================] - 1s 2ms/step - loss: 0.6970 - accuracy: 0.4926\n",
            "Epoch 8/100\n",
            "313/313 [==============================] - 1s 2ms/step - loss: 0.6969 - accuracy: 0.4978\n",
            "Epoch 9/100\n",
            "313/313 [==============================] - 1s 2ms/step - loss: 0.6962 - accuracy: 0.5006\n",
            "Epoch 10/100\n",
            "313/313 [==============================] - 1s 2ms/step - loss: 0.6969 - accuracy: 0.4885\n",
            "Epoch 11/100\n",
            "313/313 [==============================] - 1s 2ms/step - loss: 0.6964 - accuracy: 0.4985\n",
            "Epoch 12/100\n",
            "313/313 [==============================] - 1s 2ms/step - loss: 0.6975 - accuracy: 0.4993\n",
            "Epoch 13/100\n",
            "313/313 [==============================] - 1s 2ms/step - loss: 0.6972 - accuracy: 0.5010\n",
            "Epoch 14/100\n",
            "313/313 [==============================] - 1s 2ms/step - loss: 0.6985 - accuracy: 0.4917\n",
            "Epoch 15/100\n",
            "313/313 [==============================] - 1s 2ms/step - loss: 0.6971 - accuracy: 0.4963\n",
            "Epoch 16/100\n",
            "313/313 [==============================] - 1s 2ms/step - loss: 0.6973 - accuracy: 0.4940\n",
            "Epoch 17/100\n",
            "313/313 [==============================] - 1s 2ms/step - loss: 0.6968 - accuracy: 0.4967\n",
            "Epoch 18/100\n",
            "313/313 [==============================] - 1s 2ms/step - loss: 0.6968 - accuracy: 0.4922\n",
            "Epoch 19/100\n",
            "313/313 [==============================] - 1s 2ms/step - loss: 0.6968 - accuracy: 0.4957\n",
            "Epoch 20/100\n",
            "313/313 [==============================] - 1s 2ms/step - loss: 0.6967 - accuracy: 0.4911\n",
            "Epoch 21/100\n",
            "313/313 [==============================] - 1s 2ms/step - loss: 0.6963 - accuracy: 0.4959\n",
            "Epoch 22/100\n",
            "313/313 [==============================] - 1s 2ms/step - loss: 0.6958 - accuracy: 0.4985\n",
            "Epoch 23/100\n",
            "313/313 [==============================] - 1s 2ms/step - loss: 0.6963 - accuracy: 0.4971\n",
            "Epoch 24/100\n",
            "313/313 [==============================] - 1s 2ms/step - loss: 0.6957 - accuracy: 0.5018\n",
            "Epoch 25/100\n",
            "313/313 [==============================] - 1s 2ms/step - loss: 0.6957 - accuracy: 0.5004\n",
            "Epoch 26/100\n",
            "313/313 [==============================] - 1s 2ms/step - loss: 0.6960 - accuracy: 0.4835\n",
            "Epoch 27/100\n",
            "313/313 [==============================] - 1s 2ms/step - loss: 0.6955 - accuracy: 0.4997\n",
            "Epoch 28/100\n",
            "313/313 [==============================] - 1s 2ms/step - loss: 0.6950 - accuracy: 0.5075\n",
            "Epoch 29/100\n",
            "313/313 [==============================] - 1s 2ms/step - loss: 0.6954 - accuracy: 0.4968\n",
            "Epoch 30/100\n",
            "313/313 [==============================] - 1s 2ms/step - loss: 0.6955 - accuracy: 0.4945\n",
            "Epoch 31/100\n",
            "313/313 [==============================] - 1s 2ms/step - loss: 0.6959 - accuracy: 0.4957\n",
            "Epoch 32/100\n",
            "313/313 [==============================] - 1s 2ms/step - loss: 0.6954 - accuracy: 0.5023\n",
            "Epoch 33/100\n",
            "313/313 [==============================] - 1s 2ms/step - loss: 0.6952 - accuracy: 0.4943\n",
            "Epoch 34/100\n",
            "313/313 [==============================] - 1s 2ms/step - loss: 0.6950 - accuracy: 0.4958\n",
            "Epoch 35/100\n",
            "313/313 [==============================] - 1s 2ms/step - loss: 0.6953 - accuracy: 0.5003\n",
            "Epoch 36/100\n",
            "313/313 [==============================] - 1s 2ms/step - loss: 0.6950 - accuracy: 0.4950\n",
            "Epoch 37/100\n",
            "313/313 [==============================] - 1s 2ms/step - loss: 0.6952 - accuracy: 0.4901\n",
            "Epoch 38/100\n",
            "313/313 [==============================] - 1s 2ms/step - loss: 0.6945 - accuracy: 0.5077\n",
            "Epoch 39/100\n",
            "313/313 [==============================] - 1s 2ms/step - loss: 0.6943 - accuracy: 0.5028\n",
            "Epoch 40/100\n",
            "313/313 [==============================] - 1s 2ms/step - loss: 0.6957 - accuracy: 0.4945\n",
            "Epoch 41/100\n",
            "313/313 [==============================] - 1s 2ms/step - loss: 0.6948 - accuracy: 0.4990\n",
            "Epoch 42/100\n",
            "313/313 [==============================] - 1s 2ms/step - loss: 0.6945 - accuracy: 0.4998\n",
            "Epoch 43/100\n",
            "313/313 [==============================] - 1s 2ms/step - loss: 0.6948 - accuracy: 0.4971\n",
            "Epoch 44/100\n",
            "313/313 [==============================] - 1s 2ms/step - loss: 0.6950 - accuracy: 0.4971\n",
            "Epoch 45/100\n",
            "313/313 [==============================] - 1s 2ms/step - loss: 0.6941 - accuracy: 0.5075\n",
            "Epoch 46/100\n",
            "313/313 [==============================] - 1s 2ms/step - loss: 0.6946 - accuracy: 0.4962\n",
            "Epoch 47/100\n",
            "313/313 [==============================] - 1s 2ms/step - loss: 0.6944 - accuracy: 0.4913\n",
            "Epoch 48/100\n",
            "313/313 [==============================] - 1s 2ms/step - loss: 0.6949 - accuracy: 0.4966\n",
            "Epoch 49/100\n",
            "313/313 [==============================] - 1s 2ms/step - loss: 0.6949 - accuracy: 0.4819\n",
            "Epoch 50/100\n",
            "313/313 [==============================] - 1s 2ms/step - loss: 0.6943 - accuracy: 0.4909\n",
            "Epoch 51/100\n",
            "313/313 [==============================] - 1s 2ms/step - loss: 0.6946 - accuracy: 0.4913\n",
            "Epoch 52/100\n",
            "313/313 [==============================] - 1s 2ms/step - loss: 0.6950 - accuracy: 0.4883\n",
            "Epoch 53/100\n",
            "313/313 [==============================] - 1s 2ms/step - loss: 0.6945 - accuracy: 0.4927\n",
            "Epoch 54/100\n",
            "313/313 [==============================] - 1s 2ms/step - loss: 0.6944 - accuracy: 0.4992\n",
            "Epoch 55/100\n",
            "313/313 [==============================] - 1s 2ms/step - loss: 0.6947 - accuracy: 0.5076\n",
            "Epoch 56/100\n",
            "313/313 [==============================] - 1s 2ms/step - loss: 0.6948 - accuracy: 0.4930\n",
            "Epoch 57/100\n",
            "313/313 [==============================] - 1s 2ms/step - loss: 0.6944 - accuracy: 0.5015\n",
            "Epoch 58/100\n",
            "313/313 [==============================] - 1s 2ms/step - loss: 0.6944 - accuracy: 0.4969\n",
            "Epoch 59/100\n",
            "313/313 [==============================] - 1s 2ms/step - loss: 0.6942 - accuracy: 0.5098\n",
            "Epoch 60/100\n",
            "313/313 [==============================] - 1s 2ms/step - loss: 0.6942 - accuracy: 0.4995\n",
            "Epoch 61/100\n",
            "313/313 [==============================] - 1s 2ms/step - loss: 0.6942 - accuracy: 0.4904\n",
            "Epoch 62/100\n",
            "313/313 [==============================] - 1s 2ms/step - loss: 0.6943 - accuracy: 0.4988\n",
            "Epoch 63/100\n",
            "313/313 [==============================] - 1s 2ms/step - loss: 0.6942 - accuracy: 0.4952\n",
            "Epoch 64/100\n",
            "313/313 [==============================] - 1s 2ms/step - loss: 0.6942 - accuracy: 0.4928\n",
            "Epoch 65/100\n",
            "313/313 [==============================] - 1s 2ms/step - loss: 0.6940 - accuracy: 0.5013\n",
            "Epoch 66/100\n",
            "313/313 [==============================] - 1s 2ms/step - loss: 0.6938 - accuracy: 0.5049\n",
            "Epoch 67/100\n",
            "313/313 [==============================] - 1s 2ms/step - loss: 0.6940 - accuracy: 0.4910\n",
            "Epoch 68/100\n",
            "313/313 [==============================] - 1s 2ms/step - loss: 0.6943 - accuracy: 0.4976\n",
            "Epoch 69/100\n",
            "313/313 [==============================] - 1s 2ms/step - loss: 0.6943 - accuracy: 0.4890\n",
            "Epoch 70/100\n",
            "313/313 [==============================] - 1s 2ms/step - loss: 0.6942 - accuracy: 0.5014\n",
            "Epoch 71/100\n",
            "313/313 [==============================] - 1s 2ms/step - loss: 0.6939 - accuracy: 0.4981\n",
            "Epoch 72/100\n",
            "313/313 [==============================] - 1s 2ms/step - loss: 0.6939 - accuracy: 0.4884\n",
            "Epoch 73/100\n",
            "313/313 [==============================] - 1s 2ms/step - loss: 0.6939 - accuracy: 0.4911\n",
            "Epoch 74/100\n",
            "313/313 [==============================] - 1s 2ms/step - loss: 0.6939 - accuracy: 0.4965\n",
            "Epoch 75/100\n",
            "313/313 [==============================] - 1s 2ms/step - loss: 0.6939 - accuracy: 0.4956\n",
            "Epoch 76/100\n",
            "313/313 [==============================] - 1s 2ms/step - loss: 0.6943 - accuracy: 0.4878\n",
            "Epoch 77/100\n",
            "313/313 [==============================] - 1s 2ms/step - loss: 0.6943 - accuracy: 0.4871\n",
            "Epoch 78/100\n",
            "313/313 [==============================] - 1s 2ms/step - loss: 0.6938 - accuracy: 0.5026\n",
            "Epoch 79/100\n",
            "313/313 [==============================] - 1s 2ms/step - loss: 0.6941 - accuracy: 0.4985\n",
            "Epoch 80/100\n",
            "313/313 [==============================] - 1s 2ms/step - loss: 0.6939 - accuracy: 0.4909\n",
            "Epoch 81/100\n",
            "313/313 [==============================] - 1s 2ms/step - loss: 0.6942 - accuracy: 0.4940\n",
            "Epoch 82/100\n",
            "313/313 [==============================] - 1s 2ms/step - loss: 0.6939 - accuracy: 0.4982\n",
            "Epoch 83/100\n",
            "313/313 [==============================] - 1s 2ms/step - loss: 0.6940 - accuracy: 0.4906\n",
            "Epoch 84/100\n",
            "313/313 [==============================] - 1s 2ms/step - loss: 0.6940 - accuracy: 0.4937\n",
            "Epoch 85/100\n",
            "313/313 [==============================] - 1s 2ms/step - loss: 0.6940 - accuracy: 0.4951\n",
            "Epoch 86/100\n",
            "313/313 [==============================] - 1s 2ms/step - loss: 0.6941 - accuracy: 0.4901\n",
            "Epoch 87/100\n",
            "313/313 [==============================] - 1s 2ms/step - loss: 0.6938 - accuracy: 0.4916\n",
            "Epoch 88/100\n",
            "313/313 [==============================] - 1s 2ms/step - loss: 0.6940 - accuracy: 0.4885\n",
            "Epoch 89/100\n",
            "313/313 [==============================] - 1s 2ms/step - loss: 0.6935 - accuracy: 0.5025\n",
            "Epoch 90/100\n",
            "313/313 [==============================] - 1s 2ms/step - loss: 0.6944 - accuracy: 0.4966\n",
            "Epoch 91/100\n",
            "313/313 [==============================] - 1s 2ms/step - loss: 0.6939 - accuracy: 0.4992\n",
            "Epoch 92/100\n",
            "313/313 [==============================] - 1s 2ms/step - loss: 0.6941 - accuracy: 0.4864\n",
            "Epoch 93/100\n",
            "313/313 [==============================] - 1s 2ms/step - loss: 0.6940 - accuracy: 0.4969\n",
            "Epoch 94/100\n",
            "313/313 [==============================] - 1s 2ms/step - loss: 0.6937 - accuracy: 0.4910\n",
            "Epoch 95/100\n",
            "313/313 [==============================] - 1s 2ms/step - loss: 0.6938 - accuracy: 0.4964\n",
            "Epoch 96/100\n",
            "313/313 [==============================] - 1s 2ms/step - loss: 0.6938 - accuracy: 0.4988\n",
            "Epoch 97/100\n",
            "313/313 [==============================] - 1s 2ms/step - loss: 0.6938 - accuracy: 0.5008\n",
            "Epoch 98/100\n",
            "313/313 [==============================] - 1s 2ms/step - loss: 0.6938 - accuracy: 0.4908\n",
            "Epoch 99/100\n",
            "313/313 [==============================] - 1s 2ms/step - loss: 0.6938 - accuracy: 0.4972\n",
            "Epoch 100/100\n",
            "313/313 [==============================] - 1s 2ms/step - loss: 0.6940 - accuracy: 0.4964\n"
          ]
        },
        {
          "output_type": "execute_result",
          "data": {
            "text/plain": [
              "<keras.callbacks.History at 0x7fbd771f7bd0>"
            ]
          },
          "metadata": {},
          "execution_count": 23
        }
      ]
    },
    {
      "cell_type": "code",
      "source": [
        "# 4. Evaluate the model, NOT IDEAL TO EVALUATE ON THE SAME DATASET WE'RE TRAINING ON.. :P\n",
        "model_4.evaluate(X, y)"
      ],
      "metadata": {
        "colab": {
          "base_uri": "https://localhost:8080/"
        },
        "id": "AzXlKlW6deUD",
        "outputId": "1b5e61c0-1d1f-4b4f-cadc-f17e80cb64f8"
      },
      "execution_count": 24,
      "outputs": [
        {
          "output_type": "stream",
          "name": "stdout",
          "text": [
            "313/313 [==============================] - 1s 2ms/step - loss: 0.6934 - accuracy: 0.5000\n"
          ]
        },
        {
          "output_type": "execute_result",
          "data": {
            "text/plain": [
              "[0.6934003829956055, 0.5]"
            ]
          },
          "metadata": {},
          "execution_count": 24
        }
      ]
    },
    {
      "cell_type": "markdown",
      "source": [
        "To visulize our model's predictions, let's create a function `plot_decision_boundary()`, this function will:\n",
        "\n",
        "* Take in trained model, features (X) and labels (y)\n",
        "* Create a [meshgrid](https://numpy.org/doc/stable/reference/generated/numpy.meshgrid.html) of the different X values\n",
        "* Make predictions across the meshgrid\n",
        "* Plot the predictions as well as a line between zones (where each unique class falls)\n",
        "\n",
        "\n"
      ],
      "metadata": {
        "id": "h6kVilZ0duTx"
      }
    },
    {
      "cell_type": "code",
      "source": [
        "import numpy as np\n",
        "\n",
        "def plot_decision_boundary(model, X, y):\n",
        "  \"\"\"\n",
        "  Plots the decision boundary created by a model predicting on X.\n",
        "  This function has been adapted from two phenomenal resources:\n",
        "   1. CS231n - https://cs231n.github.io/neural-networks-case-study/\n",
        "   2. Made with ML basics - https://github.com/GokuMohandas/MadeWithML/blob/main/notebooks/08_Neural_Networks.ipynb\n",
        "  \"\"\"\n",
        "  # Define the axis boundaries of the plot and create a meshgrid\n",
        "  x_min, x_max = X[:, 0].min() - 0.1, X[:, 0].max() + 0.1\n",
        "  y_min, y_max = X[:, 1].min() - 0.1, X[:, 1].max() + 0.1\n",
        "  xx, yy = np.meshgrid(np.linspace(x_min, x_max, 100),\n",
        "                       np.linspace(y_min, y_max, 100))\n",
        "  \n",
        "  # Create X values (we're going to predict on all of these)\n",
        "  x_in = np.c_[xx.ravel(), yy.ravel()] # stack 2D arrays together: https://numpy.org/devdocs/reference/generated/numpy.c_.html\n",
        "  \n",
        "  # Make predictions using the trained model\n",
        "  y_pred = model.predict(x_in)\n",
        "\n",
        "  # Check for multi-class\n",
        "  if model.output_shape[-1] > 1: # checks the final dimension of the model's output shape, if this is > (greater than) 1, it's multi-class \n",
        "    print(\"doing multiclass classification...\")\n",
        "    # We have to reshape our predictions to get them ready for plotting\n",
        "    y_pred = np.argmax(y_pred, axis=1).reshape(xx.shape)\n",
        "  else:\n",
        "    print(\"doing binary classifcation...\")\n",
        "    y_pred = np.round(np.max(y_pred, axis=1)).reshape(xx.shape)\n",
        "  \n",
        "  # Plot decision boundary\n",
        "  plt.contourf(xx, yy, y_pred, cmap=plt.cm.RdYlBu, alpha=0.7)\n",
        "  plt.scatter(X[:, 0], X[:, 1], c=y, s=40, cmap=plt.cm.RdYlBu)\n",
        "  plt.xlim(xx.min(), xx.max())\n",
        "  plt.ylim(yy.min(), yy.max())"
      ],
      "metadata": {
        "id": "FDlqVyiC0G6k"
      },
      "execution_count": 25,
      "outputs": []
    },
    {
      "cell_type": "code",
      "source": [
        "# Check out the predictions our model is making\n",
        "plot_decision_boundary(first_model, X, y)  \n"
      ],
      "metadata": {
        "colab": {
          "base_uri": "https://localhost:8080/",
          "height": 283
        },
        "id": "alpiNhdyxXWC",
        "outputId": "a76b8789-f555-4969-b9c5-6e7cbf271b40"
      },
      "execution_count": 26,
      "outputs": [
        {
          "output_type": "stream",
          "name": "stdout",
          "text": [
            "doing binary classifcation...\n"
          ]
        },
        {
          "output_type": "display_data",
          "data": {
            "text/plain": [
              "<Figure size 432x288 with 1 Axes>"
            ],
            "image/png": "[encoded data removed]"
          },
          "metadata": {
            "needs_background": "light"
          }
        }
      ]
    },
    {
      "cell_type": "code",
      "source": [
        "# Let's see if out model can be used for a regresion problem.\n",
        "\n",
        "tf.random.set_seed(42)\n",
        "\n",
        "# Create some regression data\n",
        "X_regression = tf.range(0, 1000, 5)\n",
        "y_regression = tf.range(100, 1100, 5) # y = X +100 (Thats the relationship between X and Y)\n",
        "\n",
        "# Split the regression data into training and test sets\n",
        "X_reg_train = X_regression[:150]\n",
        "X_reg_test = X_regression[150:]\n",
        "y_reg_train = y_regression[:150]\n",
        "y_reg_test = y_regression[150:]\n",
        "\n",
        "# Fit our model to the regression data"
      ],
      "metadata": {
        "id": "uHfM39-kzLFO"
      },
      "execution_count": 27,
      "outputs": []
    },
    {
      "cell_type": "markdown",
      "source": [
        "We are working on a regression problem\n",
        "\n",
        "To compile the model we need to re-write `model_4` since its for a binary classification problem\n"
      ],
      "metadata": {
        "id": "2S4zCN731zHM"
      }
    },
    {
      "cell_type": "code",
      "source": [
        "# Random seed\n",
        "tf.random.set_seed(42)\n",
        "\n",
        "# 1. Create the model\n",
        "model_4 = tf.keras.Sequential([\n",
        "  tf.keras.layers.Dense(100),\n",
        "  tf.keras.layers.Dense(10),\n",
        "  tf.keras.layers.Dense(1)\n",
        "])\n",
        "\n",
        "# 2. Compile the model, this time with a regression-specific loss function\n",
        "model_4.compile(loss=tf.keras.losses.mae,\n",
        "                optimizer=tf.keras.optimizers.Adam(),\n",
        "                metrics=[\"mae\"])\n",
        "\n",
        "# 3. Fit the model\n",
        "model_4.fit(tf.expand_dims(X_reg_train, axis=-1), y_reg_train, epochs = 100)"
      ],
      "metadata": {
        "colab": {
          "base_uri": "https://localhost:8080/"
        },
        "id": "WvDsdARx2YOG",
        "outputId": "da638ed7-7c30-4dab-fe8f-efb227df511f"
      },
      "execution_count": 28,
      "outputs": [
        {
          "output_type": "stream",
          "name": "stdout",
          "text": [
            "Epoch 1/100\n",
            "5/5 [==============================] - 0s 3ms/step - loss: 248.2155 - mae: 248.2155\n",
            "Epoch 2/100\n",
            "5/5 [==============================] - 0s 6ms/step - loss: 138.9005 - mae: 138.9005\n",
            "Epoch 3/100\n",
            "5/5 [==============================] - 0s 3ms/step - loss: 53.1039 - mae: 53.1039\n",
            "Epoch 4/100\n",
            "5/5 [==============================] - 0s 4ms/step - loss: 73.5170 - mae: 73.5170\n",
            "Epoch 5/100\n",
            "5/5 [==============================] - 0s 4ms/step - loss: 71.2358 - mae: 71.2358\n",
            "Epoch 6/100\n",
            "5/5 [==============================] - 0s 4ms/step - loss: 47.0040 - mae: 47.0040\n",
            "Epoch 7/100\n",
            "5/5 [==============================] - 0s 3ms/step - loss: 45.9386 - mae: 45.9386\n",
            "Epoch 8/100\n",
            "5/5 [==============================] - 0s 4ms/step - loss: 42.3638 - mae: 42.3638\n",
            "Epoch 9/100\n",
            "5/5 [==============================] - 0s 4ms/step - loss: 43.6831 - mae: 43.6831\n",
            "Epoch 10/100\n",
            "5/5 [==============================] - 0s 4ms/step - loss: 42.6198 - mae: 42.6198\n",
            "Epoch 11/100\n",
            "5/5 [==============================] - 0s 3ms/step - loss: 42.4797 - mae: 42.4797\n",
            "Epoch 12/100\n",
            "5/5 [==============================] - 0s 3ms/step - loss: 41.5537 - mae: 41.5537\n",
            "Epoch 13/100\n",
            "5/5 [==============================] - 0s 4ms/step - loss: 42.0972 - mae: 42.0972\n",
            "Epoch 14/100\n",
            "5/5 [==============================] - 0s 3ms/step - loss: 41.8647 - mae: 41.8647\n",
            "Epoch 15/100\n",
            "5/5 [==============================] - 0s 4ms/step - loss: 41.5342 - mae: 41.5342\n",
            "Epoch 16/100\n",
            "5/5 [==============================] - 0s 4ms/step - loss: 41.4028 - mae: 41.4028\n",
            "Epoch 17/100\n",
            "5/5 [==============================] - 0s 4ms/step - loss: 41.6887 - mae: 41.6887\n",
            "Epoch 18/100\n",
            "5/5 [==============================] - 0s 4ms/step - loss: 41.6137 - mae: 41.6137\n",
            "Epoch 19/100\n",
            "5/5 [==============================] - 0s 4ms/step - loss: 41.2796 - mae: 41.2796\n",
            "Epoch 20/100\n",
            "5/5 [==============================] - 0s 4ms/step - loss: 41.1947 - mae: 41.1947\n",
            "Epoch 21/100\n",
            "5/5 [==============================] - 0s 4ms/step - loss: 41.2130 - mae: 41.2130\n",
            "Epoch 22/100\n",
            "5/5 [==============================] - 0s 4ms/step - loss: 41.0893 - mae: 41.0893\n",
            "Epoch 23/100\n",
            "5/5 [==============================] - 0s 4ms/step - loss: 41.2019 - mae: 41.2019\n",
            "Epoch 24/100\n",
            "5/5 [==============================] - 0s 3ms/step - loss: 40.9989 - mae: 40.9989\n",
            "Epoch 25/100\n",
            "5/5 [==============================] - 0s 3ms/step - loss: 41.0131 - mae: 41.0131\n",
            "Epoch 26/100\n",
            "5/5 [==============================] - 0s 3ms/step - loss: 41.0654 - mae: 41.0654\n",
            "Epoch 27/100\n",
            "5/5 [==============================] - 0s 5ms/step - loss: 40.8764 - mae: 40.8764\n",
            "Epoch 28/100\n",
            "5/5 [==============================] - 0s 3ms/step - loss: 41.0545 - mae: 41.0545\n",
            "Epoch 29/100\n",
            "5/5 [==============================] - 0s 4ms/step - loss: 41.0480 - mae: 41.0480\n",
            "Epoch 30/100\n",
            "5/5 [==============================] - 0s 4ms/step - loss: 40.8807 - mae: 40.8807\n",
            "Epoch 31/100\n",
            "5/5 [==============================] - 0s 3ms/step - loss: 41.2695 - mae: 41.2695\n",
            "Epoch 32/100\n",
            "5/5 [==============================] - 0s 4ms/step - loss: 40.9949 - mae: 40.9949\n",
            "Epoch 33/100\n",
            "5/5 [==============================] - 0s 4ms/step - loss: 41.0760 - mae: 41.0760\n",
            "Epoch 34/100\n",
            "5/5 [==============================] - 0s 4ms/step - loss: 41.2471 - mae: 41.2471\n",
            "Epoch 35/100\n",
            "5/5 [==============================] - 0s 5ms/step - loss: 40.6102 - mae: 40.6102\n",
            "Epoch 36/100\n",
            "5/5 [==============================] - 0s 4ms/step - loss: 41.1093 - mae: 41.1093\n",
            "Epoch 37/100\n",
            "5/5 [==============================] - 0s 4ms/step - loss: 40.8191 - mae: 40.8191\n",
            "Epoch 38/100\n",
            "5/5 [==============================] - 0s 4ms/step - loss: 40.2485 - mae: 40.2485\n",
            "Epoch 39/100\n",
            "5/5 [==============================] - 0s 3ms/step - loss: 41.0625 - mae: 41.0625\n",
            "Epoch 40/100\n",
            "5/5 [==============================] - 0s 3ms/step - loss: 40.5311 - mae: 40.5311\n",
            "Epoch 41/100\n",
            "5/5 [==============================] - 0s 4ms/step - loss: 40.5497 - mae: 40.5497\n",
            "Epoch 42/100\n",
            "5/5 [==============================] - 0s 3ms/step - loss: 40.4322 - mae: 40.4322\n",
            "Epoch 43/100\n",
            "5/5 [==============================] - 0s 4ms/step - loss: 40.5367 - mae: 40.5367\n",
            "Epoch 44/100\n",
            "5/5 [==============================] - 0s 4ms/step - loss: 40.2487 - mae: 40.2487\n",
            "Epoch 45/100\n",
            "5/5 [==============================] - 0s 4ms/step - loss: 40.5152 - mae: 40.5152\n",
            "Epoch 46/100\n",
            "5/5 [==============================] - 0s 4ms/step - loss: 40.3702 - mae: 40.3702\n",
            "Epoch 47/100\n",
            "5/5 [==============================] - 0s 4ms/step - loss: 40.4769 - mae: 40.4769\n",
            "Epoch 48/100\n",
            "5/5 [==============================] - 0s 3ms/step - loss: 40.1532 - mae: 40.1532\n",
            "Epoch 49/100\n",
            "5/5 [==============================] - 0s 4ms/step - loss: 40.7291 - mae: 40.7291\n",
            "Epoch 50/100\n",
            "5/5 [==============================] - 0s 4ms/step - loss: 40.1536 - mae: 40.1536\n",
            "Epoch 51/100\n",
            "5/5 [==============================] - 0s 4ms/step - loss: 40.2711 - mae: 40.2711\n",
            "Epoch 52/100\n",
            "5/5 [==============================] - 0s 4ms/step - loss: 40.6572 - mae: 40.6572\n",
            "Epoch 53/100\n",
            "5/5 [==============================] - 0s 4ms/step - loss: 40.6573 - mae: 40.6573\n",
            "Epoch 54/100\n",
            "5/5 [==============================] - 0s 5ms/step - loss: 40.6894 - mae: 40.6894\n",
            "Epoch 55/100\n",
            "5/5 [==============================] - 0s 3ms/step - loss: 41.2771 - mae: 41.2771\n",
            "Epoch 56/100\n",
            "5/5 [==============================] - 0s 7ms/step - loss: 41.8519 - mae: 41.8519\n",
            "Epoch 57/100\n",
            "5/5 [==============================] - 0s 4ms/step - loss: 40.7903 - mae: 40.7903\n",
            "Epoch 58/100\n",
            "5/5 [==============================] - 0s 4ms/step - loss: 40.3128 - mae: 40.3128\n",
            "Epoch 59/100\n",
            "5/5 [==============================] - 0s 3ms/step - loss: 40.7198 - mae: 40.7198\n",
            "Epoch 60/100\n",
            "5/5 [==============================] - 0s 4ms/step - loss: 40.1478 - mae: 40.1478\n",
            "Epoch 61/100\n",
            "5/5 [==============================] - 0s 6ms/step - loss: 40.1116 - mae: 40.1116\n",
            "Epoch 62/100\n",
            "5/5 [==============================] - 0s 4ms/step - loss: 40.7800 - mae: 40.7800\n",
            "Epoch 63/100\n",
            "5/5 [==============================] - 0s 4ms/step - loss: 39.7242 - mae: 39.7242\n",
            "Epoch 64/100\n",
            "5/5 [==============================] - 0s 5ms/step - loss: 40.1465 - mae: 40.1465\n",
            "Epoch 65/100\n",
            "5/5 [==============================] - 0s 4ms/step - loss: 39.6887 - mae: 39.6887\n",
            "Epoch 66/100\n",
            "5/5 [==============================] - 0s 4ms/step - loss: 40.2840 - mae: 40.2840\n",
            "Epoch 67/100\n",
            "5/5 [==============================] - 0s 4ms/step - loss: 39.5541 - mae: 39.5541\n",
            "Epoch 68/100\n",
            "5/5 [==============================] - 0s 4ms/step - loss: 39.7378 - mae: 39.7378\n",
            "Epoch 69/100\n",
            "5/5 [==============================] - 0s 5ms/step - loss: 39.9784 - mae: 39.9784\n",
            "Epoch 70/100\n",
            "5/5 [==============================] - 0s 4ms/step - loss: 40.0016 - mae: 40.0016\n",
            "Epoch 71/100\n",
            "5/5 [==============================] - 0s 4ms/step - loss: 40.0913 - mae: 40.0913\n",
            "Epoch 72/100\n",
            "5/5 [==============================] - 0s 4ms/step - loss: 39.2547 - mae: 39.2547\n",
            "Epoch 73/100\n",
            "5/5 [==============================] - 0s 4ms/step - loss: 39.6828 - mae: 39.6828\n",
            "Epoch 74/100\n",
            "5/5 [==============================] - 0s 6ms/step - loss: 39.5373 - mae: 39.5373\n",
            "Epoch 75/100\n",
            "5/5 [==============================] - 0s 5ms/step - loss: 39.6265 - mae: 39.6265\n",
            "Epoch 76/100\n",
            "5/5 [==============================] - 0s 5ms/step - loss: 39.3110 - mae: 39.3110\n",
            "Epoch 77/100\n",
            "5/5 [==============================] - 0s 5ms/step - loss: 39.1599 - mae: 39.1599\n",
            "Epoch 78/100\n",
            "5/5 [==============================] - 0s 5ms/step - loss: 39.7550 - mae: 39.7550\n",
            "Epoch 79/100\n",
            "5/5 [==============================] - 0s 4ms/step - loss: 39.2542 - mae: 39.2542\n",
            "Epoch 80/100\n",
            "5/5 [==============================] - 0s 4ms/step - loss: 38.6968 - mae: 38.6968\n",
            "Epoch 81/100\n",
            "5/5 [==============================] - 0s 4ms/step - loss: 39.5442 - mae: 39.5442\n",
            "Epoch 82/100\n",
            "5/5 [==============================] - 0s 5ms/step - loss: 39.8686 - mae: 39.8686\n",
            "Epoch 83/100\n",
            "5/5 [==============================] - 0s 4ms/step - loss: 39.1693 - mae: 39.1693\n",
            "Epoch 84/100\n",
            "5/5 [==============================] - 0s 5ms/step - loss: 38.8840 - mae: 38.8840\n",
            "Epoch 85/100\n",
            "5/5 [==============================] - 0s 4ms/step - loss: 38.8887 - mae: 38.8887\n",
            "Epoch 86/100\n",
            "5/5 [==============================] - 0s 4ms/step - loss: 38.6614 - mae: 38.6614\n",
            "Epoch 87/100\n",
            "5/5 [==============================] - 0s 3ms/step - loss: 38.8399 - mae: 38.8399\n",
            "Epoch 88/100\n",
            "5/5 [==============================] - 0s 7ms/step - loss: 38.6604 - mae: 38.6604\n",
            "Epoch 89/100\n",
            "5/5 [==============================] - 0s 5ms/step - loss: 38.7559 - mae: 38.7559\n",
            "Epoch 90/100\n",
            "5/5 [==============================] - 0s 4ms/step - loss: 38.5442 - mae: 38.5442\n",
            "Epoch 91/100\n",
            "5/5 [==============================] - 0s 3ms/step - loss: 38.3247 - mae: 38.3247\n",
            "Epoch 92/100\n",
            "5/5 [==============================] - 0s 4ms/step - loss: 38.8431 - mae: 38.8431\n",
            "Epoch 93/100\n",
            "5/5 [==============================] - 0s 4ms/step - loss: 39.1137 - mae: 39.1137\n",
            "Epoch 94/100\n",
            "5/5 [==============================] - 0s 5ms/step - loss: 38.1463 - mae: 38.1463\n",
            "Epoch 95/100\n",
            "5/5 [==============================] - 0s 4ms/step - loss: 38.3998 - mae: 38.3998\n",
            "Epoch 96/100\n",
            "5/5 [==============================] - 0s 5ms/step - loss: 38.5599 - mae: 38.5599\n",
            "Epoch 97/100\n",
            "5/5 [==============================] - 0s 4ms/step - loss: 38.1038 - mae: 38.1038\n",
            "Epoch 98/100\n",
            "5/5 [==============================] - 0s 4ms/step - loss: 39.0081 - mae: 39.0081\n",
            "Epoch 99/100\n",
            "5/5 [==============================] - 0s 4ms/step - loss: 38.3056 - mae: 38.3056\n",
            "Epoch 100/100\n",
            "5/5 [==============================] - 0s 4ms/step - loss: 37.9976 - mae: 37.9976\n"
          ]
        },
        {
          "output_type": "execute_result",
          "data": {
            "text/plain": [
              "<keras.callbacks.History at 0x7fbd774928d0>"
            ]
          },
          "metadata": {},
          "execution_count": 28
        }
      ]
    },
    {
      "cell_type": "code",
      "source": [
        "# Make predictions with our trained model\n",
        "y_reg_preds = model_4.predict(X_reg_test)\n",
        "\n",
        "# Plot the model's predictions against our regression data\n",
        "plt.figure(figsize=(10, 7))\n",
        "plt.scatter(X_reg_train, y_reg_train, c=\"b\", label=\"Training data\")\n",
        "plt.scatter(X_reg_test, y_reg_test, c=\"g\", label=\"Test data\")\n",
        "plt.scatter(X_reg_test, y_reg_preds, c=\"r\", label=\"Predictions\")\n",
        "plt.legend();"
      ],
      "metadata": {
        "colab": {
          "base_uri": "https://localhost:8080/",
          "height": 428
        },
        "id": "d4p1ZHZR5WxO",
        "outputId": "8dc87123-be33-4d4b-abd7-e8028d7f2952"
      },
      "execution_count": 29,
      "outputs": [
        {
          "output_type": "display_data",
          "data": {
            "text/plain": [
              "<Figure size 720x504 with 1 Axes>"
            ],
            "image/png": "[encoded data removed]"
          },
          "metadata": {
            "needs_background": "light"
          }
        }
      ]
    },
    {
      "cell_type": "markdown",
      "source": [
        "## The missing piece: Non-linearity"
      ],
      "metadata": {
        "id": "TQEMFnlC7LGP"
      }
    },
    {
      "cell_type": "code",
      "source": [
        "# Set the random seed\n",
        "tf.random.set_seed(42)\n",
        "\n",
        "# Create the model\n",
        "model_5 = tf.keras.Sequential([\n",
        "    tf.keras.layers.Dense(1, activation=tf.keras.activations.linear)                           \n",
        "])\n",
        "\n",
        "# 2. Compile the model\n",
        "model_5.compile(loss=tf.keras.losses.binary_crossentropy, # or as string \"binary_crossentropy\"\n",
        "                optimizer=tf.keras.optimizers.Adam(lr=0.001),\n",
        "                metrics=[\"accuracy\"])\n",
        "\n",
        "# 3. Fit the model\n",
        "history = model_5.fit(#tf.expand_dims(X, axis=-1), y, epochs=100)\n",
        "                      X, y, epochs=100)"
      ],
      "metadata": {
        "colab": {
          "base_uri": "https://localhost:8080/"
        },
        "id": "wL1l8E7M7daX",
        "outputId": "ba48623b-1c69-4145-8b04-fc790322ad63"
      },
      "execution_count": 30,
      "outputs": [
        {
          "output_type": "stream",
          "name": "stdout",
          "text": [
            "Epoch 1/100\n"
          ]
        },
        {
          "output_type": "stream",
          "name": "stderr",
          "text": [
            "/usr/local/lib/python3.7/dist-packages/keras/optimizer_v2/adam.py:105: UserWarning: The `lr` argument is deprecated, use `learning_rate` instead.\n",
            "  super(Adam, self).__init__(name, **kwargs)\n"
          ]
        },
        {
          "output_type": "stream",
          "name": "stdout",
          "text": [
            "313/313 [==============================] - 1s 2ms/step - loss: 3.9494 - accuracy: 0.4284\n",
            "Epoch 2/100\n",
            "313/313 [==============================] - 1s 2ms/step - loss: 2.4893 - accuracy: 0.4431\n",
            "Epoch 3/100\n",
            "313/313 [==============================] - 0s 2ms/step - loss: 0.8189 - accuracy: 0.4549\n",
            "Epoch 4/100\n",
            "313/313 [==============================] - 0s 2ms/step - loss: 0.7600 - accuracy: 0.4607\n",
            "Epoch 5/100\n",
            "313/313 [==============================] - 0s 2ms/step - loss: 0.7299 - accuracy: 0.4659\n",
            "Epoch 6/100\n",
            "313/313 [==============================] - 0s 2ms/step - loss: 0.7125 - accuracy: 0.4706\n",
            "Epoch 7/100\n",
            "313/313 [==============================] - 0s 2ms/step - loss: 0.7027 - accuracy: 0.4733\n",
            "Epoch 8/100\n",
            "313/313 [==============================] - 0s 2ms/step - loss: 0.6974 - accuracy: 0.4778\n",
            "Epoch 9/100\n",
            "313/313 [==============================] - 1s 2ms/step - loss: 0.6948 - accuracy: 0.4788\n",
            "Epoch 10/100\n",
            "313/313 [==============================] - 1s 2ms/step - loss: 0.6937 - accuracy: 0.4834\n",
            "Epoch 11/100\n",
            "313/313 [==============================] - 1s 2ms/step - loss: 0.6934 - accuracy: 0.4879\n",
            "Epoch 12/100\n",
            "313/313 [==============================] - 0s 2ms/step - loss: 0.6933 - accuracy: 0.4772\n",
            "Epoch 13/100\n",
            "313/313 [==============================] - 1s 2ms/step - loss: 0.6933 - accuracy: 0.4954\n",
            "Epoch 14/100\n",
            "313/313 [==============================] - 0s 2ms/step - loss: 0.6933 - accuracy: 0.4734\n",
            "Epoch 15/100\n",
            "313/313 [==============================] - 0s 2ms/step - loss: 0.6933 - accuracy: 0.5136\n",
            "Epoch 16/100\n",
            "313/313 [==============================] - 1s 2ms/step - loss: 0.6933 - accuracy: 0.4818\n",
            "Epoch 17/100\n",
            "313/313 [==============================] - 1s 2ms/step - loss: 0.6933 - accuracy: 0.4888\n",
            "Epoch 18/100\n",
            "313/313 [==============================] - 0s 2ms/step - loss: 0.6934 - accuracy: 0.5237\n",
            "Epoch 19/100\n",
            "313/313 [==============================] - 1s 2ms/step - loss: 0.6933 - accuracy: 0.5005\n",
            "Epoch 20/100\n",
            "313/313 [==============================] - 1s 2ms/step - loss: 0.6934 - accuracy: 0.4853\n",
            "Epoch 21/100\n",
            "313/313 [==============================] - 1s 2ms/step - loss: 0.6933 - accuracy: 0.4994\n",
            "Epoch 22/100\n",
            "313/313 [==============================] - 0s 2ms/step - loss: 0.6934 - accuracy: 0.4920\n",
            "Epoch 23/100\n",
            "313/313 [==============================] - 0s 2ms/step - loss: 0.6933 - accuracy: 0.4961\n",
            "Epoch 24/100\n",
            "313/313 [==============================] - 1s 2ms/step - loss: 0.6934 - accuracy: 0.4984\n",
            "Epoch 25/100\n",
            "313/313 [==============================] - 0s 2ms/step - loss: 0.6934 - accuracy: 0.4995\n",
            "Epoch 26/100\n",
            "313/313 [==============================] - 1s 2ms/step - loss: 0.6934 - accuracy: 0.4764\n",
            "Epoch 27/100\n",
            "313/313 [==============================] - 0s 1ms/step - loss: 0.6934 - accuracy: 0.4983\n",
            "Epoch 28/100\n",
            "313/313 [==============================] - 1s 2ms/step - loss: 0.6934 - accuracy: 0.5091\n",
            "Epoch 29/100\n",
            "313/313 [==============================] - 1s 2ms/step - loss: 0.6934 - accuracy: 0.4998\n",
            "Epoch 30/100\n",
            "313/313 [==============================] - 0s 2ms/step - loss: 0.6934 - accuracy: 0.4891\n",
            "Epoch 31/100\n",
            "313/313 [==============================] - 1s 2ms/step - loss: 0.6935 - accuracy: 0.4922\n",
            "Epoch 32/100\n",
            "313/313 [==============================] - 1s 2ms/step - loss: 0.6935 - accuracy: 0.4993\n",
            "Epoch 33/100\n",
            "313/313 [==============================] - 0s 2ms/step - loss: 0.6934 - accuracy: 0.4908\n",
            "Epoch 34/100\n",
            "313/313 [==============================] - 1s 2ms/step - loss: 0.6934 - accuracy: 0.4932\n",
            "Epoch 35/100\n",
            "313/313 [==============================] - 0s 2ms/step - loss: 0.6935 - accuracy: 0.5058\n",
            "Epoch 36/100\n",
            "313/313 [==============================] - 1s 2ms/step - loss: 0.6934 - accuracy: 0.4834\n",
            "Epoch 37/100\n",
            "313/313 [==============================] - 1s 2ms/step - loss: 0.6934 - accuracy: 0.4858\n",
            "Epoch 38/100\n",
            "313/313 [==============================] - 1s 2ms/step - loss: 0.6935 - accuracy: 0.5003\n",
            "Epoch 39/100\n",
            "313/313 [==============================] - 1s 2ms/step - loss: 0.6934 - accuracy: 0.5043\n",
            "Epoch 40/100\n",
            "313/313 [==============================] - 1s 2ms/step - loss: 0.6935 - accuracy: 0.4842\n",
            "Epoch 41/100\n",
            "313/313 [==============================] - 0s 2ms/step - loss: 0.6934 - accuracy: 0.4816\n",
            "Epoch 42/100\n",
            "313/313 [==============================] - 1s 2ms/step - loss: 0.6935 - accuracy: 0.5140\n",
            "Epoch 43/100\n",
            "313/313 [==============================] - 1s 2ms/step - loss: 0.6935 - accuracy: 0.4931\n",
            "Epoch 44/100\n",
            "313/313 [==============================] - 1s 2ms/step - loss: 0.6936 - accuracy: 0.4790\n",
            "Epoch 45/100\n",
            "313/313 [==============================] - 0s 2ms/step - loss: 0.6933 - accuracy: 0.5015\n",
            "Epoch 46/100\n",
            "313/313 [==============================] - 0s 2ms/step - loss: 0.6935 - accuracy: 0.4834\n",
            "Epoch 47/100\n",
            "313/313 [==============================] - 0s 2ms/step - loss: 0.6935 - accuracy: 0.4980\n",
            "Epoch 48/100\n",
            "313/313 [==============================] - 1s 2ms/step - loss: 0.6935 - accuracy: 0.4866\n",
            "Epoch 49/100\n",
            "313/313 [==============================] - 0s 2ms/step - loss: 0.6935 - accuracy: 0.4969\n",
            "Epoch 50/100\n",
            "313/313 [==============================] - 1s 2ms/step - loss: 0.6934 - accuracy: 0.5060\n",
            "Epoch 51/100\n",
            "313/313 [==============================] - 0s 2ms/step - loss: 0.6934 - accuracy: 0.4866\n",
            "Epoch 52/100\n",
            "313/313 [==============================] - 0s 2ms/step - loss: 0.6934 - accuracy: 0.4932\n",
            "Epoch 53/100\n",
            "313/313 [==============================] - 1s 2ms/step - loss: 0.6934 - accuracy: 0.4970\n",
            "Epoch 54/100\n",
            "313/313 [==============================] - 1s 2ms/step - loss: 0.6934 - accuracy: 0.4907\n",
            "Epoch 55/100\n",
            "313/313 [==============================] - 1s 2ms/step - loss: 0.6935 - accuracy: 0.5090\n",
            "Epoch 56/100\n",
            "313/313 [==============================] - 1s 2ms/step - loss: 0.6936 - accuracy: 0.4746\n",
            "Epoch 57/100\n",
            "313/313 [==============================] - 0s 1ms/step - loss: 0.6935 - accuracy: 0.4979\n",
            "Epoch 58/100\n",
            "313/313 [==============================] - 0s 2ms/step - loss: 0.6934 - accuracy: 0.4974\n",
            "Epoch 59/100\n",
            "313/313 [==============================] - 1s 2ms/step - loss: 0.6934 - accuracy: 0.5021\n",
            "Epoch 60/100\n",
            "313/313 [==============================] - 1s 2ms/step - loss: 0.6934 - accuracy: 0.4912\n",
            "Epoch 61/100\n",
            "313/313 [==============================] - 1s 2ms/step - loss: 0.6935 - accuracy: 0.4887\n",
            "Epoch 62/100\n",
            "313/313 [==============================] - 1s 2ms/step - loss: 0.6935 - accuracy: 0.4894\n",
            "Epoch 63/100\n",
            "313/313 [==============================] - 0s 2ms/step - loss: 0.6934 - accuracy: 0.4864\n",
            "Epoch 64/100\n",
            "313/313 [==============================] - 1s 2ms/step - loss: 0.6935 - accuracy: 0.4875\n",
            "Epoch 65/100\n",
            "313/313 [==============================] - 1s 2ms/step - loss: 0.6935 - accuracy: 0.4986\n",
            "Epoch 66/100\n",
            "313/313 [==============================] - 0s 2ms/step - loss: 0.6933 - accuracy: 0.4907\n",
            "Epoch 67/100\n",
            "313/313 [==============================] - 0s 2ms/step - loss: 0.6934 - accuracy: 0.4969\n",
            "Epoch 68/100\n",
            "313/313 [==============================] - 0s 2ms/step - loss: 0.6935 - accuracy: 0.4995\n",
            "Epoch 69/100\n",
            "313/313 [==============================] - 1s 2ms/step - loss: 0.6935 - accuracy: 0.5015\n",
            "Epoch 70/100\n",
            "313/313 [==============================] - 1s 2ms/step - loss: 0.6935 - accuracy: 0.4914\n",
            "Epoch 71/100\n",
            "313/313 [==============================] - 0s 2ms/step - loss: 0.6934 - accuracy: 0.4942\n",
            "Epoch 72/100\n",
            "313/313 [==============================] - 1s 2ms/step - loss: 0.6934 - accuracy: 0.5100\n",
            "Epoch 73/100\n",
            "313/313 [==============================] - 1s 2ms/step - loss: 0.6934 - accuracy: 0.4945\n",
            "Epoch 74/100\n",
            "313/313 [==============================] - 1s 2ms/step - loss: 0.6934 - accuracy: 0.4977\n",
            "Epoch 75/100\n",
            "313/313 [==============================] - 1s 2ms/step - loss: 0.6934 - accuracy: 0.4858\n",
            "Epoch 76/100\n",
            "313/313 [==============================] - 1s 2ms/step - loss: 0.6934 - accuracy: 0.4941\n",
            "Epoch 77/100\n",
            "313/313 [==============================] - 1s 2ms/step - loss: 0.6935 - accuracy: 0.4786\n",
            "Epoch 78/100\n",
            "313/313 [==============================] - 0s 2ms/step - loss: 0.6934 - accuracy: 0.5069\n",
            "Epoch 79/100\n",
            "313/313 [==============================] - 0s 2ms/step - loss: 0.6935 - accuracy: 0.4834\n",
            "Epoch 80/100\n",
            "313/313 [==============================] - 1s 2ms/step - loss: 0.6934 - accuracy: 0.5013\n",
            "Epoch 81/100\n",
            "313/313 [==============================] - 0s 2ms/step - loss: 0.6936 - accuracy: 0.4821\n",
            "Epoch 82/100\n",
            "313/313 [==============================] - 1s 2ms/step - loss: 0.6934 - accuracy: 0.4907\n",
            "Epoch 83/100\n",
            "313/313 [==============================] - 0s 2ms/step - loss: 0.6935 - accuracy: 0.5043\n",
            "Epoch 84/100\n",
            "313/313 [==============================] - 0s 2ms/step - loss: 0.6935 - accuracy: 0.4789\n",
            "Epoch 85/100\n",
            "313/313 [==============================] - 0s 2ms/step - loss: 0.6935 - accuracy: 0.4910\n",
            "Epoch 86/100\n",
            "313/313 [==============================] - 1s 2ms/step - loss: 0.6935 - accuracy: 0.4869\n",
            "Epoch 87/100\n",
            "313/313 [==============================] - 0s 2ms/step - loss: 0.6934 - accuracy: 0.4984\n",
            "Epoch 88/100\n",
            "313/313 [==============================] - 1s 2ms/step - loss: 0.6934 - accuracy: 0.4835\n",
            "Epoch 89/100\n",
            "313/313 [==============================] - 0s 2ms/step - loss: 0.6935 - accuracy: 0.4880\n",
            "Epoch 90/100\n",
            "313/313 [==============================] - 0s 2ms/step - loss: 0.6934 - accuracy: 0.4941\n",
            "Epoch 91/100\n",
            "313/313 [==============================] - 1s 2ms/step - loss: 0.6934 - accuracy: 0.4960\n",
            "Epoch 92/100\n",
            "313/313 [==============================] - 0s 2ms/step - loss: 0.6935 - accuracy: 0.4818\n",
            "Epoch 93/100\n",
            "313/313 [==============================] - 1s 2ms/step - loss: 0.6934 - accuracy: 0.5040\n",
            "Epoch 94/100\n",
            "313/313 [==============================] - 1s 2ms/step - loss: 0.6935 - accuracy: 0.4807\n",
            "Epoch 95/100\n",
            "313/313 [==============================] - 0s 2ms/step - loss: 0.6934 - accuracy: 0.5080\n",
            "Epoch 96/100\n",
            "313/313 [==============================] - 0s 2ms/step - loss: 0.6935 - accuracy: 0.4975\n",
            "Epoch 97/100\n",
            "313/313 [==============================] - 1s 2ms/step - loss: 0.6934 - accuracy: 0.4881\n",
            "Epoch 98/100\n",
            "313/313 [==============================] - 1s 2ms/step - loss: 0.6935 - accuracy: 0.4931\n",
            "Epoch 99/100\n",
            "313/313 [==============================] - 1s 2ms/step - loss: 0.6934 - accuracy: 0.5019\n",
            "Epoch 100/100\n",
            "313/313 [==============================] - 1s 2ms/step - loss: 0.6935 - accuracy: 0.4985\n"
          ]
        }
      ]
    },
    {
      "cell_type": "code",
      "source": [
        "# Check out our data\n",
        "plt.scatter(X[:, 0], X[:, 1], c=y, cmap=plt.cm.RdYlBu); # cm = ColorMap"
      ],
      "metadata": {
        "colab": {
          "base_uri": "https://localhost:8080/",
          "height": 265
        },
        "id": "vbjpWqDEpAj3",
        "outputId": "d34bff97-d723-4d8f-8ef6-a4fcbf5b6965"
      },
      "execution_count": 31,
      "outputs": [
        {
          "output_type": "display_data",
          "data": {
            "text/plain": [
              "<Figure size 432x288 with 1 Axes>"
            ],
            "image/png": "[encoded data removed]"
          },
          "metadata": {
            "needs_background": "light"
          }
        }
      ]
    },
    {
      "cell_type": "code",
      "source": [
        "# Check the decision boundary for our latest model\n",
        "plot_decision_boundary(model=model_5,\n",
        "                       X=X,\n",
        "                       y=y)"
      ],
      "metadata": {
        "colab": {
          "base_uri": "https://localhost:8080/",
          "height": 283
        },
        "id": "7m9Mv-Ymp5-E",
        "outputId": "10342149-1b3d-4aca-d8d1-bc391692888d"
      },
      "execution_count": 32,
      "outputs": [
        {
          "output_type": "stream",
          "name": "stdout",
          "text": [
            "doing binary classifcation...\n"
          ]
        },
        {
          "output_type": "display_data",
          "data": {
            "text/plain": [
              "<Figure size 432x288 with 1 Axes>"
            ],
            "image/png": "[encoded data removed]"
          },
          "metadata": {
            "needs_background": "light"
          }
        }
      ]
    },
    {
      "cell_type": "markdown",
      "source": [
        "Let's try build our first neural network with a non-linear activation function."
      ],
      "metadata": {
        "id": "C5-LBQhTtnwp"
      }
    },
    {
      "cell_type": "code",
      "source": [
        "#Set random seed\n",
        "tf.random.set_seed(42)\n",
        "\n",
        "# 1. Create a model with a non-linear activation\n",
        "model_6 = tf.keras.Sequential([\n",
        "  tf.keras.layers.Dense(1, activation=tf.keras.activations.relu)                               \n",
        "])\n",
        "\n",
        "# 2. Compile the model\n",
        "model_6.compile(loss=tf.keras.losses.BinaryCrossentropy(),\n",
        "                optimizer=tf.keras.optimizers.Adam(lr=0.001),\n",
        "                metrics=[\"accuracy\"])\n",
        "\n",
        "# 3. Fit the model\n",
        "history = model_6.fit(X, y, epochs=100)"
      ],
      "metadata": {
        "colab": {
          "base_uri": "https://localhost:8080/"
        },
        "id": "CJ3xG0EUq0OP",
        "outputId": "2fc39dd8-9f99-4c73-9a42-8b534a2bb51a"
      },
      "execution_count": 33,
      "outputs": [
        {
          "output_type": "stream",
          "name": "stdout",
          "text": [
            "Epoch 1/100\n"
          ]
        },
        {
          "output_type": "stream",
          "name": "stderr",
          "text": [
            "/usr/local/lib/python3.7/dist-packages/keras/optimizer_v2/adam.py:105: UserWarning: The `lr` argument is deprecated, use `learning_rate` instead.\n",
            "  super(Adam, self).__init__(name, **kwargs)\n"
          ]
        },
        {
          "output_type": "stream",
          "name": "stdout",
          "text": [
            "313/313 [==============================] - 1s 2ms/step - loss: 3.9494 - accuracy: 0.4284\n",
            "Epoch 2/100\n",
            "313/313 [==============================] - 1s 2ms/step - loss: 2.4893 - accuracy: 0.4431\n",
            "Epoch 3/100\n",
            "313/313 [==============================] - 1s 2ms/step - loss: 0.8189 - accuracy: 0.4549\n",
            "Epoch 4/100\n",
            "313/313 [==============================] - 1s 2ms/step - loss: 0.7600 - accuracy: 0.4607\n",
            "Epoch 5/100\n",
            "313/313 [==============================] - 0s 2ms/step - loss: 0.7299 - accuracy: 0.4659\n",
            "Epoch 6/100\n",
            "313/313 [==============================] - 1s 2ms/step - loss: 0.7125 - accuracy: 0.4706\n",
            "Epoch 7/100\n",
            "313/313 [==============================] - 0s 1ms/step - loss: 0.7027 - accuracy: 0.4733\n",
            "Epoch 8/100\n",
            "313/313 [==============================] - 1s 2ms/step - loss: 0.6974 - accuracy: 0.4778\n",
            "Epoch 9/100\n",
            "313/313 [==============================] - 0s 2ms/step - loss: 0.6948 - accuracy: 0.4788\n",
            "Epoch 10/100\n",
            "313/313 [==============================] - 1s 2ms/step - loss: 0.6937 - accuracy: 0.4834\n",
            "Epoch 11/100\n",
            "313/313 [==============================] - 0s 2ms/step - loss: 0.6934 - accuracy: 0.4879\n",
            "Epoch 12/100\n",
            "313/313 [==============================] - 0s 2ms/step - loss: 0.6933 - accuracy: 0.4772\n",
            "Epoch 13/100\n",
            "313/313 [==============================] - 0s 2ms/step - loss: 0.6933 - accuracy: 0.4954\n",
            "Epoch 14/100\n",
            "313/313 [==============================] - 1s 2ms/step - loss: 0.6933 - accuracy: 0.4734\n",
            "Epoch 15/100\n",
            "313/313 [==============================] - 1s 2ms/step - loss: 0.6933 - accuracy: 0.5136\n",
            "Epoch 16/100\n",
            "313/313 [==============================] - 1s 2ms/step - loss: 0.6933 - accuracy: 0.4818\n",
            "Epoch 17/100\n",
            "313/313 [==============================] - 0s 2ms/step - loss: 0.6933 - accuracy: 0.4888\n",
            "Epoch 18/100\n",
            "313/313 [==============================] - 1s 2ms/step - loss: 0.6934 - accuracy: 0.5237\n",
            "Epoch 19/100\n",
            "313/313 [==============================] - 0s 2ms/step - loss: 0.6933 - accuracy: 0.5005\n",
            "Epoch 20/100\n",
            "313/313 [==============================] - 1s 2ms/step - loss: 0.6934 - accuracy: 0.4853\n",
            "Epoch 21/100\n",
            "313/313 [==============================] - 0s 1ms/step - loss: 0.6933 - accuracy: 0.4994\n",
            "Epoch 22/100\n",
            "313/313 [==============================] - 1s 2ms/step - loss: 0.6934 - accuracy: 0.4920\n",
            "Epoch 23/100\n",
            "313/313 [==============================] - 0s 2ms/step - loss: 0.6933 - accuracy: 0.4961\n",
            "Epoch 24/100\n",
            "313/313 [==============================] - 0s 2ms/step - loss: 0.6934 - accuracy: 0.4984\n",
            "Epoch 25/100\n",
            "313/313 [==============================] - 0s 2ms/step - loss: 0.6934 - accuracy: 0.4995\n",
            "Epoch 26/100\n",
            "313/313 [==============================] - 0s 2ms/step - loss: 0.6934 - accuracy: 0.4764\n",
            "Epoch 27/100\n",
            "313/313 [==============================] - 0s 2ms/step - loss: 0.6934 - accuracy: 0.4983\n",
            "Epoch 28/100\n",
            "313/313 [==============================] - 1s 2ms/step - loss: 0.6934 - accuracy: 0.5091\n",
            "Epoch 29/100\n",
            "313/313 [==============================] - 0s 1ms/step - loss: 0.6934 - accuracy: 0.4998\n",
            "Epoch 30/100\n",
            "313/313 [==============================] - 1s 2ms/step - loss: 0.6934 - accuracy: 0.4891\n",
            "Epoch 31/100\n",
            "313/313 [==============================] - 0s 1ms/step - loss: 0.6935 - accuracy: 0.4922\n",
            "Epoch 32/100\n",
            "313/313 [==============================] - 0s 2ms/step - loss: 0.6935 - accuracy: 0.4993\n",
            "Epoch 33/100\n",
            "313/313 [==============================] - 0s 1ms/step - loss: 0.6934 - accuracy: 0.4908\n",
            "Epoch 34/100\n",
            "313/313 [==============================] - 1s 2ms/step - loss: 0.6934 - accuracy: 0.4932\n",
            "Epoch 35/100\n",
            "313/313 [==============================] - 0s 2ms/step - loss: 0.6935 - accuracy: 0.5058\n",
            "Epoch 36/100\n",
            "313/313 [==============================] - 1s 2ms/step - loss: 0.6934 - accuracy: 0.4834\n",
            "Epoch 37/100\n",
            "313/313 [==============================] - 0s 2ms/step - loss: 0.6934 - accuracy: 0.4858\n",
            "Epoch 38/100\n",
            "313/313 [==============================] - 0s 2ms/step - loss: 0.6935 - accuracy: 0.5003\n",
            "Epoch 39/100\n",
            "313/313 [==============================] - 1s 2ms/step - loss: 0.6934 - accuracy: 0.5043\n",
            "Epoch 40/100\n",
            "313/313 [==============================] - 1s 2ms/step - loss: 0.6935 - accuracy: 0.4842\n",
            "Epoch 41/100\n",
            "313/313 [==============================] - 0s 2ms/step - loss: 0.6934 - accuracy: 0.4816\n",
            "Epoch 42/100\n",
            "313/313 [==============================] - 1s 2ms/step - loss: 0.6935 - accuracy: 0.5140\n",
            "Epoch 43/100\n",
            "313/313 [==============================] - 0s 1ms/step - loss: 0.6935 - accuracy: 0.4931\n",
            "Epoch 44/100\n",
            "313/313 [==============================] - 1s 2ms/step - loss: 0.6936 - accuracy: 0.4790\n",
            "Epoch 45/100\n",
            "313/313 [==============================] - 0s 2ms/step - loss: 0.6933 - accuracy: 0.5015\n",
            "Epoch 46/100\n",
            "313/313 [==============================] - 1s 2ms/step - loss: 0.6935 - accuracy: 0.4834\n",
            "Epoch 47/100\n",
            "313/313 [==============================] - 0s 2ms/step - loss: 0.6935 - accuracy: 0.4980\n",
            "Epoch 48/100\n",
            "313/313 [==============================] - 1s 2ms/step - loss: 0.6935 - accuracy: 0.4866\n",
            "Epoch 49/100\n",
            "313/313 [==============================] - 1s 2ms/step - loss: 0.6935 - accuracy: 0.4969\n",
            "Epoch 50/100\n",
            "313/313 [==============================] - 1s 2ms/step - loss: 0.6934 - accuracy: 0.5060\n",
            "Epoch 51/100\n",
            "313/313 [==============================] - 1s 2ms/step - loss: 0.6934 - accuracy: 0.4866\n",
            "Epoch 52/100\n",
            "313/313 [==============================] - 0s 2ms/step - loss: 0.6934 - accuracy: 0.4932\n",
            "Epoch 53/100\n",
            "313/313 [==============================] - 0s 2ms/step - loss: 0.6934 - accuracy: 0.4970\n",
            "Epoch 54/100\n",
            "313/313 [==============================] - 0s 2ms/step - loss: 0.6934 - accuracy: 0.4907\n",
            "Epoch 55/100\n",
            "313/313 [==============================] - 0s 2ms/step - loss: 0.6935 - accuracy: 0.5090\n",
            "Epoch 56/100\n",
            "313/313 [==============================] - 0s 2ms/step - loss: 0.6936 - accuracy: 0.4746\n",
            "Epoch 57/100\n",
            "313/313 [==============================] - 0s 2ms/step - loss: 0.6935 - accuracy: 0.4979\n",
            "Epoch 58/100\n",
            "313/313 [==============================] - 1s 2ms/step - loss: 0.6934 - accuracy: 0.4974\n",
            "Epoch 59/100\n",
            "313/313 [==============================] - 1s 2ms/step - loss: 0.6934 - accuracy: 0.5021\n",
            "Epoch 60/100\n",
            "313/313 [==============================] - 1s 2ms/step - loss: 0.6934 - accuracy: 0.4912\n",
            "Epoch 61/100\n",
            "313/313 [==============================] - 1s 2ms/step - loss: 0.6935 - accuracy: 0.4887\n",
            "Epoch 62/100\n",
            "313/313 [==============================] - 0s 1ms/step - loss: 0.6935 - accuracy: 0.4894\n",
            "Epoch 63/100\n",
            "313/313 [==============================] - 1s 2ms/step - loss: 0.6934 - accuracy: 0.4864\n",
            "Epoch 64/100\n",
            "313/313 [==============================] - 0s 2ms/step - loss: 0.6935 - accuracy: 0.4875\n",
            "Epoch 65/100\n",
            "313/313 [==============================] - 1s 2ms/step - loss: 0.6935 - accuracy: 0.4986\n",
            "Epoch 66/100\n",
            "313/313 [==============================] - 1s 2ms/step - loss: 0.6933 - accuracy: 0.4907\n",
            "Epoch 67/100\n",
            "313/313 [==============================] - 1s 2ms/step - loss: 0.6934 - accuracy: 0.4969\n",
            "Epoch 68/100\n",
            "313/313 [==============================] - 0s 2ms/step - loss: 0.6935 - accuracy: 0.4995\n",
            "Epoch 69/100\n",
            "313/313 [==============================] - 1s 2ms/step - loss: 0.6935 - accuracy: 0.5015\n",
            "Epoch 70/100\n",
            "313/313 [==============================] - 0s 2ms/step - loss: 0.6935 - accuracy: 0.4914\n",
            "Epoch 71/100\n",
            "313/313 [==============================] - 1s 2ms/step - loss: 0.6934 - accuracy: 0.4942\n",
            "Epoch 72/100\n",
            "313/313 [==============================] - 1s 2ms/step - loss: 0.6934 - accuracy: 0.5100\n",
            "Epoch 73/100\n",
            "313/313 [==============================] - 1s 2ms/step - loss: 0.6934 - accuracy: 0.4945\n",
            "Epoch 74/100\n",
            "313/313 [==============================] - 1s 2ms/step - loss: 0.6934 - accuracy: 0.4977\n",
            "Epoch 75/100\n",
            "313/313 [==============================] - 1s 2ms/step - loss: 0.6934 - accuracy: 0.4858\n",
            "Epoch 76/100\n",
            "313/313 [==============================] - 0s 2ms/step - loss: 0.6934 - accuracy: 0.4941\n",
            "Epoch 77/100\n",
            "313/313 [==============================] - 1s 2ms/step - loss: 0.6935 - accuracy: 0.4786\n",
            "Epoch 78/100\n",
            "313/313 [==============================] - 1s 2ms/step - loss: 0.6934 - accuracy: 0.5069\n",
            "Epoch 79/100\n",
            "313/313 [==============================] - 1s 2ms/step - loss: 0.6935 - accuracy: 0.4834\n",
            "Epoch 80/100\n",
            "313/313 [==============================] - 0s 2ms/step - loss: 0.6934 - accuracy: 0.5013\n",
            "Epoch 81/100\n",
            "313/313 [==============================] - 1s 2ms/step - loss: 0.6936 - accuracy: 0.4821\n",
            "Epoch 82/100\n",
            "313/313 [==============================] - 0s 2ms/step - loss: 0.6934 - accuracy: 0.4907\n",
            "Epoch 83/100\n",
            "313/313 [==============================] - 1s 2ms/step - loss: 0.6935 - accuracy: 0.5043\n",
            "Epoch 84/100\n",
            "313/313 [==============================] - 0s 2ms/step - loss: 0.6935 - accuracy: 0.4789\n",
            "Epoch 85/100\n",
            "313/313 [==============================] - 1s 2ms/step - loss: 0.6935 - accuracy: 0.4910\n",
            "Epoch 86/100\n",
            "313/313 [==============================] - 0s 2ms/step - loss: 0.6935 - accuracy: 0.4869\n",
            "Epoch 87/100\n",
            "313/313 [==============================] - 1s 2ms/step - loss: 0.6934 - accuracy: 0.4984\n",
            "Epoch 88/100\n",
            "313/313 [==============================] - 0s 2ms/step - loss: 0.6934 - accuracy: 0.4835\n",
            "Epoch 89/100\n",
            "313/313 [==============================] - 1s 2ms/step - loss: 0.6935 - accuracy: 0.4880\n",
            "Epoch 90/100\n",
            "313/313 [==============================] - 0s 2ms/step - loss: 0.6934 - accuracy: 0.4941\n",
            "Epoch 91/100\n",
            "313/313 [==============================] - 1s 2ms/step - loss: 0.6934 - accuracy: 0.4960\n",
            "Epoch 92/100\n",
            "313/313 [==============================] - 0s 1ms/step - loss: 0.6935 - accuracy: 0.4818\n",
            "Epoch 93/100\n",
            "313/313 [==============================] - 0s 2ms/step - loss: 0.6934 - accuracy: 0.5040\n",
            "Epoch 94/100\n",
            "313/313 [==============================] - 1s 2ms/step - loss: 0.6935 - accuracy: 0.4807\n",
            "Epoch 95/100\n",
            "313/313 [==============================] - 1s 2ms/step - loss: 0.6934 - accuracy: 0.5080\n",
            "Epoch 96/100\n",
            "313/313 [==============================] - 1s 2ms/step - loss: 0.6935 - accuracy: 0.4975\n",
            "Epoch 97/100\n",
            "313/313 [==============================] - 1s 2ms/step - loss: 0.6934 - accuracy: 0.4881\n",
            "Epoch 98/100\n",
            "313/313 [==============================] - 1s 3ms/step - loss: 0.6935 - accuracy: 0.4931\n",
            "Epoch 99/100\n",
            "313/313 [==============================] - 1s 2ms/step - loss: 0.6934 - accuracy: 0.5019\n",
            "Epoch 100/100\n",
            "313/313 [==============================] - 1s 2ms/step - loss: 0.6935 - accuracy: 0.4985\n"
          ]
        }
      ]
    },
    {
      "cell_type": "markdown",
      "source": [
        "## Test own variant"
      ],
      "metadata": {
        "id": "ZH1fqDMBvnjs"
      }
    },
    {
      "cell_type": "code",
      "source": [
        "#Set random seed\n",
        "tf.random.set_seed(42)\n",
        "\n",
        "# 1. Create a model with a non-linear activation\n",
        "model_playground = tf.keras.Sequential([\n",
        "  tf.keras.layers.Dense(8, activation=tf.keras.activations.tanh),\n",
        "  tf.keras.layers.Dense(8, activation=tf.keras.activations.tanh),\n",
        "  #tf.keras.layers.Dense(2, activation=tf.keras.activations.tanh), \n",
        "  #Should be one neuron in output layer since its a binary classification problem\n",
        "  tf.keras.layers.Dense(1, activation=tf.keras.activations.sigmoid) #Activation in output layer for binary classification                             \n",
        "])\n",
        "\n",
        "# 2. Compile the model\n",
        "model_playground.compile(loss=tf.keras.losses.BinaryCrossentropy(),\n",
        "                optimizer=tf.keras.optimizers.Adam(lr=0.001),\n",
        "                metrics=[\"accuracy\"])\n",
        "\n",
        "# 3. Fit the model\n",
        "history = model_playground.fit(X, y, \n",
        "                               #epochs=1000)\n",
        "                               epochs=250)"
      ],
      "metadata": {
        "colab": {
          "base_uri": "https://localhost:8080/"
        },
        "id": "pyn2aH7ZwWLk",
        "outputId": "5680fd4c-154b-465f-a9fa-34d9b944fb89"
      },
      "execution_count": 34,
      "outputs": [
        {
          "output_type": "stream",
          "name": "stdout",
          "text": [
            "Epoch 1/250\n"
          ]
        },
        {
          "output_type": "stream",
          "name": "stderr",
          "text": [
            "/usr/local/lib/python3.7/dist-packages/keras/optimizer_v2/adam.py:105: UserWarning: The `lr` argument is deprecated, use `learning_rate` instead.\n",
            "  super(Adam, self).__init__(name, **kwargs)\n"
          ]
        },
        {
          "output_type": "stream",
          "name": "stdout",
          "text": [
            "313/313 [==============================] - 1s 2ms/step - loss: 0.7051 - accuracy: 0.5050\n",
            "Epoch 2/250\n",
            "313/313 [==============================] - 1s 2ms/step - loss: 0.6924 - accuracy: 0.5266\n",
            "Epoch 3/250\n",
            "313/313 [==============================] - 1s 2ms/step - loss: 0.6906 - accuracy: 0.5596\n",
            "Epoch 4/250\n",
            "313/313 [==============================] - 1s 2ms/step - loss: 0.6873 - accuracy: 0.5793\n",
            "Epoch 5/250\n",
            "313/313 [==============================] - 1s 2ms/step - loss: 0.6810 - accuracy: 0.6537\n",
            "Epoch 6/250\n",
            "313/313 [==============================] - 1s 2ms/step - loss: 0.6701 - accuracy: 0.6801\n",
            "Epoch 7/250\n",
            "313/313 [==============================] - 1s 2ms/step - loss: 0.6530 - accuracy: 0.8119\n",
            "Epoch 8/250\n",
            "313/313 [==============================] - 1s 2ms/step - loss: 0.6253 - accuracy: 0.8462\n",
            "Epoch 9/250\n",
            "313/313 [==============================] - 1s 2ms/step - loss: 0.5872 - accuracy: 0.9108\n",
            "Epoch 10/250\n",
            "313/313 [==============================] - 1s 2ms/step - loss: 0.5419 - accuracy: 0.9442\n",
            "Epoch 11/250\n",
            "313/313 [==============================] - 1s 2ms/step - loss: 0.4927 - accuracy: 0.9539\n",
            "Epoch 12/250\n",
            "313/313 [==============================] - 1s 2ms/step - loss: 0.4446 - accuracy: 0.9629\n",
            "Epoch 13/250\n",
            "313/313 [==============================] - 1s 2ms/step - loss: 0.3970 - accuracy: 0.9701\n",
            "Epoch 14/250\n",
            "313/313 [==============================] - 1s 2ms/step - loss: 0.3532 - accuracy: 0.9800\n",
            "Epoch 15/250\n",
            "313/313 [==============================] - 1s 2ms/step - loss: 0.3112 - accuracy: 0.9853\n",
            "Epoch 16/250\n",
            "313/313 [==============================] - 1s 2ms/step - loss: 0.2736 - accuracy: 0.9903\n",
            "Epoch 17/250\n",
            "313/313 [==============================] - 1s 2ms/step - loss: 0.2392 - accuracy: 0.9926\n",
            "Epoch 18/250\n",
            "313/313 [==============================] - 1s 2ms/step - loss: 0.2086 - accuracy: 0.9947\n",
            "Epoch 19/250\n",
            "313/313 [==============================] - 1s 2ms/step - loss: 0.1813 - accuracy: 0.9966\n",
            "Epoch 20/250\n",
            "313/313 [==============================] - 1s 2ms/step - loss: 0.1572 - accuracy: 0.9966\n",
            "Epoch 21/250\n",
            "313/313 [==============================] - 1s 2ms/step - loss: 0.1361 - accuracy: 0.9970\n",
            "Epoch 22/250\n",
            "313/313 [==============================] - 1s 2ms/step - loss: 0.1182 - accuracy: 0.9980\n",
            "Epoch 23/250\n",
            "313/313 [==============================] - 1s 2ms/step - loss: 0.1030 - accuracy: 0.9978\n",
            "Epoch 24/250\n",
            "313/313 [==============================] - 1s 2ms/step - loss: 0.0901 - accuracy: 0.9980\n",
            "Epoch 25/250\n",
            "313/313 [==============================] - 1s 2ms/step - loss: 0.0789 - accuracy: 0.9982\n",
            "Epoch 26/250\n",
            "313/313 [==============================] - 1s 2ms/step - loss: 0.0696 - accuracy: 0.9984\n",
            "Epoch 27/250\n",
            "313/313 [==============================] - 1s 2ms/step - loss: 0.0609 - accuracy: 0.9984\n",
            "Epoch 28/250\n",
            "313/313 [==============================] - 1s 2ms/step - loss: 0.0538 - accuracy: 0.9986\n",
            "Epoch 29/250\n",
            "313/313 [==============================] - 1s 2ms/step - loss: 0.0476 - accuracy: 0.9990\n",
            "Epoch 30/250\n",
            "313/313 [==============================] - 1s 2ms/step - loss: 0.0422 - accuracy: 0.9989\n",
            "Epoch 31/250\n",
            "313/313 [==============================] - 1s 2ms/step - loss: 0.0374 - accuracy: 0.9987\n",
            "Epoch 32/250\n",
            "313/313 [==============================] - 1s 2ms/step - loss: 0.0331 - accuracy: 0.9990\n",
            "Epoch 33/250\n",
            "313/313 [==============================] - 1s 2ms/step - loss: 0.0296 - accuracy: 0.9991\n",
            "Epoch 34/250\n",
            "313/313 [==============================] - 1s 2ms/step - loss: 0.0265 - accuracy: 0.9990\n",
            "Epoch 35/250\n",
            "313/313 [==============================] - 1s 2ms/step - loss: 0.0236 - accuracy: 0.9993\n",
            "Epoch 36/250\n",
            "313/313 [==============================] - 1s 2ms/step - loss: 0.0215 - accuracy: 0.9991\n",
            "Epoch 37/250\n",
            "313/313 [==============================] - 1s 2ms/step - loss: 0.0192 - accuracy: 0.9994\n",
            "Epoch 38/250\n",
            "313/313 [==============================] - 1s 2ms/step - loss: 0.0177 - accuracy: 0.9990\n",
            "Epoch 39/250\n",
            "313/313 [==============================] - 1s 2ms/step - loss: 0.0160 - accuracy: 0.9993\n",
            "Epoch 40/250\n",
            "313/313 [==============================] - 1s 2ms/step - loss: 0.0145 - accuracy: 0.9995\n",
            "Epoch 41/250\n",
            "313/313 [==============================] - 1s 2ms/step - loss: 0.0131 - accuracy: 0.9996\n",
            "Epoch 42/250\n",
            "313/313 [==============================] - 1s 2ms/step - loss: 0.0121 - accuracy: 0.9994\n",
            "Epoch 43/250\n",
            "313/313 [==============================] - 1s 2ms/step - loss: 0.0112 - accuracy: 0.9997\n",
            "Epoch 44/250\n",
            "313/313 [==============================] - 1s 2ms/step - loss: 0.0104 - accuracy: 0.9996\n",
            "Epoch 45/250\n",
            "313/313 [==============================] - 1s 2ms/step - loss: 0.0095 - accuracy: 0.9993\n",
            "Epoch 46/250\n",
            "313/313 [==============================] - 1s 2ms/step - loss: 0.0088 - accuracy: 0.9998\n",
            "Epoch 47/250\n",
            "313/313 [==============================] - 1s 2ms/step - loss: 0.0084 - accuracy: 0.9996\n",
            "Epoch 48/250\n",
            "313/313 [==============================] - 1s 2ms/step - loss: 0.0078 - accuracy: 0.9998\n",
            "Epoch 49/250\n",
            "313/313 [==============================] - 1s 2ms/step - loss: 0.0072 - accuracy: 0.9995\n",
            "Epoch 50/250\n",
            "313/313 [==============================] - 1s 2ms/step - loss: 0.0069 - accuracy: 0.9995\n",
            "Epoch 51/250\n",
            "313/313 [==============================] - 1s 2ms/step - loss: 0.0065 - accuracy: 0.9998\n",
            "Epoch 52/250\n",
            "313/313 [==============================] - 1s 2ms/step - loss: 0.0061 - accuracy: 0.9997\n",
            "Epoch 53/250\n",
            "313/313 [==============================] - 1s 2ms/step - loss: 0.0059 - accuracy: 0.9996\n",
            "Epoch 54/250\n",
            "313/313 [==============================] - 1s 2ms/step - loss: 0.0056 - accuracy: 0.9998\n",
            "Epoch 55/250\n",
            "313/313 [==============================] - 1s 2ms/step - loss: 0.0053 - accuracy: 0.9997\n",
            "Epoch 56/250\n",
            "313/313 [==============================] - 1s 2ms/step - loss: 0.0051 - accuracy: 0.9996\n",
            "Epoch 57/250\n",
            "313/313 [==============================] - 1s 2ms/step - loss: 0.0046 - accuracy: 0.9998\n",
            "Epoch 58/250\n",
            "313/313 [==============================] - 1s 2ms/step - loss: 0.0047 - accuracy: 0.9997\n",
            "Epoch 59/250\n",
            "313/313 [==============================] - 1s 2ms/step - loss: 0.0045 - accuracy: 0.9997\n",
            "Epoch 60/250\n",
            "313/313 [==============================] - 1s 2ms/step - loss: 0.0042 - accuracy: 0.9998\n",
            "Epoch 61/250\n",
            "313/313 [==============================] - 1s 2ms/step - loss: 0.0040 - accuracy: 0.9998\n",
            "Epoch 62/250\n",
            "313/313 [==============================] - 1s 2ms/step - loss: 0.0038 - accuracy: 0.9995\n",
            "Epoch 63/250\n",
            "313/313 [==============================] - 1s 2ms/step - loss: 0.0036 - accuracy: 0.9996\n",
            "Epoch 64/250\n",
            "313/313 [==============================] - 1s 2ms/step - loss: 0.0035 - accuracy: 0.9999\n",
            "Epoch 65/250\n",
            "313/313 [==============================] - 1s 2ms/step - loss: 0.0036 - accuracy: 0.9998\n",
            "Epoch 66/250\n",
            "313/313 [==============================] - 1s 2ms/step - loss: 0.0033 - accuracy: 0.9998\n",
            "Epoch 67/250\n",
            "313/313 [==============================] - 1s 2ms/step - loss: 0.0031 - accuracy: 0.9997\n",
            "Epoch 68/250\n",
            "313/313 [==============================] - 1s 2ms/step - loss: 0.0031 - accuracy: 0.9997\n",
            "Epoch 69/250\n",
            "313/313 [==============================] - 1s 2ms/step - loss: 0.0032 - accuracy: 0.9997\n",
            "Epoch 70/250\n",
            "313/313 [==============================] - 1s 2ms/step - loss: 0.0029 - accuracy: 0.9997\n",
            "Epoch 71/250\n",
            "313/313 [==============================] - 1s 2ms/step - loss: 0.0030 - accuracy: 0.9995\n",
            "Epoch 72/250\n",
            "313/313 [==============================] - 1s 2ms/step - loss: 0.0029 - accuracy: 0.9997\n",
            "Epoch 73/250\n",
            "313/313 [==============================] - 1s 2ms/step - loss: 0.0028 - accuracy: 0.9996\n",
            "Epoch 74/250\n",
            "313/313 [==============================] - 1s 2ms/step - loss: 0.0028 - accuracy: 0.9996\n",
            "Epoch 75/250\n",
            "313/313 [==============================] - 1s 2ms/step - loss: 0.0025 - accuracy: 0.9998\n",
            "Epoch 76/250\n",
            "313/313 [==============================] - 1s 2ms/step - loss: 0.0027 - accuracy: 0.9999\n",
            "Epoch 77/250\n",
            "313/313 [==============================] - 1s 2ms/step - loss: 0.0028 - accuracy: 0.9996\n",
            "Epoch 78/250\n",
            "313/313 [==============================] - 1s 2ms/step - loss: 0.0026 - accuracy: 0.9997\n",
            "Epoch 79/250\n",
            "313/313 [==============================] - 1s 2ms/step - loss: 0.0026 - accuracy: 0.9997\n",
            "Epoch 80/250\n",
            "313/313 [==============================] - 1s 2ms/step - loss: 0.0023 - accuracy: 0.9996\n",
            "Epoch 81/250\n",
            "313/313 [==============================] - 1s 2ms/step - loss: 0.0023 - accuracy: 0.9999\n",
            "Epoch 82/250\n",
            "313/313 [==============================] - 1s 2ms/step - loss: 0.0023 - accuracy: 0.9998\n",
            "Epoch 83/250\n",
            "313/313 [==============================] - 1s 2ms/step - loss: 0.0024 - accuracy: 0.9996\n",
            "Epoch 84/250\n",
            "313/313 [==============================] - 1s 2ms/step - loss: 0.0024 - accuracy: 0.9998\n",
            "Epoch 85/250\n",
            "313/313 [==============================] - 1s 2ms/step - loss: 0.0021 - accuracy: 0.9997\n",
            "Epoch 86/250\n",
            "313/313 [==============================] - 1s 2ms/step - loss: 0.0020 - accuracy: 0.9998\n",
            "Epoch 87/250\n",
            "313/313 [==============================] - 1s 2ms/step - loss: 0.0022 - accuracy: 0.9996\n",
            "Epoch 88/250\n",
            "313/313 [==============================] - 1s 2ms/step - loss: 0.0022 - accuracy: 0.9997\n",
            "Epoch 89/250\n",
            "313/313 [==============================] - 1s 2ms/step - loss: 0.0021 - accuracy: 0.9997\n",
            "Epoch 90/250\n",
            "313/313 [==============================] - 1s 2ms/step - loss: 0.0021 - accuracy: 0.9996\n",
            "Epoch 91/250\n",
            "313/313 [==============================] - 1s 2ms/step - loss: 0.0018 - accuracy: 0.9999\n",
            "Epoch 92/250\n",
            "313/313 [==============================] - 1s 2ms/step - loss: 0.0021 - accuracy: 0.9997\n",
            "Epoch 93/250\n",
            "313/313 [==============================] - 1s 2ms/step - loss: 0.0020 - accuracy: 0.9998\n",
            "Epoch 94/250\n",
            "313/313 [==============================] - 1s 2ms/step - loss: 0.0020 - accuracy: 0.9997\n",
            "Epoch 95/250\n",
            "313/313 [==============================] - 1s 2ms/step - loss: 0.0020 - accuracy: 0.9998\n",
            "Epoch 96/250\n",
            "313/313 [==============================] - 1s 2ms/step - loss: 0.0016 - accuracy: 0.9998\n",
            "Epoch 97/250\n",
            "313/313 [==============================] - 1s 2ms/step - loss: 0.0017 - accuracy: 0.9998\n",
            "Epoch 98/250\n",
            "313/313 [==============================] - 1s 2ms/step - loss: 0.0018 - accuracy: 0.9999\n",
            "Epoch 99/250\n",
            "313/313 [==============================] - 1s 2ms/step - loss: 0.0022 - accuracy: 0.9995\n",
            "Epoch 100/250\n",
            "313/313 [==============================] - 1s 2ms/step - loss: 0.0017 - accuracy: 0.9997\n",
            "Epoch 101/250\n",
            "313/313 [==============================] - 1s 2ms/step - loss: 0.0018 - accuracy: 0.9999\n",
            "Epoch 102/250\n",
            "313/313 [==============================] - 1s 2ms/step - loss: 0.0018 - accuracy: 0.9996\n",
            "Epoch 103/250\n",
            "313/313 [==============================] - 1s 2ms/step - loss: 0.0018 - accuracy: 0.9998\n",
            "Epoch 104/250\n",
            "313/313 [==============================] - 1s 2ms/step - loss: 0.0017 - accuracy: 0.9998\n",
            "Epoch 105/250\n",
            "313/313 [==============================] - 1s 2ms/step - loss: 0.0020 - accuracy: 0.9997\n",
            "Epoch 106/250\n",
            "313/313 [==============================] - 1s 2ms/step - loss: 0.0017 - accuracy: 0.9999\n",
            "Epoch 107/250\n",
            "313/313 [==============================] - 1s 2ms/step - loss: 0.0015 - accuracy: 0.9999\n",
            "Epoch 108/250\n",
            "313/313 [==============================] - 1s 2ms/step - loss: 0.0019 - accuracy: 0.9996\n",
            "Epoch 109/250\n",
            "313/313 [==============================] - 1s 2ms/step - loss: 0.0015 - accuracy: 0.9999\n",
            "Epoch 110/250\n",
            "313/313 [==============================] - 1s 2ms/step - loss: 0.0018 - accuracy: 0.9997\n",
            "Epoch 111/250\n",
            "313/313 [==============================] - 1s 2ms/step - loss: 0.0016 - accuracy: 0.9998\n",
            "Epoch 112/250\n",
            "313/313 [==============================] - 1s 2ms/step - loss: 0.0015 - accuracy: 0.9998\n",
            "Epoch 113/250\n",
            "313/313 [==============================] - 1s 2ms/step - loss: 0.0019 - accuracy: 0.9997\n",
            "Epoch 114/250\n",
            "313/313 [==============================] - 1s 2ms/step - loss: 0.0015 - accuracy: 1.0000\n",
            "Epoch 115/250\n",
            "313/313 [==============================] - 1s 2ms/step - loss: 0.0016 - accuracy: 0.9998\n",
            "Epoch 116/250\n",
            "313/313 [==============================] - 1s 2ms/step - loss: 0.0015 - accuracy: 0.9999\n",
            "Epoch 117/250\n",
            "313/313 [==============================] - 1s 2ms/step - loss: 0.0016 - accuracy: 0.9997\n",
            "Epoch 118/250\n",
            "313/313 [==============================] - 1s 2ms/step - loss: 0.0017 - accuracy: 0.9996\n",
            "Epoch 119/250\n",
            "313/313 [==============================] - 1s 2ms/step - loss: 0.0013 - accuracy: 1.0000\n",
            "Epoch 120/250\n",
            "313/313 [==============================] - 1s 2ms/step - loss: 0.0016 - accuracy: 0.9997\n",
            "Epoch 121/250\n",
            "313/313 [==============================] - 1s 2ms/step - loss: 0.0013 - accuracy: 0.9997\n",
            "Epoch 122/250\n",
            "313/313 [==============================] - 1s 2ms/step - loss: 0.0014 - accuracy: 0.9999\n",
            "Epoch 123/250\n",
            "313/313 [==============================] - 1s 2ms/step - loss: 0.0013 - accuracy: 1.0000\n",
            "Epoch 124/250\n",
            "313/313 [==============================] - 1s 2ms/step - loss: 0.0015 - accuracy: 0.9996\n",
            "Epoch 125/250\n",
            "313/313 [==============================] - 1s 2ms/step - loss: 0.0016 - accuracy: 0.9997\n",
            "Epoch 126/250\n",
            "313/313 [==============================] - 1s 2ms/step - loss: 0.0016 - accuracy: 0.9997\n",
            "Epoch 127/250\n",
            "313/313 [==============================] - 1s 2ms/step - loss: 0.0012 - accuracy: 0.9999\n",
            "Epoch 128/250\n",
            "313/313 [==============================] - 1s 2ms/step - loss: 0.0014 - accuracy: 0.9998\n",
            "Epoch 129/250\n",
            "313/313 [==============================] - 1s 2ms/step - loss: 0.0016 - accuracy: 0.9996\n",
            "Epoch 130/250\n",
            "313/313 [==============================] - 1s 2ms/step - loss: 0.0012 - accuracy: 1.0000\n",
            "Epoch 131/250\n",
            "313/313 [==============================] - 1s 2ms/step - loss: 0.0013 - accuracy: 0.9999\n",
            "Epoch 132/250\n",
            "313/313 [==============================] - 1s 2ms/step - loss: 0.0017 - accuracy: 0.9995\n",
            "Epoch 133/250\n",
            "313/313 [==============================] - 1s 2ms/step - loss: 0.0013 - accuracy: 0.9998\n",
            "Epoch 134/250\n",
            "313/313 [==============================] - 1s 2ms/step - loss: 0.0013 - accuracy: 0.9999\n",
            "Epoch 135/250\n",
            "313/313 [==============================] - 1s 2ms/step - loss: 0.0013 - accuracy: 0.9998\n",
            "Epoch 136/250\n",
            "313/313 [==============================] - 1s 2ms/step - loss: 0.0013 - accuracy: 0.9997\n",
            "Epoch 137/250\n",
            "313/313 [==============================] - 1s 2ms/step - loss: 0.0017 - accuracy: 0.9995\n",
            "Epoch 138/250\n",
            "313/313 [==============================] - 1s 2ms/step - loss: 0.0013 - accuracy: 0.9996\n",
            "Epoch 139/250\n",
            "313/313 [==============================] - 1s 2ms/step - loss: 0.0013 - accuracy: 0.9998\n",
            "Epoch 140/250\n",
            "313/313 [==============================] - 1s 2ms/step - loss: 0.0010 - accuracy: 0.9999\n",
            "Epoch 141/250\n",
            "313/313 [==============================] - 1s 2ms/step - loss: 0.0011 - accuracy: 0.9999\n",
            "Epoch 142/250\n",
            "313/313 [==============================] - 1s 2ms/step - loss: 0.0015 - accuracy: 0.9995\n",
            "Epoch 143/250\n",
            "313/313 [==============================] - 1s 2ms/step - loss: 0.0014 - accuracy: 0.9997\n",
            "Epoch 144/250\n",
            "313/313 [==============================] - 1s 2ms/step - loss: 0.0013 - accuracy: 0.9997\n",
            "Epoch 145/250\n",
            "313/313 [==============================] - 1s 2ms/step - loss: 0.0012 - accuracy: 0.9999\n",
            "Epoch 146/250\n",
            "313/313 [==============================] - 1s 2ms/step - loss: 0.0012 - accuracy: 0.9998\n",
            "Epoch 147/250\n",
            "313/313 [==============================] - 1s 2ms/step - loss: 0.0012 - accuracy: 0.9998\n",
            "Epoch 148/250\n",
            "313/313 [==============================] - 1s 2ms/step - loss: 0.0013 - accuracy: 0.9997\n",
            "Epoch 149/250\n",
            "313/313 [==============================] - 1s 2ms/step - loss: 0.0012 - accuracy: 0.9998\n",
            "Epoch 150/250\n",
            "313/313 [==============================] - 1s 2ms/step - loss: 0.0014 - accuracy: 0.9997\n",
            "Epoch 151/250\n",
            "313/313 [==============================] - 1s 2ms/step - loss: 0.0016 - accuracy: 0.9996\n",
            "Epoch 152/250\n",
            "313/313 [==============================] - 1s 2ms/step - loss: 0.0016 - accuracy: 0.9996\n",
            "Epoch 153/250\n",
            "313/313 [==============================] - 1s 2ms/step - loss: 9.7521e-04 - accuracy: 0.9999\n",
            "Epoch 154/250\n",
            "313/313 [==============================] - 1s 2ms/step - loss: 0.0012 - accuracy: 0.9999\n",
            "Epoch 155/250\n",
            "313/313 [==============================] - 1s 2ms/step - loss: 0.0011 - accuracy: 0.9998\n",
            "Epoch 156/250\n",
            "313/313 [==============================] - 1s 2ms/step - loss: 0.0013 - accuracy: 0.9996\n",
            "Epoch 157/250\n",
            "313/313 [==============================] - 1s 2ms/step - loss: 0.0015 - accuracy: 0.9995\n",
            "Epoch 158/250\n",
            "313/313 [==============================] - 1s 2ms/step - loss: 9.5178e-04 - accuracy: 0.9999\n",
            "Epoch 159/250\n",
            "313/313 [==============================] - 1s 2ms/step - loss: 0.0012 - accuracy: 0.9998\n",
            "Epoch 160/250\n",
            "313/313 [==============================] - 1s 2ms/step - loss: 9.9896e-04 - accuracy: 0.9999\n",
            "Epoch 161/250\n",
            "313/313 [==============================] - 1s 2ms/step - loss: 0.0012 - accuracy: 0.9997\n",
            "Epoch 162/250\n",
            "313/313 [==============================] - 1s 2ms/step - loss: 0.0011 - accuracy: 0.9999\n",
            "Epoch 163/250\n",
            "313/313 [==============================] - 1s 2ms/step - loss: 0.0014 - accuracy: 0.9995\n",
            "Epoch 164/250\n",
            "313/313 [==============================] - 1s 2ms/step - loss: 0.0011 - accuracy: 0.9998\n",
            "Epoch 165/250\n",
            "313/313 [==============================] - 1s 2ms/step - loss: 0.0011 - accuracy: 0.9998\n",
            "Epoch 166/250\n",
            "313/313 [==============================] - 1s 2ms/step - loss: 0.0020 - accuracy: 0.9993\n",
            "Epoch 167/250\n",
            "313/313 [==============================] - 1s 2ms/step - loss: 0.0012 - accuracy: 0.9997\n",
            "Epoch 168/250\n",
            "313/313 [==============================] - 1s 2ms/step - loss: 0.0013 - accuracy: 0.9997\n",
            "Epoch 169/250\n",
            "313/313 [==============================] - 1s 2ms/step - loss: 9.4495e-04 - accuracy: 0.9999\n",
            "Epoch 170/250\n",
            "313/313 [==============================] - 1s 2ms/step - loss: 9.2100e-04 - accuracy: 0.9998\n",
            "Epoch 171/250\n",
            "313/313 [==============================] - 1s 2ms/step - loss: 0.0013 - accuracy: 0.9998\n",
            "Epoch 172/250\n",
            "313/313 [==============================] - 1s 2ms/step - loss: 9.2810e-04 - accuracy: 0.9999\n",
            "Epoch 173/250\n",
            "313/313 [==============================] - 1s 2ms/step - loss: 0.0014 - accuracy: 0.9996\n",
            "Epoch 174/250\n",
            "313/313 [==============================] - 1s 2ms/step - loss: 9.6978e-04 - accuracy: 0.9999\n",
            "Epoch 175/250\n",
            "313/313 [==============================] - 1s 2ms/step - loss: 0.0013 - accuracy: 0.9997\n",
            "Epoch 176/250\n",
            "313/313 [==============================] - 1s 2ms/step - loss: 0.0013 - accuracy: 0.9996\n",
            "Epoch 177/250\n",
            "313/313 [==============================] - 1s 2ms/step - loss: 0.0012 - accuracy: 0.9996\n",
            "Epoch 178/250\n",
            "313/313 [==============================] - 1s 2ms/step - loss: 0.0010 - accuracy: 0.9998\n",
            "Epoch 179/250\n",
            "313/313 [==============================] - 1s 2ms/step - loss: 0.0012 - accuracy: 0.9996\n",
            "Epoch 180/250\n",
            "313/313 [==============================] - 1s 2ms/step - loss: 9.7840e-04 - accuracy: 0.9999\n",
            "Epoch 181/250\n",
            "313/313 [==============================] - 1s 2ms/step - loss: 0.0011 - accuracy: 0.9997\n",
            "Epoch 182/250\n",
            "313/313 [==============================] - 1s 2ms/step - loss: 0.0011 - accuracy: 0.9998\n",
            "Epoch 183/250\n",
            "313/313 [==============================] - 1s 2ms/step - loss: 0.0011 - accuracy: 0.9997\n",
            "Epoch 184/250\n",
            "313/313 [==============================] - 1s 2ms/step - loss: 9.8680e-04 - accuracy: 0.9999\n",
            "Epoch 185/250\n",
            "313/313 [==============================] - 1s 2ms/step - loss: 8.5643e-04 - accuracy: 1.0000\n",
            "Epoch 186/250\n",
            "313/313 [==============================] - 1s 2ms/step - loss: 9.5139e-04 - accuracy: 0.9999\n",
            "Epoch 187/250\n",
            "313/313 [==============================] - 1s 2ms/step - loss: 0.0014 - accuracy: 0.9996\n",
            "Epoch 188/250\n",
            "313/313 [==============================] - 1s 2ms/step - loss: 0.0015 - accuracy: 0.9996\n",
            "Epoch 189/250\n",
            "313/313 [==============================] - 1s 2ms/step - loss: 9.1554e-04 - accuracy: 1.0000\n",
            "Epoch 190/250\n",
            "313/313 [==============================] - 1s 2ms/step - loss: 0.0011 - accuracy: 0.9997\n",
            "Epoch 191/250\n",
            "313/313 [==============================] - 1s 2ms/step - loss: 8.8560e-04 - accuracy: 0.9999\n",
            "Epoch 192/250\n",
            "313/313 [==============================] - 1s 2ms/step - loss: 0.0010 - accuracy: 0.9996\n",
            "Epoch 193/250\n",
            "313/313 [==============================] - 1s 2ms/step - loss: 0.0011 - accuracy: 0.9998\n",
            "Epoch 194/250\n",
            "313/313 [==============================] - 1s 2ms/step - loss: 0.0012 - accuracy: 0.9998\n",
            "Epoch 195/250\n",
            "313/313 [==============================] - 1s 2ms/step - loss: 0.0011 - accuracy: 0.9996\n",
            "Epoch 196/250\n",
            "313/313 [==============================] - 1s 2ms/step - loss: 0.0010 - accuracy: 0.9997\n",
            "Epoch 197/250\n",
            "313/313 [==============================] - 1s 2ms/step - loss: 8.0283e-04 - accuracy: 0.9998\n",
            "Epoch 198/250\n",
            "313/313 [==============================] - 1s 2ms/step - loss: 8.8023e-04 - accuracy: 1.0000\n",
            "Epoch 199/250\n",
            "313/313 [==============================] - 1s 2ms/step - loss: 0.0012 - accuracy: 0.9996\n",
            "Epoch 200/250\n",
            "313/313 [==============================] - 1s 2ms/step - loss: 9.8260e-04 - accuracy: 0.9998\n",
            "Epoch 201/250\n",
            "313/313 [==============================] - 1s 2ms/step - loss: 0.0011 - accuracy: 0.9998\n",
            "Epoch 202/250\n",
            "313/313 [==============================] - 1s 2ms/step - loss: 0.0013 - accuracy: 0.9995\n",
            "Epoch 203/250\n",
            "313/313 [==============================] - 1s 2ms/step - loss: 7.6852e-04 - accuracy: 0.9999\n",
            "Epoch 204/250\n",
            "313/313 [==============================] - 1s 2ms/step - loss: 0.0011 - accuracy: 0.9997\n",
            "Epoch 205/250\n",
            "313/313 [==============================] - 1s 2ms/step - loss: 0.0013 - accuracy: 0.9997\n",
            "Epoch 206/250\n",
            "313/313 [==============================] - 1s 2ms/step - loss: 7.5998e-04 - accuracy: 0.9999\n",
            "Epoch 207/250\n",
            "313/313 [==============================] - 1s 2ms/step - loss: 0.0012 - accuracy: 0.9998\n",
            "Epoch 208/250\n",
            "313/313 [==============================] - 1s 2ms/step - loss: 8.7734e-04 - accuracy: 0.9999\n",
            "Epoch 209/250\n",
            "313/313 [==============================] - 1s 2ms/step - loss: 8.6638e-04 - accuracy: 0.9998\n",
            "Epoch 210/250\n",
            "313/313 [==============================] - 1s 2ms/step - loss: 0.0012 - accuracy: 0.9995\n",
            "Epoch 211/250\n",
            "313/313 [==============================] - 1s 2ms/step - loss: 0.0011 - accuracy: 0.9997\n",
            "Epoch 212/250\n",
            "313/313 [==============================] - 1s 2ms/step - loss: 7.9427e-04 - accuracy: 1.0000\n",
            "Epoch 213/250\n",
            "313/313 [==============================] - 1s 2ms/step - loss: 0.0014 - accuracy: 0.9995\n",
            "Epoch 214/250\n",
            "313/313 [==============================] - 1s 2ms/step - loss: 0.0013 - accuracy: 0.9996\n",
            "Epoch 215/250\n",
            "313/313 [==============================] - 1s 2ms/step - loss: 7.4665e-04 - accuracy: 0.9999\n",
            "Epoch 216/250\n",
            "313/313 [==============================] - 1s 2ms/step - loss: 9.5457e-04 - accuracy: 0.9998\n",
            "Epoch 217/250\n",
            "313/313 [==============================] - 1s 2ms/step - loss: 7.5764e-04 - accuracy: 1.0000\n",
            "Epoch 218/250\n",
            "313/313 [==============================] - 1s 2ms/step - loss: 7.3758e-04 - accuracy: 1.0000\n",
            "Epoch 219/250\n",
            "313/313 [==============================] - 1s 2ms/step - loss: 9.3733e-04 - accuracy: 0.9998\n",
            "Epoch 220/250\n",
            "313/313 [==============================] - 1s 2ms/step - loss: 9.8585e-04 - accuracy: 0.9997\n",
            "Epoch 221/250\n",
            "313/313 [==============================] - 1s 2ms/step - loss: 9.1918e-04 - accuracy: 0.9999\n",
            "Epoch 222/250\n",
            "313/313 [==============================] - 1s 2ms/step - loss: 0.0011 - accuracy: 0.9998\n",
            "Epoch 223/250\n",
            "313/313 [==============================] - 1s 2ms/step - loss: 7.5859e-04 - accuracy: 0.9999\n",
            "Epoch 224/250\n",
            "313/313 [==============================] - 1s 2ms/step - loss: 0.0011 - accuracy: 0.9997\n",
            "Epoch 225/250\n",
            "313/313 [==============================] - 1s 2ms/step - loss: 6.9230e-04 - accuracy: 0.9999\n",
            "Epoch 226/250\n",
            "313/313 [==============================] - 1s 2ms/step - loss: 0.0016 - accuracy: 0.9995\n",
            "Epoch 227/250\n",
            "313/313 [==============================] - 1s 2ms/step - loss: 8.9811e-04 - accuracy: 0.9998\n",
            "Epoch 228/250\n",
            "313/313 [==============================] - 1s 2ms/step - loss: 7.6262e-04 - accuracy: 0.9998\n",
            "Epoch 229/250\n",
            "313/313 [==============================] - 1s 2ms/step - loss: 9.7058e-04 - accuracy: 0.9997\n",
            "Epoch 230/250\n",
            "313/313 [==============================] - 1s 2ms/step - loss: 8.6610e-04 - accuracy: 0.9997\n",
            "Epoch 231/250\n",
            "313/313 [==============================] - 1s 2ms/step - loss: 7.9387e-04 - accuracy: 0.9999\n",
            "Epoch 232/250\n",
            "313/313 [==============================] - 1s 2ms/step - loss: 0.0011 - accuracy: 0.9997\n",
            "Epoch 233/250\n",
            "313/313 [==============================] - 1s 2ms/step - loss: 5.8001e-04 - accuracy: 1.0000\n",
            "Epoch 234/250\n",
            "313/313 [==============================] - 1s 2ms/step - loss: 0.0011 - accuracy: 0.9996\n",
            "Epoch 235/250\n",
            "313/313 [==============================] - 1s 2ms/step - loss: 0.0011 - accuracy: 0.9998\n",
            "Epoch 236/250\n",
            "313/313 [==============================] - 1s 2ms/step - loss: 0.0010 - accuracy: 0.9995\n",
            "Epoch 237/250\n",
            "313/313 [==============================] - 1s 2ms/step - loss: 8.8306e-04 - accuracy: 0.9998\n",
            "Epoch 238/250\n",
            "313/313 [==============================] - 1s 2ms/step - loss: 0.0012 - accuracy: 0.9996\n",
            "Epoch 239/250\n",
            "313/313 [==============================] - 1s 2ms/step - loss: 0.0010 - accuracy: 0.9998\n",
            "Epoch 240/250\n",
            "313/313 [==============================] - 1s 2ms/step - loss: 8.3382e-04 - accuracy: 0.9999\n",
            "Epoch 241/250\n",
            "313/313 [==============================] - 1s 2ms/step - loss: 6.4221e-04 - accuracy: 0.9999\n",
            "Epoch 242/250\n",
            "313/313 [==============================] - 1s 2ms/step - loss: 6.5895e-04 - accuracy: 1.0000\n",
            "Epoch 243/250\n",
            "313/313 [==============================] - 1s 2ms/step - loss: 0.0012 - accuracy: 0.9995\n",
            "Epoch 244/250\n",
            "313/313 [==============================] - 1s 2ms/step - loss: 6.4376e-04 - accuracy: 0.9999\n",
            "Epoch 245/250\n",
            "313/313 [==============================] - 1s 2ms/step - loss: 9.1470e-04 - accuracy: 0.9998\n",
            "Epoch 246/250\n",
            "313/313 [==============================] - 1s 2ms/step - loss: 0.0010 - accuracy: 0.9995\n",
            "Epoch 247/250\n",
            "313/313 [==============================] - 1s 2ms/step - loss: 7.0254e-04 - accuracy: 1.0000\n",
            "Epoch 248/250\n",
            "313/313 [==============================] - 1s 2ms/step - loss: 9.0785e-04 - accuracy: 0.9999\n",
            "Epoch 249/250\n",
            "313/313 [==============================] - 1s 2ms/step - loss: 0.0015 - accuracy: 0.9995\n",
            "Epoch 250/250\n",
            "313/313 [==============================] - 1s 2ms/step - loss: 0.0012 - accuracy: 0.9994\n"
          ]
        }
      ]
    },
    {
      "cell_type": "code",
      "source": [
        "# Evaluate\n",
        "model_playground.evaluate(X, y)"
      ],
      "metadata": {
        "colab": {
          "base_uri": "https://localhost:8080/"
        },
        "id": "NAcO2QR14yqw",
        "outputId": "b03b6b9d-a426-4c7a-8ff8-a9c4cff62b77"
      },
      "execution_count": 35,
      "outputs": [
        {
          "output_type": "stream",
          "name": "stdout",
          "text": [
            "313/313 [==============================] - 1s 2ms/step - loss: 6.1892e-04 - accuracy: 0.9999\n"
          ]
        },
        {
          "output_type": "execute_result",
          "data": {
            "text/plain": [
              "[0.0006189190316945314, 0.9998999834060669]"
            ]
          },
          "metadata": {},
          "execution_count": 35
        }
      ]
    },
    {
      "cell_type": "code",
      "source": [
        "# Check the decision boundary for our latest model\n",
        "plot_decision_boundary(model=model_playground,\n",
        "                       X=X,\n",
        "                       y=y)"
      ],
      "metadata": {
        "colab": {
          "base_uri": "https://localhost:8080/",
          "height": 283
        },
        "id": "NVVdG1iuxgFQ",
        "outputId": "da5898aa-2d9a-481c-cb30-7ecece30ccec"
      },
      "execution_count": 36,
      "outputs": [
        {
          "output_type": "stream",
          "name": "stdout",
          "text": [
            "doing binary classifcation...\n"
          ]
        },
        {
          "output_type": "display_data",
          "data": {
            "text/plain": [
              "<Figure size 432x288 with 1 Axes>"
            ],
            "image/png": "[encoded data removed]"
          },
          "metadata": {
            "needs_background": "light"
          }
        }
      ]
    },
    {
      "cell_type": "code",
      "source": [
        "# Time to replicate the multi-layer neural network from TensorFlow playground\n",
        "\n",
        "# Set the random seed\n",
        "tf.random.set_seed(42)\n",
        "\n",
        "# Build the model\n",
        "model_7 = tf.keras.Sequential([\n",
        "  tf.keras.layers.Dense(4, activation=\"relu\"),\n",
        "  tf.keras.layers.Dense(4, activation=\"relu\"),\n",
        "  # Add a layer(output) for binary classification\n",
        "  tf.keras.layers.Dense(1, activation=\"sigmoid\")            \n",
        "])\n",
        "\n",
        "# Compile the model\n",
        "model_7.compile(loss=\"binary_crossentropy\",\n",
        "                optimizer=tf.keras.optimizers.Adam(lr=0.001),\n",
        "                metrics=[\"accuracy\"])\n",
        "\n",
        "# Fit the model\n",
        "history = model_7.fit(X, y, \n",
        "                      #epochs=100)\n",
        "                      epochs=250)"
      ],
      "metadata": {
        "colab": {
          "base_uri": "https://localhost:8080/"
        },
        "id": "jGZLNjrOwZXX",
        "outputId": "54152be2-a115-4efb-9f9a-9392d2908d4f"
      },
      "execution_count": 37,
      "outputs": [
        {
          "output_type": "stream",
          "name": "stdout",
          "text": [
            "Epoch 1/250\n"
          ]
        },
        {
          "output_type": "stream",
          "name": "stderr",
          "text": [
            "/usr/local/lib/python3.7/dist-packages/keras/optimizer_v2/adam.py:105: UserWarning: The `lr` argument is deprecated, use `learning_rate` instead.\n",
            "  super(Adam, self).__init__(name, **kwargs)\n"
          ]
        },
        {
          "output_type": "stream",
          "name": "stdout",
          "text": [
            "313/313 [==============================] - 1s 2ms/step - loss: 0.6805 - accuracy: 0.5317\n",
            "Epoch 2/250\n",
            "313/313 [==============================] - 1s 2ms/step - loss: 0.6730 - accuracy: 0.5588\n",
            "Epoch 3/250\n",
            "313/313 [==============================] - 1s 2ms/step - loss: 0.6664 - accuracy: 0.5636\n",
            "Epoch 4/250\n",
            "313/313 [==============================] - 1s 2ms/step - loss: 0.6592 - accuracy: 0.5767\n",
            "Epoch 5/250\n",
            "313/313 [==============================] - 1s 2ms/step - loss: 0.6460 - accuracy: 0.6003\n",
            "Epoch 6/250\n",
            "313/313 [==============================] - 1s 2ms/step - loss: 0.6219 - accuracy: 0.6858\n",
            "Epoch 7/250\n",
            "313/313 [==============================] - 1s 2ms/step - loss: 0.5770 - accuracy: 0.7578\n",
            "Epoch 8/250\n",
            "313/313 [==============================] - 1s 3ms/step - loss: 0.5059 - accuracy: 0.8630\n",
            "Epoch 9/250\n",
            "313/313 [==============================] - 1s 3ms/step - loss: 0.4118 - accuracy: 0.9629\n",
            "Epoch 10/250\n",
            "313/313 [==============================] - 1s 3ms/step - loss: 0.3346 - accuracy: 0.9817\n",
            "Epoch 11/250\n",
            "313/313 [==============================] - 1s 2ms/step - loss: 0.2708 - accuracy: 0.9880\n",
            "Epoch 12/250\n",
            "313/313 [==============================] - 1s 2ms/step - loss: 0.2212 - accuracy: 0.9902\n",
            "Epoch 13/250\n",
            "313/313 [==============================] - 1s 2ms/step - loss: 0.1830 - accuracy: 0.9915\n",
            "Epoch 14/250\n",
            "313/313 [==============================] - 1s 2ms/step - loss: 0.1539 - accuracy: 0.9921\n",
            "Epoch 15/250\n",
            "313/313 [==============================] - 1s 2ms/step - loss: 0.1313 - accuracy: 0.9923\n",
            "Epoch 16/250\n",
            "313/313 [==============================] - 1s 2ms/step - loss: 0.1135 - accuracy: 0.9929\n",
            "Epoch 17/250\n",
            "313/313 [==============================] - 1s 2ms/step - loss: 0.0994 - accuracy: 0.9936\n",
            "Epoch 18/250\n",
            "313/313 [==============================] - 1s 2ms/step - loss: 0.0879 - accuracy: 0.9931\n",
            "Epoch 19/250\n",
            "313/313 [==============================] - 1s 2ms/step - loss: 0.0786 - accuracy: 0.9933\n",
            "Epoch 20/250\n",
            "313/313 [==============================] - 1s 2ms/step - loss: 0.0707 - accuracy: 0.9934\n",
            "Epoch 21/250\n",
            "313/313 [==============================] - 1s 2ms/step - loss: 0.0640 - accuracy: 0.9936\n",
            "Epoch 22/250\n",
            "313/313 [==============================] - 1s 2ms/step - loss: 0.0589 - accuracy: 0.9934\n",
            "Epoch 23/250\n",
            "313/313 [==============================] - 1s 2ms/step - loss: 0.0542 - accuracy: 0.9937\n",
            "Epoch 24/250\n",
            "313/313 [==============================] - 1s 2ms/step - loss: 0.0501 - accuracy: 0.9938\n",
            "Epoch 25/250\n",
            "313/313 [==============================] - 1s 2ms/step - loss: 0.0468 - accuracy: 0.9940\n",
            "Epoch 26/250\n",
            "313/313 [==============================] - 1s 2ms/step - loss: 0.0439 - accuracy: 0.9938\n",
            "Epoch 27/250\n",
            "313/313 [==============================] - 1s 2ms/step - loss: 0.0411 - accuracy: 0.9940\n",
            "Epoch 28/250\n",
            "313/313 [==============================] - 1s 2ms/step - loss: 0.0390 - accuracy: 0.9940\n",
            "Epoch 29/250\n",
            "313/313 [==============================] - 1s 2ms/step - loss: 0.0371 - accuracy: 0.9942\n",
            "Epoch 30/250\n",
            "313/313 [==============================] - 1s 2ms/step - loss: 0.0357 - accuracy: 0.9941\n",
            "Epoch 31/250\n",
            "313/313 [==============================] - 1s 2ms/step - loss: 0.0335 - accuracy: 0.9942\n",
            "Epoch 32/250\n",
            "313/313 [==============================] - 1s 2ms/step - loss: 0.0324 - accuracy: 0.9941\n",
            "Epoch 33/250\n",
            "313/313 [==============================] - 1s 2ms/step - loss: 0.0314 - accuracy: 0.9938\n",
            "Epoch 34/250\n",
            "313/313 [==============================] - 1s 2ms/step - loss: 0.0302 - accuracy: 0.9946\n",
            "Epoch 35/250\n",
            "313/313 [==============================] - 1s 2ms/step - loss: 0.0293 - accuracy: 0.9938\n",
            "Epoch 36/250\n",
            "313/313 [==============================] - 1s 2ms/step - loss: 0.0284 - accuracy: 0.9943\n",
            "Epoch 37/250\n",
            "313/313 [==============================] - 1s 2ms/step - loss: 0.0278 - accuracy: 0.9939\n",
            "Epoch 38/250\n",
            "313/313 [==============================] - 1s 2ms/step - loss: 0.0269 - accuracy: 0.9940\n",
            "Epoch 39/250\n",
            "313/313 [==============================] - 1s 2ms/step - loss: 0.0263 - accuracy: 0.9940\n",
            "Epoch 40/250\n",
            "313/313 [==============================] - 1s 2ms/step - loss: 0.0258 - accuracy: 0.9941\n",
            "Epoch 41/250\n",
            "313/313 [==============================] - 1s 2ms/step - loss: 0.0248 - accuracy: 0.9938\n",
            "Epoch 42/250\n",
            "313/313 [==============================] - 1s 2ms/step - loss: 0.0246 - accuracy: 0.9939\n",
            "Epoch 43/250\n",
            "313/313 [==============================] - 1s 2ms/step - loss: 0.0241 - accuracy: 0.9942\n",
            "Epoch 44/250\n",
            "313/313 [==============================] - 1s 2ms/step - loss: 0.0237 - accuracy: 0.9944\n",
            "Epoch 45/250\n",
            "313/313 [==============================] - 1s 2ms/step - loss: 0.0233 - accuracy: 0.9947\n",
            "Epoch 46/250\n",
            "313/313 [==============================] - 1s 2ms/step - loss: 0.0224 - accuracy: 0.9944\n",
            "Epoch 47/250\n",
            "313/313 [==============================] - 1s 2ms/step - loss: 0.0228 - accuracy: 0.9938\n",
            "Epoch 48/250\n",
            "313/313 [==============================] - 1s 2ms/step - loss: 0.0224 - accuracy: 0.9938\n",
            "Epoch 49/250\n",
            "313/313 [==============================] - 1s 2ms/step - loss: 0.0220 - accuracy: 0.9950\n",
            "Epoch 50/250\n",
            "313/313 [==============================] - 1s 2ms/step - loss: 0.0215 - accuracy: 0.9941\n",
            "Epoch 51/250\n",
            "313/313 [==============================] - 1s 2ms/step - loss: 0.0214 - accuracy: 0.9944\n",
            "Epoch 52/250\n",
            "313/313 [==============================] - 1s 2ms/step - loss: 0.0212 - accuracy: 0.9949\n",
            "Epoch 53/250\n",
            "313/313 [==============================] - 1s 2ms/step - loss: 0.0210 - accuracy: 0.9945\n",
            "Epoch 54/250\n",
            "313/313 [==============================] - 1s 2ms/step - loss: 0.0208 - accuracy: 0.9940\n",
            "Epoch 55/250\n",
            "313/313 [==============================] - 1s 2ms/step - loss: 0.0202 - accuracy: 0.9948\n",
            "Epoch 56/250\n",
            "313/313 [==============================] - 1s 2ms/step - loss: 0.0201 - accuracy: 0.9944\n",
            "Epoch 57/250\n",
            "313/313 [==============================] - 1s 2ms/step - loss: 0.0197 - accuracy: 0.9945\n",
            "Epoch 58/250\n",
            "313/313 [==============================] - 1s 2ms/step - loss: 0.0198 - accuracy: 0.9941\n",
            "Epoch 59/250\n",
            "313/313 [==============================] - 1s 2ms/step - loss: 0.0194 - accuracy: 0.9948\n",
            "Epoch 60/250\n",
            "313/313 [==============================] - 1s 2ms/step - loss: 0.0195 - accuracy: 0.9945\n",
            "Epoch 61/250\n",
            "313/313 [==============================] - 1s 2ms/step - loss: 0.0190 - accuracy: 0.9945\n",
            "Epoch 62/250\n",
            "313/313 [==============================] - 1s 2ms/step - loss: 0.0193 - accuracy: 0.9942\n",
            "Epoch 63/250\n",
            "313/313 [==============================] - 1s 2ms/step - loss: 0.0188 - accuracy: 0.9944\n",
            "Epoch 64/250\n",
            "313/313 [==============================] - 1s 2ms/step - loss: 0.0187 - accuracy: 0.9947\n",
            "Epoch 65/250\n",
            "313/313 [==============================] - 1s 2ms/step - loss: 0.0188 - accuracy: 0.9945\n",
            "Epoch 66/250\n",
            "313/313 [==============================] - 1s 2ms/step - loss: 0.0185 - accuracy: 0.9949\n",
            "Epoch 67/250\n",
            "313/313 [==============================] - 1s 2ms/step - loss: 0.0181 - accuracy: 0.9948\n",
            "Epoch 68/250\n",
            "313/313 [==============================] - 1s 2ms/step - loss: 0.0182 - accuracy: 0.9943\n",
            "Epoch 69/250\n",
            "313/313 [==============================] - 1s 2ms/step - loss: 0.0186 - accuracy: 0.9939\n",
            "Epoch 70/250\n",
            "313/313 [==============================] - 1s 2ms/step - loss: 0.0180 - accuracy: 0.9946\n",
            "Epoch 71/250\n",
            "313/313 [==============================] - 1s 2ms/step - loss: 0.0181 - accuracy: 0.9946\n",
            "Epoch 72/250\n",
            "313/313 [==============================] - 1s 2ms/step - loss: 0.0178 - accuracy: 0.9949\n",
            "Epoch 73/250\n",
            "313/313 [==============================] - 1s 2ms/step - loss: 0.0179 - accuracy: 0.9946\n",
            "Epoch 74/250\n",
            "313/313 [==============================] - 1s 2ms/step - loss: 0.0179 - accuracy: 0.9949\n",
            "Epoch 75/250\n",
            "313/313 [==============================] - 1s 2ms/step - loss: 0.0178 - accuracy: 0.9940\n",
            "Epoch 76/250\n",
            "313/313 [==============================] - 1s 2ms/step - loss: 0.0180 - accuracy: 0.9934\n",
            "Epoch 77/250\n",
            "313/313 [==============================] - 1s 2ms/step - loss: 0.0177 - accuracy: 0.9945\n",
            "Epoch 78/250\n",
            "313/313 [==============================] - 1s 2ms/step - loss: 0.0174 - accuracy: 0.9950\n",
            "Epoch 79/250\n",
            "313/313 [==============================] - 1s 2ms/step - loss: 0.0177 - accuracy: 0.9942\n",
            "Epoch 80/250\n",
            "313/313 [==============================] - 1s 2ms/step - loss: 0.0173 - accuracy: 0.9943\n",
            "Epoch 81/250\n",
            "313/313 [==============================] - 1s 2ms/step - loss: 0.0174 - accuracy: 0.9943\n",
            "Epoch 82/250\n",
            "313/313 [==============================] - 1s 2ms/step - loss: 0.0172 - accuracy: 0.9942\n",
            "Epoch 83/250\n",
            "313/313 [==============================] - 1s 2ms/step - loss: 0.0171 - accuracy: 0.9941\n",
            "Epoch 84/250\n",
            "313/313 [==============================] - 1s 2ms/step - loss: 0.0170 - accuracy: 0.9944\n",
            "Epoch 85/250\n",
            "313/313 [==============================] - 1s 2ms/step - loss: 0.0168 - accuracy: 0.9953\n",
            "Epoch 86/250\n",
            "313/313 [==============================] - 1s 2ms/step - loss: 0.0172 - accuracy: 0.9944\n",
            "Epoch 87/250\n",
            "313/313 [==============================] - 1s 2ms/step - loss: 0.0170 - accuracy: 0.9943\n",
            "Epoch 88/250\n",
            "313/313 [==============================] - 1s 2ms/step - loss: 0.0168 - accuracy: 0.9940\n",
            "Epoch 89/250\n",
            "313/313 [==============================] - 1s 2ms/step - loss: 0.0170 - accuracy: 0.9944\n",
            "Epoch 90/250\n",
            "313/313 [==============================] - 1s 2ms/step - loss: 0.0171 - accuracy: 0.9946\n",
            "Epoch 91/250\n",
            "313/313 [==============================] - 1s 2ms/step - loss: 0.0163 - accuracy: 0.9948\n",
            "Epoch 92/250\n",
            "313/313 [==============================] - 1s 2ms/step - loss: 0.0163 - accuracy: 0.9943\n",
            "Epoch 93/250\n",
            "313/313 [==============================] - 1s 2ms/step - loss: 0.0169 - accuracy: 0.9942\n",
            "Epoch 94/250\n",
            "313/313 [==============================] - 1s 2ms/step - loss: 0.0164 - accuracy: 0.9940\n",
            "Epoch 95/250\n",
            "313/313 [==============================] - 1s 2ms/step - loss: 0.0166 - accuracy: 0.9942\n",
            "Epoch 96/250\n",
            "313/313 [==============================] - 1s 2ms/step - loss: 0.0160 - accuracy: 0.9941\n",
            "Epoch 97/250\n",
            "313/313 [==============================] - 1s 2ms/step - loss: 0.0164 - accuracy: 0.9944\n",
            "Epoch 98/250\n",
            "313/313 [==============================] - 1s 2ms/step - loss: 0.0164 - accuracy: 0.9943\n",
            "Epoch 99/250\n",
            "313/313 [==============================] - 1s 2ms/step - loss: 0.0167 - accuracy: 0.9946\n",
            "Epoch 100/250\n",
            "313/313 [==============================] - 1s 2ms/step - loss: 0.0164 - accuracy: 0.9944\n",
            "Epoch 101/250\n",
            "313/313 [==============================] - 1s 2ms/step - loss: 0.0162 - accuracy: 0.9946\n",
            "Epoch 102/250\n",
            "313/313 [==============================] - 1s 2ms/step - loss: 0.0168 - accuracy: 0.9938\n",
            "Epoch 103/250\n",
            "313/313 [==============================] - 1s 2ms/step - loss: 0.0164 - accuracy: 0.9947\n",
            "Epoch 104/250\n",
            "313/313 [==============================] - 1s 2ms/step - loss: 0.0160 - accuracy: 0.9945\n",
            "Epoch 105/250\n",
            "313/313 [==============================] - 1s 2ms/step - loss: 0.0162 - accuracy: 0.9943\n",
            "Epoch 106/250\n",
            "313/313 [==============================] - 1s 2ms/step - loss: 0.0162 - accuracy: 0.9945\n",
            "Epoch 107/250\n",
            "313/313 [==============================] - 1s 2ms/step - loss: 0.0160 - accuracy: 0.9939\n",
            "Epoch 108/250\n",
            "313/313 [==============================] - 1s 2ms/step - loss: 0.0165 - accuracy: 0.9935\n",
            "Epoch 109/250\n",
            "313/313 [==============================] - 1s 2ms/step - loss: 0.0158 - accuracy: 0.9945\n",
            "Epoch 110/250\n",
            "313/313 [==============================] - 1s 2ms/step - loss: 0.0159 - accuracy: 0.9941\n",
            "Epoch 111/250\n",
            "313/313 [==============================] - 1s 2ms/step - loss: 0.0161 - accuracy: 0.9943\n",
            "Epoch 112/250\n",
            "313/313 [==============================] - 1s 2ms/step - loss: 0.0160 - accuracy: 0.9942\n",
            "Epoch 113/250\n",
            "313/313 [==============================] - 1s 2ms/step - loss: 0.0155 - accuracy: 0.9943\n",
            "Epoch 114/250\n",
            "313/313 [==============================] - 1s 2ms/step - loss: 0.0163 - accuracy: 0.9936\n",
            "Epoch 115/250\n",
            "313/313 [==============================] - 1s 2ms/step - loss: 0.0163 - accuracy: 0.9944\n",
            "Epoch 116/250\n",
            "313/313 [==============================] - 1s 2ms/step - loss: 0.0159 - accuracy: 0.9938\n",
            "Epoch 117/250\n",
            "313/313 [==============================] - 1s 2ms/step - loss: 0.0161 - accuracy: 0.9945\n",
            "Epoch 118/250\n",
            "313/313 [==============================] - 1s 2ms/step - loss: 0.0157 - accuracy: 0.9941\n",
            "Epoch 119/250\n",
            "313/313 [==============================] - 1s 2ms/step - loss: 0.0155 - accuracy: 0.9943\n",
            "Epoch 120/250\n",
            "313/313 [==============================] - 1s 2ms/step - loss: 0.0158 - accuracy: 0.9944\n",
            "Epoch 121/250\n",
            "313/313 [==============================] - 1s 2ms/step - loss: 0.0156 - accuracy: 0.9944\n",
            "Epoch 122/250\n",
            "313/313 [==============================] - 1s 2ms/step - loss: 0.0156 - accuracy: 0.9943\n",
            "Epoch 123/250\n",
            "313/313 [==============================] - 1s 2ms/step - loss: 0.0158 - accuracy: 0.9942\n",
            "Epoch 124/250\n",
            "313/313 [==============================] - 1s 2ms/step - loss: 0.0154 - accuracy: 0.9936\n",
            "Epoch 125/250\n",
            "313/313 [==============================] - 1s 2ms/step - loss: 0.0158 - accuracy: 0.9946\n",
            "Epoch 126/250\n",
            "313/313 [==============================] - 1s 2ms/step - loss: 0.0154 - accuracy: 0.9943\n",
            "Epoch 127/250\n",
            "313/313 [==============================] - 1s 2ms/step - loss: 0.0158 - accuracy: 0.9944\n",
            "Epoch 128/250\n",
            "313/313 [==============================] - 1s 2ms/step - loss: 0.0156 - accuracy: 0.9944\n",
            "Epoch 129/250\n",
            "313/313 [==============================] - 1s 2ms/step - loss: 0.0153 - accuracy: 0.9943\n",
            "Epoch 130/250\n",
            "313/313 [==============================] - 1s 2ms/step - loss: 0.0163 - accuracy: 0.9933\n",
            "Epoch 131/250\n",
            "313/313 [==============================] - 1s 2ms/step - loss: 0.0157 - accuracy: 0.9942\n",
            "Epoch 132/250\n",
            "313/313 [==============================] - 1s 2ms/step - loss: 0.0153 - accuracy: 0.9945\n",
            "Epoch 133/250\n",
            "313/313 [==============================] - 1s 2ms/step - loss: 0.0156 - accuracy: 0.9943\n",
            "Epoch 134/250\n",
            "313/313 [==============================] - 1s 2ms/step - loss: 0.0152 - accuracy: 0.9940\n",
            "Epoch 135/250\n",
            "313/313 [==============================] - 1s 2ms/step - loss: 0.0154 - accuracy: 0.9943\n",
            "Epoch 136/250\n",
            "313/313 [==============================] - 1s 2ms/step - loss: 0.0149 - accuracy: 0.9945\n",
            "Epoch 137/250\n",
            "313/313 [==============================] - 1s 2ms/step - loss: 0.0158 - accuracy: 0.9941\n",
            "Epoch 138/250\n",
            "313/313 [==============================] - 1s 2ms/step - loss: 0.0155 - accuracy: 0.9942\n",
            "Epoch 139/250\n",
            "313/313 [==============================] - 1s 2ms/step - loss: 0.0152 - accuracy: 0.9942\n",
            "Epoch 140/250\n",
            "313/313 [==============================] - 1s 2ms/step - loss: 0.0152 - accuracy: 0.9943\n",
            "Epoch 141/250\n",
            "313/313 [==============================] - 1s 2ms/step - loss: 0.0155 - accuracy: 0.9941\n",
            "Epoch 142/250\n",
            "313/313 [==============================] - 1s 2ms/step - loss: 0.0149 - accuracy: 0.9942\n",
            "Epoch 143/250\n",
            "313/313 [==============================] - 1s 2ms/step - loss: 0.0151 - accuracy: 0.9943\n",
            "Epoch 144/250\n",
            "313/313 [==============================] - 1s 2ms/step - loss: 0.0153 - accuracy: 0.9946\n",
            "Epoch 145/250\n",
            "313/313 [==============================] - 1s 2ms/step - loss: 0.0154 - accuracy: 0.9942\n",
            "Epoch 146/250\n",
            "313/313 [==============================] - 1s 2ms/step - loss: 0.0158 - accuracy: 0.9948\n",
            "Epoch 147/250\n",
            "313/313 [==============================] - 1s 2ms/step - loss: 0.0155 - accuracy: 0.9939\n",
            "Epoch 148/250\n",
            "313/313 [==============================] - 1s 2ms/step - loss: 0.0157 - accuracy: 0.9937\n",
            "Epoch 149/250\n",
            "313/313 [==============================] - 1s 2ms/step - loss: 0.0152 - accuracy: 0.9942\n",
            "Epoch 150/250\n",
            "313/313 [==============================] - 1s 2ms/step - loss: 0.0158 - accuracy: 0.9940\n",
            "Epoch 151/250\n",
            "313/313 [==============================] - 1s 2ms/step - loss: 0.0152 - accuracy: 0.9943\n",
            "Epoch 152/250\n",
            "313/313 [==============================] - 1s 2ms/step - loss: 0.0155 - accuracy: 0.9941\n",
            "Epoch 153/250\n",
            "313/313 [==============================] - 1s 2ms/step - loss: 0.0150 - accuracy: 0.9942\n",
            "Epoch 154/250\n",
            "313/313 [==============================] - 1s 2ms/step - loss: 0.0151 - accuracy: 0.9943\n",
            "Epoch 155/250\n",
            "313/313 [==============================] - 1s 2ms/step - loss: 0.0153 - accuracy: 0.9944\n",
            "Epoch 156/250\n",
            "313/313 [==============================] - 1s 2ms/step - loss: 0.0154 - accuracy: 0.9936\n",
            "Epoch 157/250\n",
            "313/313 [==============================] - 1s 2ms/step - loss: 0.0151 - accuracy: 0.9945\n",
            "Epoch 158/250\n",
            "313/313 [==============================] - 1s 2ms/step - loss: 0.0154 - accuracy: 0.9943\n",
            "Epoch 159/250\n",
            "313/313 [==============================] - 1s 2ms/step - loss: 0.0154 - accuracy: 0.9944\n",
            "Epoch 160/250\n",
            "313/313 [==============================] - 1s 2ms/step - loss: 0.0154 - accuracy: 0.9944\n",
            "Epoch 161/250\n",
            "313/313 [==============================] - 1s 2ms/step - loss: 0.0150 - accuracy: 0.9944\n",
            "Epoch 162/250\n",
            "313/313 [==============================] - 1s 2ms/step - loss: 0.0150 - accuracy: 0.9943\n",
            "Epoch 163/250\n",
            "313/313 [==============================] - 1s 2ms/step - loss: 0.0149 - accuracy: 0.9941\n",
            "Epoch 164/250\n",
            "313/313 [==============================] - 1s 2ms/step - loss: 0.0156 - accuracy: 0.9944\n",
            "Epoch 165/250\n",
            "313/313 [==============================] - 1s 2ms/step - loss: 0.0152 - accuracy: 0.9939\n",
            "Epoch 166/250\n",
            "313/313 [==============================] - 1s 2ms/step - loss: 0.0157 - accuracy: 0.9939\n",
            "Epoch 167/250\n",
            "313/313 [==============================] - 1s 2ms/step - loss: 0.0150 - accuracy: 0.9943\n",
            "Epoch 168/250\n",
            "313/313 [==============================] - 1s 2ms/step - loss: 0.0148 - accuracy: 0.9943\n",
            "Epoch 169/250\n",
            "313/313 [==============================] - 1s 2ms/step - loss: 0.0150 - accuracy: 0.9944\n",
            "Epoch 170/250\n",
            "313/313 [==============================] - 1s 2ms/step - loss: 0.0149 - accuracy: 0.9951\n",
            "Epoch 171/250\n",
            "313/313 [==============================] - 1s 2ms/step - loss: 0.0151 - accuracy: 0.9945\n",
            "Epoch 172/250\n",
            "313/313 [==============================] - 1s 2ms/step - loss: 0.0152 - accuracy: 0.9945\n",
            "Epoch 173/250\n",
            "313/313 [==============================] - 1s 2ms/step - loss: 0.0151 - accuracy: 0.9942\n",
            "Epoch 174/250\n",
            "313/313 [==============================] - 1s 2ms/step - loss: 0.0148 - accuracy: 0.9945\n",
            "Epoch 175/250\n",
            "313/313 [==============================] - 1s 2ms/step - loss: 0.0147 - accuracy: 0.9939\n",
            "Epoch 176/250\n",
            "313/313 [==============================] - 1s 2ms/step - loss: 0.0147 - accuracy: 0.9941\n",
            "Epoch 177/250\n",
            "313/313 [==============================] - 1s 2ms/step - loss: 0.0150 - accuracy: 0.9942\n",
            "Epoch 178/250\n",
            "313/313 [==============================] - 1s 2ms/step - loss: 0.0156 - accuracy: 0.9938\n",
            "Epoch 179/250\n",
            "313/313 [==============================] - 1s 2ms/step - loss: 0.0148 - accuracy: 0.9942\n",
            "Epoch 180/250\n",
            "313/313 [==============================] - 1s 2ms/step - loss: 0.0149 - accuracy: 0.9946\n",
            "Epoch 181/250\n",
            "313/313 [==============================] - 1s 2ms/step - loss: 0.0149 - accuracy: 0.9935\n",
            "Epoch 182/250\n",
            "313/313 [==============================] - 1s 2ms/step - loss: 0.0147 - accuracy: 0.9946\n",
            "Epoch 183/250\n",
            "313/313 [==============================] - 1s 2ms/step - loss: 0.0151 - accuracy: 0.9939\n",
            "Epoch 184/250\n",
            "313/313 [==============================] - 1s 2ms/step - loss: 0.0153 - accuracy: 0.9937\n",
            "Epoch 185/250\n",
            "313/313 [==============================] - 1s 2ms/step - loss: 0.0150 - accuracy: 0.9946\n",
            "Epoch 186/250\n",
            "313/313 [==============================] - 1s 2ms/step - loss: 0.0147 - accuracy: 0.9943\n",
            "Epoch 187/250\n",
            "313/313 [==============================] - 1s 2ms/step - loss: 0.0143 - accuracy: 0.9950\n",
            "Epoch 188/250\n",
            "313/313 [==============================] - 1s 2ms/step - loss: 0.0151 - accuracy: 0.9942\n",
            "Epoch 189/250\n",
            "313/313 [==============================] - 1s 2ms/step - loss: 0.0148 - accuracy: 0.9949\n",
            "Epoch 190/250\n",
            "313/313 [==============================] - 1s 2ms/step - loss: 0.0148 - accuracy: 0.9943\n",
            "Epoch 191/250\n",
            "313/313 [==============================] - 1s 2ms/step - loss: 0.0151 - accuracy: 0.9945\n",
            "Epoch 192/250\n",
            "313/313 [==============================] - 1s 2ms/step - loss: 0.0149 - accuracy: 0.9945\n",
            "Epoch 193/250\n",
            "313/313 [==============================] - 1s 2ms/step - loss: 0.0149 - accuracy: 0.9939\n",
            "Epoch 194/250\n",
            "313/313 [==============================] - 1s 2ms/step - loss: 0.0146 - accuracy: 0.9942\n",
            "Epoch 195/250\n",
            "313/313 [==============================] - 1s 2ms/step - loss: 0.0151 - accuracy: 0.9945\n",
            "Epoch 196/250\n",
            "313/313 [==============================] - 1s 2ms/step - loss: 0.0148 - accuracy: 0.9943\n",
            "Epoch 197/250\n",
            "313/313 [==============================] - 1s 2ms/step - loss: 0.0146 - accuracy: 0.9946\n",
            "Epoch 198/250\n",
            "313/313 [==============================] - 1s 2ms/step - loss: 0.0151 - accuracy: 0.9940\n",
            "Epoch 199/250\n",
            "313/313 [==============================] - 1s 2ms/step - loss: 0.0145 - accuracy: 0.9946\n",
            "Epoch 200/250\n",
            "313/313 [==============================] - 1s 2ms/step - loss: 0.0144 - accuracy: 0.9944\n",
            "Epoch 201/250\n",
            "313/313 [==============================] - 1s 2ms/step - loss: 0.0147 - accuracy: 0.9942\n",
            "Epoch 202/250\n",
            "313/313 [==============================] - 1s 2ms/step - loss: 0.0145 - accuracy: 0.9948\n",
            "Epoch 203/250\n",
            "313/313 [==============================] - 1s 2ms/step - loss: 0.0150 - accuracy: 0.9943\n",
            "Epoch 204/250\n",
            "313/313 [==============================] - 1s 2ms/step - loss: 0.0143 - accuracy: 0.9943\n",
            "Epoch 205/250\n",
            "313/313 [==============================] - 1s 2ms/step - loss: 0.0146 - accuracy: 0.9943\n",
            "Epoch 206/250\n",
            "313/313 [==============================] - 1s 2ms/step - loss: 0.0150 - accuracy: 0.9939\n",
            "Epoch 207/250\n",
            "313/313 [==============================] - 1s 2ms/step - loss: 0.0147 - accuracy: 0.9939\n",
            "Epoch 208/250\n",
            "313/313 [==============================] - 1s 2ms/step - loss: 0.0148 - accuracy: 0.9938\n",
            "Epoch 209/250\n",
            "313/313 [==============================] - 1s 2ms/step - loss: 0.0150 - accuracy: 0.9941\n",
            "Epoch 210/250\n",
            "313/313 [==============================] - 1s 2ms/step - loss: 0.0146 - accuracy: 0.9946\n",
            "Epoch 211/250\n",
            "313/313 [==============================] - 1s 2ms/step - loss: 0.0145 - accuracy: 0.9948\n",
            "Epoch 212/250\n",
            "313/313 [==============================] - 1s 2ms/step - loss: 0.0148 - accuracy: 0.9946\n",
            "Epoch 213/250\n",
            "313/313 [==============================] - 1s 2ms/step - loss: 0.0150 - accuracy: 0.9937\n",
            "Epoch 214/250\n",
            "313/313 [==============================] - 1s 2ms/step - loss: 0.0149 - accuracy: 0.9941\n",
            "Epoch 215/250\n",
            "313/313 [==============================] - 1s 2ms/step - loss: 0.0142 - accuracy: 0.9948\n",
            "Epoch 216/250\n",
            "313/313 [==============================] - 1s 2ms/step - loss: 0.0150 - accuracy: 0.9939\n",
            "Epoch 217/250\n",
            "313/313 [==============================] - 1s 2ms/step - loss: 0.0148 - accuracy: 0.9940\n",
            "Epoch 218/250\n",
            "313/313 [==============================] - 1s 2ms/step - loss: 0.0149 - accuracy: 0.9941\n",
            "Epoch 219/250\n",
            "313/313 [==============================] - 1s 2ms/step - loss: 0.0149 - accuracy: 0.9939\n",
            "Epoch 220/250\n",
            "313/313 [==============================] - 1s 2ms/step - loss: 0.0153 - accuracy: 0.9943\n",
            "Epoch 221/250\n",
            "313/313 [==============================] - 1s 2ms/step - loss: 0.0150 - accuracy: 0.9936\n",
            "Epoch 222/250\n",
            "313/313 [==============================] - 1s 2ms/step - loss: 0.0147 - accuracy: 0.9941\n",
            "Epoch 223/250\n",
            "313/313 [==============================] - 1s 2ms/step - loss: 0.0143 - accuracy: 0.9945\n",
            "Epoch 224/250\n",
            "313/313 [==============================] - 1s 2ms/step - loss: 0.0145 - accuracy: 0.9941\n",
            "Epoch 225/250\n",
            "313/313 [==============================] - 1s 2ms/step - loss: 0.0149 - accuracy: 0.9939\n",
            "Epoch 226/250\n",
            "313/313 [==============================] - 1s 2ms/step - loss: 0.0147 - accuracy: 0.9942\n",
            "Epoch 227/250\n",
            "313/313 [==============================] - 1s 2ms/step - loss: 0.0144 - accuracy: 0.9941\n",
            "Epoch 228/250\n",
            "313/313 [==============================] - 1s 2ms/step - loss: 0.0147 - accuracy: 0.9945\n",
            "Epoch 229/250\n",
            "313/313 [==============================] - 1s 2ms/step - loss: 0.0153 - accuracy: 0.9940\n",
            "Epoch 230/250\n",
            "313/313 [==============================] - 1s 2ms/step - loss: 0.0148 - accuracy: 0.9939\n",
            "Epoch 231/250\n",
            "313/313 [==============================] - 1s 2ms/step - loss: 0.0145 - accuracy: 0.9940\n",
            "Epoch 232/250\n",
            "313/313 [==============================] - 1s 2ms/step - loss: 0.0153 - accuracy: 0.9937\n",
            "Epoch 233/250\n",
            "313/313 [==============================] - 1s 2ms/step - loss: 0.0145 - accuracy: 0.9943\n",
            "Epoch 234/250\n",
            "313/313 [==============================] - 1s 2ms/step - loss: 0.0151 - accuracy: 0.9934\n",
            "Epoch 235/250\n",
            "313/313 [==============================] - 1s 2ms/step - loss: 0.0143 - accuracy: 0.9946\n",
            "Epoch 236/250\n",
            "313/313 [==============================] - 1s 2ms/step - loss: 0.0147 - accuracy: 0.9943\n",
            "Epoch 237/250\n",
            "313/313 [==============================] - 1s 2ms/step - loss: 0.0149 - accuracy: 0.9935\n",
            "Epoch 238/250\n",
            "313/313 [==============================] - 1s 2ms/step - loss: 0.0145 - accuracy: 0.9944\n",
            "Epoch 239/250\n",
            "313/313 [==============================] - 1s 2ms/step - loss: 0.0148 - accuracy: 0.9939\n",
            "Epoch 240/250\n",
            "313/313 [==============================] - 1s 2ms/step - loss: 0.0148 - accuracy: 0.9944\n",
            "Epoch 241/250\n",
            "313/313 [==============================] - 1s 2ms/step - loss: 0.0149 - accuracy: 0.9940\n",
            "Epoch 242/250\n",
            "313/313 [==============================] - 1s 2ms/step - loss: 0.0147 - accuracy: 0.9944\n",
            "Epoch 243/250\n",
            "313/313 [==============================] - 1s 2ms/step - loss: 0.0145 - accuracy: 0.9943\n",
            "Epoch 244/250\n",
            "313/313 [==============================] - 1s 2ms/step - loss: 0.0145 - accuracy: 0.9945\n",
            "Epoch 245/250\n",
            "313/313 [==============================] - 1s 2ms/step - loss: 0.0144 - accuracy: 0.9942\n",
            "Epoch 246/250\n",
            "313/313 [==============================] - 1s 2ms/step - loss: 0.0146 - accuracy: 0.9946\n",
            "Epoch 247/250\n",
            "313/313 [==============================] - 1s 2ms/step - loss: 0.0150 - accuracy: 0.9937\n",
            "Epoch 248/250\n",
            "313/313 [==============================] - 1s 2ms/step - loss: 0.0148 - accuracy: 0.9944\n",
            "Epoch 249/250\n",
            "313/313 [==============================] - 1s 2ms/step - loss: 0.0149 - accuracy: 0.9940\n",
            "Epoch 250/250\n",
            "313/313 [==============================] - 1s 2ms/step - loss: 0.0144 - accuracy: 0.9945\n"
          ]
        }
      ]
    },
    {
      "cell_type": "code",
      "source": [
        "# Evaluate the model\n",
        "model_7.evaluate(X, y)"
      ],
      "metadata": {
        "id": "KdjaoykxzaiV",
        "colab": {
          "base_uri": "https://localhost:8080/"
        },
        "outputId": "4b4fac8a-95b1-4c96-da33-fed8ab86e5e0"
      },
      "execution_count": 38,
      "outputs": [
        {
          "output_type": "stream",
          "name": "stdout",
          "text": [
            "313/313 [==============================] - 1s 2ms/step - loss: 0.0136 - accuracy: 0.9949\n"
          ]
        },
        {
          "output_type": "execute_result",
          "data": {
            "text/plain": [
              "[0.013585487380623817, 0.9948999881744385]"
            ]
          },
          "metadata": {},
          "execution_count": 38
        }
      ]
    },
    {
      "cell_type": "code",
      "source": [
        "# How does our model predictions look?\n",
        "plot_decision_boundary(model_7, X, y)"
      ],
      "metadata": {
        "colab": {
          "base_uri": "https://localhost:8080/",
          "height": 283
        },
        "id": "mwsU-POJ1SpO",
        "outputId": "ff8900ba-8e64-4d0a-a3cd-ea845f0b2e42"
      },
      "execution_count": 39,
      "outputs": [
        {
          "output_type": "stream",
          "name": "stdout",
          "text": [
            "doing binary classifcation...\n"
          ]
        },
        {
          "output_type": "display_data",
          "data": {
            "text/plain": [
              "<Figure size 432x288 with 1 Axes>"
            ],
            "image/png": "[encoded data removed]"
          },
          "metadata": {
            "needs_background": "light"
          }
        }
      ]
    },
    {
      "cell_type": "markdown",
      "source": [
        "🤔 **Question:** Whats wrong with the predictions we've made? Are the model really evaluated correctly?\n",
        "\n",
        "🔑 **Note:** The combination of **linear (straight lines) and non-linear (non-straight lines) functions** is one of the key fundamentals of neural networks."
      ],
      "metadata": {
        "id": "XABMTDnS5cQN"
      }
    },
    {
      "cell_type": "markdown",
      "source": [
        "### Now we've discussed the concept of linear and non-linear functions (or lines), let's see them in action."
      ],
      "metadata": {
        "id": "nBbjSfIC34MK"
      }
    },
    {
      "cell_type": "code",
      "source": [
        "# Create a toy tensor (similar to the data we pass into our models)\n",
        "\n",
        "import tensorflow as tf\n",
        "\n",
        "A = tf.cast(tf.range(-10, 10), tf.float32)\n",
        "A"
      ],
      "metadata": {
        "colab": {
          "base_uri": "https://localhost:8080/"
        },
        "id": "D0f_XOT6QABB",
        "outputId": "98cbcd56-f022-4ec6-a7ad-23e620cdc0e4"
      },
      "execution_count": 40,
      "outputs": [
        {
          "output_type": "execute_result",
          "data": {
            "text/plain": [
              "<tf.Tensor: shape=(20,), dtype=float32, numpy=\n",
              "array([-10.,  -9.,  -8.,  -7.,  -6.,  -5.,  -4.,  -3.,  -2.,  -1.,   0.,\n",
              "         1.,   2.,   3.,   4.,   5.,   6.,   7.,   8.,   9.],\n",
              "      dtype=float32)>"
            ]
          },
          "metadata": {},
          "execution_count": 40
        }
      ]
    },
    {
      "cell_type": "code",
      "source": [
        "# Visualize our toy tensor\n",
        "plt.plot(A)"
      ],
      "metadata": {
        "colab": {
          "base_uri": "https://localhost:8080/",
          "height": 283
        },
        "id": "rWb-VLoESlto",
        "outputId": "2803199b-6e14-4d63-9703-ea7c949ed8c6"
      },
      "execution_count": 41,
      "outputs": [
        {
          "output_type": "execute_result",
          "data": {
            "text/plain": [
              "[<matplotlib.lines.Line2D at 0x7fbd7725da50>]"
            ]
          },
          "metadata": {},
          "execution_count": 41
        },
        {
          "output_type": "display_data",
          "data": {
            "text/plain": [
              "<Figure size 432x288 with 1 Axes>"
            ],
            "image/png": "[encoded data removed]"
          },
          "metadata": {
            "needs_background": "light"
          }
        }
      ]
    },
    {
      "cell_type": "code",
      "source": [
        "# Let's start by replicating sigmoid - sigmoid(x) = 1 / (1 + exp(-x))\n",
        "def sigmoid(x):\n",
        "  return 1 / (1 + tf.exp(-x))\n",
        "\n",
        "# Use the sigmoid function on our toy tensor\n",
        "sigmoid(A)"
      ],
      "metadata": {
        "colab": {
          "base_uri": "https://localhost:8080/"
        },
        "id": "IVkN6pweWUiv",
        "outputId": "c3b45e8a-81e5-4aba-ea96-2a9a3162a94d"
      },
      "execution_count": 42,
      "outputs": [
        {
          "output_type": "execute_result",
          "data": {
            "text/plain": [
              "<tf.Tensor: shape=(20,), dtype=float32, numpy=\n",
              "array([4.5397872e-05, 1.2339458e-04, 3.3535014e-04, 9.1105117e-04,\n",
              "       2.4726233e-03, 6.6928510e-03, 1.7986210e-02, 4.7425874e-02,\n",
              "       1.1920292e-01, 2.6894143e-01, 5.0000000e-01, 7.3105860e-01,\n",
              "       8.8079703e-01, 9.5257413e-01, 9.8201376e-01, 9.9330717e-01,\n",
              "       9.9752742e-01, 9.9908900e-01, 9.9966466e-01, 9.9987662e-01],\n",
              "      dtype=float32)>"
            ]
          },
          "metadata": {},
          "execution_count": 42
        }
      ]
    },
    {
      "cell_type": "code",
      "source": [
        "# Plot our toy tensor transformed by sigmoid\n",
        "plt.plot(sigmoid(A))"
      ],
      "metadata": {
        "colab": {
          "base_uri": "https://localhost:8080/",
          "height": 283
        },
        "id": "_ZPWAVaiXdZu",
        "outputId": "35ef1fd6-c72d-4354-8e06-a299e8a883e3"
      },
      "execution_count": 43,
      "outputs": [
        {
          "output_type": "execute_result",
          "data": {
            "text/plain": [
              "[<matplotlib.lines.Line2D at 0x7fbd73281cd0>]"
            ]
          },
          "metadata": {},
          "execution_count": 43
        },
        {
          "output_type": "display_data",
          "data": {
            "text/plain": [
              "<Figure size 432x288 with 1 Axes>"
            ],
            "image/png": "[encoded data removed]"
          },
          "metadata": {
            "needs_background": "light"
          }
        }
      ]
    },
    {
      "cell_type": "code",
      "source": [
        "# Let's recreate the relu function\n",
        "def relu(x):\n",
        "  return tf.maximum(0, x)\n",
        "\n",
        "# Pass our toy tensor to our custom relu function\n",
        "relu(A)"
      ],
      "metadata": {
        "colab": {
          "base_uri": "https://localhost:8080/"
        },
        "id": "3rLQWuh6X8uu",
        "outputId": "ab658083-85e8-456f-8646-d81b4609a5db"
      },
      "execution_count": 44,
      "outputs": [
        {
          "output_type": "execute_result",
          "data": {
            "text/plain": [
              "<tf.Tensor: shape=(20,), dtype=float32, numpy=\n",
              "array([0., 0., 0., 0., 0., 0., 0., 0., 0., 0., 0., 1., 2., 3., 4., 5., 6.,\n",
              "       7., 8., 9.], dtype=float32)>"
            ]
          },
          "metadata": {},
          "execution_count": 44
        }
      ]
    },
    {
      "cell_type": "code",
      "source": [
        "# Plot our toy tensor transformed by relu\n",
        "plt.plot(relu(A))"
      ],
      "metadata": {
        "colab": {
          "base_uri": "https://localhost:8080/",
          "height": 283
        },
        "id": "wElh6_xiYxnM",
        "outputId": "708f9295-1f7b-4d1e-a599-22ad85f112f3"
      },
      "execution_count": 45,
      "outputs": [
        {
          "output_type": "execute_result",
          "data": {
            "text/plain": [
              "[<matplotlib.lines.Line2D at 0x7fbd73566d50>]"
            ]
          },
          "metadata": {},
          "execution_count": 45
        },
        {
          "output_type": "display_data",
          "data": {
            "text/plain": [
              "<Figure size 432x288 with 1 Axes>"
            ],
            "image/png": "[encoded data removed]"
          },
          "metadata": {
            "needs_background": "light"
          }
        }
      ]
    },
    {
      "cell_type": "code",
      "source": [
        "# Let's try the linear activation function\n",
        "tf.keras.activations.linear(A)"
      ],
      "metadata": {
        "colab": {
          "base_uri": "https://localhost:8080/"
        },
        "id": "lozNXTseZTqg",
        "outputId": "cdfedb8a-555e-48f0-e9a6-d0845b20dec1"
      },
      "execution_count": 46,
      "outputs": [
        {
          "output_type": "execute_result",
          "data": {
            "text/plain": [
              "<tf.Tensor: shape=(20,), dtype=float32, numpy=\n",
              "array([-10.,  -9.,  -8.,  -7.,  -6.,  -5.,  -4.,  -3.,  -2.,  -1.,   0.,\n",
              "         1.,   2.,   3.,   4.,   5.,   6.,   7.,   8.,   9.],\n",
              "      dtype=float32)>"
            ]
          },
          "metadata": {},
          "execution_count": 46
        }
      ]
    },
    {
      "cell_type": "code",
      "source": [
        "# Does the linear activation function change anything?\n",
        "plt.plot(tf.keras.activations.linear(A))"
      ],
      "metadata": {
        "colab": {
          "base_uri": "https://localhost:8080/",
          "height": 283
        },
        "id": "A8SOthBvZ3hD",
        "outputId": "81a04570-69e3-4c65-ff2d-068085324da9"
      },
      "execution_count": 47,
      "outputs": [
        {
          "output_type": "execute_result",
          "data": {
            "text/plain": [
              "[<matplotlib.lines.Line2D at 0x7fbd7301fb90>]"
            ]
          },
          "metadata": {},
          "execution_count": 47
        },
        {
          "output_type": "display_data",
          "data": {
            "text/plain": [
              "<Figure size 432x288 with 1 Axes>"
            ],
            "image/png": "[encoded data removed]"
          },
          "metadata": {
            "needs_background": "light"
          }
        }
      ]
    },
    {
      "cell_type": "code",
      "source": [
        "# Any changes at all?\n",
        "A == tf.keras.activations.linear(A)"
      ],
      "metadata": {
        "colab": {
          "base_uri": "https://localhost:8080/"
        },
        "id": "w56L9V_PaIlJ",
        "outputId": "2ff6047f-2b40-4b8a-ef9e-a1fb33ca3f25"
      },
      "execution_count": 48,
      "outputs": [
        {
          "output_type": "execute_result",
          "data": {
            "text/plain": [
              "<tf.Tensor: shape=(20,), dtype=bool, numpy=\n",
              "array([ True,  True,  True,  True,  True,  True,  True,  True,  True,\n",
              "        True,  True,  True,  True,  True,  True,  True,  True,  True,\n",
              "        True,  True])>"
            ]
          },
          "metadata": {},
          "execution_count": 48
        }
      ]
    },
    {
      "cell_type": "code",
      "source": [
        "# Let's recreate the Tanh function\n",
        "def tanh(x):\n",
        "\treturn (np.exp(x) - np.exp(-x)) / (np.exp(x) + np.exp(-x))\n",
        " \n",
        "# Pass in our toy tensor\n",
        "tanh(A)"
      ],
      "metadata": {
        "colab": {
          "base_uri": "https://localhost:8080/"
        },
        "id": "8edWB_eydlY9",
        "outputId": "8de44658-750c-47a4-ca69-abb900b2b69d"
      },
      "execution_count": 52,
      "outputs": [
        {
          "output_type": "execute_result",
          "data": {
            "text/plain": [
              "array([-1.        , -1.        , -0.9999998 , -0.99999845, -0.9999877 ,\n",
              "       -0.9999091 , -0.9993293 , -0.9950547 , -0.9640275 , -0.7615942 ,\n",
              "        0.        ,  0.7615942 ,  0.9640275 ,  0.9950547 ,  0.9993293 ,\n",
              "        0.9999091 ,  0.9999877 ,  0.99999845,  0.9999998 ,  1.        ],\n",
              "      dtype=float32)"
            ]
          },
          "metadata": {},
          "execution_count": 52
        }
      ]
    },
    {
      "cell_type": "code",
      "source": [
        "# Plot our toy tensor transformed by Tanh\n",
        "plt.plot(tanh(A))"
      ],
      "metadata": {
        "colab": {
          "base_uri": "https://localhost:8080/",
          "height": 283
        },
        "id": "hk6HS5VffJ8D",
        "outputId": "b8588481-d07a-4682-9ea9-8b5b0d0ba4e9"
      },
      "execution_count": 53,
      "outputs": [
        {
          "output_type": "execute_result",
          "data": {
            "text/plain": [
              "[<matplotlib.lines.Line2D at 0x7fbd72f500d0>]"
            ]
          },
          "metadata": {},
          "execution_count": 53
        },
        {
          "output_type": "display_data",
          "data": {
            "text/plain": [
              "<Figure size 432x288 with 1 Axes>"
            ],
            "image/png": "[encoded data removed]"
          },
          "metadata": {
            "needs_background": "light"
          }
        }
      ]
    },
    {
      "cell_type": "markdown",
      "source": [
        "![2022-07-10 (2).png](data:image/png;base64,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)"
      ],
      "metadata": {
        "id": "lJH77YdjbDWp"
      }
    },
    {
      "cell_type": "markdown",
      "source": [
        "Neural networks uses a combination of linear and non-linear activations to find patterns in data."
      ],
      "metadata": {
        "id": "yCBD-F12brHz"
      }
    },
    {
      "cell_type": "code",
      "source": [
        ""
      ],
      "metadata": {
        "id": "MpCUZV-_aVmE"
      },
      "execution_count": null,
      "outputs": []
    }
  ]
}