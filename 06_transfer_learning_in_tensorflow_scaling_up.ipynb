{
  "nbformat": 4,
  "nbformat_minor": 0,
  "metadata": {
    "colab": {
      "provenance": [],
      "collapsed_sections": [],
      "authorship_tag": "ABX9TyOi+x80h5K9UHUDZN2JIoHG"
    },
    "kernelspec": {
      "name": "python3",
      "display_name": "Python 3"
    },
    "language_info": {
      "name": "python"
    }
  },
  "cells": [
    {
      "cell_type": "markdown",
      "source": [
        "## Transfer Learning with TensorFlow, scaling up (🍔👀Food Vision mini)\n",
        "\n",
        "We've seen the power of transfer learning feature extraction and fine_tuning, now it's time to scale up to all of the classes in food101 (101 totl classes of food).\n",
        "\n",
        "Our goual is to beat the original Food101 paper with 10% of the training (leveraging the power of deep learning).\n",
        "\n",
        "Original Food101 paper [here](https://data.vision.ee.ethz.ch/cvl/datasets_extra/food-101/static/bossard_eccv14_food-101.pdf).\n",
        "\n",
        "Our baseline to beat is 50.76% accuracy across 101 classes"
      ],
      "metadata": {
        "id": "4bNUUWNovwW5"
      }
    },
    {
      "cell_type": "code",
      "source": [],
      "metadata": {
        "id": "3to8pVSexITQ"
      },
      "execution_count": null,
      "outputs": []
    }
  ]
}