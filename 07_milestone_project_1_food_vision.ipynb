{
  "nbformat": 4,
  "nbformat_minor": 0,
  "metadata": {
    "colab": {
      "provenance": [],
      "machine_shape": "hm",
      "gpuType": "T4",
      "authorship_tag": "ABX9TyNpOEL4iNFpEhJTvHEy5VEf"
    },
    "kernelspec": {
      "name": "python3",
      "display_name": "Python 3"
    },
    "language_info": {
      "name": "python"
    },
    "accelerator": "GPU"
  },
  "cells": [
    {
      "cell_type": "markdown",
      "source": [
        "# Milestone Project 1: Food Vision Big"
      ],
      "metadata": {
        "id": "yYiFWuzhXmXn"
      }
    },
    {
      "cell_type": "markdown",
      "source": [
        "## Check GPU\n",
        "\n",
        "* A100\n",
        "* T4\n",
        "* V100\n"
      ],
      "metadata": {
        "id": "hihqf7kaYIvf"
      }
    },
    {
      "cell_type": "code",
      "source": [
        "!nvidia-smi -L"
      ],
      "metadata": {
        "colab": {
          "base_uri": "https://localhost:8080/"
        },
        "id": "xv6lHV__ZprW",
        "outputId": "29c73d02-11e8-42ac-ac79-6f7f983b76e5"
      },
      "execution_count": 1,
      "outputs": [
        {
          "output_type": "stream",
          "name": "stdout",
          "text": [
            "GPU 0: Tesla T4 (UUID: GPU-33665966-c94f-1edc-ca44-378c99ff845f)\n"
          ]
        }
      ]
    },
    {
      "cell_type": "code",
      "source": [
        "# Get helper functions (Download helper functions script from JonasHagstrom79/Tensorflow(raw))\n",
        "!wget https://raw.githubusercontent.com/JonasHagstrom79/Tensorflow/main/helper.py\n",
        "\n"
      ],
      "metadata": {
        "colab": {
          "base_uri": "https://localhost:8080/"
        },
        "id": "_6hdXr2mZ7v4",
        "outputId": "af6e0103-fac9-4c7c-fda9-c2437fae89f3"
      },
      "execution_count": 1,
      "outputs": [
        {
          "output_type": "stream",
          "name": "stdout",
          "text": [
            "--2024-01-29 20:07:20--  https://raw.githubusercontent.com/JonasHagstrom79/Tensorflow/main/helper.py\n",
            "Resolving raw.githubusercontent.com (raw.githubusercontent.com)... 185.199.108.133, 185.199.111.133, 185.199.109.133, ...\n",
            "Connecting to raw.githubusercontent.com (raw.githubusercontent.com)|185.199.108.133|:443... connected.\n",
            "HTTP request sent, awaiting response... 200 OK\n",
            "Length: 13380 (13K) [text/plain]\n",
            "Saving to: ‘helper.py’\n",
            "\n",
            "helper.py           100%[===================>]  13.07K  --.-KB/s    in 0s      \n",
            "\n",
            "2024-01-29 20:07:20 (129 MB/s) - ‘helper.py’ saved [13380/13380]\n",
            "\n"
          ]
        }
      ]
    },
    {
      "cell_type": "code",
      "source": [
        "# Import series of helper functions\n",
        "from helper import create_tensorboard_callback, plot_loss_curves, compare_historys"
      ],
      "metadata": {
        "id": "GYChxoav1XDh"
      },
      "execution_count": 2,
      "outputs": []
    },
    {
      "cell_type": "markdown",
      "source": [
        "## Use TensorFlow datasets to download data\n",
        "\n",
        "If you want to get an overwiev of TensorFlow Datasets (TFDS), read the [guide](https://www.tensorflow.org/datasets/overview)"
      ],
      "metadata": {
        "id": "aLERCNSQ1qAZ"
      }
    },
    {
      "cell_type": "code",
      "source": [
        "# Get TensorFllow Datasets\n",
        "import tensorflow_datasets as tfds\n",
        "datasets_list = tfds.list_builders() # Get all available datasets in TFDS\n",
        "print('food101' in datasets_list)"
      ],
      "metadata": {
        "colab": {
          "base_uri": "https://localhost:8080/"
        },
        "id": "pemqlVGS12BY",
        "outputId": "fcea7230-ef4d-4b6b-a231-f90a1588eeab"
      },
      "execution_count": 3,
      "outputs": [
        {
          "output_type": "stream",
          "name": "stdout",
          "text": [
            "True\n"
          ]
        }
      ]
    },
    {
      "cell_type": "code",
      "source": [
        "# Load in the food101 (takes 5-6 minutes)\n",
        "(train_data, test_data), ds_info = tfds.load(name='food101',\n",
        "                                             split=['train', 'validation'],\n",
        "                                                    shuffle_files=True,\n",
        "                                                    as_supervised=True, # Data gets returned in tuple format (data, label)\n",
        "                                                    with_info=True) # Downloads the metadata aswell (ds_info makes it possible)"
      ],
      "metadata": {
        "id": "B1S9CuVW3z-j"
      },
      "execution_count": 5,
      "outputs": []
    },
    {
      "cell_type": "markdown",
      "source": [
        "## Exploring the Food101 data from TensorFlow Datasets\n",
        "\n",
        "To become one with our data, we want to find:\n",
        "* Class names\n",
        "* The shape of our input data (image tensors)\n",
        "* The datatype of our inut data\n",
        "* What the labels look like (e.g are they one-hot encoded or are they label encoded)\n",
        "* Do the labels match p with the class names?"
      ],
      "metadata": {
        "id": "LzyA2awz_RpM"
      }
    },
    {
      "cell_type": "code",
      "source": [
        "# Fetures of Food101 from TFDS\n",
        "ds_info.features"
      ],
      "metadata": {
        "colab": {
          "base_uri": "https://localhost:8080/"
        },
        "id": "97zLRCbQ69iq",
        "outputId": "eb3daa96-cdcc-45d1-df6b-c38ac5628af7"
      },
      "execution_count": 6,
      "outputs": [
        {
          "output_type": "execute_result",
          "data": {
            "text/plain": [
              "FeaturesDict({\n",
              "    'image': Image(shape=(None, None, 3), dtype=uint8),\n",
              "    'label': ClassLabel(shape=(), dtype=int64, num_classes=101),\n",
              "})"
            ]
          },
          "metadata": {},
          "execution_count": 6
        }
      ]
    },
    {
      "cell_type": "code",
      "source": [
        "# Get the class names\n",
        "class_names = ds_info.features[\"label\"].names\n",
        "class_names[:10]"
      ],
      "metadata": {
        "colab": {
          "base_uri": "https://localhost:8080/"
        },
        "id": "8NU_uRE6-vMB",
        "outputId": "14f935cb-8deb-43d5-b23a-765175d18a1d"
      },
      "execution_count": 15,
      "outputs": [
        {
          "output_type": "execute_result",
          "data": {
            "text/plain": [
              "['apple_pie',\n",
              " 'baby_back_ribs',\n",
              " 'baklava',\n",
              " 'beef_carpaccio',\n",
              " 'beef_tartare',\n",
              " 'beet_salad',\n",
              " 'beignets',\n",
              " 'bibimbap',\n",
              " 'bread_pudding',\n",
              " 'breakfast_burrito']"
            ]
          },
          "metadata": {},
          "execution_count": 15
        }
      ]
    },
    {
      "cell_type": "code",
      "source": [],
      "metadata": {
        "id": "xfuMxIFyAdZP"
      },
      "execution_count": null,
      "outputs": []
    }
  ]
}